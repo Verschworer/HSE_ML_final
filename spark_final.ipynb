{
  "nbformat": 4,
  "nbformat_minor": 5,
  "metadata": {
    "kernelspec": {
      "display_name": "Python 3",
      "language": "python",
      "name": "python3"
    },
    "language_info": {
      "codemirror_mode": {
        "name": "ipython",
        "version": 3
      },
      "file_extension": ".py",
      "mimetype": "text/x-python",
      "name": "python",
      "nbconvert_exporter": "python",
      "pygments_lexer": "ipython3",
      "version": "3.8.8"
    },
    "colab": {
      "name": "spark_lr_tfidf",
      "provenance": [],
      "collapsed_sections": [],
      "include_colab_link": true
    }
  },
  "cells": [
    {
      "cell_type": "markdown",
      "metadata": {
        "id": "view-in-github",
        "colab_type": "text"
      },
      "source": [
        "<a href=\"https://colab.research.google.com/github/Verschworer/HSE_ML_final/blob/main/spark_final.ipynb\" target=\"_parent\"><img src=\"https://colab.research.google.com/assets/colab-badge.svg\" alt=\"Open In Colab\"/></a>"
      ]
    },
    {
      "cell_type": "code",
      "metadata": {
        "id": "RdwyxZHa16Su",
        "colab": {
          "resources": {
            "http://localhost:8080/nbextensions/google.colab/files.js": {
              "data": "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",
              "ok": true,
              "headers": [
                [
                  "content-type",
                  "application/javascript"
                ]
              ],
              "status": 200,
              "status_text": "OK"
            }
          },
          "base_uri": "https://localhost:8080/",
          "height": 258
        },
        "outputId": "cc56f199-16dc-42d0-cac4-cba8de4b4706"
      },
      "source": [
        "! pip install -q kaggle\n",
        "from google.colab import files\n",
        "files.upload()\n",
        "! mkdir ~/.kaggle\n",
        "! cp kaggle.json ~/.kaggle/\n",
        "! chmod 600 ~/.kaggle/kaggle.json\n",
        "! kaggle competitions download -c whats-cooking  "
      ],
      "id": "RdwyxZHa16Su",
      "execution_count": 1,
      "outputs": [
        {
          "output_type": "display_data",
          "data": {
            "text/html": [
              "\n",
              "     <input type=\"file\" id=\"files-c80bde92-087f-49d8-b429-4f57254fb39e\" name=\"files[]\" multiple disabled\n",
              "        style=\"border:none\" />\n",
              "     <output id=\"result-c80bde92-087f-49d8-b429-4f57254fb39e\">\n",
              "      Upload widget is only available when the cell has been executed in the\n",
              "      current browser session. Please rerun this cell to enable.\n",
              "      </output>\n",
              "      <script src=\"/nbextensions/google.colab/files.js\"></script> "
            ],
            "text/plain": [
              "<IPython.core.display.HTML object>"
            ]
          },
          "metadata": {}
        },
        {
          "output_type": "stream",
          "name": "stdout",
          "text": [
            "Saving kaggle.json to kaggle.json\n",
            "Warning: Looks like you're using an outdated API Version, please consider updating (server 1.5.12 / client 1.5.4)\n",
            "Downloading sample_submission.csv.zip to /content\n",
            "  0% 0.00/25.8k [00:00<?, ?B/s]\n",
            "100% 25.8k/25.8k [00:00<00:00, 10.1MB/s]\n",
            "Downloading test.json.zip to /content\n",
            "  0% 0.00/426k [00:00<?, ?B/s]\n",
            "100% 426k/426k [00:00<00:00, 34.3MB/s]\n",
            "Downloading train.json.zip to /content\n",
            "  0% 0.00/1.76M [00:00<?, ?B/s]\n",
            "100% 1.76M/1.76M [00:00<00:00, 57.8MB/s]\n"
          ]
        }
      ]
    },
    {
      "cell_type": "markdown",
      "metadata": {
        "id": "3a3f2ff3"
      },
      "source": [
        "### Data"
      ],
      "id": "3a3f2ff3"
    },
    {
      "cell_type": "code",
      "metadata": {
        "id": "dutio5Im1efo",
        "colab": {
          "base_uri": "https://localhost:8080/"
        },
        "outputId": "e58fb2cf-7c4b-4675-da1f-f8d38f2625a2"
      },
      "source": [
        "! pip install -q pyspark"
      ],
      "id": "dutio5Im1efo",
      "execution_count": 2,
      "outputs": [
        {
          "output_type": "stream",
          "name": "stdout",
          "text": [
            "\u001b[K     |████████████████████████████████| 281.3 MB 31 kB/s \n",
            "\u001b[K     |████████████████████████████████| 198 kB 61.3 MB/s \n",
            "\u001b[?25h  Building wheel for pyspark (setup.py) ... \u001b[?25l\u001b[?25hdone\n"
          ]
        }
      ]
    },
    {
      "cell_type": "code",
      "metadata": {
        "id": "1bd0552c"
      },
      "source": [
        "# import libraries\n",
        "\n",
        "import pyspark\n",
        "import pyspark.sql.functions as F\n",
        "from pyspark.sql.types import * #JVM типы данных\n",
        "\n",
        "\n",
        "from pyspark import SparkContext, SparkConf\n",
        "from pyspark.sql import SparkSession\n",
        "\n",
        "from pyspark.ml.feature import *\n",
        "from pyspark.ml.tuning import CrossValidator, ParamGridBuilder\n",
        "from pyspark.ml import Pipeline\n",
        "\n",
        "from pyspark.ml.evaluation import MulticlassClassificationEvaluator\n",
        "from pyspark.ml.classification import *\n",
        "\n",
        "import numpy as np\n",
        "import pandas as pd\n",
        "\n",
        "from itertools import chain\n",
        "\n",
        "import matplotlib.pyplot as plt\n",
        "import seaborn as sns\n",
        "%matplotlib inline"
      ],
      "id": "1bd0552c",
      "execution_count": 44,
      "outputs": []
    },
    {
      "cell_type": "code",
      "metadata": {
        "id": "Mz7BScsw1xfa"
      },
      "source": [
        "# spark up\n",
        "\n",
        "spark = SparkSession.builder.master(\n",
        "    \"local[5]\"\n",
        "    ).appName(\n",
        "    \"team8final\"\n",
        "    ).config(\n",
        "        \"spark.sql.execution.arrow.pyspark.enabled\", \n",
        "        \"true\").getOrCreate()"
      ],
      "id": "Mz7BScsw1xfa",
      "execution_count": 2,
      "outputs": []
    },
    {
      "cell_type": "code",
      "metadata": {
        "colab": {
          "base_uri": "https://localhost:8080/",
          "height": 222
        },
        "id": "I4Zo6cEM2Cup",
        "outputId": "63402c01-b129-4293-845d-a8411fdd0f3d"
      },
      "source": [
        "spark # spark is alive"
      ],
      "id": "I4Zo6cEM2Cup",
      "execution_count": 3,
      "outputs": [
        {
          "output_type": "execute_result",
          "data": {
            "text/html": [
              "\n",
              "            <div>\n",
              "                <p><b>SparkSession - in-memory</b></p>\n",
              "                \n",
              "        <div>\n",
              "            <p><b>SparkContext</b></p>\n",
              "\n",
              "            <p><a href=\"http://f6e690e3447f:4040\">Spark UI</a></p>\n",
              "\n",
              "            <dl>\n",
              "              <dt>Version</dt>\n",
              "                <dd><code>v3.2.0</code></dd>\n",
              "              <dt>Master</dt>\n",
              "                <dd><code>local[5]</code></dd>\n",
              "              <dt>AppName</dt>\n",
              "                <dd><code>team8final</code></dd>\n",
              "            </dl>\n",
              "        </div>\n",
              "        \n",
              "            </div>\n",
              "        "
            ],
            "text/plain": [
              "<pyspark.sql.session.SparkSession at 0x7f509bb18750>"
            ]
          },
          "metadata": {},
          "execution_count": 3
        }
      ]
    },
    {
      "cell_type": "code",
      "metadata": {
        "id": "s88dr07e3crj",
        "colab": {
          "base_uri": "https://localhost:8080/"
        },
        "outputId": "622bbffc-2063-418f-df68-04639bfd698d"
      },
      "source": [
        "! unzip '/content/train.json.zip'\n",
        "! unzip '/content/test.json.zip'\n",
        "! unzip '/content/sample_submission.csv.zip'"
      ],
      "id": "s88dr07e3crj",
      "execution_count": 4,
      "outputs": [
        {
          "output_type": "stream",
          "name": "stdout",
          "text": [
            "Archive:  /content/train.json.zip\n",
            "replace train.json? [y]es, [n]o, [A]ll, [N]one, [r]ename: Archive:  /content/test.json.zip\n",
            "replace test.json? [y]es, [n]o, [A]ll, [N]one, [r]ename: Archive:  /content/sample_submission.csv.zip\n",
            "replace sample_submission.csv? [y]es, [n]o, [A]ll, [N]one, [r]ename: "
          ]
        }
      ]
    },
    {
      "cell_type": "code",
      "metadata": {
        "colab": {
          "base_uri": "https://localhost:8080/"
        },
        "id": "cPKwJxeL4I6H",
        "outputId": "189815d2-51c9-4351-ea5d-2ae7e3eec02c"
      },
      "source": [
        "# from google.colab import drive\n",
        "# drive.mount('/content/drive')"
      ],
      "id": "cPKwJxeL4I6H",
      "execution_count": null,
      "outputs": [
        {
          "output_type": "stream",
          "name": "stdout",
          "text": [
            "Mounted at /content/drive\n"
          ]
        }
      ]
    },
    {
      "cell_type": "code",
      "metadata": {
        "id": "krpngm9C2d9c"
      },
      "source": [
        "df = spark.read.json('train.json', multiLine=True)"
      ],
      "id": "krpngm9C2d9c",
      "execution_count": 5,
      "outputs": []
    },
    {
      "cell_type": "code",
      "metadata": {
        "colab": {
          "base_uri": "https://localhost:8080/"
        },
        "id": "8Bv-rQcD9iNL",
        "outputId": "1a5d1207-395e-45aa-f492-5f9ce521227d"
      },
      "source": [
        "print((df.count(), len(df.columns)))"
      ],
      "id": "8Bv-rQcD9iNL",
      "execution_count": 6,
      "outputs": [
        {
          "output_type": "stream",
          "name": "stdout",
          "text": [
            "(39774, 3)\n"
          ]
        }
      ]
    },
    {
      "cell_type": "code",
      "metadata": {
        "colab": {
          "base_uri": "https://localhost:8080/"
        },
        "id": "PrI9qzSy2eFc",
        "outputId": "b0b7c3b4-bc49-4f74-a895-cb3ef259c4f3"
      },
      "source": [
        "df.show()"
      ],
      "id": "PrI9qzSy2eFc",
      "execution_count": 7,
      "outputs": [
        {
          "output_type": "stream",
          "name": "stdout",
          "text": [
            "+-----------+-----+--------------------+\n",
            "|    cuisine|   id|         ingredients|\n",
            "+-----------+-----+--------------------+\n",
            "|      greek|10259|[romaine lettuce,...|\n",
            "|southern_us|25693|[plain flour, gro...|\n",
            "|   filipino|20130|[eggs, pepper, sa...|\n",
            "|     indian|22213|[water, vegetable...|\n",
            "|     indian|13162|[black pepper, sh...|\n",
            "|   jamaican| 6602|[plain flour, sug...|\n",
            "|    spanish|42779|[olive oil, salt,...|\n",
            "|    italian| 3735|[sugar, pistachio...|\n",
            "|    mexican|16903|[olive oil, purpl...|\n",
            "|    italian|12734|[chopped tomatoes...|\n",
            "|    italian| 5875|[pimentos, sweet ...|\n",
            "|    chinese|45887|[low sodium soy s...|\n",
            "|    italian| 2698|[Italian parsley ...|\n",
            "|    mexican|41995|[ground cinnamon,...|\n",
            "|    italian|31908|[fresh parmesan c...|\n",
            "|     indian|24717|[tumeric, vegetab...|\n",
            "|    british|34466|[greek yogurt, le...|\n",
            "|    italian| 1420|[italian seasonin...|\n",
            "|       thai| 2941|[sugar, hot chili...|\n",
            "| vietnamese| 8152|[soy sauce, veget...|\n",
            "+-----------+-----+--------------------+\n",
            "only showing top 20 rows\n",
            "\n"
          ]
        }
      ]
    },
    {
      "cell_type": "code",
      "source": [
        "df.select([F.count(F.when(F.isnull(c), c)).alias(c) for c in df.columns]).show() # check the NULL"
      ],
      "metadata": {
        "colab": {
          "base_uri": "https://localhost:8080/"
        },
        "id": "ZKjkD90WoNO3",
        "outputId": "00842dfa-a320-408d-d939-36c2b01b7eae"
      },
      "id": "ZKjkD90WoNO3",
      "execution_count": 8,
      "outputs": [
        {
          "output_type": "stream",
          "name": "stdout",
          "text": [
            "+-------+---+-----------+\n",
            "|cuisine| id|ingredients|\n",
            "+-------+---+-----------+\n",
            "|      0|  0|          0|\n",
            "+-------+---+-----------+\n",
            "\n"
          ]
        }
      ]
    },
    {
      "cell_type": "code",
      "source": [
        "# check the NaNs\n",
        "df_temp = df.withColumn(\"ingredients\", F.concat_ws(', ' ,F.col(\"ingredients\")))\n",
        "df_temp.select([F.count(F.when(F.isnan(c), c)).alias(c) for c in df_temp.columns]).show()\n"
      ],
      "metadata": {
        "colab": {
          "base_uri": "https://localhost:8080/"
        },
        "id": "ue8q8RYej9BM",
        "outputId": "7f30e2fd-2e9f-429d-b80a-c1bfc5576bcb"
      },
      "id": "ue8q8RYej9BM",
      "execution_count": 9,
      "outputs": [
        {
          "output_type": "stream",
          "name": "stdout",
          "text": [
            "+-------+---+-----------+\n",
            "|cuisine| id|ingredients|\n",
            "+-------+---+-----------+\n",
            "|      0|  0|          0|\n",
            "+-------+---+-----------+\n",
            "\n"
          ]
        }
      ]
    },
    {
      "cell_type": "code",
      "source": [
        "len(df.select('cuisine').distinct().rdd.map(lambda r: r[0]).collect())"
      ],
      "metadata": {
        "colab": {
          "base_uri": "https://localhost:8080/"
        },
        "id": "t3ZObSQZ6X7H",
        "outputId": "49b46259-2e10-4b80-8130-915b3d180395"
      },
      "id": "t3ZObSQZ6X7H",
      "execution_count": 10,
      "outputs": [
        {
          "output_type": "execute_result",
          "data": {
            "text/plain": [
              "20"
            ]
          },
          "metadata": {},
          "execution_count": 10
        }
      ]
    },
    {
      "cell_type": "code",
      "source": [
        "df.groupBy('cuisine').count().orderBy('count', ascending=False).show()"
      ],
      "metadata": {
        "colab": {
          "base_uri": "https://localhost:8080/"
        },
        "id": "urXNjPljj6_t",
        "outputId": "45b5eae8-cebc-4df3-ab06-7f808d3ee663"
      },
      "id": "urXNjPljj6_t",
      "execution_count": 11,
      "outputs": [
        {
          "output_type": "stream",
          "name": "stdout",
          "text": [
            "+------------+-----+\n",
            "|     cuisine|count|\n",
            "+------------+-----+\n",
            "|     italian| 7838|\n",
            "|     mexican| 6438|\n",
            "| southern_us| 4320|\n",
            "|      indian| 3003|\n",
            "|     chinese| 2673|\n",
            "|      french| 2646|\n",
            "|cajun_creole| 1546|\n",
            "|        thai| 1539|\n",
            "|    japanese| 1423|\n",
            "|       greek| 1175|\n",
            "|     spanish|  989|\n",
            "|      korean|  830|\n",
            "|  vietnamese|  825|\n",
            "|    moroccan|  821|\n",
            "|     british|  804|\n",
            "|    filipino|  755|\n",
            "|       irish|  667|\n",
            "|    jamaican|  526|\n",
            "|     russian|  489|\n",
            "|   brazilian|  467|\n",
            "+------------+-----+\n",
            "\n"
          ]
        }
      ]
    },
    {
      "cell_type": "markdown",
      "metadata": {
        "id": "pePAiKwuAdgp"
      },
      "source": [
        "#PREPROCESSING"
      ],
      "id": "pePAiKwuAdgp"
    },
    {
      "cell_type": "code",
      "source": [
        "def lower_case(x):\n",
        "    res = []\n",
        "    for x_ in x:\n",
        "        res.append(x_.lower())\n",
        "    return res\n",
        "\n",
        "convert_to_lower = F.udf(lower_case, ArrayType(StringType()))"
      ],
      "metadata": {
        "id": "4FVGs4QVFf4y"
      },
      "id": "4FVGs4QVFf4y",
      "execution_count": 12,
      "outputs": []
    },
    {
      "cell_type": "code",
      "source": [
        "df = df.withColumn(\"ingredients\", convert_to_lower(F.col(\"ingredients\")))"
      ],
      "metadata": {
        "id": "eGje-7mjFnqk"
      },
      "id": "eGje-7mjFnqk",
      "execution_count": 13,
      "outputs": []
    },
    {
      "cell_type": "code",
      "source": [
        "#stop words\n",
        "stopwords = []\n",
        "stopwordsRemover = StopWordsRemover(inputCol=\"ingredients\", \n",
        "                                    outputCol=\"filtered\").setStopWords(stopwords)\n",
        "#vectorizing\n",
        "# TF-IDF\n",
        "hashingTF = HashingTF(inputCol=\"filtered\", \n",
        "                      outputCol=\"rawFeatures\", \n",
        "                      numFeatures=6714)\n",
        "\n",
        "idf = IDF(inputCol=\"rawFeatures\", \n",
        "          outputCol=\"tfidf_features\", \n",
        "          minDocFreq=df.count()*0.2)\n",
        "# count\n",
        "countVectors = CountVectorizer(inputCol=\"filtered\", \n",
        "                               outputCol=\"count_features\", \n",
        "                               minDF=0.2, \n",
        "                               maxDF=0.8, \n",
        "                               vocabSize=6714)\n",
        "# w2v\n",
        "word2Vec = Word2Vec(vectorSize=30, \n",
        "                    maxIter=100, \n",
        "                    minCount=1, \n",
        "                    seed=8, \n",
        "                    maxSentenceLength=25, \n",
        "                    inputCol=\"filtered\", \n",
        "                    outputCol=\"w2v_features\")\n",
        "#labeling\n",
        "label_stringIdx = StringIndexer(inputCol = \"cuisine\", \n",
        "                                outputCol = \"label\")"
      ],
      "metadata": {
        "id": "EQfop2lohxrb"
      },
      "id": "EQfop2lohxrb",
      "execution_count": 162,
      "outputs": []
    },
    {
      "cell_type": "code",
      "source": [
        "pipeline = Pipeline(stages=[  \n",
        "                            stopwordsRemover, \n",
        "                            hashingTF, \n",
        "                            idf,\n",
        "                            countVectors,\n",
        "                            #word2Vec, \n",
        "                            label_stringIdx\n",
        "                            ])\n",
        "\n",
        "pipelinefit = pipeline.fit(df)\n",
        "next_df = pipelinefit.transform(df)"
      ],
      "metadata": {
        "id": "HTTf1Ugf4gKO"
      },
      "id": "HTTf1Ugf4gKO",
      "execution_count": 134,
      "outputs": []
    },
    {
      "cell_type": "code",
      "source": [
        "# ings = data['ingredients']\n",
        "\n",
        "# def flatten(t):\n",
        "#     return [item for sublist in t for item in sublist]\n",
        "\n",
        "# lst = flatten(ings)\n",
        "\n",
        "# ingrs = set(lst)"
      ],
      "metadata": {
        "id": "k_kcY-gk2LjK"
      },
      "id": "k_kcY-gk2LjK",
      "execution_count": null,
      "outputs": []
    },
    {
      "cell_type": "code",
      "source": [
        "label_collect = next_df.select(\"label\").groupBy(\"label\").count().collect()\n",
        "unique_label = [x[\"label\"] for x in label_collect]\n",
        "total_label = sum([x[\"count\"] for x in label_collect])\n",
        "unique_label_count = len(label_collect)\n",
        "bin_count = [x[\"count\"] for x in label_collect]\n",
        "\n",
        "class_weights_label = {i: ii for i, ii in zip(unique_label, total_label / (unique_label_count * np.array(bin_count)))}\n",
        "\n",
        "mapping_expr = F.create_map([F.lit(x) for x in chain(*class_weights_label.items())])\n",
        "\n",
        "next_df = next_df.withColumn(\"weight\", mapping_expr[F.col(\"label\")])\n",
        "\n",
        "print(\"\\n\".join(\"{!r}: {!r},\".format(k, v) for k, v in sorted(class_weights_label.items())))"
      ],
      "metadata": {
        "id": "Y3zPGZ4cf-90",
        "outputId": "fd0ce1ec-60b7-4d6e-fb8e-0e5d959da102",
        "colab": {
          "base_uri": "https://localhost:8080/"
        }
      },
      "id": "Y3zPGZ4cf-90",
      "execution_count": 167,
      "outputs": [
        {
          "output_type": "stream",
          "name": "stdout",
          "text": [
            "0.0: 0.25372544016330695,\n",
            "1.0: 0.30890027958993477,\n",
            "2.0: 0.46034722222222224,\n",
            "3.0: 0.6622377622377622,\n",
            "4.0: 0.7439955106621773,\n",
            "5.0: 0.7515873015873016,\n",
            "6.0: 1.2863518758085382,\n",
            "7.0: 1.2922027290448344,\n",
            "8.0: 1.3975404075895994,\n",
            "9.0: 1.6925106382978723,\n",
            "10.0: 2.0108190091001013,\n",
            "11.0: 2.3960240963855424,\n",
            "12.0: 2.4105454545454545,\n",
            "13.0: 2.4222898903775882,\n",
            "14.0: 2.473507462686567,\n",
            "15.0: 2.634039735099338,\n",
            "16.0: 2.981559220389805,\n",
            "17.0: 3.7807984790874523,\n",
            "18.0: 4.066871165644172,\n",
            "19.0: 4.258458244111349,\n"
          ]
        }
      ]
    },
    {
      "cell_type": "markdown",
      "metadata": {
        "id": "diFcNP04QPA5"
      },
      "source": [
        "#ML FLOW"
      ],
      "id": "diFcNP04QPA5"
    },
    {
      "cell_type": "markdown",
      "source": [
        "https://towardsdatascience.com/multi-class-text-classification-with-pyspark-7d78d022ed35"
      ],
      "metadata": {
        "id": "56gNRTzO838q"
      },
      "id": "56gNRTzO838q"
    },
    {
      "cell_type": "code",
      "source": [
        "(trainingData, testData) = next_df.randomSplit([0.7, 0.3], seed = 8)\n",
        "(trainingData, testData) = next_df.randomSplit([0.7, 0.3], seed = 8)\n",
        "print(\"We have %d training examples and %d test examples.\" % (trainingData.count(), testData.count()))"
      ],
      "metadata": {
        "colab": {
          "base_uri": "https://localhost:8080/"
        },
        "id": "8DQGbSI65GBF",
        "outputId": "d1ee4bbc-c618-4134-df9b-5acdf0fa9dea"
      },
      "id": "8DQGbSI65GBF",
      "execution_count": 151,
      "outputs": [
        {
          "output_type": "stream",
          "name": "stdout",
          "text": [
            "We have 27961 training examples and 11813 test examples.\n"
          ]
        }
      ]
    },
    {
      "cell_type": "code",
      "source": [
        "lr = LogisticRegression(maxIter=13, \n",
        "                        regParam=0.1,\n",
        "                        family = \"multinomial\", \n",
        "                        elasticNetParam=0, \n",
        "                        tol=0.001, \n",
        "                        fitIntercept=True, \n",
        "                        weightCol=\"weight\")\n",
        "lrModel = lr.fit(trainingData)\n",
        "predictions = lrModel.transform(testData)"
      ],
      "metadata": {
        "id": "iuES7UYP5QcG"
      },
      "id": "iuES7UYP5QcG",
      "execution_count": 112,
      "outputs": []
    },
    {
      "cell_type": "code",
      "source": [
        "evaluator = MulticlassClassificationEvaluator(predictionCol=\"prediction\", metricName=\"accuracy\")\n",
        "evaluator.evaluate(predictions)"
      ],
      "metadata": {
        "colab": {
          "base_uri": "https://localhost:8080/"
        },
        "id": "MWzhwb5p5Qe5",
        "outputId": "7ebba8c9-dd94-40f7-bd53-59672d482653"
      },
      "id": "MWzhwb5p5Qe5",
      "execution_count": 113,
      "outputs": [
        {
          "output_type": "execute_result",
          "data": {
            "text/plain": [
              "0.7375772454076018"
            ]
          },
          "metadata": {},
          "execution_count": 113
        }
      ]
    },
    {
      "cell_type": "code",
      "source": [
        "\n",
        "for i in np.linspace(0, 1, 11):\n",
        "    lr = LogisticRegression(maxIter=13, \n",
        "                        regParam=0.1,\n",
        "                        family = \"multinomial\",\n",
        "                        elasticNetParam=0, \n",
        "                        tol=1E-6, \n",
        "                        fitIntercept=True, \n",
        "                        weightCol=\"weight\")\n",
        "    lrModel = lr.fit(trainingData)\n",
        "    predictions = lrModel.transform(testData)\n",
        "    print(\"thresholds:\",i,\"=>\",evaluator.evaluate(predictions))"
      ],
      "metadata": {
        "id": "4cJlQklzmao8",
        "outputId": "e6287ee7-6b56-4f5e-8885-c3a850c5e38e",
        "colab": {
          "base_uri": "https://localhost:8080/"
        }
      },
      "id": "4cJlQklzmao8",
      "execution_count": 115,
      "outputs": [
        {
          "output_type": "stream",
          "name": "stdout",
          "text": [
            "tol: True => 0.7375772454076018\n",
            "tol: False => 0.7362228053838991\n"
          ]
        }
      ]
    },
    {
      "cell_type": "code",
      "source": [
        "lrModel.getFamily()"
      ],
      "metadata": {
        "id": "VXTcUcpWwORg",
        "outputId": "02d2ac24-2df5-4725-9d82-ac8abda1b953",
        "colab": {
          "base_uri": "https://localhost:8080/",
          "height": 36
        }
      },
      "id": "VXTcUcpWwORg",
      "execution_count": 99,
      "outputs": [
        {
          "output_type": "execute_result",
          "data": {
            "application/vnd.google.colaboratory.intrinsic+json": {
              "type": "string"
            },
            "text/plain": [
              "'auto'"
            ]
          },
          "metadata": {},
          "execution_count": 99
        }
      ]
    },
    {
      "cell_type": "code",
      "source": [
        "rf = RandomForestClassifier(numTrees=3, maxDepth=2, labelCol=\"indexed\", seed=42,\n",
        "\n",
        "    leafCol=\"leafId\")"
      ],
      "metadata": {
        "id": "CSc7H2WV0iIb"
      },
      "id": "CSc7H2WV0iIb",
      "execution_count": null,
      "outputs": []
    },
    {
      "cell_type": "code",
      "source": [
        "lsvc = LinearSVC(maxIter=10, regParam=0.1)\n",
        "gbt = GBTClassifier(maxIter=5, maxDepth=2)\n",
        "fm = FMClassifier(factorSize=2)\n",
        "# lsvcModel = lsvc.fit(trainingData)\n",
        "# predictions = lsvcModel.transform(testData)"
      ],
      "metadata": {
        "id": "32xgGSY1h3xs"
      },
      "id": "32xgGSY1h3xs",
      "execution_count": 158,
      "outputs": []
    },
    {
      "cell_type": "code",
      "source": [
        "# lr_for_OvR = LogisticRegression(maxIter=40, \n",
        "#                         regParam=0.2, \n",
        "#                         elasticNetParam=0, \n",
        "#                         tol=1E-6, \n",
        "#                         fitIntercept=True)\n",
        "\n",
        "ovr = OneVsRest(classifier=fm, weightCol=\"weight\")"
      ],
      "metadata": {
        "id": "jElN5RB3bedv"
      },
      "id": "jElN5RB3bedv",
      "execution_count": 159,
      "outputs": []
    },
    {
      "cell_type": "code",
      "source": [
        "ovrModel = ovr.fit(trainingData)\n",
        "ovr_predictions = ovrModel.transform(testData)\n",
        "evaluator.evaluate(ovr_predictions)"
      ],
      "metadata": {
        "colab": {
          "base_uri": "https://localhost:8080/"
        },
        "id": "vVku0TCubgVd",
        "outputId": "fde356ad-9e07-4fd6-e1f0-dfe5292dce1d"
      },
      "id": "vVku0TCubgVd",
      "execution_count": 160,
      "outputs": [
        {
          "output_type": "execute_result",
          "data": {
            "text/plain": [
              "0.7027850672987387"
            ]
          },
          "metadata": {},
          "execution_count": 160
        }
      ]
    },
    {
      "cell_type": "code",
      "source": [
        "nb = NaiveBayes(smoothing=0.2, modelType=\"multinomial\")\n",
        "nbmodel = nb.fit(trainingData)\n",
        "nb_predictions = nbmodel.transform(testData)\n",
        "evaluator.evaluate(nb_predictions)"
      ],
      "metadata": {
        "id": "M1x6wpZzlSWf",
        "outputId": "110d728a-4dd6-4c82-e562-438f00cf996c",
        "colab": {
          "base_uri": "https://localhost:8080/"
        }
      },
      "id": "M1x6wpZzlSWf",
      "execution_count": 157,
      "outputs": [
        {
          "output_type": "execute_result",
          "data": {
            "text/plain": [
              "0.7504444256327775"
            ]
          },
          "metadata": {},
          "execution_count": 157
        }
      ]
    },
    {
      "cell_type": "code",
      "source": [
        "for i in np.linspace(0.1, 1, 10):\n",
        "    nb = NaiveBayes(smoothing=round(i, 1), modelType=\"gaussian\")\n",
        "    nbmodel = nb.fit(trainingData)\n",
        "    nb_predictions = nbmodel.transform(testData)\n",
        "    print(\"smoothing:\",i,\"=>\",evaluator.evaluate(nb_predictions))"
      ],
      "metadata": {
        "id": "ugN5j2PH6nwo",
        "outputId": "53783bd7-baf1-493d-bf08-ecbf8b3db95a",
        "colab": {
          "base_uri": "https://localhost:8080/"
        }
      },
      "id": "ugN5j2PH6nwo",
      "execution_count": 161,
      "outputs": [
        {
          "output_type": "stream",
          "name": "stdout",
          "text": [
            "smoothing: 0.1 => 0.3754338440700923\n",
            "smoothing: 0.2 => 0.3754338440700923\n",
            "smoothing: 0.30000000000000004 => 0.3754338440700923\n",
            "smoothing: 0.4 => 0.3754338440700923\n",
            "smoothing: 0.5 => 0.3754338440700923\n",
            "smoothing: 0.6 => 0.3754338440700923\n",
            "smoothing: 0.7000000000000001 => 0.3754338440700923\n",
            "smoothing: 0.8 => 0.3754338440700923\n",
            "smoothing: 0.9 => 0.3754338440700923\n",
            "smoothing: 1.0 => 0.3754338440700923\n"
          ]
        }
      ]
    },
    {
      "cell_type": "code",
      "source": [
        "rf = RandomForestClassifier(numTrees=400, maxDepth=10)\n",
        "rfmodel = rf.fit(trainingData)\n",
        "rf_predictions = rfmodel.transform(testData)\n",
        "evaluator.evaluate(rf_predictions)"
      ],
      "metadata": {
        "id": "ixWXF1ZY1Tlc",
        "outputId": "b3aec1a4-c392-49ce-efa5-fd80bc75a373",
        "colab": {
          "base_uri": "https://localhost:8080/"
        }
      },
      "id": "ixWXF1ZY1Tlc",
      "execution_count": 121,
      "outputs": [
        {
          "output_type": "execute_result",
          "data": {
            "text/plain": [
              "0.4374841276559722"
            ]
          },
          "metadata": {},
          "execution_count": 121
        }
      ]
    },
    {
      "cell_type": "code",
      "source": [
        "fm = FMClassifier(factorSize=2)\n",
        "fmmodel = fm.fit(trainingData)\n",
        "fm_predictions = fmmodel.transform(testData)\n",
        "evaluator.evaluate(fm_predictions)"
      ],
      "metadata": {
        "id": "XxyikcG1Bq7f"
      },
      "id": "XxyikcG1Bq7f",
      "execution_count": null,
      "outputs": []
    },
    {
      "cell_type": "code",
      "source": [
        "sub_df = spark.read.json('test.json', multiLine=True)\n",
        "sub_df_temp = sub_df.withColumn(\"ingredients\", F.concat_ws(',' ,F.col(\"ingredients\")))\n",
        "sub_df_temp = sub_df_temp.withColumn(\"ingredients\", F.lower(F.col(\"ingredients\")))\n",
        "sub_df_temp = sub_df_temp.withColumn(\"ingredients\", spaceDeleteUDF(\"ingredients\"))"
      ],
      "metadata": {
        "id": "1XvAIn8p5QiG"
      },
      "id": "1XvAIn8p5QiG",
      "execution_count": null,
      "outputs": []
    },
    {
      "cell_type": "code",
      "source": [
        "sub_df_temp.show()"
      ],
      "metadata": {
        "colab": {
          "base_uri": "https://localhost:8080/"
        },
        "id": "jdBpNgyZRfZR",
        "outputId": "d75e1658-9f68-419b-db8b-b270a9fedc0b"
      },
      "id": "jdBpNgyZRfZR",
      "execution_count": null,
      "outputs": [
        {
          "output_type": "stream",
          "name": "stdout",
          "text": [
            "+-----+--------------------+\n",
            "|   id|         ingredients|\n",
            "+-----+--------------------+\n",
            "|18009|bakingpowder,eggs...|\n",
            "|28583|sugar,eggyolks,co...|\n",
            "|41580|sausagelinks,fenn...|\n",
            "|29752|meatcuts,filepowd...|\n",
            "|35687|groundblackpepper...|\n",
            "|38527|bakingpowder,all-...|\n",
            "|19666|grapejuice,orange...|\n",
            "|41217|groundginger,whit...|\n",
            "|28753|dicedonions,tacos...|\n",
            "|22659|eggs,cherries,dat...|\n",
            "|21749|pasta,oliveoil,cr...|\n",
            "|44967|water,butter,grou...|\n",
            "|42969|currypowder,groun...|\n",
            "|44883|pasta,marinarasau...|\n",
            "|20827|salt,custardpowde...|\n",
            "|23196|vegetableoilcooki...|\n",
            "|35387|vanillaicecream,b...|\n",
            "|33780|molasses,hotsauce...|\n",
            "|19001|choppedgreenchili...|\n",
            "|16526|coldwater,chicken...|\n",
            "+-----+--------------------+\n",
            "only showing top 20 rows\n",
            "\n"
          ]
        }
      ]
    },
    {
      "cell_type": "code",
      "source": [
        "pipeline_sub = Pipeline(stages=[ \n",
        "                            regexTokenizer, \n",
        "                            stopwordsRemover, \n",
        "                            hashingTF, \n",
        "                            idf])#, \n",
        "                            #label_stringIdx])\n",
        "\n",
        "pipelineFit_sub = pipeline_sub.fit(sub_df_temp)\n",
        "next_df_sub = pipelineFit_sub.transform(sub_df_temp)"
      ],
      "metadata": {
        "id": "b3Cv52aO5Qkh"
      },
      "id": "b3Cv52aO5Qkh",
      "execution_count": null,
      "outputs": []
    },
    {
      "cell_type": "code",
      "metadata": {
        "id": "-VsZsXz0CIIJ"
      },
      "source": [
        "lrModel2 = lr.fit(next_df)\n",
        "predictions = lrModel.transform(next_df_sub)"
      ],
      "id": "-VsZsXz0CIIJ",
      "execution_count": null,
      "outputs": []
    },
    {
      "cell_type": "code",
      "source": [
        "ovrModel_sub = ovr.fit(next_df)\n",
        "predictions_sub = ovrModel_sub.transform(next_df_sub)"
      ],
      "metadata": {
        "id": "2jqQkc0t7sNM"
      },
      "id": "2jqQkc0t7sNM",
      "execution_count": null,
      "outputs": []
    },
    {
      "cell_type": "code",
      "source": [
        "idx_to_string = IndexToString(\n",
        "    inputCol=\"prediction\", outputCol=\"cuisine\", labels=pipelineFit.stages[4].labels)\n",
        "\n",
        "\n",
        "idx_to_string.transform(predictions_sub).show()"
      ],
      "metadata": {
        "colab": {
          "base_uri": "https://localhost:8080/"
        },
        "id": "GkOuCB2_7sQo",
        "outputId": "aa9c0230-b5e6-4472-d49d-0f16c16a63ec"
      },
      "id": "GkOuCB2_7sQo",
      "execution_count": null,
      "outputs": [
        {
          "output_type": "stream",
          "name": "stdout",
          "text": [
            "+-----+--------------------+--------------------+--------------------+--------------------+--------------------+--------------------+----------+------------+\n",
            "|   id|         ingredients|       w_ingredients|            filtered|         rawFeatures|            features|       rawPrediction|prediction|     cuisine|\n",
            "+-----+--------------------+--------------------+--------------------+--------------------+--------------------+--------------------+----------+------------+\n",
            "|18009|bakingpowder,eggs...|[bakingpowder, eg...|[bakingpowder, eg...|(6714,[2035,2094,...|(6714,[2035,2094,...|[-3.3923268620506...|      14.0|     british|\n",
            "|28583|sugar,eggyolks,co...|[sugar, eggyolks,...|[eggyolks, cornst...|(6714,[293,395,20...|(6714,[293,395,20...|[-3.7661119491585...|       2.0| southern_us|\n",
            "|41580|sausagelinks,fenn...|[sausagelinks, fe...|[sausagelinks, fe...|(6714,[1654,2377,...|(6714,[1654,2377,...|[-2.8994937898562...|       9.0|       greek|\n",
            "|29752|meatcuts,filepowd...|[meatcuts, filepo...|[meatcuts, filepo...|(6714,[149,307,16...|(6714,[149,307,16...|[-4.1770785975098...|       6.0|cajun_creole|\n",
            "|35687|groundblackpepper...|[groundblackpeppe...|[groundblackpeppe...|(6714,[68,3185,39...|(6714,[68,3185,39...|[-1.0286209352176...|       0.0|     italian|\n",
            "|38527|bakingpowder,all-...|[bakingpowder, al...|[bakingpowder, al...|(6714,[293,2094,2...|(6714,[293,2094,2...|[-3.2677163967797...|      14.0|     british|\n",
            "|19666|grapejuice,orange...|[grapejuice, oran...|[grapejuice, oran...|(6714,[1421,5282,...|(6714,[1421,5282,...|[-1.7058709971555...|      10.0|     spanish|\n",
            "|41217|groundginger,whit...|[groundginger, wh...|[groundginger, wh...|(6714,[293,1057,1...|(6714,[293,1057,1...|[-3.7763945825377...|       4.0|     chinese|\n",
            "|28753|dicedonions,tacos...|[dicedonions, tac...|[dicedonions, tac...|(6714,[139,319,79...|(6714,[139,319,79...|[-3.7616372248871...|       1.0|     mexican|\n",
            "|22659|eggs,cherries,dat...|[eggs, cherries, ...|[eggs, cherries, ...|(6714,[139,343,41...|(6714,[139,343,41...|[-3.9132567163836...|      16.0|       irish|\n",
            "|21749|pasta,oliveoil,cr...|[pasta, oliveoil,...|[pasta, oliveoil,...|(6714,[1031,1225,...|(6714,[1031,1225,...|[-0.4845855197934...|       0.0|     italian|\n",
            "|44967|water,butter,grou...|[water, butter, g...|[butter, groundsu...|(6714,[139,1507,2...|(6714,[139,1507,2...|[-1.8207240032446...|       9.0|       greek|\n",
            "|42969|currypowder,groun...|[currypowder, gro...|[currypowder, gro...|(6714,[792,2317,2...|(6714,[792,2317,2...|[-3.7548634979801...|       3.0|      indian|\n",
            "|44883|pasta,marinarasau...|[pasta, marinaras...|[pasta, marinaras...|(6714,[775,3285,3...|(6714,[775,3285,3...|[0.87824232849977...|       0.0|     italian|\n",
            "|20827|salt,custardpowde...|[salt, custardpow...|[custardpowder, w...|(6714,[316,614,42...|(6714,[316,614,42...|[-3.4593682385034...|      14.0|     british|\n",
            "|23196|vegetableoilcooki...|[vegetableoilcook...|[vegetableoilcook...|(6714,[174,1000,2...|(6714,[174,1000,2...|[-3.0105396072711...|       5.0|      french|\n",
            "|35387|vanillaicecream,b...|[vanillaicecream,...|[vanillaicecream,...|(6714,[1180,1565,...|(6714,[1180,1565,...|[-3.2688686144398...|      16.0|       irish|\n",
            "|33780|molasses,hotsauce...|[molasses, hotsau...|[molasses, hotsau...|(6714,[406,1675,1...|(6714,[406,1675,1...|[-3.6132993618953...|      14.0|     british|\n",
            "|19001|choppedgreenchili...|[choppedgreenchil...|[choppedgreenchil...|(6714,[86,1415,32...|(6714,[86,1415,32...|[-3.6423051424302...|       1.0|     mexican|\n",
            "|16526|coldwater,chicken...|[coldwater, chick...|[coldwater, chick...|(6714,[450,2094,2...|(6714,[450,2094,2...|[-3.6219774216703...|       2.0| southern_us|\n",
            "+-----+--------------------+--------------------+--------------------+--------------------+--------------------+--------------------+----------+------------+\n",
            "only showing top 20 rows\n",
            "\n"
          ]
        }
      ]
    },
    {
      "cell_type": "code",
      "source": [
        "predictions_sub = idx_to_string.transform(predictions_sub)"
      ],
      "metadata": {
        "id": "F2eB6Q7q7sTd"
      },
      "id": "F2eB6Q7q7sTd",
      "execution_count": null,
      "outputs": []
    },
    {
      "cell_type": "code",
      "source": [
        "spark2sub_lr = predictions.select('id', 'cuisine')\n",
        "\n",
        "spark2sub_lr.toPandas().to_csv('spark2sub_2_lr_tfidf.csv', index=False)"
      ],
      "metadata": {
        "id": "Xkb8kwom7sY2"
      },
      "id": "Xkb8kwom7sY2",
      "execution_count": null,
      "outputs": []
    },
    {
      "cell_type": "code",
      "source": [
        "spark2sub_ovr = predictions_sub.select('id', 'cuisine')\n",
        "\n",
        "spark2sub_ovr.toPandas().to_csv('spark2sub_3_ovr_tfidf.csv', index=False)"
      ],
      "metadata": {
        "id": "VCp5qloSnj29"
      },
      "id": "VCp5qloSnj29",
      "execution_count": null,
      "outputs": []
    },
    {
      "cell_type": "code",
      "metadata": {
        "colab": {
          "base_uri": "https://localhost:8080/"
        },
        "id": "xa0o2h8udvPb",
        "outputId": "578946ea-463a-40af-ee6b-832449065626"
      },
      "source": [
        "! kaggle competitions submit -c whats-cooking -f spark2sub_3_ovr_tfidf.csv -m \"3nd try\""
      ],
      "id": "xa0o2h8udvPb",
      "execution_count": null,
      "outputs": [
        {
          "output_type": "stream",
          "name": "stdout",
          "text": [
            "Warning: Looks like you're using an outdated API Version, please consider updating (server 1.5.12 / client 1.5.4)\n",
            "100% 138k/138k [00:01<00:00, 116kB/s]\n",
            "Successfully submitted to What's Cooking?"
          ]
        }
      ]
    },
    {
      "cell_type": "markdown",
      "source": [
        "1 - 0.69046 on kaggle\n",
        "\n",
        "2 - 0.70132 on kaggle\n",
        "\n",
        "3 - 0.71771 on kaggle"
      ],
      "metadata": {
        "id": "Ou54XRtJZPty"
      },
      "id": "Ou54XRtJZPty"
    },
    {
      "cell_type": "code",
      "source": [
        ""
      ],
      "metadata": {
        "id": "Im4q_sUG7seT"
      },
      "id": "Im4q_sUG7seT",
      "execution_count": null,
      "outputs": []
    },
    {
      "cell_type": "code",
      "source": [
        ""
      ],
      "metadata": {
        "id": "_MG3ieZZ7shS"
      },
      "id": "_MG3ieZZ7shS",
      "execution_count": null,
      "outputs": []
    },
    {
      "cell_type": "code",
      "metadata": {
        "id": "-Uw0y8pmXuXq"
      },
      "source": [
        "# split_udf = F.udf(lambda value: value[1].item(), DoubleType())"
      ],
      "id": "-Uw0y8pmXuXq",
      "execution_count": null,
      "outputs": []
    },
    {
      "cell_type": "code",
      "metadata": {
        "id": "YjDPKz4Qd4Bl"
      },
      "source": [
        "# predictions_gbt_2 = gbt_model_sub.transform(subData)\n",
        "\n",
        "# predictions_gbt_2 = predictions_gbt_2.withColumn('c1', split_udf('probability'))\n",
        "\n",
        "# spark_gbt_2 = predictions_gbt_2.select('id', 'c1').withColumnRenamed('c1', 'insomnia')\n",
        "\n",
        "# spark_gbt_2.toPandas().to_csv('spark_gbt_sub2.csv', index=False)"
      ],
      "id": "YjDPKz4Qd4Bl",
      "execution_count": null,
      "outputs": []
    }
  ]
}