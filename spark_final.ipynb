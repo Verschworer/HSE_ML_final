{
  "cells": [
    {
      "cell_type": "markdown",
      "metadata": {
        "id": "view-in-github",
        "colab_type": "text"
      },
      "source": [
        "<a href=\"https://colab.research.google.com/github/Verschworer/HSE_ML_final/blob/main/spark_final.ipynb\" target=\"_parent\"><img src=\"https://colab.research.google.com/assets/colab-badge.svg\" alt=\"Open In Colab\"/></a>"
      ]
    },
    {
      "cell_type": "code",
      "execution_count": 1,
      "metadata": {
        "colab": {
          "base_uri": "https://localhost:8080/",
          "height": 258,
          "resources": {
            "http://localhost:8080/nbextensions/google.colab/files.js": {
              "data": "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",
              "headers": [
                [
                  "content-type",
                  "application/javascript"
                ]
              ],
              "ok": true,
              "status": 200,
              "status_text": "OK"
            }
          }
        },
        "id": "RdwyxZHa16Su",
        "outputId": "a56b7e3e-e105-4974-a8dd-8e7dbe772420"
      },
      "outputs": [
        {
          "output_type": "display_data",
          "data": {
            "text/html": [
              "\n",
              "     <input type=\"file\" id=\"files-e909f83d-8a9a-49cf-83ab-ff993d13767b\" name=\"files[]\" multiple disabled\n",
              "        style=\"border:none\" />\n",
              "     <output id=\"result-e909f83d-8a9a-49cf-83ab-ff993d13767b\">\n",
              "      Upload widget is only available when the cell has been executed in the\n",
              "      current browser session. Please rerun this cell to enable.\n",
              "      </output>\n",
              "      <script src=\"/nbextensions/google.colab/files.js\"></script> "
            ],
            "text/plain": [
              "<IPython.core.display.HTML object>"
            ]
          },
          "metadata": {}
        },
        {
          "output_type": "stream",
          "name": "stdout",
          "text": [
            "Saving kaggle.json to kaggle.json\n",
            "Warning: Looks like you're using an outdated API Version, please consider updating (server 1.5.12 / client 1.5.4)\n",
            "Downloading sample_submission.csv.zip to /content\n",
            "  0% 0.00/25.8k [00:00<?, ?B/s]\n",
            "100% 25.8k/25.8k [00:00<00:00, 39.2MB/s]\n",
            "Downloading train.json.zip to /content\n",
            "  0% 0.00/1.76M [00:00<?, ?B/s]\n",
            "100% 1.76M/1.76M [00:00<00:00, 58.1MB/s]\n",
            "Downloading test.json.zip to /content\n",
            "  0% 0.00/426k [00:00<?, ?B/s]\n",
            "100% 426k/426k [00:00<00:00, 133MB/s]\n"
          ]
        }
      ],
      "source": [
        "! pip install -q kaggle\n",
        "from google.colab import files\n",
        "files.upload()\n",
        "! mkdir ~/.kaggle\n",
        "! cp kaggle.json ~/.kaggle/\n",
        "! chmod 600 ~/.kaggle/kaggle.json\n",
        "! kaggle competitions download -c whats-cooking  "
      ],
      "id": "RdwyxZHa16Su"
    },
    {
      "cell_type": "markdown",
      "metadata": {
        "id": "3a3f2ff3"
      },
      "source": [
        "### Data"
      ],
      "id": "3a3f2ff3"
    },
    {
      "cell_type": "code",
      "execution_count": null,
      "metadata": {
        "id": "dutio5Im1efo"
      },
      "outputs": [],
      "source": [
        "# ! pip install -q pyspark"
      ],
      "id": "dutio5Im1efo"
    },
    {
      "cell_type": "code",
      "execution_count": 2,
      "metadata": {
        "colab": {
          "base_uri": "https://localhost:8080/"
        },
        "id": "lvxu6SbSFGl9",
        "outputId": "25aac3a5-3bf2-4147-ecf4-a99a9ac54dcb"
      },
      "outputs": [
        {
          "output_type": "stream",
          "name": "stdout",
          "text": [
            "--2021-12-25 09:19:13--  http://setup.johnsnowlabs.com/colab.sh\n",
            "Resolving setup.johnsnowlabs.com (setup.johnsnowlabs.com)... 51.158.130.125\n",
            "Connecting to setup.johnsnowlabs.com (setup.johnsnowlabs.com)|51.158.130.125|:80... connected.\n",
            "HTTP request sent, awaiting response... 302 Found\n",
            "Location: https://setup.johnsnowlabs.com/colab.sh [following]\n",
            "--2021-12-25 09:19:14--  https://setup.johnsnowlabs.com/colab.sh\n",
            "Connecting to setup.johnsnowlabs.com (setup.johnsnowlabs.com)|51.158.130.125|:443... connected.\n",
            "HTTP request sent, awaiting response... 302 Moved Temporarily\n",
            "Location: https://raw.githubusercontent.com/JohnSnowLabs/spark-nlp/master/scripts/colab_setup.sh [following]\n",
            "--2021-12-25 09:19:15--  https://raw.githubusercontent.com/JohnSnowLabs/spark-nlp/master/scripts/colab_setup.sh\n",
            "Resolving raw.githubusercontent.com (raw.githubusercontent.com)... 185.199.108.133, 185.199.111.133, 185.199.110.133, ...\n",
            "Connecting to raw.githubusercontent.com (raw.githubusercontent.com)|185.199.108.133|:443... connected.\n",
            "HTTP request sent, awaiting response... 200 OK\n",
            "Length: 1275 (1.2K) [text/plain]\n",
            "Saving to: ‘STDOUT’\n",
            "\n",
            "-                   100%[===================>]   1.25K  --.-KB/s    in 0s      \n",
            "\n",
            "2021-12-25 09:19:15 (46.4 MB/s) - written to stdout [1275/1275]\n",
            "\n",
            "setup Colab for PySpark 3.0.3 and Spark NLP 3.3.4\n",
            "Installing PySpark 3.0.3 and Spark NLP 3.3.4\n",
            "\u001b[K     |████████████████████████████████| 209.1 MB 65 kB/s \n",
            "\u001b[K     |████████████████████████████████| 133 kB 25.4 MB/s \n",
            "\u001b[K     |████████████████████████████████| 198 kB 24.1 MB/s \n",
            "\u001b[?25h  Building wheel for pyspark (setup.py) ... \u001b[?25l\u001b[?25hdone\n"
          ]
        }
      ],
      "source": [
        "!wget http://setup.johnsnowlabs.com/colab.sh -O - | bash"
      ],
      "id": "lvxu6SbSFGl9"
    },
    {
      "cell_type": "code",
      "execution_count": 3,
      "metadata": {
        "id": "1bd0552c"
      },
      "outputs": [],
      "source": [
        "# import libraries\n",
        "\n",
        "import pyspark\n",
        "import pyspark.sql.functions as F\n",
        "from pyspark.sql.types import * #JVM типы данных\n",
        "\n",
        "\n",
        "from pyspark import SparkContext, SparkConf\n",
        "from pyspark.sql import SparkSession\n",
        "\n",
        "from pyspark.ml.feature import *\n",
        "from pyspark.ml.tuning import CrossValidator, ParamGridBuilder\n",
        "from pyspark.ml import Pipeline\n",
        "\n",
        "from pyspark.ml.evaluation import MulticlassClassificationEvaluator\n",
        "from pyspark.ml.classification import *\n",
        "\n",
        "import sparknlp\n",
        "from sparknlp import DocumentAssembler, Finisher\n",
        "from sparknlp.annotator import *\n",
        "from sparknlp.base import *\n",
        "\n",
        "import numpy as np\n",
        "import pandas as pd\n",
        "\n",
        "from itertools import chain\n",
        "\n",
        "import matplotlib.pyplot as plt\n",
        "import seaborn as sns\n",
        "%matplotlib inline"
      ],
      "id": "1bd0552c"
    },
    {
      "cell_type": "markdown",
      "source": [
        "#SPARK UP"
      ],
      "metadata": {
        "id": "MLKzC6yXSbR9"
      },
      "id": "MLKzC6yXSbR9"
    },
    {
      "cell_type": "code",
      "source": [
        "spark = SparkSession.builder \\\n",
        "    .appName(\"Spark NLP\") \\\n",
        "    .master(\"local[5]\") \\\n",
        "    .config(\"spark.driver.memory\",\"5G\")\\\n",
        "    .config(\"spark.driver.maxResultSize\", \"0\") \\\n",
        "    .config(\"spark.kryoserializer.buffer.max\", \"2000M\") \\\n",
        "    .config(\"spark.jars.packages\", \"com.johnsnowlabs.nlp:spark-nlp_2.12:3.3.4\") \\\n",
        "    .config(\"spark.sql.execution.arrow.pyspark.enabled\", \"false\") \\\n",
        "    .getOrCreate()"
      ],
      "metadata": {
        "id": "nUqqClmVR2WV"
      },
      "id": "nUqqClmVR2WV",
      "execution_count": 4,
      "outputs": []
    },
    {
      "cell_type": "code",
      "execution_count": 5,
      "metadata": {
        "colab": {
          "base_uri": "https://localhost:8080/",
          "height": 222
        },
        "id": "I4Zo6cEM2Cup",
        "outputId": "d2b1e3fc-cf4c-4ebd-840d-6e70c91feb2c"
      },
      "outputs": [
        {
          "output_type": "execute_result",
          "data": {
            "text/html": [
              "\n",
              "            <div>\n",
              "                <p><b>SparkSession - in-memory</b></p>\n",
              "                \n",
              "        <div>\n",
              "            <p><b>SparkContext</b></p>\n",
              "\n",
              "            <p><a href=\"http://bf89152d2bbe:4040\">Spark UI</a></p>\n",
              "\n",
              "            <dl>\n",
              "              <dt>Version</dt>\n",
              "                <dd><code>v3.0.3</code></dd>\n",
              "              <dt>Master</dt>\n",
              "                <dd><code>local[5]</code></dd>\n",
              "              <dt>AppName</dt>\n",
              "                <dd><code>Spark NLP</code></dd>\n",
              "            </dl>\n",
              "        </div>\n",
              "        \n",
              "            </div>\n",
              "        "
            ],
            "text/plain": [
              "<pyspark.sql.session.SparkSession at 0x7f5f8b8112d0>"
            ]
          },
          "metadata": {},
          "execution_count": 5
        }
      ],
      "source": [
        "spark # spark is alive"
      ],
      "id": "I4Zo6cEM2Cup"
    },
    {
      "cell_type": "code",
      "execution_count": 6,
      "metadata": {
        "colab": {
          "base_uri": "https://localhost:8080/"
        },
        "id": "s88dr07e3crj",
        "outputId": "80c414f1-76ef-47ce-c9d8-00f025aa730e"
      },
      "outputs": [
        {
          "output_type": "stream",
          "name": "stdout",
          "text": [
            "Archive:  /content/train.json.zip\n",
            "  inflating: train.json              \n",
            "   creating: __MACOSX/\n",
            "  inflating: __MACOSX/._train.json   \n",
            "Archive:  /content/test.json.zip\n",
            "  inflating: test.json               \n",
            "  inflating: __MACOSX/._test.json    \n",
            "Archive:  /content/sample_submission.csv.zip\n",
            "  inflating: sample_submission.csv   \n"
          ]
        }
      ],
      "source": [
        "! unzip '/content/train.json.zip'\n",
        "! unzip '/content/test.json.zip'\n",
        "! unzip '/content/sample_submission.csv.zip'"
      ],
      "id": "s88dr07e3crj"
    },
    {
      "cell_type": "code",
      "execution_count": null,
      "metadata": {
        "id": "cPKwJxeL4I6H"
      },
      "outputs": [],
      "source": [
        "# from google.colab import drive\n",
        "# drive.mount('/content/drive')"
      ],
      "id": "cPKwJxeL4I6H"
    },
    {
      "cell_type": "code",
      "execution_count": 7,
      "metadata": {
        "id": "krpngm9C2d9c"
      },
      "outputs": [],
      "source": [
        "df = spark.read.json('train.json', multiLine=True)\n",
        "sub_df = spark.read.json('test.json', multiLine=True)"
      ],
      "id": "krpngm9C2d9c"
    },
    {
      "cell_type": "code",
      "execution_count": 8,
      "metadata": {
        "colab": {
          "base_uri": "https://localhost:8080/"
        },
        "id": "8Bv-rQcD9iNL",
        "outputId": "3fc7bda6-036b-449c-b88c-480330c5f8ab"
      },
      "outputs": [
        {
          "output_type": "stream",
          "name": "stdout",
          "text": [
            "(39774, 3)\n"
          ]
        }
      ],
      "source": [
        "print((df.count(), len(df.columns)))"
      ],
      "id": "8Bv-rQcD9iNL"
    },
    {
      "cell_type": "code",
      "execution_count": 9,
      "metadata": {
        "colab": {
          "base_uri": "https://localhost:8080/"
        },
        "id": "PrI9qzSy2eFc",
        "outputId": "95d133a8-5dc4-45cb-b4f7-64ee9b7cc582"
      },
      "outputs": [
        {
          "output_type": "stream",
          "name": "stdout",
          "text": [
            "+-----------+-----+--------------------------------------------------------------------------------------------------------------------------------------------------------------------------------------------------------------------------------------------------+\n",
            "|cuisine    |id   |ingredients                                                                                                                                                                                                                                       |\n",
            "+-----------+-----+--------------------------------------------------------------------------------------------------------------------------------------------------------------------------------------------------------------------------------------------------+\n",
            "|greek      |10259|[romaine lettuce, black olives, grape tomatoes, garlic, pepper, purple onion, seasoning, garbanzo beans, feta cheese crumbles]                                                                                                                    |\n",
            "|southern_us|25693|[plain flour, ground pepper, salt, tomatoes, ground black pepper, thyme, eggs, green tomatoes, yellow corn meal, milk, vegetable oil]                                                                                                             |\n",
            "|filipino   |20130|[eggs, pepper, salt, mayonaise, cooking oil, green chilies, grilled chicken breasts, garlic powder, yellow onion, soy sauce, butter, chicken livers]                                                                                              |\n",
            "|indian     |22213|[water, vegetable oil, wheat, salt]                                                                                                                                                                                                               |\n",
            "|indian     |13162|[black pepper, shallots, cornflour, cayenne pepper, onions, garlic paste, milk, butter, salt, lemon juice, water, chili powder, passata, oil, ground cumin, boneless chicken skinless thigh, garam masala, double cream, natural yogurt, bay leaf]|\n",
            "|jamaican   |6602 |[plain flour, sugar, butter, eggs, fresh ginger root, salt, ground cinnamon, milk, vanilla extract, ground ginger, powdered sugar, baking powder]                                                                                                 |\n",
            "|spanish    |42779|[olive oil, salt, medium shrimp, pepper, garlic, chopped cilantro, jalapeno chilies, flat leaf parsley, skirt steak, white vinegar, sea salt, bay leaf, chorizo sausage]                                                                          |\n",
            "|italian    |3735 |[sugar, pistachio nuts, white almond bark, flour, vanilla extract, olive oil, almond extract, eggs, baking powder, dried cranberries]                                                                                                             |\n",
            "|mexican    |16903|[olive oil, purple onion, fresh pineapple, pork, poblano peppers, corn tortillas, cheddar cheese, ground black pepper, salt, iceberg lettuce, lime, jalapeno chilies, chopped cilantro fresh]                                                     |\n",
            "|italian    |12734|[chopped tomatoes, fresh basil, garlic, extra-virgin olive oil, kosher salt, flat leaf parsley]                                                                                                                                                   |\n",
            "|italian    |5875 |[pimentos, sweet pepper, dried oregano, olive oil, garlic, sharp cheddar cheese, pepper, swiss cheese, provolone cheese, canola oil, mushrooms, black olives, sausages]                                                                           |\n",
            "|chinese    |45887|[low sodium soy sauce, fresh ginger, dry mustard, green beans, white pepper, sesame oil, scallions, canola oil, sugar, Shaoxing wine, garlic, ground turkey, water, crushed red pepper flakes, corn starch]                                       |\n",
            "|italian    |2698 |[Italian parsley leaves, walnuts, hot red pepper flakes, extra-virgin olive oil, fresh lemon juice, trout fillet, garlic cloves, chipotle chile, fine sea salt, flat leaf parsley]                                                                |\n",
            "|mexican    |41995|[ground cinnamon, fresh cilantro, chili powder, ground coriander, kosher salt, ground black pepper, garlic, plum tomatoes, avocado, lime juice, flank steak, salt, ground cumin, black pepper, olive oil, crushed red pepper flakes, onions]      |\n",
            "|italian    |31908|[fresh parmesan cheese, butter, all-purpose flour, fat free less sodium chicken broth, chopped fresh chives, gruyere cheese, ground black pepper, bacon slices, gnocchi, fat free milk, cooking spray, salt]                                      |\n",
            "|indian     |24717|[tumeric, vegetable stock, tomatoes, garam masala, naan, red lentils, red chili peppers, onions, spinach, sweet potatoes]                                                                                                                         |\n",
            "|british    |34466|[greek yogurt, lemon curd, confectioners sugar, raspberries]                                                                                                                                                                                      |\n",
            "|italian    |1420 |[italian seasoning, broiler-fryer chicken, mayonaise, zesty italian dressing]                                                                                                                                                                     |\n",
            "|thai       |2941 |[sugar, hot chili, asian fish sauce, lime juice]                                                                                                                                                                                                  |\n",
            "|vietnamese |8152 |[soy sauce, vegetable oil, red bell pepper, chicken broth, yellow squash, garlic chili sauce, sliced green onions, broccolini, salt, fresh lime juice, cooked rice, chicken breasts, corn starch]                                                 |\n",
            "+-----------+-----+--------------------------------------------------------------------------------------------------------------------------------------------------------------------------------------------------------------------------------------------------+\n",
            "only showing top 20 rows\n",
            "\n"
          ]
        }
      ],
      "source": [
        "df.show(truncate=False)"
      ],
      "id": "PrI9qzSy2eFc"
    },
    {
      "cell_type": "code",
      "execution_count": 10,
      "metadata": {
        "colab": {
          "base_uri": "https://localhost:8080/"
        },
        "id": "ZKjkD90WoNO3",
        "outputId": "6a41ffde-1cf8-41da-c812-c7db86af0787"
      },
      "outputs": [
        {
          "output_type": "stream",
          "name": "stdout",
          "text": [
            "+-------+---+-----------+\n",
            "|cuisine| id|ingredients|\n",
            "+-------+---+-----------+\n",
            "|      0|  0|          0|\n",
            "+-------+---+-----------+\n",
            "\n"
          ]
        }
      ],
      "source": [
        "# check the NULL\n",
        "df.select([F.count(F.when(F.isnull(c), c)).alias(c) for c in df.columns]).show()"
      ],
      "id": "ZKjkD90WoNO3"
    },
    {
      "cell_type": "code",
      "execution_count": 11,
      "metadata": {
        "colab": {
          "base_uri": "https://localhost:8080/"
        },
        "id": "ue8q8RYej9BM",
        "outputId": "2876fe61-8500-4696-f6b3-20ae503b4fba"
      },
      "outputs": [
        {
          "output_type": "stream",
          "name": "stdout",
          "text": [
            "+-------+---+-----------+\n",
            "|cuisine| id|ingredients|\n",
            "+-------+---+-----------+\n",
            "|      0|  0|          0|\n",
            "+-------+---+-----------+\n",
            "\n"
          ]
        }
      ],
      "source": [
        "# check the NaNs\n",
        "df_temp = df.withColumn(\"ingredients\", F.concat_ws(', ' ,F.col(\"ingredients\")))\n",
        "df_temp.select([F.count(F.when(F.isnan(c), c)).alias(c) for c in df_temp.columns]).show()\n"
      ],
      "id": "ue8q8RYej9BM"
    },
    {
      "cell_type": "code",
      "execution_count": 12,
      "metadata": {
        "colab": {
          "base_uri": "https://localhost:8080/"
        },
        "id": "t3ZObSQZ6X7H",
        "outputId": "83be45ba-6e7c-4967-bc5f-4c417bd74f8b"
      },
      "outputs": [
        {
          "output_type": "execute_result",
          "data": {
            "text/plain": [
              "20"
            ]
          },
          "metadata": {},
          "execution_count": 12
        }
      ],
      "source": [
        "len(df.select('cuisine').distinct().rdd.map(lambda r: r[0]).collect())"
      ],
      "id": "t3ZObSQZ6X7H"
    },
    {
      "cell_type": "code",
      "execution_count": 13,
      "metadata": {
        "colab": {
          "base_uri": "https://localhost:8080/"
        },
        "id": "urXNjPljj6_t",
        "outputId": "3213eb72-2535-4ca6-fb66-0ef951564afd"
      },
      "outputs": [
        {
          "output_type": "stream",
          "name": "stdout",
          "text": [
            "+------------+-----+\n",
            "|     cuisine|count|\n",
            "+------------+-----+\n",
            "|     italian| 7838|\n",
            "|     mexican| 6438|\n",
            "| southern_us| 4320|\n",
            "|      indian| 3003|\n",
            "|     chinese| 2673|\n",
            "|      french| 2646|\n",
            "|cajun_creole| 1546|\n",
            "|        thai| 1539|\n",
            "|    japanese| 1423|\n",
            "|       greek| 1175|\n",
            "|     spanish|  989|\n",
            "|      korean|  830|\n",
            "|  vietnamese|  825|\n",
            "|    moroccan|  821|\n",
            "|     british|  804|\n",
            "|    filipino|  755|\n",
            "|       irish|  667|\n",
            "|    jamaican|  526|\n",
            "|     russian|  489|\n",
            "|   brazilian|  467|\n",
            "+------------+-----+\n",
            "\n"
          ]
        }
      ],
      "source": [
        "df.groupBy('cuisine').count().orderBy('count', ascending=False).show()"
      ],
      "id": "urXNjPljj6_t"
    },
    {
      "cell_type": "code",
      "execution_count": 14,
      "metadata": {
        "id": "IKBuMWdNWkuz"
      },
      "outputs": [],
      "source": [
        "df = df.withColumn(\"size\",F.size(F.col(\"ingredients\")))"
      ],
      "id": "IKBuMWdNWkuz"
    },
    {
      "cell_type": "code",
      "execution_count": 15,
      "metadata": {
        "colab": {
          "base_uri": "https://localhost:8080/"
        },
        "id": "B98-hJg2XbXr",
        "outputId": "a4b0160b-cfcc-4b9a-b4ab-5a6beddd6b76"
      },
      "outputs": [
        {
          "output_type": "stream",
          "name": "stdout",
          "text": [
            "+------------+-------------------+--------+--------+\n",
            "|     cuisine|total_cuisine_count|size_max|size_min|\n",
            "+------------+-------------------+--------+--------+\n",
            "|     italian|               7838|      65|       1|\n",
            "|     mexican|               6438|      52|       1|\n",
            "| southern_us|               4320|      40|       1|\n",
            "|      indian|               3003|      49|       1|\n",
            "|     chinese|               2673|      38|       2|\n",
            "|      french|               2646|      31|       1|\n",
            "|cajun_creole|               1546|      31|       2|\n",
            "|        thai|               1539|      40|       1|\n",
            "|    japanese|               1423|      34|       1|\n",
            "|       greek|               1175|      27|       1|\n",
            "|     spanish|                989|      35|       1|\n",
            "|      korean|                830|      29|       2|\n",
            "|  vietnamese|                825|      31|       1|\n",
            "|    moroccan|                821|      31|       2|\n",
            "|     british|                804|      30|       2|\n",
            "|    filipino|                755|      38|       2|\n",
            "|       irish|                667|      27|       2|\n",
            "|    jamaican|                526|      35|       2|\n",
            "|     russian|                489|      25|       2|\n",
            "|   brazilian|                467|      59|       2|\n",
            "+------------+-------------------+--------+--------+\n",
            "\n"
          ]
        }
      ],
      "source": [
        "df.groupBy('cuisine') \\\n",
        "  .agg(F.count('cuisine').alias('total_cuisine_count'),\n",
        "       F.max('size').alias('size_max'),\n",
        "       F.min('size').alias('size_min'),\n",
        "       )\\\n",
        "  .sort(F.col('total_cuisine_count').desc()) \\\n",
        "  .show()"
      ],
      "id": "B98-hJg2XbXr"
    },
    {
      "cell_type": "code",
      "execution_count": 16,
      "metadata": {
        "colab": {
          "base_uri": "https://localhost:8080/"
        },
        "id": "kIjBEXIkaINw",
        "outputId": "9b819e2d-150d-4c12-aa74-353328bf059e"
      },
      "outputs": [
        {
          "output_type": "stream",
          "name": "stdout",
          "text": [
            "+----+-------------------+\n",
            "|size|total_cuisine_count|\n",
            "+----+-------------------+\n",
            "|   1|                 22|\n",
            "|   2|                193|\n",
            "+----+-------------------+\n",
            "\n"
          ]
        }
      ],
      "source": [
        "df.filter(df['size'] < 3).groupBy('size') \\\n",
        "  .agg(F.count('cuisine').alias('total_cuisine_count')\n",
        "  )\\\n",
        "  .sort(F.col('size')) \\\n",
        "  .show()"
      ],
      "id": "kIjBEXIkaINw"
    },
    {
      "cell_type": "markdown",
      "metadata": {
        "id": "pePAiKwuAdgp"
      },
      "source": [
        "#PREPROCESSING"
      ],
      "id": "pePAiKwuAdgp"
    },
    {
      "cell_type": "code",
      "execution_count": 18,
      "metadata": {
        "id": "vMIvGGPfX_TI"
      },
      "outputs": [],
      "source": [
        "# import re\n",
        "\n",
        "# def remove_punctuations(x):\n",
        "#     res=[]\n",
        "#     for x_ in x:\n",
        "#         res.append(re.sub(r'[^\\w\\s]','',x_))\n",
        "#     return res\n",
        "\n",
        "# rm_punct = F.udf(remove_punctuations, ArrayType(StringType()))\n",
        "\n",
        "# def remove_digits(x):\n",
        "#     res=[]\n",
        "#     for x_ in x:\n",
        "#         res.append(re.sub(r\"(\\d)\", \"\",x_))\n",
        "#     return res\n",
        "\n",
        "# rm_digits = F.udf(remove_digits, ArrayType(StringType()))\n",
        "\n",
        "# def remove_paranthesis(x):\n",
        "#     res=[]\n",
        "#     for x_ in x:\n",
        "#         res.append(re.sub(r'\\([^)]*\\)', '',x_))\n",
        "#     return res\n",
        "\n",
        "# rm_paranthesis = F.udf(remove_paranthesis, ArrayType(StringType()))\n",
        "\n",
        "# def remove_brand(x):\n",
        "#     res=[]\n",
        "#     for x_ in x:\n",
        "#         res.append(re.sub(u'\\w*\\u2122', '',x_))\n",
        "#     return res\n",
        "\n",
        "# rm_brand = F.udf(remove_brand, ArrayType(StringType()))\n",
        "\n",
        "# def lower_case(x):\n",
        "#     res = []\n",
        "#     for x_ in x:\n",
        "#         res.append(x_.lower())\n",
        "#     return res\n",
        "\n",
        "# convert_to_lower = F.udf(lower_case, ArrayType(StringType()))"
      ],
      "id": "vMIvGGPfX_TI"
    },
    {
      "cell_type": "code",
      "execution_count": 19,
      "metadata": {
        "id": "UriQanIEb2v3"
      },
      "outputs": [],
      "source": [
        "# df = df.withColumn(\"ingredients\", rm_punct(F.col(\"ingredients\")))\n",
        "\n",
        "# df = df.withColumn(\"ingredients\", rm_digits(F.col(\"ingredients\")))\n",
        "\n",
        "# df = df.withColumn(\"ingredients\", rm_paranthesis(F.col(\"ingredients\")))\n",
        "\n",
        "# df = df.withColumn(\"ingredients\", rm_brand(F.col(\"ingredients\")))\n",
        "\n",
        "# df = df.withColumn(\"ingredients\", convert_to_lower(F.col(\"ingredients\")))"
      ],
      "id": "UriQanIEb2v3"
    },
    {
      "cell_type": "code",
      "source": [
        "corpus_train = df.select(\"ingredients\")\n",
        "corpus_test = sub_df.select(\"ingredients\")\n",
        "corpus = corpus_train.union(corpus_test) \\\n",
        "        .withColumn(\"ingredients\", F.concat_ws(', ' ,F.col(\"ingredients\")))"
      ],
      "metadata": {
        "id": "sQJlMjz191eL"
      },
      "id": "sQJlMjz191eL",
      "execution_count": 17,
      "outputs": []
    },
    {
      "cell_type": "code",
      "execution_count": 18,
      "metadata": {
        "colab": {
          "base_uri": "https://localhost:8080/"
        },
        "id": "EQfop2lohxrb",
        "outputId": "bd7ed181-b047-4623-df13-f2d8b51aa0dd"
      },
      "outputs": [
        {
          "output_type": "stream",
          "name": "stdout",
          "text": [
            "lemma_antbnc download started this may take some time.\n",
            "Approximate size to download 907.6 KB\n",
            "[OK!]\n"
          ]
        }
      ],
      "source": [
        "#annotators\n",
        "assembler = DocumentAssembler()\\\n",
        "    .setInputCol('ingredients')\\\n",
        "    .setOutputCol('docs')\n",
        "\n",
        "#re-token\n",
        "regexTokenizer = RegexTokenizer()\\\n",
        "    .setInputCols(['docs'])\\\n",
        "    .setOutputCol('token')\n",
        "\n",
        "#lemmatizaton\n",
        "lemmatizer = LemmatizerModel.pretrained()\\\n",
        "    .setInputCols(['token'])\\\n",
        "    .setOutputCol('lemma')\n",
        "\n",
        "#clean garbage\n",
        "normalizer = Normalizer()\\\n",
        "    .setCleanupPatterns([\n",
        "        '[^a-zA-Z.-]+',\n",
        "        '^[^a-zA-Z]+',\n",
        "        '[^a-zA-Z]+$',\n",
        "    ])\\\n",
        "    .setInputCols(['lemma'])\\\n",
        "    .setOutputCol('normalized')\\\n",
        "    .setLowercase(True)\n",
        "\n",
        "#clean temp phases\n",
        "finisher = Finisher()\\\n",
        "    .setInputCols(['normalized'])\\\n",
        "    .setOutputCols(['normalized'])\\\n",
        "    .setOutputAsArray(True)\n",
        "\n",
        "#stop words\n",
        "stopwords = [] # [\"kraft\", \"uncle\"]\n",
        "stopwordsRemover = StopWordsRemover(inputCol=\"normalized\", \n",
        "                                    outputCol=\"filtered\")\\\n",
        "                                    .setStopWords(stopwords)\n",
        "#vectorizing\n",
        "# count\n",
        "countVectors = CountVectorizer(inputCol=\"filtered\", \n",
        "                               outputCol=\"count_features\",\n",
        "                               binary=False)\n",
        "#idf from count\n",
        "idf = IDF(inputCol=\"count_features\", outputCol=\"tfidf_features\") "
      ],
      "id": "EQfop2lohxrb"
    },
    {
      "cell_type": "code",
      "execution_count": 19,
      "metadata": {
        "id": "qKiJWJvxjyEV"
      },
      "outputs": [],
      "source": [
        "# unarray ingridients\n",
        "df_tr = df.withColumn(\"ingredients\", F.concat_ws(', ' ,F.col(\"ingredients\")))\n",
        "df_ts = sub_df.withColumn(\"ingredients\", F.concat_ws(', ' ,F.col(\"ingredients\")))"
      ],
      "id": "qKiJWJvxjyEV"
    },
    {
      "cell_type": "code",
      "execution_count": 20,
      "metadata": {
        "id": "e1pNODNRKiOI"
      },
      "outputs": [],
      "source": [
        "pipeline = Pipeline(stages=[\n",
        "                            assembler,\n",
        "                            regexTokenizer,\n",
        "                            lemmatizer, \n",
        "                            normalizer,\n",
        "                            finisher,\n",
        "                            stopwordsRemover,\n",
        "                            countVectors, \n",
        "                            idf\n",
        "                            ]\n",
        "                    )\n",
        "\n",
        "pipelinefit = pipeline.fit(corpus)\n",
        "next_df = pipelinefit.transform(df_tr)\n",
        "next_sub = pipelinefit.transform(df_ts)"
      ],
      "id": "e1pNODNRKiOI"
    },
    {
      "cell_type": "code",
      "source": [
        "#labeling\n",
        "label_stringIdx = StringIndexer(inputCol = \"cuisine\", \n",
        "                                outputCol = \"label\")\n",
        "\n",
        "label_Idx = label_stringIdx.fit(next_df)\n",
        "next_df = label_Idx.transform(next_df)"
      ],
      "metadata": {
        "id": "ZQQ9E4wABeG5"
      },
      "id": "ZQQ9E4wABeG5",
      "execution_count": 21,
      "outputs": []
    },
    {
      "cell_type": "code",
      "execution_count": 22,
      "metadata": {
        "colab": {
          "base_uri": "https://localhost:8080/"
        },
        "id": "Y3zPGZ4cf-90",
        "outputId": "63b762bc-706e-4503-835d-591751d977cb"
      },
      "outputs": [
        {
          "output_type": "stream",
          "name": "stdout",
          "text": [
            "0.0: 0.25372544016330695,\n",
            "1.0: 0.30890027958993477,\n",
            "2.0: 0.46034722222222224,\n",
            "3.0: 0.6622377622377622,\n",
            "4.0: 0.7439955106621773,\n",
            "5.0: 0.7515873015873016,\n",
            "6.0: 1.2863518758085382,\n",
            "7.0: 1.2922027290448344,\n",
            "8.0: 1.3975404075895994,\n",
            "9.0: 1.6925106382978723,\n",
            "10.0: 2.0108190091001013,\n",
            "11.0: 2.3960240963855424,\n",
            "12.0: 2.4105454545454545,\n",
            "13.0: 2.4222898903775882,\n",
            "14.0: 2.473507462686567,\n",
            "15.0: 2.634039735099338,\n",
            "16.0: 2.981559220389805,\n",
            "17.0: 3.7807984790874523,\n",
            "18.0: 4.066871165644172,\n",
            "19.0: 4.258458244111349,\n"
          ]
        }
      ],
      "source": [
        "# balance \n",
        "\n",
        "label_collect = next_df.select(\"label\").groupBy(\"label\").count().collect()\n",
        "unique_label = [x[\"label\"] for x in label_collect]\n",
        "total_label = sum([x[\"count\"] for x in label_collect])\n",
        "unique_label_count = len(label_collect)\n",
        "bin_count = [x[\"count\"] for x in label_collect]\n",
        "\n",
        "class_weights_label = {i: ii for i, ii in zip(unique_label, total_label / (unique_label_count * np.array(bin_count)))}\n",
        "\n",
        "mapping_expr = F.create_map([F.lit(x) for x in chain(*class_weights_label.items())])\n",
        "\n",
        "next_df = next_df.withColumn(\"weight\", mapping_expr[F.col(\"label\")])\n",
        "\n",
        "print(\"\\n\".join(\"{!r}: {!r},\".format(k, v) for k, v in sorted(class_weights_label.items())))"
      ],
      "id": "Y3zPGZ4cf-90"
    },
    {
      "cell_type": "markdown",
      "metadata": {
        "id": "diFcNP04QPA5"
      },
      "source": [
        "#ML FLOW"
      ],
      "id": "diFcNP04QPA5"
    },
    {
      "cell_type": "code",
      "execution_count": 23,
      "metadata": {
        "colab": {
          "base_uri": "https://localhost:8080/"
        },
        "id": "OniFUlQuD_ZM",
        "outputId": "5cbe418d-0f0b-4266-f97e-bbdd6a65febf"
      },
      "outputs": [
        {
          "output_type": "stream",
          "name": "stdout",
          "text": [
            "+-----------+-----+------------------------------------------------------------------------------------------------------------------------------------------------------------------------------------------------------------------------------------------------+----+---------------------------------------------------------------------------------------------------------------------------------------------------------------------------------------------------------------------------------------------------------------+---------------------------------------------------------------------------------------------------------------------------------------------------------------------------------------------------------------------------------------------------------------+----------------------------------------------------------------------------------------------------------------------------------------------------------------------------------------------------------------------------------------------+-----------------------------------------------------------------------------------------------------------------------------------------------------------------------------------------------------------------------------------------------------------------------------------------------------------------------------------------------------------------------------------------------------------------------------------------------------------------------------------------------------------------------------------------------------------------------------------------------------------------------------------------------------------------------------------------------------------------------------+-----+-------------------+\n",
            "|cuisine    |id   |ingredients                                                                                                                                                                                                                                     |size|normalized                                                                                                                                                                                                                                                     |filtered                                                                                                                                                                                                                                                       |count_features                                                                                                                                                                                                                                |tfidf_features                                                                                                                                                                                                                                                                                                                                                                                                                                                                                                                                                                                                                                                                                                               |label|weight             |\n",
            "+-----------+-----+------------------------------------------------------------------------------------------------------------------------------------------------------------------------------------------------------------------------------------------------+----+---------------------------------------------------------------------------------------------------------------------------------------------------------------------------------------------------------------------------------------------------------------+---------------------------------------------------------------------------------------------------------------------------------------------------------------------------------------------------------------------------------------------------------------+----------------------------------------------------------------------------------------------------------------------------------------------------------------------------------------------------------------------------------------------+-----------------------------------------------------------------------------------------------------------------------------------------------------------------------------------------------------------------------------------------------------------------------------------------------------------------------------------------------------------------------------------------------------------------------------------------------------------------------------------------------------------------------------------------------------------------------------------------------------------------------------------------------------------------------------------------------------------------------------+-----+-------------------+\n",
            "|greek      |10259|romaine lettuce, black olives, grape tomatoes, garlic, pepper, purple onion, seasoning, garbanzo beans, feta cheese crumbles                                                                                                                    |9   |[romaine, lettuce, black, olives, grape, tomatoes, garlic, pepper, purple, onion, seasoning, garbanzo, beans, feta, cheese, crumble]                                                                                                                           |[romaine, lettuce, black, olives, grape, tomatoes, garlic, pepper, purple, onion, seasoning, garbanzo, beans, feta, cheese, crumble]                                                                                                                           |(3190,[0,3,8,11,15,21,50,97,110,135,138,196,302,332,438,492],[1.0,1.0,1.0,1.0,1.0,1.0,1.0,1.0,1.0,1.0,1.0,1.0,1.0,1.0,1.0,1.0])                                                                                                               |(3190,[0,3,8,11,15,21,50,97,110,135,138,196,302,332,438,492],[0.7223098344840114,0.7830975468406504,1.4590958398162124,1.375631167787236,1.5096743980907728,1.6307622423982542,2.553132646767826,3.0405479654314598,3.2263252127982267,3.505599635252463,3.4995896004675737,4.101186232114584,4.757358419563029,4.916988565154913,5.37172472226986,5.593786607713329])                                                                                                                                                                                                                                                                                                                                                       |9.0  |1.6925106382978723 |\n",
            "|southern_us|25693|plain flour, ground pepper, salt, tomatoes, ground black pepper, thyme, eggs, green tomatoes, yellow corn meal, milk, vegetable oil                                                                                                             |11  |[plain, flour, ground, pepper, salt, tomatoes, ground, black, pepper, thyme, eggs, green, tomatoes, yellow, corn, meal, milk, vegetable, oil]                                                                                                                  |[plain, flour, ground, pepper, salt, tomatoes, ground, black, pepper, thyme, eggs, green, tomatoes, yellow, corn, meal, milk, vegetable, oil]                                                                                                                  |(3190,[0,1,2,4,11,16,19,21,25,30,32,35,69,75,162,268],[2.0,1.0,1.0,2.0,1.0,1.0,1.0,2.0,1.0,1.0,1.0,1.0,1.0,1.0,1.0,1.0])                                                                                                                      |(3190,[0,1,2,4,11,16,19,21,25,30,32,35,69,75,162,268],[1.4446196689680229,0.5143987112326711,0.6371224434081868,2.215774099570469,1.375631167787236,1.564389058458636,1.6462921124364231,3.2615244847965084,1.8337184964171094,1.9662076794631882,1.9729834568463887,2.080709466378001,2.8137929374669697,2.8846559094773645,3.794845779076609,4.615663716299346])                                                                                                                                                                                                                                                                                                                                                           |2.0  |0.46034722222222224|\n",
            "|filipino   |20130|eggs, pepper, salt, mayonaise, cooking oil, green chilies, grilled chicken breasts, garlic powder, yellow onion, soy sauce, butter, chicken livers                                                                                              |12  |[eggs, pepper, salt, mayonaise, cook, oil, green, chilies, grill, chicken, breasts, garlic, powder, yellow, onion, soy, sauce, butter, chicken, liver]                                                                                                         |[eggs, pepper, salt, mayonaise, cook, oil, green, chilies, grill, chicken, breasts, garlic, powder, yellow, onion, soy, sauce, butter, chicken, liver]                                                                                                         |(3190,[0,1,2,3,6,9,15,17,18,19,25,39,47,65,75,90,171,684,1265],[1.0,1.0,1.0,1.0,1.0,2.0,1.0,1.0,1.0,1.0,1.0,1.0,1.0,1.0,1.0,1.0,1.0,1.0,1.0])                                                                                                 |(3190,[0,1,2,3,6,9,15,17,18,19,25,39,47,65,75,90,171,684,1265],[0.7223098344840114,0.5143987112326711,0.6371224434081868,0.7830975468406504,1.3442880081916109,2.9050825339497743,1.5096743980907728,1.693289227317007,1.5513993820224226,1.6462921124364231,1.8337184964171094,2.154408554593306,2.3652280821287106,2.713980985855046,2.8846559094773645,2.9869015310388423,3.9225165357394003,6.281542939638398,7.769619995068231])                                                                                                                                                                                                                                                                                        |15.0 |2.634039735099338  |\n",
            "|indian     |22213|water, vegetable oil, wheat, salt                                                                                                                                                                                                               |4   |[water, vegetable, oil, wheat, salt]                                                                                                                                                                                                                           |[water, vegetable, oil, wheat, salt]                                                                                                                                                                                                                           |(3190,[1,2,13,32,204],[1.0,1.0,1.0,1.0,1.0])                                                                                                                                                                                                  |(3190,[1,2,13,32,204],[0.5143987112326711,0.6371224434081868,1.447311264056038,1.9729834568463887,4.198077247658836])                                                                                                                                                                                                                                                                                                                                                                                                                                                                                                                                                                                                        |3.0  |0.6622377622377622 |\n",
            "|indian     |13162|black pepper, shallots, cornflour, cayenne pepper, onions, garlic paste, milk, butter, salt, lemon juice, water, chili powder, passata, oil, ground cumin, boneless chicken skinless thigh, garam masala, double cream, natural yogurt, bay leaf|20  |[black, pepper, shallots, cornflour, cayenne, pepper, onions, garlic, paste, milk, butter, salt, lemon, juice, water, chili, powder, passata, oil, ground, cumin, boneless, chicken, skinless, thigh, garam, masala, double, cream, natural, yogurt, bay, leaf]|[black, pepper, shallots, cornflour, cayenne, pepper, onions, garlic, paste, milk, butter, salt, lemon, juice, water, chili, powder, passata, oil, ground, cumin, boneless, chicken, skinless, thigh, garam, masala, double, cream, natural, yogurt, bay, leaf]|(3190,[0,1,2,3,4,9,11,12,13,17,18,23,27,30,31,41,43,57,61,77,83,84,86,117,139,144,155,242,591,747,779,1089],[2.0,1.0,1.0,1.0,1.0,1.0,1.0,1.0,1.0,1.0,1.0,1.0,1.0,1.0,1.0,1.0,1.0,1.0,1.0,1.0,1.0,1.0,1.0,1.0,1.0,1.0,1.0,1.0,1.0,1.0,1.0,1.0])|(3190,[0,1,2,3,4,9,11,12,13,17,18,23,27,30,31,41,43,57,61,77,83,84,86,117,139,144,155,242,591,747,779,1089],[1.4446196689680229,0.5143987112326711,0.6371224434081868,0.7830975468406504,1.1078870497852344,1.4525412669748872,1.375631167787236,1.409387256334133,1.447311264056038,1.693289227317007,1.5513993820224226,1.7830483510924975,1.9742862000283898,1.9662076794631882,2.060928952247527,2.178633014557374,2.277735022451612,2.6633859625161023,2.676454247814049,2.881780278451903,2.929565922195329,2.9250580257561394,2.9813349162667886,3.325289477058194,3.5218052566177764,3.6463332484752096,3.738333568813267,4.394147504644511,5.946607982336071,6.432115798117772,6.510077339587484,7.380155228306507])|3.0  |0.6622377622377622 |\n",
            "|jamaican   |6602 |plain flour, sugar, butter, eggs, fresh ginger root, salt, ground cinnamon, milk, vanilla extract, ground ginger, powdered sugar, baking powder                                                                                                 |12  |[plain, flour, sugar, butter, eggs, fresh, ginger, root, salt, ground, cinnamon, milk, vanilla, extract, ground, ginger, powder, sugar, bake, powder]                                                                                                          |[plain, flour, sugar, butter, eggs, fresh, ginger, root, salt, ground, cinnamon, milk, vanilla, extract, ground, ginger, powder, sugar, bake, powder]                                                                                                          |(3190,[1,4,5,7,16,17,18,25,30,34,55,68,78,106,162,218],[1.0,2.0,1.0,2.0,1.0,2.0,1.0,1.0,1.0,2.0,1.0,1.0,1.0,1.0,1.0,1.0])                                                                                                                     |(3190,[1,4,5,7,16,17,18,25,30,34,55,68,78,106,162,218],[0.5143987112326711,2.215774099570469,1.1131383288734327,2.548708878262445,1.564389058458636,3.386578454634014,1.5513993820224226,1.8337184964171094,1.9662076794631882,4.044400888671069,2.7688747161838503,2.749820471880851,2.9435945882839416,3.192457434067043,3.794845779076609,4.27311243360175])                                                                                                                                                                                                                                                                                                                                                              |17.0 |3.7807984790874523 |\n",
            "|spanish    |42779|olive oil, salt, medium shrimp, pepper, garlic, chopped cilantro, jalapeno chilies, flat leaf parsley, skirt steak, white vinegar, sea salt, bay leaf, chorizo sausage                                                                          |13  |[olive, oil, salt, medium, shrimp, pepper, garlic, chop, cilantro, jalapeno, chilies, flat, leaf, parsley, skirt, steak, white, vinegar, sea, salt, bay, leaf, chorizo, sausage]                                                                               |[olive, oil, salt, medium, shrimp, pepper, garlic, chop, cilantro, jalapeno, chilies, flat, leaf, parsley, skirt, steak, white, vinegar, sea, salt, bay, leaf, chorizo, sausage]                                                                               |(3190,[0,1,2,3,10,22,24,29,37,46,65,72,83,86,107,113,133,142,191,209,354,707],[1.0,2.0,1.0,1.0,1.0,1.0,1.0,1.0,1.0,1.0,1.0,1.0,1.0,2.0,1.0,1.0,1.0,1.0,1.0,1.0,1.0,1.0])                                                                      |(3190,[0,1,2,3,10,22,24,29,37,46,65,72,83,86,107,113,133,142,191,209,354,707],[0.7223098344840114,1.0287974224653422,0.6371224434081868,0.7830975468406504,1.3116549714045316,1.7750649902526918,1.831958153953225,1.9455883922604527,2.1076520708450364,2.288782678709023,2.713980985855046,2.8569651093321786,2.929565922195329,5.962669832533577,3.1229423352687906,3.302617784400788,3.476554689253058,3.577083406666916,4.077175474789798,4.199416832587893,5.039590887247245,6.325506063059514])                                                                                                                                                                                                                       |10.0 |2.0108190091001013 |\n",
            "|italian    |3735 |sugar, pistachio nuts, white almond bark, flour, vanilla extract, olive oil, almond extract, eggs, baking powder, dried cranberries                                                                                                             |10  |[sugar, pistachio, nuts, white, almond, bark, flour, vanilla, extract, olive, oil, almond, extract, eggs, bake, powder, dry, cranberry]                                                                                                                        |[sugar, pistachio, nuts, white, almond, bark, flour, vanilla, extract, olive, oil, almond, extract, eggs, bake, powder, dry, cranberry]                                                                                                                        |(3190,[2,7,10,16,17,20,24,25,55,78,106,279,327,833,889,3044],[1.0,1.0,1.0,1.0,1.0,1.0,1.0,1.0,1.0,1.0,2.0,2.0,1.0,1.0,1.0,1.0])                                                                                                               |(3190,[2,7,10,16,17,20,24,25,55,78,106,279,327,833,889,3044],[0.6371224434081868,1.2743544391312225,1.3116549714045316,1.564389058458636,1.693289227317007,1.7896498273859838,1.831958153953225,1.8337184964171094,2.7688747161838503,2.9435945882839416,6.384914868134086,9.450195114689615,4.895248578518507,6.671007706400121,6.843850519239532,10.120995252231708])                                                                                                                                                                                                                                                                                                                                                      |0.0  |0.25372544016330695|\n",
            "|mexican    |16903|olive oil, purple onion, fresh pineapple, pork, poblano peppers, corn tortillas, cheddar cheese, ground black pepper, salt, iceberg lettuce, lime, jalapeno chilies, chopped cilantro fresh                                                     |13  |[olive, oil, purple, onion, fresh, pineapple, pork, poblano, peppers, corn, tortillas, cheddar, cheese, ground, black, pepper, salt, iceberg, lettuce, lime, jalapeno, chilies, chop, cilantro, fresh]                                                         |[olive, oil, purple, onion, fresh, pineapple, pork, poblano, peppers, corn, tortillas, cheddar, cheese, ground, black, pepper, salt, iceberg, lettuce, lime, jalapeno, chilies, chop, cilantro, fresh]                                                         |(3190,[0,1,2,4,5,8,10,11,15,22,29,35,38,65,70,91,97,100,107,121,138,266,318,456],[1.0,1.0,1.0,1.0,2.0,1.0,1.0,1.0,1.0,1.0,1.0,1.0,1.0,1.0,1.0,1.0,1.0,1.0,1.0,1.0,1.0,1.0,1.0,1.0])                                                           |(3190,[0,1,2,4,5,8,10,11,15,22,29,35,38,65,70,91,97,100,107,121,138,266,318,456],[0.7223098344840114,0.5143987112326711,0.6371224434081868,1.1078870497852344,2.2262766577468653,1.4590958398162124,1.3116549714045316,1.375631167787236,1.5096743980907728,1.7750649902526918,1.9455883922604527,2.080709466378001,2.235666012958518,2.713980985855046,2.8293390430572476,2.998531900756463,3.0405479654314598,3.0747832301025553,3.1229423352687906,3.3675573336339286,3.4995896004675737,4.687273248677468,4.8352566678905315,5.429647370002565])                                                                                                                                                                         |1.0  |0.30890027958993477|\n",
            "|italian    |12734|chopped tomatoes, fresh basil, garlic, extra-virgin olive oil, kosher salt, flat leaf parsley                                                                                                                                                   |6   |[chop, tomatoes, fresh, basil, garlic, extra-virgin, olive, oil, kosher, salt, flat, leaf, parsley]                                                                                                                                                            |[chop, tomatoes, fresh, basil, garlic, extra-virgin, olive, oil, kosher, salt, flat, leaf, parsley]                                                                                                                                                            |(3190,[1,2,3,5,10,21,22,46,51,53,63,86,142],[1.0,1.0,1.0,1.0,1.0,1.0,1.0,1.0,1.0,1.0,1.0,1.0,1.0])                                                                                                                                            |(3190,[1,2,3,5,10,21,22,46,51,53,63,86,142],[0.5143987112326711,0.6371224434081868,0.7830975468406504,1.1131383288734327,1.3116549714045316,1.6307622423982542,1.7750649902526918,2.288782678709023,2.5163498064107914,2.602659516346588,2.675285682095328,2.9813349162667886,3.577083406666916])                                                                                                                                                                                                                                                                                                                                                                                                                            |0.0  |0.25372544016330695|\n",
            "|italian    |5875 |pimentos, sweet pepper, dried oregano, olive oil, garlic, sharp cheddar cheese, pepper, swiss cheese, provolone cheese, canola oil, mushrooms, black olives, sausages                                                                           |13  |[pimentos, sweet, pepper, dry, oregano, olive, oil, garlic, sharp, cheddar, cheese, pepper, swiss, cheese, provolone, cheese, canola, oil, mushrooms, black, olives, sausage]                                                                                  |[pimentos, sweet, pepper, dry, oregano, olive, oil, garlic, sharp, cheddar, cheese, pepper, swiss, cheese, provolone, cheese, canola, oil, mushrooms, black, olives, sausage]                                                                                  |(3190,[0,2,3,8,10,11,20,62,99,100,112,129,133,135,247,389,471,512],[2.0,2.0,1.0,3.0,1.0,1.0,1.0,1.0,1.0,1.0,1.0,1.0,1.0,1.0,1.0,1.0,1.0,1.0])                                                                                                 |(3190,[0,2,3,8,10,11,20,62,99,100,112,129,133,135,247,389,471,512],[1.4446196689680229,1.2742448868163736,0.7830975468406504,4.377287519448637,1.3116549714045316,1.375631167787236,1.7896498273859838,2.686442579973882,3.10933050985906,3.0747832301025553,3.244730640340942,3.4178071389908458,3.476554689253058,3.505599635252463,4.435716249140067,5.175787763457908,5.520837608067161,5.666647955978201])                                                                                                                                                                                                                                                                                                              |0.0  |0.25372544016330695|\n",
            "|chinese    |45887|low sodium soy sauce, fresh ginger, dry mustard, green beans, white pepper, sesame oil, scallions, canola oil, sugar, Shaoxing wine, garlic, ground turkey, water, crushed red pepper flakes, corn starch                                       |15  |[low, sodium, soy, sauce, fresh, ginger, dry, mustard, green, beans, white, pepper, sesame, oil, scallions, canola, oil, sugar, shaoxing, wine, garlic, ground, turkey, water, crush, red, pepper, flakes, corn, starch]                                       |[low, sodium, soy, sauce, fresh, ginger, dry, mustard, green, beans, white, pepper, sesame, oil, scallions, canola, oil, sugar, shaoxing, wine, garlic, ground, turkey, water, crush, red, pepper, flakes, corn, starch]                                       |(3190,[0,2,3,4,5,6,7,13,14,19,20,24,34,35,39,44,48,50,80,87,93,98,102,104,108,129,203,352],[2.0,2.0,1.0,1.0,1.0,1.0,1.0,1.0,1.0,1.0,1.0,1.0,1.0,1.0,1.0,1.0,1.0,1.0,1.0,1.0,1.0,1.0,1.0,1.0,1.0,1.0,1.0,1.0])                                 |(3190,[0,2,3,4,5,6,7,13,14,19,20,24,34,35,39,44,48,50,80,87,93,98,102,104,108,129,203,352],[1.4446196689680229,1.2742448868163736,0.7830975468406504,1.1078870497852344,1.1131383288734327,1.3442880081916109,1.2743544391312225,1.447311264056038,1.5815514518806513,1.6462921124364231,1.7896498273859838,1.831958153953225,2.0222004443355344,2.080709466378001,2.154408554593306,2.2658382463503637,2.630745062793221,2.553132646767826,2.9455055386074864,3.0074460602704747,3.0342573177211314,3.04223217635589,3.0830892887845263,3.1288988248158205,3.1846525163976587,3.4178071389908458,4.204793189624273,5.012024057414591])                                                                                      |4.0  |0.7439955106621773 |\n",
            "|italian    |2698 |Italian parsley leaves, walnuts, hot red pepper flakes, extra-virgin olive oil, fresh lemon juice, trout fillet, garlic cloves, chipotle chile, fine sea salt, flat leaf parsley                                                                |10  |[italian, parsley, leaves, walnuts, hot, red, pepper, flakes, extra-virgin, olive, oil, fresh, lemon, juice, trout, fillet, garlic, cloves, chipotle, chile, fine, sea, salt, flat, leaf, parsley]                                                             |[italian, parsley, leaves, walnuts, hot, red, pepper, flakes, extra-virgin, olive, oil, fresh, lemon, juice, trout, fillet, garlic, cloves, chipotle, chile, fine, sea, salt, flat, leaf, parsley]                                                             |(3190,[0,1,2,3,5,10,14,23,26,31,36,46,63,73,86,96,102,113,123,142,275,281,390,461,939],[1.0,1.0,1.0,1.0,1.0,1.0,1.0,1.0,1.0,1.0,1.0,2.0,1.0,1.0,1.0,1.0,1.0,1.0,1.0,1.0,1.0,1.0,1.0,1.0,1.0])                                                 |(3190,[0,1,2,3,5,10,14,23,26,31,36,46,63,73,86,96,102,113,123,142,275,281,390,461,939],[0.7223098344840114,0.5143987112326711,0.6371224434081868,0.7830975468406504,1.1131383288734327,1.3116549714045316,1.5815514518806513,1.7830483510924975,1.8547022891747234,2.060928952247527,2.175794119818949,4.577565357418046,2.675285682095328,2.8995247237509747,2.9813349162667886,3.0545282820947506,3.0830892887845263,3.302617784400788,3.4388866547818995,3.577083406666916,4.625878309709064,4.6764153787054195,5.182930650970288,5.471808180826843,6.963994831081595])                                                                                                                                                   |0.0  |0.25372544016330695|\n",
            "|mexican    |41995|ground cinnamon, fresh cilantro, chili powder, ground coriander, kosher salt, ground black pepper, garlic, plum tomatoes, avocado, lime juice, flank steak, salt, ground cumin, black pepper, olive oil, crushed red pepper flakes, onions      |17  |[ground, cinnamon, fresh, cilantro, chili, powder, ground, coriander, kosher, salt, ground, black, pepper, garlic, plum, tomatoes, avocado, lime, juice, flank, steak, salt, ground, cumin, black, pepper, olive, oil, crush, red, pepper, flakes, onion]      |[ground, cinnamon, fresh, cilantro, chili, powder, ground, coriander, kosher, salt, ground, black, pepper, garlic, plum, tomatoes, avocado, lime, juice, flank, steak, salt, ground, cumin, black, pepper, olive, oil, crush, red, pepper, flakes, onion]      |(3190,[0,1,2,3,4,5,10,11,14,15,17,21,23,29,38,41,43,51,68,81,87,102,131,157,191,355],[3.0,2.0,1.0,1.0,4.0,1.0,1.0,2.0,1.0,1.0,1.0,1.0,1.0,1.0,1.0,1.0,1.0,1.0,1.0,1.0,1.0,1.0,1.0,1.0,1.0,1.0])                                               |(3190,[0,1,2,3,4,5,10,11,14,15,17,21,23,29,38,41,43,51,68,81,87,102,131,157,191,355],[2.1669295034520344,1.0287974224653422,0.6371224434081868,0.7830975468406504,4.431548199140938,1.1131383288734327,1.3116549714045316,2.751262335574472,1.5815514518806513,1.5096743980907728,1.693289227317007,1.6307622423982542,1.7830483510924975,1.9455883922604527,2.235666012958518,2.178633014557374,2.277735022451612,2.5163498064107914,2.749820471880851,2.962092225525764,3.0074460602704747,3.0830892887845263,3.4370087199576993,3.76228680983576,4.077175474789798,5.039590887247245])                                                                                                                                    |1.0  |0.30890027958993477|\n",
            "|italian    |31908|fresh parmesan cheese, butter, all-purpose flour, fat free less sodium chicken broth, chopped fresh chives, gruyere cheese, ground black pepper, bacon slices, gnocchi, fat free milk, cooking spray, salt                                      |12  |[fresh, parmesan, cheese, butter, all-purpose, flour, fat, free, less, sodium, chicken, broth, chop, fresh, chives, gruyere, cheese, ground, black, pepper, bacon, slices, gnocchi, fat, free, milk, cook, spray, salt]                                        |[fresh, parmesan, cheese, butter, all-purpose, flour, fat, free, less, sodium, chicken, broth, chop, fresh, chives, gruyere, cheese, ground, black, pepper, bacon, slices, gnocchi, fat, free, milk, cook, spray, salt]                                        |(3190,[0,1,4,5,8,9,11,16,18,22,30,40,42,47,59,80,89,114,137,167,212,221,250,579,772],[1.0,1.0,1.0,2.0,2.0,1.0,1.0,1.0,1.0,1.0,1.0,1.0,1.0,1.0,1.0,1.0,1.0,2.0,1.0,2.0,1.0,1.0,1.0,1.0,1.0])                                                   |(3190,[0,1,4,5,8,9,11,16,18,22,30,40,42,47,59,80,89,114,137,167,212,221,250,579,772],[0.7223098344840114,0.5143987112326711,1.1078870497852344,2.2262766577468653,2.9181916796324248,1.4525412669748872,1.375631167787236,1.564389058458636,1.5513993820224226,1.7750649902526918,1.9662076794631882,2.1449150855199184,2.196741980958391,2.3652280821287106,2.62157196163948,2.9455055386074864,2.9853079052035643,6.735114667267857,3.4956028842237523,7.751715897549388,4.222468700782995,4.299429741919124,4.500594386514559,5.901487547055601,6.4834090925053225])                                                                                                                                                      |0.0  |0.25372544016330695|\n",
            "|indian     |24717|tumeric, vegetable stock, tomatoes, garam masala, naan, red lentils, red chili peppers, onions, spinach, sweet potatoes                                                                                                                         |10  |[tumeric, vegetable, stock, tomatoes, garam, masala, naan, red, lentils, red, chili, peppers, onions, spinach, sweet, potato]                                                                                                                                  |[tumeric, vegetable, stock, tomatoes, garam, masala, naan, red, lentils, red, chili, peppers, onions, spinach, sweet, potato]                                                                                                                                  |(3190,[12,14,21,32,43,95,112,121,122,144,155,174,215,328,904],[1.0,2.0,1.0,1.0,1.0,1.0,1.0,1.0,1.0,1.0,1.0,1.0,1.0,1.0,1.0])                                                                                                                  |(3190,[12,14,21,32,43,95,112,121,122,144,155,174,215,328,904],[1.409387256334133,3.1631029037613025,1.6307622423982542,1.9729834568463887,2.277735022451612,3.040968752309118,3.244730640340942,3.3675573336339286,3.36930915889946,3.6463332484752096,3.738333568813267,3.943051138181108,4.229351040405938,4.916988565154913,6.882316800067328])                                                                                                                                                                                                                                                                                                                                                                           |3.0  |0.6622377622377622 |\n",
            "|british    |34466|greek yogurt, lemon curd, confectioners sugar, raspberries                                                                                                                                                                                      |4   |[greek, yogurt, lemon, curd, confectioner, sugar, raspberry]                                                                                                                                                                                                   |[greek, yogurt, lemon, curd, confectioner, sugar, raspberry]                                                                                                                                                                                                   |(3190,[7,31,139,239,264,649,774],[1.0,1.0,1.0,1.0,1.0,1.0,1.0])                                                                                                                                                                               |(3190,[7,31,139,239,264,649,774],[1.2743544391312225,2.060928952247527,3.5218052566177764,4.395777496855442,4.595542313099925,6.208972246803563,6.496654319255343])                                                                                                                                                                                                                                                                                                                                                                                                                                                                                                                                                          |14.0 |2.473507462686567  |\n",
            "|italian    |1420 |italian seasoning, broiler-fryer chicken, mayonaise, zesty italian dressing                                                                                                                                                                     |4   |[italian, seasoning, broiler-fryer, chicken, mayonaise, zesty, italian, dress]                                                                                                                                                                                 |[italian, seasoning, broiler-fryer, chicken, mayonaise, zesty, italian, dress]                                                                                                                                                                                 |(3190,[9,110,123,171,691,1150,1666],[1.0,1.0,2.0,1.0,1.0,1.0,1.0])                                                                                                                                                                            |(3190,[9,110,123,171,691,1150,1666],[1.4525412669748872,3.2263252127982267,6.877773309563799,3.9225165357394003,6.281542939638398,7.518305566787324,8.511557339797609])                                                                                                                                                                                                                                                                                                                                                                                                                                                                                                                                                      |0.0  |0.25372544016330695|\n",
            "|thai       |2941 |sugar, hot chili, asian fish sauce, lime juice                                                                                                                                                                                                  |4   |[sugar, hot, chili, asian, fish, sauce, lime, juice]                                                                                                                                                                                                           |[sugar, hot, chili, asian, fish, sauce, lime, juice]                                                                                                                                                                                                           |(3190,[6,7,23,38,43,96,101,359],[1.0,1.0,1.0,1.0,1.0,1.0,1.0,1.0])                                                                                                                                                                            |(3190,[6,7,23,38,43,96,101,359],[1.3442880081916109,1.2743544391312225,1.7830483510924975,2.235666012958518,2.277735022451612,3.0545282820947506,3.083528366727914,5.067939242251501])                                                                                                                                                                                                                                                                                                                                                                                                                                                                                                                                       |7.0  |1.2922027290448344 |\n",
            "|vietnamese |8152 |soy sauce, vegetable oil, red bell pepper, chicken broth, yellow squash, garlic chili sauce, sliced green onions, broccolini, salt, fresh lime juice, cooked rice, chicken breasts, corn starch                                                 |13  |[soy, sauce, vegetable, oil, red, bell, pepper, chicken, broth, yellow, squash, garlic, chili, sauce, slice, green, onions, broccolini, salt, fresh, lime, juice, cook, rice, chicken, breasts, corn, starch]                                                  |[soy, sauce, vegetable, oil, red, bell, pepper, chicken, broth, yellow, squash, garlic, chili, sauce, slice, green, onions, broccolini, salt, fresh, lime, juice, cook, rice, chicken, breasts, corn, starch]                                                  |(3190,[0,1,2,3,5,6,9,12,14,19,23,28,32,35,38,39,42,43,45,47,75,90,93,115,253,1134],[1.0,1.0,1.0,1.0,1.0,2.0,2.0,1.0,1.0,1.0,1.0,1.0,1.0,1.0,1.0,1.0,1.0,1.0,1.0,1.0,1.0,1.0,1.0,1.0,1.0,1.0])                                                 |(3190,[0,1,2,3,5,6,9,12,14,19,23,28,32,35,38,39,42,43,45,47,75,90,93,115,253,1134],[0.7223098344840114,0.5143987112326711,0.6371224434081868,0.7830975468406504,1.1131383288734327,2.6885760163832217,2.9050825339497743,1.409387256334133,1.5815514518806513,1.6462921124364231,1.7830483510924975,1.9559159934266408,1.9729834568463887,2.080709466378001,2.235666012958518,2.154408554593306,2.196741980958391,2.277735022451612,2.3947826017241796,2.3652280821287106,2.8846559094773645,2.9869015310388423,3.0342573177211314,3.3422103545465314,4.498784431269319,7.481937922616449])                                                                                                                                  |12.0 |2.4105454545454545 |\n",
            "+-----------+-----+------------------------------------------------------------------------------------------------------------------------------------------------------------------------------------------------------------------------------------------------+----+---------------------------------------------------------------------------------------------------------------------------------------------------------------------------------------------------------------------------------------------------------------+---------------------------------------------------------------------------------------------------------------------------------------------------------------------------------------------------------------------------------------------------------------+----------------------------------------------------------------------------------------------------------------------------------------------------------------------------------------------------------------------------------------------+-----------------------------------------------------------------------------------------------------------------------------------------------------------------------------------------------------------------------------------------------------------------------------------------------------------------------------------------------------------------------------------------------------------------------------------------------------------------------------------------------------------------------------------------------------------------------------------------------------------------------------------------------------------------------------------------------------------------------------+-----+-------------------+\n",
            "only showing top 20 rows\n",
            "\n"
          ]
        }
      ],
      "source": [
        "next_df.show(truncate=False)"
      ],
      "id": "OniFUlQuD_ZM"
    },
    {
      "cell_type": "code",
      "source": [
        "#some special for baseline\n",
        "next_df = next_df.withColumn(\"norm\", F.concat_ws(', ' ,F.col(\"normalized\")))\n",
        "next_df = next_df.withColumn(\"labels\", F.array(next_df[\"cuisine\"]))\n",
        "\n",
        "emb_assembler = DocumentAssembler()\\\n",
        "    .setInputCol('norm')\\\n",
        "    .setOutputCol('docs')\n",
        "\n",
        "embeddings = UniversalSentenceEncoder.pretrained() \\\n",
        "  .setInputCols([\"docs\"])\\\n",
        "  .setOutputCol(\"embeddings\")\n",
        "\n",
        "emb_pipeline = Pipeline(stages=[\n",
        "                            emb_assembler,\n",
        "                            embeddings\n",
        "                            ]\n",
        "                        )\n",
        "\n",
        "emb_pipelinefit = emb_pipeline.fit(next_df)\n",
        "next_df = emb_pipelinefit.transform(next_df)"
      ],
      "metadata": {
        "colab": {
          "base_uri": "https://localhost:8080/"
        },
        "id": "D_Wg8QHcaY3X",
        "outputId": "b32f43e4-dbe9-4271-8484-3a12d10796f8"
      },
      "id": "D_Wg8QHcaY3X",
      "execution_count": 28,
      "outputs": [
        {
          "output_type": "stream",
          "name": "stdout",
          "text": [
            "tfhub_use download started this may take some time.\n",
            "Approximate size to download 923.7 MB\n",
            "[OK!]\n"
          ]
        }
      ]
    },
    {
      "cell_type": "code",
      "source": [
        "docClassifier = ClassifierDLApproach() \\\n",
        "                .setInputCols(\"embeddings\") \\\n",
        "                .setOutputCol(\"category\") \\\n",
        "                .setLabelColumn(\"cuisine\") \\\n",
        "                .setBatchSize(256) \\\n",
        "                .setMaxEpochs(30) \\\n",
        "                .setLr(1e-3) \\\n",
        "                .setValidationSplit(0.1) \\\n",
        "                .setRandomSeed(8) \\\n",
        "                .setEnableOutputLogs(True)"
      ],
      "metadata": {
        "id": "tPwmikwL2Pod"
      },
      "id": "tPwmikwL2Pod",
      "execution_count": 27,
      "outputs": []
    },
    {
      "cell_type": "code",
      "source": [
        "docClassifiermodel = docClassifier.fit(next_df)"
      ],
      "metadata": {
        "id": "K2rqDzBK2jCv"
      },
      "id": "K2rqDzBK2jCv",
      "execution_count": 28,
      "outputs": []
    },
    {
      "cell_type": "code",
      "source": [
        "! ls -l ~/annotator_logs/"
      ],
      "metadata": {
        "colab": {
          "base_uri": "https://localhost:8080/"
        },
        "id": "Qye44K-rmEog",
        "outputId": "60230716-e427-495a-ed31-99c8e95262a5"
      },
      "id": "Qye44K-rmEog",
      "execution_count": 29,
      "outputs": [
        {
          "output_type": "stream",
          "name": "stdout",
          "text": [
            "total 4\n",
            "-rw-r--r-- 1 root root 2838 Dec 24 17:41 ClassifierDLApproach_f9b8aea789f6.log\n"
          ]
        }
      ]
    },
    {
      "cell_type": "code",
      "source": [
        "import os\n",
        "log_file_name = os.listdir(\"/root/annotator_logs\")[0]\n",
        "\n",
        "with open(\"/root/annotator_logs/\"+log_file_name, \"r\") as log_file :\n",
        "    print(log_file.read())"
      ],
      "metadata": {
        "colab": {
          "base_uri": "https://localhost:8080/"
        },
        "id": "konBMWbjksYF",
        "outputId": "54003a02-59a6-479e-f317-25e464d059f1"
      },
      "id": "konBMWbjksYF",
      "execution_count": 30,
      "outputs": [
        {
          "output_type": "stream",
          "name": "stdout",
          "text": [
            "Training started - epochs: 30 - learning_rate: 0.001 - batch_size: 256 - training_examples: 35797 - classes: 20\n",
            "Epoch 0/30 - 9.78s - loss: 393.5794 - acc: 0.28901052 - val_acc: 33.643448 - batches: 140\n",
            "Epoch 1/30 - 9.30s - loss: 387.81805 - acc: 0.33622274 - val_acc: 33.894897 - batches: 140\n",
            "Epoch 2/30 - 8.94s - loss: 388.7957 - acc: 0.35591152 - val_acc: 36.585365 - batches: 140\n",
            "Epoch 3/30 - 9.03s - loss: 387.5734 - acc: 0.3767917 - val_acc: 37.993465 - batches: 140\n",
            "Epoch 4/30 - 9.55s - loss: 386.85504 - acc: 0.38520002 - val_acc: 38.446064 - batches: 140\n",
            "Epoch 5/30 - 9.19s - loss: 386.41275 - acc: 0.38973588 - val_acc: 38.69751 - batches: 140\n",
            "Epoch 6/30 - 9.08s - loss: 386.13052 - acc: 0.39271474 - val_acc: 38.974102 - batches: 140\n",
            "Epoch 7/30 - 8.96s - loss: 385.9045 - acc: 0.3943447 - val_acc: 38.948956 - batches: 140\n",
            "Epoch 8/30 - 9.18s - loss: 385.69308 - acc: 0.39547446 - val_acc: 39.049538 - batches: 140\n",
            "Epoch 9/30 - 8.61s - loss: 385.4787 - acc: 0.39680663 - val_acc: 39.07468 - batches: 140\n",
            "Epoch 10/30 - 9.39s - loss: 385.2532 - acc: 0.3978745 - val_acc: 39.12497 - batches: 140\n",
            "Epoch 11/30 - 8.93s - loss: 385.01407 - acc: 0.3988076 - val_acc: 39.30098 - batches: 140\n",
            "Epoch 12/30 - 9.10s - loss: 384.78555 - acc: 0.39983064 - val_acc: 39.401558 - batches: 140\n",
            "Epoch 13/30 - 9.17s - loss: 384.57184 - acc: 0.40070182 - val_acc: 39.527283 - batches: 140\n",
            "Epoch 14/30 - 9.15s - loss: 384.38126 - acc: 0.40134817 - val_acc: 39.602715 - batches: 140\n",
            "Epoch 15/30 - 9.06s - loss: 384.21472 - acc: 0.40210694 - val_acc: 39.527283 - batches: 140\n",
            "Epoch 16/30 - 9.12s - loss: 384.07147 - acc: 0.40292192 - val_acc: 39.602715 - batches: 140\n",
            "Epoch 17/30 - 8.80s - loss: 383.94577 - acc: 0.40342775 - val_acc: 39.753582 - batches: 140\n",
            "Epoch 18/30 - 9.06s - loss: 383.83173 - acc: 0.40368068 - val_acc: 39.72844 - batches: 140\n",
            "Epoch 19/30 - 9.14s - loss: 383.72946 - acc: 0.40419218 - val_acc: 39.753582 - batches: 140\n",
            "Epoch 20/30 - 9.12s - loss: 383.63696 - acc: 0.4045575 - val_acc: 39.753582 - batches: 140\n",
            "Epoch 21/30 - 8.87s - loss: 383.55283 - acc: 0.40472612 - val_acc: 39.72844 - batches: 140\n",
            "Epoch 22/30 - 8.97s - loss: 383.47516 - acc: 0.40503526 - val_acc: 39.703293 - batches: 140\n",
            "Epoch 23/30 - 9.18s - loss: 383.40375 - acc: 0.40509146 - val_acc: 39.703293 - batches: 140\n",
            "Epoch 24/30 - 8.92s - loss: 383.33694 - acc: 0.40551868 - val_acc: 39.703293 - batches: 140\n",
            "Epoch 25/30 - 8.95s - loss: 383.27475 - acc: 0.4057716 - val_acc: 39.703293 - batches: 140\n",
            "Epoch 26/30 - 8.96s - loss: 383.21698 - acc: 0.405884 - val_acc: 39.72844 - batches: 140\n",
            "Epoch 27/30 - 9.10s - loss: 383.16223 - acc: 0.40610883 - val_acc: 39.72844 - batches: 140\n",
            "Epoch 28/30 - 9.07s - loss: 383.11072 - acc: 0.40627745 - val_acc: 39.72844 - batches: 140\n",
            "Epoch 29/30 - 9.25s - loss: 383.06186 - acc: 0.40653038 - val_acc: 39.72844 - batches: 140\n",
            "\n"
          ]
        }
      ]
    },
    {
      "cell_type": "code",
      "execution_count": 24,
      "metadata": {
        "colab": {
          "base_uri": "https://localhost:8080/"
        },
        "id": "8DQGbSI65GBF",
        "outputId": "9a1abb90-f741-46d7-d9ab-f054331d02dc"
      },
      "outputs": [
        {
          "output_type": "stream",
          "name": "stdout",
          "text": [
            "We have 27961 training examples and 11813 test examples.\n"
          ]
        }
      ],
      "source": [
        "(trainingData, testData) = next_df.randomSplit([0.7, 0.3], seed = 8)\n",
        "\n",
        "print(\"We have %d training examples and %d test examples.\" % (trainingData.count(), testData.count()))"
      ],
      "id": "8DQGbSI65GBF"
    },
    {
      "cell_type": "code",
      "source": [
        "# sub_next_df = sub_next_df.withColumn(\"norm\", F.concat_ws(', ' ,F.col(\"normalized\")))\n",
        "\n",
        "# emb_sub = Pipeline(stages=[\n",
        "#                             emb_assembler,\n",
        "#                             embeddings\n",
        "#                             ]\n",
        "#                     )\n",
        "\n",
        "# emb_subfit = emb_sub.fit(sub_next_df)\n",
        "# sub_next_df = emb_subfit.transform(sub_next_df)\n",
        "\n",
        "# doc_pred = docClassifiermodel.transform(sub_next_df)"
      ],
      "metadata": {
        "id": "sTOrSo6rl5GX"
      },
      "id": "sTOrSo6rl5GX",
      "execution_count": 125,
      "outputs": []
    },
    {
      "cell_type": "code",
      "source": [
        "evaluator = MulticlassClassificationEvaluator(predictionCol=\"prediction\", metricName=\"accuracy\")"
      ],
      "metadata": {
        "id": "xV-gjCI1IDGL"
      },
      "id": "xV-gjCI1IDGL",
      "execution_count": 25,
      "outputs": []
    },
    {
      "cell_type": "code",
      "source": [
        "idx_to_string = IndexToString(\n",
        "    inputCol=\"prediction\", outputCol=\"cuisine\", labels=label_Idx.labels)"
      ],
      "metadata": {
        "id": "-CA_7gCGwJnS"
      },
      "id": "-CA_7gCGwJnS",
      "execution_count": 26,
      "outputs": []
    },
    {
      "cell_type": "code",
      "source": [
        "count_nb = NaiveBayes(featuresCol=\"count_features\", smoothing=0.2, modelType=\"multinomial\")\n",
        "count_nbmodel = count_nb.fit(trainingData)\n",
        "nbCountPredictions = count_nbmodel.transform(testData)\n",
        "evaluator.evaluate(nbCountPredictions)"
      ],
      "metadata": {
        "id": "s2g22xOBnT2g",
        "colab": {
          "base_uri": "https://localhost:8080/"
        },
        "outputId": "86e9ef3a-ccbb-42a6-906a-5b34eb8d39a2"
      },
      "id": "s2g22xOBnT2g",
      "execution_count": 130,
      "outputs": [
        {
          "output_type": "execute_result",
          "data": {
            "text/plain": [
              "0.7160755100313214"
            ]
          },
          "metadata": {},
          "execution_count": 130
        }
      ]
    },
    {
      "cell_type": "code",
      "source": [
        "count_nbmodel_sub = count_nb.fit(next_df)\n",
        "count_nbmodel_pred = count_nbmodel_sub.transform(next_sub)\n",
        "count_nbmodel_sub = idx_to_string.transform(count_nbmodel_pred)\n",
        "sub_count_nb = count_nbmodel_sub.select(\"id\", \"cuisine\")\n",
        "sub_count_nb.write.csv('/content/sub_count_nb.csv', header=True)"
      ],
      "metadata": {
        "id": "j9NlpR2fulMu"
      },
      "id": "j9NlpR2fulMu",
      "execution_count": 134,
      "outputs": []
    },
    {
      "cell_type": "code",
      "source": [
        "! kaggle competitions submit -c whats-cooking -f /content/sub_count_nb.csv/part-00000-b6a658c4-13ff-434d-b8c4-1fbf8232d7fd-c000.csv -m \"final count_nb sub\""
      ],
      "metadata": {
        "colab": {
          "base_uri": "https://localhost:8080/"
        },
        "id": "yMIirhpjDye9",
        "outputId": "23eb5d2b-01d1-4fb6-db89-8c9dc8ce9279"
      },
      "id": "yMIirhpjDye9",
      "execution_count": 136,
      "outputs": [
        {
          "output_type": "stream",
          "name": "stdout",
          "text": [
            "Warning: Looks like you're using an outdated API Version, please consider updating (server 1.5.12 / client 1.5.4)\n",
            "100% 139k/139k [00:01<00:00, 85.1kB/s]\n",
            "Successfully submitted to What's Cooking?"
          ]
        }
      ]
    },
    {
      "cell_type": "markdown",
      "source": [
        "##kaggle.com - 0.71962"
      ],
      "metadata": {
        "id": "723aExWOt3S_"
      },
      "id": "723aExWOt3S_"
    },
    {
      "cell_type": "code",
      "source": [
        "tfidf_nb = NaiveBayes(featuresCol=\"tfidf_features\", smoothing=0.2, modelType=\"multinomial\")\n",
        "tfidf_nbmodel = tfidf_nb.fit(trainingData)\n",
        "nbTfIdfPredictions = tfidf_nbmodel.transform(testData)\n",
        "evaluator.evaluate(nbTfIdfPredictions)"
      ],
      "metadata": {
        "id": "zrbTSbHImHS8",
        "colab": {
          "base_uri": "https://localhost:8080/"
        },
        "outputId": "dc2e74a7-75c6-40d5-fccb-57c9a872152b"
      },
      "id": "zrbTSbHImHS8",
      "execution_count": 138,
      "outputs": [
        {
          "output_type": "execute_result",
          "data": {
            "text/plain": [
              "0.7004994497587403"
            ]
          },
          "metadata": {},
          "execution_count": 138
        }
      ]
    },
    {
      "cell_type": "code",
      "source": [
        "tfidf_nbmodel_sub = tfidf_nb.fit(next_df)\n",
        "tfidf_nbmodel_pred = tfidf_nbmodel_sub.transform(next_sub)\n",
        "tfidf_nbmodel_sub = idx_to_string.transform(tfidf_nbmodel_pred)\n",
        "sub_tfidf_nb = tfidf_nbmodel_sub.select(\"id\", \"cuisine\")\n",
        "sub_tfidf_nb.write.csv('/content/sub_tfidf_nb.csv', header=True)"
      ],
      "metadata": {
        "id": "EcK3LzIJZzjr"
      },
      "id": "EcK3LzIJZzjr",
      "execution_count": 142,
      "outputs": []
    },
    {
      "cell_type": "code",
      "source": [
        "! kaggle competitions submit -c whats-cooking -f /content/sub_tfidf_nb.csv/part-00000-76eab513-87c4-4193-9a7c-1182f94dfe98-c000.csv -m \"final tfidf_nb sub\""
      ],
      "metadata": {
        "colab": {
          "base_uri": "https://localhost:8080/"
        },
        "id": "fDUeW0SoFQKM",
        "outputId": "cd0515fc-5305-4d55-dbbf-5f227bde1dd5"
      },
      "id": "fDUeW0SoFQKM",
      "execution_count": 143,
      "outputs": [
        {
          "output_type": "stream",
          "name": "stdout",
          "text": [
            "Warning: Looks like you're using an outdated API Version, please consider updating (server 1.5.12 / client 1.5.4)\n",
            "100% 138k/138k [00:01<00:00, 73.7kB/s]\n",
            "Successfully submitted to What's Cooking?"
          ]
        }
      ]
    },
    {
      "cell_type": "markdown",
      "source": [
        "##kaggle.com - 0.70625"
      ],
      "metadata": {
        "id": "0Iv4-ClQGX_T"
      },
      "id": "0Iv4-ClQGX_T"
    },
    {
      "cell_type": "code",
      "source": [
        "count_lr = LogisticRegression(featuresCol=\"count_features\",\n",
        "                        maxIter=13, \n",
        "                        regParam=0.1,\n",
        "                        family = \"multinomial\", \n",
        "                        elasticNetParam=0, \n",
        "                        tol=0.001, \n",
        "                        fitIntercept=True, \n",
        "                        weightCol=\"weight\")\n",
        "count_lrModel = count_lr.fit(trainingData)\n",
        "count_lr_predictions = count_lrModel.transform(testData)\n",
        "evaluator.evaluate(count_lr_predictions)"
      ],
      "metadata": {
        "colab": {
          "base_uri": "https://localhost:8080/"
        },
        "id": "9nvVZwJGKLkR",
        "outputId": "b98c7c02-8556-415d-992b-ec787597ff04"
      },
      "id": "9nvVZwJGKLkR",
      "execution_count": 152,
      "outputs": [
        {
          "output_type": "execute_result",
          "data": {
            "text/plain": [
              "0.7338525353424193"
            ]
          },
          "metadata": {},
          "execution_count": 152
        }
      ]
    },
    {
      "cell_type": "code",
      "source": [
        "count_lr = LogisticRegression(featuresCol=\"count_features\",\n",
        "                        maxIter=13, \n",
        "                        regParam=0.1,\n",
        "                        family = \"multinomial\", \n",
        "                        elasticNetParam=0, \n",
        "                        tol=0.001, \n",
        "                        fitIntercept=True)#, \n",
        "                        # weightCol=\"weight\")\n",
        "count_lrModel = count_lr.fit(trainingData)\n",
        "count_lr_predictions = count_lrModel.transform(testData)\n",
        "evaluator.evaluate(count_lr_predictions)"
      ],
      "metadata": {
        "colab": {
          "base_uri": "https://localhost:8080/"
        },
        "id": "6Wp79eG0GXIW",
        "outputId": "9f34e3ec-47c4-4831-e3b6-a624770b2594"
      },
      "id": "6Wp79eG0GXIW",
      "execution_count": 148,
      "outputs": [
        {
          "output_type": "execute_result",
          "data": {
            "text/plain": [
              "0.7452806230424109"
            ]
          },
          "metadata": {},
          "execution_count": 148
        }
      ]
    },
    {
      "cell_type": "code",
      "source": [
        "count_lrmodel_sub = count_lr.fit(next_df)\n",
        "count_lrmodel_pred = count_lrmodel_sub.transform(next_sub)\n",
        "count_lrmodel_sub = idx_to_string.transform(count_lrmodel_pred)\n",
        "sub_count_lr = count_lrmodel_sub.select(\"id\", \"cuisine\")\n",
        "sub_count_lr.write.csv('/content/sub_count_lr.csv', header=True)"
      ],
      "metadata": {
        "id": "fzRhxp5NGXLS"
      },
      "id": "fzRhxp5NGXLS",
      "execution_count": 146,
      "outputs": []
    },
    {
      "cell_type": "code",
      "source": [
        "! kaggle competitions submit -c whats-cooking -f /content/sub_count_lr.csv/part-00000-b5cf9701-4748-4d4a-8ad5-4b97da8b3566-c000.csv -m \"final count_lr sub\""
      ],
      "metadata": {
        "colab": {
          "base_uri": "https://localhost:8080/"
        },
        "id": "KrCCJkWNGXOW",
        "outputId": "8927c7c8-c325-4091-e231-bbab4b8fa9ee"
      },
      "id": "KrCCJkWNGXOW",
      "execution_count": 147,
      "outputs": [
        {
          "output_type": "stream",
          "name": "stdout",
          "text": [
            "Warning: Looks like you're using an outdated API Version, please consider updating (server 1.5.12 / client 1.5.4)\n",
            "100% 139k/139k [00:01<00:00, 80.2kB/s]\n",
            "Successfully submitted to What's Cooking?"
          ]
        }
      ]
    },
    {
      "cell_type": "markdown",
      "source": [
        "##kaggle.com - 0.74416"
      ],
      "metadata": {
        "id": "mXk8S4uxHmOx"
      },
      "id": "mXk8S4uxHmOx"
    },
    {
      "cell_type": "code",
      "source": [
        "tfidf_lr = LogisticRegression(featuresCol=\"tfidf_features\",\n",
        "                        maxIter=13, \n",
        "                        regParam=0.1,\n",
        "                        family = \"multinomial\", \n",
        "                        elasticNetParam=0, \n",
        "                        tol=0.001, \n",
        "                        fitIntercept=True)\n",
        "tfidf_lrModel = tfidf_lr.fit(trainingData)\n",
        "tfidf_lr_predictions = tfidf_lrModel.transform(testData)\n",
        "evaluator.evaluate(tfidf_lr_predictions)"
      ],
      "metadata": {
        "colab": {
          "base_uri": "https://localhost:8080/"
        },
        "id": "VIKKzOcVGXRB",
        "outputId": "47660b56-f028-4056-c1d0-af8435e99092"
      },
      "id": "VIKKzOcVGXRB",
      "execution_count": 154,
      "outputs": [
        {
          "output_type": "execute_result",
          "data": {
            "text/plain": [
              "0.7452806230424109"
            ]
          },
          "metadata": {},
          "execution_count": 154
        }
      ]
    },
    {
      "cell_type": "code",
      "source": [
        "tfidf_lrmodel_sub = tfidf_lr.fit(next_df)\n",
        "tfidf_lrmodel_pred = tfidf_lrmodel_sub.transform(next_sub)\n",
        "tfidf_lrmodel_sub = idx_to_string.transform(tfidf_lrmodel_pred)\n",
        "sub_tfidf_lr = count_lrmodel_sub.select(\"id\", \"cuisine\")\n",
        "sub_tfidf_lr.write.csv('/content/sub_tfidf_lr.csv', header=True)"
      ],
      "metadata": {
        "id": "Wpy1qwthGXT2"
      },
      "id": "Wpy1qwthGXT2",
      "execution_count": 155,
      "outputs": []
    },
    {
      "cell_type": "code",
      "source": [
        "! kaggle competitions submit -c whats-cooking -f /content/sub_tfidf_lr.csv/part-00000-3f5c1141-7a86-4fc0-8efe-d18a2e37044e-c000.csv -m \"final tfidf_lr sub\""
      ],
      "metadata": {
        "colab": {
          "base_uri": "https://localhost:8080/"
        },
        "id": "GcH7qSj8GXWG",
        "outputId": "d8413eb7-c859-493f-c015-77a9cac477cd"
      },
      "id": "GcH7qSj8GXWG",
      "execution_count": 156,
      "outputs": [
        {
          "output_type": "stream",
          "name": "stdout",
          "text": [
            "Warning: Looks like you're using an outdated API Version, please consider updating (server 1.5.12 / client 1.5.4)\n",
            "100% 139k/139k [00:02<00:00, 68.6kB/s]\n",
            "Successfully submitted to What's Cooking?"
          ]
        }
      ]
    },
    {
      "cell_type": "markdown",
      "source": [
        "##kaggle.com - 0.74416, such as count"
      ],
      "metadata": {
        "id": "fnHFScuxJPZj"
      },
      "id": "fnHFScuxJPZj"
    },
    {
      "cell_type": "code",
      "source": [
        "lsvc = LinearSVC(maxIter=20000, regParam=3)\n",
        "# gbt = GBTClassifier(maxIter=30, maxDepth=20)\n",
        "# fm = FMClassifier(factorSize=2)"
      ],
      "metadata": {
        "id": "nY-h0WiaJQBY"
      },
      "id": "nY-h0WiaJQBY",
      "execution_count": 18,
      "outputs": []
    },
    {
      "cell_type": "code",
      "source": [
        "count_ovr = OneVsRest(classifier=lsvc, featuresCol=\"count_features\", weightCol=\"weight\")"
      ],
      "metadata": {
        "id": "uv8OTQeSN9O4"
      },
      "id": "uv8OTQeSN9O4",
      "execution_count": 21,
      "outputs": []
    },
    {
      "cell_type": "code",
      "source": [
        "count_ovrModel = count_ovr.fit(trainingData)\n",
        "count_ovr_predictions = count_ovrModel.transform(testData)\n",
        "evaluator.evaluate(count_ovr_predictions)"
      ],
      "metadata": {
        "colab": {
          "base_uri": "https://localhost:8080/"
        },
        "id": "QxgtHlPCN9Rw",
        "outputId": "0196baf4-242d-4a39-d2c5-a6cc5dd7301b"
      },
      "id": "QxgtHlPCN9Rw",
      "execution_count": 22,
      "outputs": [
        {
          "output_type": "execute_result",
          "data": {
            "text/plain": [
              "0.7086260899009565"
            ]
          },
          "metadata": {},
          "execution_count": 22
        }
      ]
    },
    {
      "cell_type": "code",
      "source": [
        "count_ovrmodel_sub = count_ovr.fit(next_df)\n",
        "count_ovrmodel_pred = count_ovrmodel_sub.transform(next_sub)\n",
        "count_ovrmodel_sub = idx_to_string.transform(count_ovrmodel_pred)\n",
        "sub_count_ovr = count_ovrmodel_sub.select(\"id\", \"cuisine\")\n",
        "sub_count_ovr.write.csv('/content/sub_count_ovr.csv', header=True)"
      ],
      "metadata": {
        "id": "qb9XoZxXN9Uj"
      },
      "id": "qb9XoZxXN9Uj",
      "execution_count": 23,
      "outputs": []
    },
    {
      "cell_type": "code",
      "source": [
        "! kaggle competitions submit -c whats-cooking -f /content/sub_count_ovr.csv/part-00000-fbc282b0-3228-4454-a697-39d73f20c0dc-c000.csv -m \"final tfidf_lr sub\""
      ],
      "metadata": {
        "colab": {
          "base_uri": "https://localhost:8080/"
        },
        "id": "al15sS1bN9Xx",
        "outputId": "a1ab9f33-ec79-49f6-8906-f5f430ea2310"
      },
      "id": "al15sS1bN9Xx",
      "execution_count": 24,
      "outputs": [
        {
          "output_type": "stream",
          "name": "stdout",
          "text": [
            "Warning: Looks like you're using an outdated API Version, please consider updating (server 1.5.12 / client 1.5.4)\n",
            "100% 137k/137k [00:02<00:00, 69.6kB/s]\n",
            "Successfully submitted to What's Cooking?"
          ]
        }
      ]
    },
    {
      "cell_type": "markdown",
      "source": [
        "##kaggle.com - 0.71198"
      ],
      "metadata": {
        "id": "AVMLj6MGo7Km"
      },
      "id": "AVMLj6MGo7Km"
    },
    {
      "cell_type": "code",
      "source": [
        "tfidf_ovr = OneVsRest(classifier=lsvc, featuresCol=\"tfidf_features\", weightCol=\"weight\")"
      ],
      "metadata": {
        "id": "4ghkFB2mttQm"
      },
      "id": "4ghkFB2mttQm",
      "execution_count": 25,
      "outputs": []
    },
    {
      "cell_type": "code",
      "source": [
        "tfidf_ovrModel = tfidf_ovr.fit(trainingData)\n",
        "tfidf_ovr_predictions = tfidf_ovrModel.transform(testData)\n",
        "evaluator.evaluate(tfidf_ovr_predictions)"
      ],
      "metadata": {
        "colab": {
          "base_uri": "https://localhost:8080/"
        },
        "id": "yaoW8uvQttal",
        "outputId": "901881c1-9d8e-446a-e167-b1eea1b6c267"
      },
      "id": "yaoW8uvQttal",
      "execution_count": 26,
      "outputs": [
        {
          "output_type": "execute_result",
          "data": {
            "text/plain": [
              "0.7086260899009565"
            ]
          },
          "metadata": {},
          "execution_count": 26
        }
      ]
    },
    {
      "cell_type": "code",
      "source": [
        "tfidf_ovrmodel_sub = tfidf_ovr.fit(next_df)\n",
        "tfidf_ovrmodel_pred = tfidf_ovrmodel_sub.transform(next_sub)\n",
        "tfidf_ovrmodel_sub = idx_to_string.transform(tfidf_ovrmodel_pred)\n",
        "sub_tfidf_ovr = tfidf_ovrmodel_sub.select(\"id\", \"cuisine\")\n",
        "sub_tfidf_ovr.write.csv('/content/sub_tfidf_ovr.csv', header=True)"
      ],
      "metadata": {
        "id": "aeuJ3U6n2kZx"
      },
      "id": "aeuJ3U6n2kZx",
      "execution_count": 34,
      "outputs": []
    },
    {
      "cell_type": "code",
      "source": [
        "! kaggle competitions submit -c whats-cooking -f /content/sub_tfidf_ovr.csv/part-00000-f73d6de5-626d-4ac8-b2ac-437d02205ba9-c000.csv -m \"final tfidf_ovr(lsvc)+w sub\""
      ],
      "metadata": {
        "colab": {
          "base_uri": "https://localhost:8080/"
        },
        "id": "A1GOWCzq2-z9",
        "outputId": "a48633d1-bd3e-4863-b7a2-5b14de1edf66"
      },
      "id": "A1GOWCzq2-z9",
      "execution_count": 35,
      "outputs": [
        {
          "output_type": "stream",
          "name": "stdout",
          "text": [
            "Warning: Looks like you're using an outdated API Version, please consider updating (server 1.5.12 / client 1.5.4)\n",
            "100% 137k/137k [00:01<00:00, 84.1kB/s]\n",
            "Successfully submitted to What's Cooking?"
          ]
        }
      ]
    },
    {
      "cell_type": "markdown",
      "source": [
        "##kaggle.com - 0.71198"
      ],
      "metadata": {
        "id": "0Ettt_MM5tgc"
      },
      "id": "0Ettt_MM5tgc"
    },
    {
      "cell_type": "code",
      "source": [
        "fm = FMClassifier(factorSize=2)\n",
        "ovr = OneVsRest(classifier=fm, featuresCol=\"tfidf_features\")\n",
        "ovrModel = ovr.fit(trainingData)\n",
        "ovr_predictions = ovrModel.transform(testData)\n",
        "evaluator.evaluate(ovr_predictions)"
      ],
      "metadata": {
        "colab": {
          "base_uri": "https://localhost:8080/"
        },
        "id": "BW9xOdG56Rrg",
        "outputId": "c8b68e27-9fa4-4305-d05b-731c6c262d0f"
      },
      "id": "BW9xOdG56Rrg",
      "execution_count": 41,
      "outputs": [
        {
          "output_type": "stream",
          "name": "stderr",
          "text": [
            "/usr/local/lib/python3.7/dist-packages/pyspark/ml/classification.py:2550: UserWarning: weightCol is ignored, as it is not supported by FMClassifier_1a03ebe6d3da now.\n",
            "  \"as it is not supported by {} now.\".format(classifier))\n"
          ]
        },
        {
          "output_type": "execute_result",
          "data": {
            "text/plain": [
              "0.6793363243883856"
            ]
          },
          "metadata": {},
          "execution_count": 41
        }
      ]
    },
    {
      "cell_type": "markdown",
      "metadata": {
        "id": "O-JrzG71g9lw"
      },
      "source": [
        "#DL FLOW"
      ],
      "id": "O-JrzG71g9lw"
    },
    {
      "cell_type": "code",
      "execution_count": 27,
      "metadata": {
        "id": "ZKKOb9Sxg80W"
      },
      "outputs": [],
      "source": [
        "%tensorflow_version 2.x\n",
        "from tensorflow.keras.models import Sequential\n",
        "from tensorflow.keras.layers import Dense, Embedding, MaxPooling1D, Conv1D, GlobalMaxPooling1D, Dropout, LSTM, GRU, Flatten\n",
        "from tensorflow.keras import utils\n",
        "from tensorflow.keras.preprocessing.sequence import pad_sequences\n",
        "from tensorflow.keras.preprocessing.text import Tokenizer\n",
        "from tensorflow.keras.callbacks import ModelCheckpoint\n",
        "from tensorflow.keras import utils\n",
        "from sklearn.preprocessing import LabelEncoder\n",
        "%matplotlib inline "
      ],
      "id": "ZKKOb9Sxg80W"
    },
    {
      "cell_type": "code",
      "source": [
        "next_df.show()"
      ],
      "metadata": {
        "colab": {
          "base_uri": "https://localhost:8080/"
        },
        "id": "CSlBiGdBzzIx",
        "outputId": "71e7c5ba-aa21-4659-cd50-73cf1d956d2b"
      },
      "id": "CSlBiGdBzzIx",
      "execution_count": 28,
      "outputs": [
        {
          "output_type": "stream",
          "name": "stdout",
          "text": [
            "+-----------+-----+--------------------+----+--------------------+--------------------+--------------------+--------------------+-----+-------------------+\n",
            "|    cuisine|   id|         ingredients|size|          normalized|            filtered|      count_features|      tfidf_features|label|             weight|\n",
            "+-----------+-----+--------------------+----+--------------------+--------------------+--------------------+--------------------+-----+-------------------+\n",
            "|      greek|10259|romaine lettuce, ...|   9|[romaine, lettuce...|[romaine, lettuce...|(3190,[0,3,8,11,1...|(3190,[0,3,8,11,1...|  9.0| 1.6925106382978723|\n",
            "|southern_us|25693|plain flour, grou...|  11|[plain, flour, gr...|[plain, flour, gr...|(3190,[0,1,2,4,11...|(3190,[0,1,2,4,11...|  2.0|0.46034722222222224|\n",
            "|   filipino|20130|eggs, pepper, sal...|  12|[eggs, pepper, sa...|[eggs, pepper, sa...|(3190,[0,1,2,3,6,...|(3190,[0,1,2,3,6,...| 15.0|  2.634039735099338|\n",
            "|     indian|22213|water, vegetable ...|   4|[water, vegetable...|[water, vegetable...|(3190,[1,2,13,32,...|(3190,[1,2,13,32,...|  3.0| 0.6622377622377622|\n",
            "|     indian|13162|black pepper, sha...|  20|[black, pepper, s...|[black, pepper, s...|(3190,[0,1,2,3,4,...|(3190,[0,1,2,3,4,...|  3.0| 0.6622377622377622|\n",
            "|   jamaican| 6602|plain flour, suga...|  12|[plain, flour, su...|[plain, flour, su...|(3190,[1,4,5,7,16...|(3190,[1,4,5,7,16...| 17.0| 3.7807984790874523|\n",
            "|    spanish|42779|olive oil, salt, ...|  13|[olive, oil, salt...|[olive, oil, salt...|(3190,[0,1,2,3,10...|(3190,[0,1,2,3,10...| 10.0| 2.0108190091001013|\n",
            "|    italian| 3735|sugar, pistachio ...|  10|[sugar, pistachio...|[sugar, pistachio...|(3190,[2,7,10,16,...|(3190,[2,7,10,16,...|  0.0|0.25372544016330695|\n",
            "|    mexican|16903|olive oil, purple...|  13|[olive, oil, purp...|[olive, oil, purp...|(3190,[0,1,2,4,5,...|(3190,[0,1,2,4,5,...|  1.0|0.30890027958993477|\n",
            "|    italian|12734|chopped tomatoes,...|   6|[chop, tomatoes, ...|[chop, tomatoes, ...|(3190,[1,2,3,5,10...|(3190,[1,2,3,5,10...|  0.0|0.25372544016330695|\n",
            "|    italian| 5875|pimentos, sweet p...|  13|[pimentos, sweet,...|[pimentos, sweet,...|(3190,[0,2,3,8,10...|(3190,[0,2,3,8,10...|  0.0|0.25372544016330695|\n",
            "|    chinese|45887|low sodium soy sa...|  15|[low, sodium, soy...|[low, sodium, soy...|(3190,[0,2,3,4,5,...|(3190,[0,2,3,4,5,...|  4.0| 0.7439955106621773|\n",
            "|    italian| 2698|Italian parsley l...|  10|[italian, parsley...|[italian, parsley...|(3190,[0,1,2,3,5,...|(3190,[0,1,2,3,5,...|  0.0|0.25372544016330695|\n",
            "|    mexican|41995|ground cinnamon, ...|  17|[ground, cinnamon...|[ground, cinnamon...|(3190,[0,1,2,3,4,...|(3190,[0,1,2,3,4,...|  1.0|0.30890027958993477|\n",
            "|    italian|31908|fresh parmesan ch...|  12|[fresh, parmesan,...|[fresh, parmesan,...|(3190,[0,1,4,5,8,...|(3190,[0,1,4,5,8,...|  0.0|0.25372544016330695|\n",
            "|     indian|24717|tumeric, vegetabl...|  10|[tumeric, vegetab...|[tumeric, vegetab...|(3190,[12,14,21,3...|(3190,[12,14,21,3...|  3.0| 0.6622377622377622|\n",
            "|    british|34466|greek yogurt, lem...|   4|[greek, yogurt, l...|[greek, yogurt, l...|(3190,[7,31,139,2...|(3190,[7,31,139,2...| 14.0|  2.473507462686567|\n",
            "|    italian| 1420|italian seasoning...|   4|[italian, seasoni...|[italian, seasoni...|(3190,[9,110,123,...|(3190,[9,110,123,...|  0.0|0.25372544016330695|\n",
            "|       thai| 2941|sugar, hot chili,...|   4|[sugar, hot, chil...|[sugar, hot, chil...|(3190,[6,7,23,38,...|(3190,[6,7,23,38,...|  7.0| 1.2922027290448344|\n",
            "| vietnamese| 8152|soy sauce, vegeta...|  13|[soy, sauce, vege...|[soy, sauce, vege...|(3190,[0,1,2,3,5,...|(3190,[0,1,2,3,5,...| 12.0| 2.4105454545454545|\n",
            "+-----------+-----+--------------------+----+--------------------+--------------------+--------------------+--------------------+-----+-------------------+\n",
            "only showing top 20 rows\n",
            "\n"
          ]
        }
      ]
    },
    {
      "cell_type": "code",
      "execution_count": 29,
      "metadata": {
        "id": "oUBBocwXg84R"
      },
      "outputs": [],
      "source": [
        "train = next_df.select(\"cuisine\", \"id\", \"filtered\").toPandas()"
      ],
      "id": "oUBBocwXg84R"
    },
    {
      "cell_type": "code",
      "execution_count": 30,
      "metadata": {
        "id": "HAGl7buUg89f"
      },
      "outputs": [],
      "source": [
        "train[\"ing\"] = train[\"filtered\"].apply(lambda x: '|'.join(map(str, x)))"
      ],
      "id": "HAGl7buUg89f"
    },
    {
      "cell_type": "code",
      "execution_count": 31,
      "metadata": {
        "id": "UbBu0zvPg86-",
        "colab": {
          "base_uri": "https://localhost:8080/",
          "height": 423
        },
        "outputId": "f1d613f8-8395-49a7-b785-f1a76a21fd5f"
      },
      "outputs": [
        {
          "output_type": "execute_result",
          "data": {
            "text/html": [
              "\n",
              "  <div id=\"df-5f0acc28-473c-48a6-8f53-12b61f8af9a0\">\n",
              "    <div class=\"colab-df-container\">\n",
              "      <div>\n",
              "<style scoped>\n",
              "    .dataframe tbody tr th:only-of-type {\n",
              "        vertical-align: middle;\n",
              "    }\n",
              "\n",
              "    .dataframe tbody tr th {\n",
              "        vertical-align: top;\n",
              "    }\n",
              "\n",
              "    .dataframe thead th {\n",
              "        text-align: right;\n",
              "    }\n",
              "</style>\n",
              "<table border=\"1\" class=\"dataframe\">\n",
              "  <thead>\n",
              "    <tr style=\"text-align: right;\">\n",
              "      <th></th>\n",
              "      <th>cuisine</th>\n",
              "      <th>id</th>\n",
              "      <th>filtered</th>\n",
              "      <th>ing</th>\n",
              "    </tr>\n",
              "  </thead>\n",
              "  <tbody>\n",
              "    <tr>\n",
              "      <th>0</th>\n",
              "      <td>greek</td>\n",
              "      <td>10259</td>\n",
              "      <td>[romaine, lettuce, black, olives, grape, tomat...</td>\n",
              "      <td>romaine|lettuce|black|olives|grape|tomatoes|ga...</td>\n",
              "    </tr>\n",
              "    <tr>\n",
              "      <th>1</th>\n",
              "      <td>southern_us</td>\n",
              "      <td>25693</td>\n",
              "      <td>[plain, flour, ground, pepper, salt, tomatoes,...</td>\n",
              "      <td>plain|flour|ground|pepper|salt|tomatoes|ground...</td>\n",
              "    </tr>\n",
              "    <tr>\n",
              "      <th>2</th>\n",
              "      <td>filipino</td>\n",
              "      <td>20130</td>\n",
              "      <td>[eggs, pepper, salt, mayonaise, cook, oil, gre...</td>\n",
              "      <td>eggs|pepper|salt|mayonaise|cook|oil|green|chil...</td>\n",
              "    </tr>\n",
              "    <tr>\n",
              "      <th>3</th>\n",
              "      <td>indian</td>\n",
              "      <td>22213</td>\n",
              "      <td>[water, vegetable, oil, wheat, salt]</td>\n",
              "      <td>water|vegetable|oil|wheat|salt</td>\n",
              "    </tr>\n",
              "    <tr>\n",
              "      <th>4</th>\n",
              "      <td>indian</td>\n",
              "      <td>13162</td>\n",
              "      <td>[black, pepper, shallots, cornflour, cayenne, ...</td>\n",
              "      <td>black|pepper|shallots|cornflour|cayenne|pepper...</td>\n",
              "    </tr>\n",
              "    <tr>\n",
              "      <th>...</th>\n",
              "      <td>...</td>\n",
              "      <td>...</td>\n",
              "      <td>...</td>\n",
              "      <td>...</td>\n",
              "    </tr>\n",
              "    <tr>\n",
              "      <th>39769</th>\n",
              "      <td>irish</td>\n",
              "      <td>29109</td>\n",
              "      <td>[light, brown, sugar, granulated, sugar, butte...</td>\n",
              "      <td>light|brown|sugar|granulated|sugar|butter|warm...</td>\n",
              "    </tr>\n",
              "    <tr>\n",
              "      <th>39770</th>\n",
              "      <td>italian</td>\n",
              "      <td>11462</td>\n",
              "      <td>[kraft, zesty, italian, dressing, purple, onio...</td>\n",
              "      <td>kraft|zesty|italian|dressing|purple|onion|broc...</td>\n",
              "    </tr>\n",
              "    <tr>\n",
              "      <th>39771</th>\n",
              "      <td>irish</td>\n",
              "      <td>2238</td>\n",
              "      <td>[eggs, citrus, fruit, raisins, sourdough, star...</td>\n",
              "      <td>eggs|citrus|fruit|raisins|sourdough|starter|fl...</td>\n",
              "    </tr>\n",
              "    <tr>\n",
              "      <th>39772</th>\n",
              "      <td>chinese</td>\n",
              "      <td>41882</td>\n",
              "      <td>[boneless, chicken, skinless, thigh, mince, ga...</td>\n",
              "      <td>boneless|chicken|skinless|thigh|mince|garlic|s...</td>\n",
              "    </tr>\n",
              "    <tr>\n",
              "      <th>39773</th>\n",
              "      <td>mexican</td>\n",
              "      <td>2362</td>\n",
              "      <td>[green, chile, jalapeno, chilies, onions, grou...</td>\n",
              "      <td>green|chile|jalapeno|chilies|onions|ground|bla...</td>\n",
              "    </tr>\n",
              "  </tbody>\n",
              "</table>\n",
              "<p>39774 rows × 4 columns</p>\n",
              "</div>\n",
              "      <button class=\"colab-df-convert\" onclick=\"convertToInteractive('df-5f0acc28-473c-48a6-8f53-12b61f8af9a0')\"\n",
              "              title=\"Convert this dataframe to an interactive table.\"\n",
              "              style=\"display:none;\">\n",
              "        \n",
              "  <svg xmlns=\"http://www.w3.org/2000/svg\" height=\"24px\"viewBox=\"0 0 24 24\"\n",
              "       width=\"24px\">\n",
              "    <path d=\"M0 0h24v24H0V0z\" fill=\"none\"/>\n",
              "    <path d=\"M18.56 5.44l.94 2.06.94-2.06 2.06-.94-2.06-.94-.94-2.06-.94 2.06-2.06.94zm-11 1L8.5 8.5l.94-2.06 2.06-.94-2.06-.94L8.5 2.5l-.94 2.06-2.06.94zm10 10l.94 2.06.94-2.06 2.06-.94-2.06-.94-.94-2.06-.94 2.06-2.06.94z\"/><path d=\"M17.41 7.96l-1.37-1.37c-.4-.4-.92-.59-1.43-.59-.52 0-1.04.2-1.43.59L10.3 9.45l-7.72 7.72c-.78.78-.78 2.05 0 2.83L4 21.41c.39.39.9.59 1.41.59.51 0 1.02-.2 1.41-.59l7.78-7.78 2.81-2.81c.8-.78.8-2.07 0-2.86zM5.41 20L4 18.59l7.72-7.72 1.47 1.35L5.41 20z\"/>\n",
              "  </svg>\n",
              "      </button>\n",
              "      \n",
              "  <style>\n",
              "    .colab-df-container {\n",
              "      display:flex;\n",
              "      flex-wrap:wrap;\n",
              "      gap: 12px;\n",
              "    }\n",
              "\n",
              "    .colab-df-convert {\n",
              "      background-color: #E8F0FE;\n",
              "      border: none;\n",
              "      border-radius: 50%;\n",
              "      cursor: pointer;\n",
              "      display: none;\n",
              "      fill: #1967D2;\n",
              "      height: 32px;\n",
              "      padding: 0 0 0 0;\n",
              "      width: 32px;\n",
              "    }\n",
              "\n",
              "    .colab-df-convert:hover {\n",
              "      background-color: #E2EBFA;\n",
              "      box-shadow: 0px 1px 2px rgba(60, 64, 67, 0.3), 0px 1px 3px 1px rgba(60, 64, 67, 0.15);\n",
              "      fill: #174EA6;\n",
              "    }\n",
              "\n",
              "    [theme=dark] .colab-df-convert {\n",
              "      background-color: #3B4455;\n",
              "      fill: #D2E3FC;\n",
              "    }\n",
              "\n",
              "    [theme=dark] .colab-df-convert:hover {\n",
              "      background-color: #434B5C;\n",
              "      box-shadow: 0px 1px 3px 1px rgba(0, 0, 0, 0.15);\n",
              "      filter: drop-shadow(0px 1px 2px rgba(0, 0, 0, 0.3));\n",
              "      fill: #FFFFFF;\n",
              "    }\n",
              "  </style>\n",
              "\n",
              "      <script>\n",
              "        const buttonEl =\n",
              "          document.querySelector('#df-5f0acc28-473c-48a6-8f53-12b61f8af9a0 button.colab-df-convert');\n",
              "        buttonEl.style.display =\n",
              "          google.colab.kernel.accessAllowed ? 'block' : 'none';\n",
              "\n",
              "        async function convertToInteractive(key) {\n",
              "          const element = document.querySelector('#df-5f0acc28-473c-48a6-8f53-12b61f8af9a0');\n",
              "          const dataTable =\n",
              "            await google.colab.kernel.invokeFunction('convertToInteractive',\n",
              "                                                     [key], {});\n",
              "          if (!dataTable) return;\n",
              "\n",
              "          const docLinkHtml = 'Like what you see? Visit the ' +\n",
              "            '<a target=\"_blank\" href=https://colab.research.google.com/notebooks/data_table.ipynb>data table notebook</a>'\n",
              "            + ' to learn more about interactive tables.';\n",
              "          element.innerHTML = '';\n",
              "          dataTable['output_type'] = 'display_data';\n",
              "          await google.colab.output.renderOutput(dataTable, element);\n",
              "          const docLink = document.createElement('div');\n",
              "          docLink.innerHTML = docLinkHtml;\n",
              "          element.appendChild(docLink);\n",
              "        }\n",
              "      </script>\n",
              "    </div>\n",
              "  </div>\n",
              "  "
            ],
            "text/plain": [
              "           cuisine  ...                                                ing\n",
              "0            greek  ...  romaine|lettuce|black|olives|grape|tomatoes|ga...\n",
              "1      southern_us  ...  plain|flour|ground|pepper|salt|tomatoes|ground...\n",
              "2         filipino  ...  eggs|pepper|salt|mayonaise|cook|oil|green|chil...\n",
              "3           indian  ...                     water|vegetable|oil|wheat|salt\n",
              "4           indian  ...  black|pepper|shallots|cornflour|cayenne|pepper...\n",
              "...            ...  ...                                                ...\n",
              "39769        irish  ...  light|brown|sugar|granulated|sugar|butter|warm...\n",
              "39770      italian  ...  kraft|zesty|italian|dressing|purple|onion|broc...\n",
              "39771        irish  ...  eggs|citrus|fruit|raisins|sourdough|starter|fl...\n",
              "39772      chinese  ...  boneless|chicken|skinless|thigh|mince|garlic|s...\n",
              "39773      mexican  ...  green|chile|jalapeno|chilies|onions|ground|bla...\n",
              "\n",
              "[39774 rows x 4 columns]"
            ]
          },
          "metadata": {},
          "execution_count": 31
        }
      ],
      "source": [
        "train"
      ],
      "id": "UbBu0zvPg86-"
    },
    {
      "cell_type": "code",
      "execution_count": 32,
      "metadata": {
        "id": "wFgE8SAIg8_7"
      },
      "outputs": [],
      "source": [
        "ingredients = train[\"ing\"]"
      ],
      "id": "wFgE8SAIg8_7"
    },
    {
      "cell_type": "code",
      "execution_count": 33,
      "metadata": {
        "id": "47PJ0Hs_g9CR",
        "colab": {
          "base_uri": "https://localhost:8080/",
          "height": 36
        },
        "outputId": "dac39328-8f55-43d6-8270-28528480ec7a"
      },
      "outputs": [
        {
          "output_type": "execute_result",
          "data": {
            "application/vnd.google.colaboratory.intrinsic+json": {
              "type": "string"
            },
            "text/plain": [
              "'white|wine|garlic|cloves|crush|red|pepper|flakes|spaghetti|kosher|salt|flat|leaf|parsley|cockles|extra-virgin|olive|oil'"
            ]
          },
          "metadata": {},
          "execution_count": 33
        }
      ],
      "source": [
        "ingredients[15000]"
      ],
      "id": "47PJ0Hs_g9CR"
    },
    {
      "cell_type": "code",
      "execution_count": 34,
      "metadata": {
        "id": "siqxg-LeiJXg"
      },
      "outputs": [],
      "source": [
        "num_words = 3200\n",
        "max_recipe_len = 200\n",
        "nb_classes = 20"
      ],
      "id": "siqxg-LeiJXg"
    },
    {
      "cell_type": "code",
      "execution_count": 35,
      "metadata": {
        "id": "PCNruMjKiJaD"
      },
      "outputs": [],
      "source": [
        "tokenizer = Tokenizer(num_words=num_words,  split='|')"
      ],
      "id": "PCNruMjKiJaD"
    },
    {
      "cell_type": "code",
      "execution_count": 36,
      "metadata": {
        "id": "tMTbhk3OiJcg"
      },
      "outputs": [],
      "source": [
        "tokenizer.fit_on_texts(ingredients)"
      ],
      "id": "tMTbhk3OiJcg"
    },
    {
      "cell_type": "code",
      "execution_count": 37,
      "metadata": {
        "id": "zD0Fi-x8iJe_"
      },
      "outputs": [],
      "source": [
        "sequences = tokenizer.texts_to_sequences(ingredients)"
      ],
      "id": "zD0Fi-x8iJe_"
    },
    {
      "cell_type": "code",
      "execution_count": 38,
      "metadata": {
        "id": "dVIvDrZhiJhA"
      },
      "outputs": [],
      "source": [
        "x_train = pad_sequences(sequences, maxlen=max_recipe_len)"
      ],
      "id": "dVIvDrZhiJhA"
    },
    {
      "cell_type": "code",
      "execution_count": 39,
      "metadata": {
        "id": "mJRo7Rp6iJjR",
        "colab": {
          "base_uri": "https://localhost:8080/"
        },
        "outputId": "5bfea12a-77fe-42d5-95f7-843923197002"
      },
      "outputs": [
        {
          "output_type": "execute_result",
          "data": {
            "text/plain": [
              "9     7838\n",
              "13    6438\n",
              "16    4320\n",
              "7     3003\n",
              "3     2673\n",
              "5     2646\n",
              "2     1546\n",
              "18    1539\n",
              "11    1423\n",
              "6     1175\n",
              "17     989\n",
              "12     830\n",
              "19     825\n",
              "14     821\n",
              "1      804\n",
              "4      755\n",
              "8      667\n",
              "10     526\n",
              "15     489\n",
              "0      467\n",
              "Name: label, dtype: int64"
            ]
          },
          "metadata": {},
          "execution_count": 39
        }
      ],
      "source": [
        "le = LabelEncoder()\n",
        "le.fit(train[\"cuisine\"])\n",
        "train[\"label\"] = le.transform(train[\"cuisine\"])\n",
        "train[\"label\"].value_counts()"
      ],
      "id": "mJRo7Rp6iJjR"
    },
    {
      "cell_type": "code",
      "execution_count": 40,
      "metadata": {
        "id": "Lr-1OY88iJlc"
      },
      "outputs": [],
      "source": [
        "y_train = utils.to_categorical(train['label'], nb_classes)"
      ],
      "id": "Lr-1OY88iJlc"
    },
    {
      "cell_type": "code",
      "execution_count": 41,
      "metadata": {
        "id": "2PmeRAjSjNek"
      },
      "outputs": [],
      "source": [
        "model_lstm = Sequential()\n",
        "model_lstm.add(Embedding(num_words, 256, input_length=max_recipe_len))\n",
        "model_lstm.add(LSTM(\n",
        "                    256, \n",
        "                    return_sequences=True, \n",
        "                    dropout=0.5\n",
        "                    )\n",
        "              )\n",
        "model_lstm.add(GRU(64))\n",
        "model_lstm.add(Dense(20, activation='softmax'))"
      ],
      "id": "2PmeRAjSjNek"
    },
    {
      "cell_type": "markdown",
      "metadata": {
        "id": "bQXvOOH3F5te"
      },
      "source": [
        ""
      ],
      "id": "bQXvOOH3F5te"
    },
    {
      "cell_type": "code",
      "execution_count": 42,
      "metadata": {
        "id": "OiqU3iEXjNhQ"
      },
      "outputs": [],
      "source": [
        "model_lstm.compile(optimizer='adam', \n",
        "              loss='categorical_crossentropy', \n",
        "              metrics=['accuracy'])"
      ],
      "id": "OiqU3iEXjNhQ"
    },
    {
      "cell_type": "code",
      "execution_count": 43,
      "metadata": {
        "id": "jl_D1i_njNkG",
        "colab": {
          "base_uri": "https://localhost:8080/"
        },
        "outputId": "6b5d0456-4a3c-4a01-a35f-821a62801def"
      },
      "outputs": [
        {
          "output_type": "stream",
          "name": "stdout",
          "text": [
            "Epoch 1/10\n",
            "280/280 [==============================] - 43s 128ms/step - loss: 1.4909 - accuracy: 0.5566 - val_loss: 1.0133 - val_accuracy: 0.6948\n",
            "Epoch 2/10\n",
            "280/280 [==============================] - 35s 125ms/step - loss: 0.9353 - accuracy: 0.7157 - val_loss: 0.8679 - val_accuracy: 0.7376\n",
            "Epoch 3/10\n",
            "280/280 [==============================] - 35s 124ms/step - loss: 0.8063 - accuracy: 0.7580 - val_loss: 0.8061 - val_accuracy: 0.7589\n",
            "Epoch 4/10\n",
            "280/280 [==============================] - 35s 124ms/step - loss: 0.7304 - accuracy: 0.7781 - val_loss: 0.7707 - val_accuracy: 0.7765\n",
            "Epoch 5/10\n",
            "280/280 [==============================] - 35s 124ms/step - loss: 0.6771 - accuracy: 0.7955 - val_loss: 0.7644 - val_accuracy: 0.7805\n",
            "Epoch 6/10\n",
            "280/280 [==============================] - 35s 124ms/step - loss: 0.6356 - accuracy: 0.8085 - val_loss: 0.7458 - val_accuracy: 0.7846\n",
            "Epoch 7/10\n",
            "280/280 [==============================] - 35s 124ms/step - loss: 0.6038 - accuracy: 0.8178 - val_loss: 0.7555 - val_accuracy: 0.7828\n",
            "Epoch 8/10\n",
            "280/280 [==============================] - 35s 124ms/step - loss: 0.5749 - accuracy: 0.8234 - val_loss: 0.7355 - val_accuracy: 0.7881\n",
            "Epoch 9/10\n",
            "280/280 [==============================] - 34s 123ms/step - loss: 0.5438 - accuracy: 0.8331 - val_loss: 0.7430 - val_accuracy: 0.7903\n",
            "Epoch 10/10\n",
            "280/280 [==============================] - 35s 123ms/step - loss: 0.5210 - accuracy: 0.8391 - val_loss: 0.7491 - val_accuracy: 0.7868\n"
          ]
        }
      ],
      "source": [
        "history_lstm = model_lstm.fit(x_train, \n",
        "                              y_train, \n",
        "                              epochs=10,\n",
        "                              batch_size=128,\n",
        "                              validation_split=0.1)"
      ],
      "id": "jl_D1i_njNkG"
    },
    {
      "cell_type": "code",
      "source": [
        "demo_pipeline = Pipeline(stages=[\n",
        "                            assembler,\n",
        "                            regexTokenizer,\n",
        "                            lemmatizer, \n",
        "                            normalizer\n",
        "                            ]\n",
        "                    )\n",
        "\n",
        "demo_pipelinefit = demo_pipeline.fit(corpus)\n",
        "demo_df = demo_pipelinefit.transform(df_tr)"
      ],
      "metadata": {
        "id": "fQrUjdkn7pZL"
      },
      "id": "fQrUjdkn7pZL",
      "execution_count": 45,
      "outputs": []
    },
    {
      "cell_type": "code",
      "source": [
        "demo_df.show(truncate=False)"
      ],
      "metadata": {
        "colab": {
          "base_uri": "https://localhost:8080/"
        },
        "id": "XWWnbl8s7pb3",
        "outputId": "71c90b06-e298-428a-a0e2-0cf707d45b08"
      },
      "id": "XWWnbl8s7pb3",
      "execution_count": 46,
      "outputs": [
        {
          "output_type": "stream",
          "name": "stdout",
          "text": [
            "+-----------+-----+------------------------------------------------------------------------------------------------------------------------------------------------------------------------------------------------------------------------------------------------+----+-------------------------------------------------------------------------------------------------------------------------------------------------------------------------------------------------------------------------------------------------------------------------------------------+----------------------------------------------------------------------------------------------------------------------------------------------------------------------------------------------------------------------------------------------------------------------------------------------------------------------------------------------------------------------------------------------------------------------------------------------------------------------------------------------------------------------------------------------------------------------------------------------------------------------------------------------------------------------------------------------------------------------------------------------------------------------------------------------------------------------------------------------------------------------------------------------------------------------------------------------------------------------------------------------------------------------------------------------------------------------------------------------------------------------------------------------------------------------------------------------------------------------------------------------------------------------------------------------------------------------------------------------------------------------------------------------------------------------------------------------------------------------------------------------------------------------------------------------------------------------------------------------------------------------------+----------------------------------------------------------------------------------------------------------------------------------------------------------------------------------------------------------------------------------------------------------------------------------------------------------------------------------------------------------------------------------------------------------------------------------------------------------------------------------------------------------------------------------------------------------------------------------------------------------------------------------------------------------------------------------------------------------------------------------------------------------------------------------------------------------------------------------------------------------------------------------------------------------------------------------------------------------------------------------------------------------------------------------------------------------------------------------------------------------------------------------------------------------------------------------------------------------------------------------------------------------------------------------------------------------------------------------------------------------------------------------------------------------------------------------------------------------------------------------------------------------------------------------------------------------------------------------------------------------------------------+---------------------------------------------------------------------------------------------------------------------------------------------------------------------------------------------------------------------------------------------------------------------------------------------------------------------------------------------------------------------------------------------------------------------------------------------------------------------------------------------------------------------------------------------------------------------------------------------------------------------------------------------------------------------------------------------------------------------------------------------------------------------------------------------------------------------------------------------------------------------------------------------------------------------------------------------------------------------------------------------------------------------------------------------------------------------------------------------------------------------------------------------------------------------------------------------------------------------------------------------------------------------------------------------------------------------------------------------------------------------------------------------------------------------------------------------------------------------------------------------------------------------------------------------------------------------------------------------------------+\n",
            "|cuisine    |id   |ingredients                                                                                                                                                                                                                                     |size|docs                                                                                                                                                                                                                                                                                       |token                                                                                                                                                                                                                                                                                                                                                                                                                                                                                                                                                                                                                                                                                                                                                                                                                                                                                                                                                                                                                                                                                                                                                                                                                                                                                                                                                                                                                                                                                                                                                                                                                       |lemma                                                                                                                                                                                                                                                                                                                                                                                                                                                                                                                                                                                                                                                                                                                                                                                                                                                                                                                                                                                                                                                                                                                                                                                                                                                                                                                                                                                                                                                                                                                                                                                                                       |normalized                                                                                                                                                                                                                                                                                                                                                                                                                                                                                                                                                                                                                                                                                                                                                                                                                                                                                                                                                                                                                                                                                                                                                                                                                                                                                                                                                                                                                                                                                                                                                                                               |\n",
            "+-----------+-----+------------------------------------------------------------------------------------------------------------------------------------------------------------------------------------------------------------------------------------------------+----+-------------------------------------------------------------------------------------------------------------------------------------------------------------------------------------------------------------------------------------------------------------------------------------------+----------------------------------------------------------------------------------------------------------------------------------------------------------------------------------------------------------------------------------------------------------------------------------------------------------------------------------------------------------------------------------------------------------------------------------------------------------------------------------------------------------------------------------------------------------------------------------------------------------------------------------------------------------------------------------------------------------------------------------------------------------------------------------------------------------------------------------------------------------------------------------------------------------------------------------------------------------------------------------------------------------------------------------------------------------------------------------------------------------------------------------------------------------------------------------------------------------------------------------------------------------------------------------------------------------------------------------------------------------------------------------------------------------------------------------------------------------------------------------------------------------------------------------------------------------------------------------------------------------------------------+----------------------------------------------------------------------------------------------------------------------------------------------------------------------------------------------------------------------------------------------------------------------------------------------------------------------------------------------------------------------------------------------------------------------------------------------------------------------------------------------------------------------------------------------------------------------------------------------------------------------------------------------------------------------------------------------------------------------------------------------------------------------------------------------------------------------------------------------------------------------------------------------------------------------------------------------------------------------------------------------------------------------------------------------------------------------------------------------------------------------------------------------------------------------------------------------------------------------------------------------------------------------------------------------------------------------------------------------------------------------------------------------------------------------------------------------------------------------------------------------------------------------------------------------------------------------------------------------------------------------------+---------------------------------------------------------------------------------------------------------------------------------------------------------------------------------------------------------------------------------------------------------------------------------------------------------------------------------------------------------------------------------------------------------------------------------------------------------------------------------------------------------------------------------------------------------------------------------------------------------------------------------------------------------------------------------------------------------------------------------------------------------------------------------------------------------------------------------------------------------------------------------------------------------------------------------------------------------------------------------------------------------------------------------------------------------------------------------------------------------------------------------------------------------------------------------------------------------------------------------------------------------------------------------------------------------------------------------------------------------------------------------------------------------------------------------------------------------------------------------------------------------------------------------------------------------------------------------------------------------+\n",
            "|greek      |10259|romaine lettuce, black olives, grape tomatoes, garlic, pepper, purple onion, seasoning, garbanzo beans, feta cheese crumbles                                                                                                                    |9   |[[document, 0, 123, romaine lettuce, black olives, grape tomatoes, garlic, pepper, purple onion, seasoning, garbanzo beans, feta cheese crumbles, [sentence -> 0], []]]                                                                                                                    |[[token, 0, 6, romaine, [sentence -> 0], []], [token, 8, 15, lettuce,, [sentence -> 0], []], [token, 17, 21, black, [sentence -> 0], []], [token, 23, 29, olives,, [sentence -> 0], []], [token, 31, 35, grape, [sentence -> 0], []], [token, 37, 45, tomatoes,, [sentence -> 0], []], [token, 47, 53, garlic,, [sentence -> 0], []], [token, 55, 61, pepper,, [sentence -> 0], []], [token, 63, 68, purple, [sentence -> 0], []], [token, 70, 75, onion,, [sentence -> 0], []], [token, 77, 86, seasoning,, [sentence -> 0], []], [token, 88, 95, garbanzo, [sentence -> 0], []], [token, 97, 102, beans,, [sentence -> 0], []], [token, 104, 107, feta, [sentence -> 0], []], [token, 109, 114, cheese, [sentence -> 0], []], [token, 116, 123, crumbles, [sentence -> 0], []]]                                                                                                                                                                                                                                                                                                                                                                                                                                                                                                                                                                                                                                                                                                                                                                                                                                           |[[token, 0, 6, romaine, [sentence -> 0], []], [token, 8, 15, lettuce,, [sentence -> 0], []], [token, 17, 21, black, [sentence -> 0], []], [token, 23, 29, olives,, [sentence -> 0], []], [token, 31, 35, grape, [sentence -> 0], []], [token, 37, 45, tomatoes,, [sentence -> 0], []], [token, 47, 53, garlic,, [sentence -> 0], []], [token, 55, 61, pepper,, [sentence -> 0], []], [token, 63, 68, purple, [sentence -> 0], []], [token, 70, 75, onion,, [sentence -> 0], []], [token, 77, 86, seasoning,, [sentence -> 0], []], [token, 88, 95, garbanzo, [sentence -> 0], []], [token, 97, 102, beans,, [sentence -> 0], []], [token, 104, 107, feta, [sentence -> 0], []], [token, 109, 114, cheese, [sentence -> 0], []], [token, 116, 123, crumble, [sentence -> 0], []]]                                                                                                                                                                                                                                                                                                                                                                                                                                                                                                                                                                                                                                                                                                                                                                                                                                            |[[token, 0, 6, romaine, [sentence -> 0], []], [token, 8, 14, lettuce, [sentence -> 0], []], [token, 17, 21, black, [sentence -> 0], []], [token, 23, 28, olives, [sentence -> 0], []], [token, 31, 35, grape, [sentence -> 0], []], [token, 37, 44, tomatoes, [sentence -> 0], []], [token, 47, 52, garlic, [sentence -> 0], []], [token, 55, 60, pepper, [sentence -> 0], []], [token, 63, 68, purple, [sentence -> 0], []], [token, 70, 74, onion, [sentence -> 0], []], [token, 77, 85, seasoning, [sentence -> 0], []], [token, 88, 95, garbanzo, [sentence -> 0], []], [token, 97, 101, beans, [sentence -> 0], []], [token, 104, 107, feta, [sentence -> 0], []], [token, 109, 114, cheese, [sentence -> 0], []], [token, 116, 122, crumble, [sentence -> 0], []]]                                                                                                                                                                                                                                                                                                                                                                                                                                                                                                                                                                                                                                                                                                                                                                                                                                 |\n",
            "|southern_us|25693|plain flour, ground pepper, salt, tomatoes, ground black pepper, thyme, eggs, green tomatoes, yellow corn meal, milk, vegetable oil                                                                                                             |11  |[[document, 0, 130, plain flour, ground pepper, salt, tomatoes, ground black pepper, thyme, eggs, green tomatoes, yellow corn meal, milk, vegetable oil, [sentence -> 0], []]]                                                                                                             |[[token, 0, 4, plain, [sentence -> 0], []], [token, 6, 11, flour,, [sentence -> 0], []], [token, 13, 18, ground, [sentence -> 0], []], [token, 20, 26, pepper,, [sentence -> 0], []], [token, 28, 32, salt,, [sentence -> 0], []], [token, 34, 42, tomatoes,, [sentence -> 0], []], [token, 44, 49, ground, [sentence -> 0], []], [token, 51, 55, black, [sentence -> 0], []], [token, 57, 63, pepper,, [sentence -> 0], []], [token, 65, 70, thyme,, [sentence -> 0], []], [token, 72, 76, eggs,, [sentence -> 0], []], [token, 78, 82, green, [sentence -> 0], []], [token, 84, 92, tomatoes,, [sentence -> 0], []], [token, 94, 99, yellow, [sentence -> 0], []], [token, 101, 104, corn, [sentence -> 0], []], [token, 106, 110, meal,, [sentence -> 0], []], [token, 112, 116, milk,, [sentence -> 0], []], [token, 118, 126, vegetable, [sentence -> 0], []], [token, 128, 130, oil, [sentence -> 0], []]]                                                                                                                                                                                                                                                                                                                                                                                                                                                                                                                                                                                                                                                                                                            |[[token, 0, 4, plain, [sentence -> 0], []], [token, 6, 11, flour,, [sentence -> 0], []], [token, 13, 18, ground, [sentence -> 0], []], [token, 20, 26, pepper,, [sentence -> 0], []], [token, 28, 32, salt,, [sentence -> 0], []], [token, 34, 42, tomatoes,, [sentence -> 0], []], [token, 44, 49, ground, [sentence -> 0], []], [token, 51, 55, black, [sentence -> 0], []], [token, 57, 63, pepper,, [sentence -> 0], []], [token, 65, 70, thyme,, [sentence -> 0], []], [token, 72, 76, eggs,, [sentence -> 0], []], [token, 78, 82, green, [sentence -> 0], []], [token, 84, 92, tomatoes,, [sentence -> 0], []], [token, 94, 99, yellow, [sentence -> 0], []], [token, 101, 104, corn, [sentence -> 0], []], [token, 106, 110, meal,, [sentence -> 0], []], [token, 112, 116, milk,, [sentence -> 0], []], [token, 118, 126, vegetable, [sentence -> 0], []], [token, 128, 130, oil, [sentence -> 0], []]]                                                                                                                                                                                                                                                                                                                                                                                                                                                                                                                                                                                                                                                                                                            |[[token, 0, 4, plain, [sentence -> 0], []], [token, 6, 10, flour, [sentence -> 0], []], [token, 13, 18, ground, [sentence -> 0], []], [token, 20, 25, pepper, [sentence -> 0], []], [token, 28, 31, salt, [sentence -> 0], []], [token, 34, 41, tomatoes, [sentence -> 0], []], [token, 44, 49, ground, [sentence -> 0], []], [token, 51, 55, black, [sentence -> 0], []], [token, 57, 62, pepper, [sentence -> 0], []], [token, 65, 69, thyme, [sentence -> 0], []], [token, 72, 75, eggs, [sentence -> 0], []], [token, 78, 82, green, [sentence -> 0], []], [token, 84, 91, tomatoes, [sentence -> 0], []], [token, 94, 99, yellow, [sentence -> 0], []], [token, 101, 104, corn, [sentence -> 0], []], [token, 106, 109, meal, [sentence -> 0], []], [token, 112, 115, milk, [sentence -> 0], []], [token, 118, 126, vegetable, [sentence -> 0], []], [token, 128, 130, oil, [sentence -> 0], []]]                                                                                                                                                                                                                                                                                                                                                                                                                                                                                                                                                                                                                                                                                                   |\n",
            "|filipino   |20130|eggs, pepper, salt, mayonaise, cooking oil, green chilies, grilled chicken breasts, garlic powder, yellow onion, soy sauce, butter, chicken livers                                                                                              |12  |[[document, 0, 145, eggs, pepper, salt, mayonaise, cooking oil, green chilies, grilled chicken breasts, garlic powder, yellow onion, soy sauce, butter, chicken livers, [sentence -> 0], []]]                                                                                              |[[token, 0, 4, eggs,, [sentence -> 0], []], [token, 6, 12, pepper,, [sentence -> 0], []], [token, 14, 18, salt,, [sentence -> 0], []], [token, 20, 29, mayonaise,, [sentence -> 0], []], [token, 31, 37, cooking, [sentence -> 0], []], [token, 39, 42, oil,, [sentence -> 0], []], [token, 44, 48, green, [sentence -> 0], []], [token, 50, 57, chilies,, [sentence -> 0], []], [token, 59, 65, grilled, [sentence -> 0], []], [token, 67, 73, chicken, [sentence -> 0], []], [token, 75, 82, breasts,, [sentence -> 0], []], [token, 84, 89, garlic, [sentence -> 0], []], [token, 91, 97, powder,, [sentence -> 0], []], [token, 99, 104, yellow, [sentence -> 0], []], [token, 106, 111, onion,, [sentence -> 0], []], [token, 113, 115, soy, [sentence -> 0], []], [token, 117, 122, sauce,, [sentence -> 0], []], [token, 124, 130, butter,, [sentence -> 0], []], [token, 132, 138, chicken, [sentence -> 0], []], [token, 140, 145, livers, [sentence -> 0], []]]                                                                                                                                                                                                                                                                                                                                                                                                                                                                                                                                                                                                                                                   |[[token, 0, 4, eggs,, [sentence -> 0], []], [token, 6, 12, pepper,, [sentence -> 0], []], [token, 14, 18, salt,, [sentence -> 0], []], [token, 20, 29, mayonaise,, [sentence -> 0], []], [token, 31, 37, cook, [sentence -> 0], []], [token, 39, 42, oil,, [sentence -> 0], []], [token, 44, 48, green, [sentence -> 0], []], [token, 50, 57, chilies,, [sentence -> 0], []], [token, 59, 65, grill, [sentence -> 0], []], [token, 67, 73, chicken, [sentence -> 0], []], [token, 75, 82, breasts,, [sentence -> 0], []], [token, 84, 89, garlic, [sentence -> 0], []], [token, 91, 97, powder,, [sentence -> 0], []], [token, 99, 104, yellow, [sentence -> 0], []], [token, 106, 111, onion,, [sentence -> 0], []], [token, 113, 115, soy, [sentence -> 0], []], [token, 117, 122, sauce,, [sentence -> 0], []], [token, 124, 130, butter,, [sentence -> 0], []], [token, 132, 138, chicken, [sentence -> 0], []], [token, 140, 145, liver, [sentence -> 0], []]]                                                                                                                                                                                                                                                                                                                                                                                                                                                                                                                                                                                                                                                         |[[token, 0, 3, eggs, [sentence -> 0], []], [token, 6, 11, pepper, [sentence -> 0], []], [token, 14, 17, salt, [sentence -> 0], []], [token, 20, 28, mayonaise, [sentence -> 0], []], [token, 31, 34, cook, [sentence -> 0], []], [token, 39, 41, oil, [sentence -> 0], []], [token, 44, 48, green, [sentence -> 0], []], [token, 50, 56, chilies, [sentence -> 0], []], [token, 59, 63, grill, [sentence -> 0], []], [token, 67, 73, chicken, [sentence -> 0], []], [token, 75, 81, breasts, [sentence -> 0], []], [token, 84, 89, garlic, [sentence -> 0], []], [token, 91, 96, powder, [sentence -> 0], []], [token, 99, 104, yellow, [sentence -> 0], []], [token, 106, 110, onion, [sentence -> 0], []], [token, 113, 115, soy, [sentence -> 0], []], [token, 117, 121, sauce, [sentence -> 0], []], [token, 124, 129, butter, [sentence -> 0], []], [token, 132, 138, chicken, [sentence -> 0], []], [token, 140, 144, liver, [sentence -> 0], []]]                                                                                                                                                                                                                                                                                                                                                                                                                                                                                                                                                                                                                                                 |\n",
            "|indian     |22213|water, vegetable oil, wheat, salt                                                                                                                                                                                                               |4   |[[document, 0, 32, water, vegetable oil, wheat, salt, [sentence -> 0], []]]                                                                                                                                                                                                                |[[token, 0, 5, water,, [sentence -> 0], []], [token, 7, 15, vegetable, [sentence -> 0], []], [token, 17, 20, oil,, [sentence -> 0], []], [token, 22, 27, wheat,, [sentence -> 0], []], [token, 29, 32, salt, [sentence -> 0], []]]                                                                                                                                                                                                                                                                                                                                                                                                                                                                                                                                                                                                                                                                                                                                                                                                                                                                                                                                                                                                                                                                                                                                                                                                                                                                                                                                                                                          |[[token, 0, 5, water,, [sentence -> 0], []], [token, 7, 15, vegetable, [sentence -> 0], []], [token, 17, 20, oil,, [sentence -> 0], []], [token, 22, 27, wheat,, [sentence -> 0], []], [token, 29, 32, salt, [sentence -> 0], []]]                                                                                                                                                                                                                                                                                                                                                                                                                                                                                                                                                                                                                                                                                                                                                                                                                                                                                                                                                                                                                                                                                                                                                                                                                                                                                                                                                                                          |[[token, 0, 4, water, [sentence -> 0], []], [token, 7, 15, vegetable, [sentence -> 0], []], [token, 17, 19, oil, [sentence -> 0], []], [token, 22, 26, wheat, [sentence -> 0], []], [token, 29, 32, salt, [sentence -> 0], []]]                                                                                                                                                                                                                                                                                                                                                                                                                                                                                                                                                                                                                                                                                                                                                                                                                                                                                                                                                                                                                                                                                                                                                                                                                                                                                                                                                                          |\n",
            "|indian     |13162|black pepper, shallots, cornflour, cayenne pepper, onions, garlic paste, milk, butter, salt, lemon juice, water, chili powder, passata, oil, ground cumin, boneless chicken skinless thigh, garam masala, double cream, natural yogurt, bay leaf|20  |[[document, 0, 239, black pepper, shallots, cornflour, cayenne pepper, onions, garlic paste, milk, butter, salt, lemon juice, water, chili powder, passata, oil, ground cumin, boneless chicken skinless thigh, garam masala, double cream, natural yogurt, bay leaf, [sentence -> 0], []]]|[[token, 0, 4, black, [sentence -> 0], []], [token, 6, 12, pepper,, [sentence -> 0], []], [token, 14, 22, shallots,, [sentence -> 0], []], [token, 24, 33, cornflour,, [sentence -> 0], []], [token, 35, 41, cayenne, [sentence -> 0], []], [token, 43, 49, pepper,, [sentence -> 0], []], [token, 51, 57, onions,, [sentence -> 0], []], [token, 59, 64, garlic, [sentence -> 0], []], [token, 66, 71, paste,, [sentence -> 0], []], [token, 73, 77, milk,, [sentence -> 0], []], [token, 79, 85, butter,, [sentence -> 0], []], [token, 87, 91, salt,, [sentence -> 0], []], [token, 93, 97, lemon, [sentence -> 0], []], [token, 99, 104, juice,, [sentence -> 0], []], [token, 106, 111, water,, [sentence -> 0], []], [token, 113, 117, chili, [sentence -> 0], []], [token, 119, 125, powder,, [sentence -> 0], []], [token, 127, 134, passata,, [sentence -> 0], []], [token, 136, 139, oil,, [sentence -> 0], []], [token, 141, 146, ground, [sentence -> 0], []], [token, 148, 153, cumin,, [sentence -> 0], []], [token, 155, 162, boneless, [sentence -> 0], []], [token, 164, 170, chicken, [sentence -> 0], []], [token, 172, 179, skinless, [sentence -> 0], []], [token, 181, 186, thigh,, [sentence -> 0], []], [token, 188, 192, garam, [sentence -> 0], []], [token, 194, 200, masala,, [sentence -> 0], []], [token, 202, 207, double, [sentence -> 0], []], [token, 209, 214, cream,, [sentence -> 0], []], [token, 216, 222, natural, [sentence -> 0], []], [token, 224, 230, yogurt,, [sentence -> 0], []], [token, 232, 234, bay, [sentence -> 0], []], [token, 236, 239, leaf, [sentence -> 0], []]]|[[token, 0, 4, black, [sentence -> 0], []], [token, 6, 12, pepper,, [sentence -> 0], []], [token, 14, 22, shallots,, [sentence -> 0], []], [token, 24, 33, cornflour,, [sentence -> 0], []], [token, 35, 41, cayenne, [sentence -> 0], []], [token, 43, 49, pepper,, [sentence -> 0], []], [token, 51, 57, onions,, [sentence -> 0], []], [token, 59, 64, garlic, [sentence -> 0], []], [token, 66, 71, paste,, [sentence -> 0], []], [token, 73, 77, milk,, [sentence -> 0], []], [token, 79, 85, butter,, [sentence -> 0], []], [token, 87, 91, salt,, [sentence -> 0], []], [token, 93, 97, lemon, [sentence -> 0], []], [token, 99, 104, juice,, [sentence -> 0], []], [token, 106, 111, water,, [sentence -> 0], []], [token, 113, 117, chili, [sentence -> 0], []], [token, 119, 125, powder,, [sentence -> 0], []], [token, 127, 134, passata,, [sentence -> 0], []], [token, 136, 139, oil,, [sentence -> 0], []], [token, 141, 146, ground, [sentence -> 0], []], [token, 148, 153, cumin,, [sentence -> 0], []], [token, 155, 162, boneless, [sentence -> 0], []], [token, 164, 170, chicken, [sentence -> 0], []], [token, 172, 179, skinless, [sentence -> 0], []], [token, 181, 186, thigh,, [sentence -> 0], []], [token, 188, 192, garam, [sentence -> 0], []], [token, 194, 200, masala,, [sentence -> 0], []], [token, 202, 207, double, [sentence -> 0], []], [token, 209, 214, cream,, [sentence -> 0], []], [token, 216, 222, natural, [sentence -> 0], []], [token, 224, 230, yogurt,, [sentence -> 0], []], [token, 232, 234, bay, [sentence -> 0], []], [token, 236, 239, leaf, [sentence -> 0], []]]|[[token, 0, 4, black, [sentence -> 0], []], [token, 6, 11, pepper, [sentence -> 0], []], [token, 14, 21, shallots, [sentence -> 0], []], [token, 24, 32, cornflour, [sentence -> 0], []], [token, 35, 41, cayenne, [sentence -> 0], []], [token, 43, 48, pepper, [sentence -> 0], []], [token, 51, 56, onions, [sentence -> 0], []], [token, 59, 64, garlic, [sentence -> 0], []], [token, 66, 70, paste, [sentence -> 0], []], [token, 73, 76, milk, [sentence -> 0], []], [token, 79, 84, butter, [sentence -> 0], []], [token, 87, 90, salt, [sentence -> 0], []], [token, 93, 97, lemon, [sentence -> 0], []], [token, 99, 103, juice, [sentence -> 0], []], [token, 106, 110, water, [sentence -> 0], []], [token, 113, 117, chili, [sentence -> 0], []], [token, 119, 124, powder, [sentence -> 0], []], [token, 127, 133, passata, [sentence -> 0], []], [token, 136, 138, oil, [sentence -> 0], []], [token, 141, 146, ground, [sentence -> 0], []], [token, 148, 152, cumin, [sentence -> 0], []], [token, 155, 162, boneless, [sentence -> 0], []], [token, 164, 170, chicken, [sentence -> 0], []], [token, 172, 179, skinless, [sentence -> 0], []], [token, 181, 185, thigh, [sentence -> 0], []], [token, 188, 192, garam, [sentence -> 0], []], [token, 194, 199, masala, [sentence -> 0], []], [token, 202, 207, double, [sentence -> 0], []], [token, 209, 213, cream, [sentence -> 0], []], [token, 216, 222, natural, [sentence -> 0], []], [token, 224, 229, yogurt, [sentence -> 0], []], [token, 232, 234, bay, [sentence -> 0], []], [token, 236, 239, leaf, [sentence -> 0], []]]|\n",
            "|jamaican   |6602 |plain flour, sugar, butter, eggs, fresh ginger root, salt, ground cinnamon, milk, vanilla extract, ground ginger, powdered sugar, baking powder                                                                                                 |12  |[[document, 0, 142, plain flour, sugar, butter, eggs, fresh ginger root, salt, ground cinnamon, milk, vanilla extract, ground ginger, powdered sugar, baking powder, [sentence -> 0], []]]                                                                                                 |[[token, 0, 4, plain, [sentence -> 0], []], [token, 6, 11, flour,, [sentence -> 0], []], [token, 13, 18, sugar,, [sentence -> 0], []], [token, 20, 26, butter,, [sentence -> 0], []], [token, 28, 32, eggs,, [sentence -> 0], []], [token, 34, 38, fresh, [sentence -> 0], []], [token, 40, 45, ginger, [sentence -> 0], []], [token, 47, 51, root,, [sentence -> 0], []], [token, 53, 57, salt,, [sentence -> 0], []], [token, 59, 64, ground, [sentence -> 0], []], [token, 66, 74, cinnamon,, [sentence -> 0], []], [token, 76, 80, milk,, [sentence -> 0], []], [token, 82, 88, vanilla, [sentence -> 0], []], [token, 90, 97, extract,, [sentence -> 0], []], [token, 99, 104, ground, [sentence -> 0], []], [token, 106, 112, ginger,, [sentence -> 0], []], [token, 114, 121, powdered, [sentence -> 0], []], [token, 123, 128, sugar,, [sentence -> 0], []], [token, 130, 135, baking, [sentence -> 0], []], [token, 137, 142, powder, [sentence -> 0], []]]                                                                                                                                                                                                                                                                                                                                                                                                                                                                                                                                                                                                                                                        |[[token, 0, 4, plain, [sentence -> 0], []], [token, 6, 11, flour,, [sentence -> 0], []], [token, 13, 18, sugar,, [sentence -> 0], []], [token, 20, 26, butter,, [sentence -> 0], []], [token, 28, 32, eggs,, [sentence -> 0], []], [token, 34, 38, fresh, [sentence -> 0], []], [token, 40, 45, ginger, [sentence -> 0], []], [token, 47, 51, root,, [sentence -> 0], []], [token, 53, 57, salt,, [sentence -> 0], []], [token, 59, 64, ground, [sentence -> 0], []], [token, 66, 74, cinnamon,, [sentence -> 0], []], [token, 76, 80, milk,, [sentence -> 0], []], [token, 82, 88, vanilla, [sentence -> 0], []], [token, 90, 97, extract,, [sentence -> 0], []], [token, 99, 104, ground, [sentence -> 0], []], [token, 106, 112, ginger,, [sentence -> 0], []], [token, 114, 121, powder, [sentence -> 0], []], [token, 123, 128, sugar,, [sentence -> 0], []], [token, 130, 135, bake, [sentence -> 0], []], [token, 137, 142, powder, [sentence -> 0], []]]                                                                                                                                                                                                                                                                                                                                                                                                                                                                                                                                                                                                                                                            |[[token, 0, 4, plain, [sentence -> 0], []], [token, 6, 10, flour, [sentence -> 0], []], [token, 13, 17, sugar, [sentence -> 0], []], [token, 20, 25, butter, [sentence -> 0], []], [token, 28, 31, eggs, [sentence -> 0], []], [token, 34, 38, fresh, [sentence -> 0], []], [token, 40, 45, ginger, [sentence -> 0], []], [token, 47, 50, root, [sentence -> 0], []], [token, 53, 56, salt, [sentence -> 0], []], [token, 59, 64, ground, [sentence -> 0], []], [token, 66, 73, cinnamon, [sentence -> 0], []], [token, 76, 79, milk, [sentence -> 0], []], [token, 82, 88, vanilla, [sentence -> 0], []], [token, 90, 96, extract, [sentence -> 0], []], [token, 99, 104, ground, [sentence -> 0], []], [token, 106, 111, ginger, [sentence -> 0], []], [token, 114, 119, powder, [sentence -> 0], []], [token, 123, 127, sugar, [sentence -> 0], []], [token, 130, 133, bake, [sentence -> 0], []], [token, 137, 142, powder, [sentence -> 0], []]]                                                                                                                                                                                                                                                                                                                                                                                                                                                                                                                                                                                                                                                    |\n",
            "|spanish    |42779|olive oil, salt, medium shrimp, pepper, garlic, chopped cilantro, jalapeno chilies, flat leaf parsley, skirt steak, white vinegar, sea salt, bay leaf, chorizo sausage                                                                          |13  |[[document, 0, 165, olive oil, salt, medium shrimp, pepper, garlic, chopped cilantro, jalapeno chilies, flat leaf parsley, skirt steak, white vinegar, sea salt, bay leaf, chorizo sausage, [sentence -> 0], []]]                                                                          |[[token, 0, 4, olive, [sentence -> 0], []], [token, 6, 9, oil,, [sentence -> 0], []], [token, 11, 15, salt,, [sentence -> 0], []], [token, 17, 22, medium, [sentence -> 0], []], [token, 24, 30, shrimp,, [sentence -> 0], []], [token, 32, 38, pepper,, [sentence -> 0], []], [token, 40, 46, garlic,, [sentence -> 0], []], [token, 48, 54, chopped, [sentence -> 0], []], [token, 56, 64, cilantro,, [sentence -> 0], []], [token, 66, 73, jalapeno, [sentence -> 0], []], [token, 75, 82, chilies,, [sentence -> 0], []], [token, 84, 87, flat, [sentence -> 0], []], [token, 89, 92, leaf, [sentence -> 0], []], [token, 94, 101, parsley,, [sentence -> 0], []], [token, 103, 107, skirt, [sentence -> 0], []], [token, 109, 114, steak,, [sentence -> 0], []], [token, 116, 120, white, [sentence -> 0], []], [token, 122, 129, vinegar,, [sentence -> 0], []], [token, 131, 133, sea, [sentence -> 0], []], [token, 135, 139, salt,, [sentence -> 0], []], [token, 141, 143, bay, [sentence -> 0], []], [token, 145, 149, leaf,, [sentence -> 0], []], [token, 151, 157, chorizo, [sentence -> 0], []], [token, 159, 165, sausage, [sentence -> 0], []]]                                                                                                                                                                                                                                                                                                                                                                                                                                                            |[[token, 0, 4, olive, [sentence -> 0], []], [token, 6, 9, oil,, [sentence -> 0], []], [token, 11, 15, salt,, [sentence -> 0], []], [token, 17, 22, medium, [sentence -> 0], []], [token, 24, 30, shrimp,, [sentence -> 0], []], [token, 32, 38, pepper,, [sentence -> 0], []], [token, 40, 46, garlic,, [sentence -> 0], []], [token, 48, 54, chop, [sentence -> 0], []], [token, 56, 64, cilantro,, [sentence -> 0], []], [token, 66, 73, jalapeno, [sentence -> 0], []], [token, 75, 82, chilies,, [sentence -> 0], []], [token, 84, 87, flat, [sentence -> 0], []], [token, 89, 92, leaf, [sentence -> 0], []], [token, 94, 101, parsley,, [sentence -> 0], []], [token, 103, 107, skirt, [sentence -> 0], []], [token, 109, 114, steak,, [sentence -> 0], []], [token, 116, 120, white, [sentence -> 0], []], [token, 122, 129, vinegar,, [sentence -> 0], []], [token, 131, 133, sea, [sentence -> 0], []], [token, 135, 139, salt,, [sentence -> 0], []], [token, 141, 143, bay, [sentence -> 0], []], [token, 145, 149, leaf,, [sentence -> 0], []], [token, 151, 157, chorizo, [sentence -> 0], []], [token, 159, 165, sausage, [sentence -> 0], []]]                                                                                                                                                                                                                                                                                                                                                                                                                                                               |[[token, 0, 4, olive, [sentence -> 0], []], [token, 6, 8, oil, [sentence -> 0], []], [token, 11, 14, salt, [sentence -> 0], []], [token, 17, 22, medium, [sentence -> 0], []], [token, 24, 29, shrimp, [sentence -> 0], []], [token, 32, 37, pepper, [sentence -> 0], []], [token, 40, 45, garlic, [sentence -> 0], []], [token, 48, 51, chop, [sentence -> 0], []], [token, 56, 63, cilantro, [sentence -> 0], []], [token, 66, 73, jalapeno, [sentence -> 0], []], [token, 75, 81, chilies, [sentence -> 0], []], [token, 84, 87, flat, [sentence -> 0], []], [token, 89, 92, leaf, [sentence -> 0], []], [token, 94, 100, parsley, [sentence -> 0], []], [token, 103, 107, skirt, [sentence -> 0], []], [token, 109, 113, steak, [sentence -> 0], []], [token, 116, 120, white, [sentence -> 0], []], [token, 122, 128, vinegar, [sentence -> 0], []], [token, 131, 133, sea, [sentence -> 0], []], [token, 135, 138, salt, [sentence -> 0], []], [token, 141, 143, bay, [sentence -> 0], []], [token, 145, 148, leaf, [sentence -> 0], []], [token, 151, 157, chorizo, [sentence -> 0], []], [token, 159, 165, sausage, [sentence -> 0], []]]                                                                                                                                                                                                                                                                                                                                                                                                                                                        |\n",
            "|italian    |3735 |sugar, pistachio nuts, white almond bark, flour, vanilla extract, olive oil, almond extract, eggs, baking powder, dried cranberries                                                                                                             |10  |[[document, 0, 130, sugar, pistachio nuts, white almond bark, flour, vanilla extract, olive oil, almond extract, eggs, baking powder, dried cranberries, [sentence -> 0], []]]                                                                                                             |[[token, 0, 5, sugar,, [sentence -> 0], []], [token, 7, 15, pistachio, [sentence -> 0], []], [token, 17, 21, nuts,, [sentence -> 0], []], [token, 23, 27, white, [sentence -> 0], []], [token, 29, 34, almond, [sentence -> 0], []], [token, 36, 40, bark,, [sentence -> 0], []], [token, 42, 47, flour,, [sentence -> 0], []], [token, 49, 55, vanilla, [sentence -> 0], []], [token, 57, 64, extract,, [sentence -> 0], []], [token, 66, 70, olive, [sentence -> 0], []], [token, 72, 75, oil,, [sentence -> 0], []], [token, 77, 82, almond, [sentence -> 0], []], [token, 84, 91, extract,, [sentence -> 0], []], [token, 93, 97, eggs,, [sentence -> 0], []], [token, 99, 104, baking, [sentence -> 0], []], [token, 106, 112, powder,, [sentence -> 0], []], [token, 114, 118, dried, [sentence -> 0], []], [token, 120, 130, cranberries, [sentence -> 0], []]]                                                                                                                                                                                                                                                                                                                                                                                                                                                                                                                                                                                                                                                                                                                                                      |[[token, 0, 5, sugar,, [sentence -> 0], []], [token, 7, 15, pistachio, [sentence -> 0], []], [token, 17, 21, nuts,, [sentence -> 0], []], [token, 23, 27, white, [sentence -> 0], []], [token, 29, 34, almond, [sentence -> 0], []], [token, 36, 40, bark,, [sentence -> 0], []], [token, 42, 47, flour,, [sentence -> 0], []], [token, 49, 55, vanilla, [sentence -> 0], []], [token, 57, 64, extract,, [sentence -> 0], []], [token, 66, 70, olive, [sentence -> 0], []], [token, 72, 75, oil,, [sentence -> 0], []], [token, 77, 82, almond, [sentence -> 0], []], [token, 84, 91, extract,, [sentence -> 0], []], [token, 93, 97, eggs,, [sentence -> 0], []], [token, 99, 104, bake, [sentence -> 0], []], [token, 106, 112, powder,, [sentence -> 0], []], [token, 114, 118, dry, [sentence -> 0], []], [token, 120, 130, cranberry, [sentence -> 0], []]]                                                                                                                                                                                                                                                                                                                                                                                                                                                                                                                                                                                                                                                                                                                                                            |[[token, 0, 4, sugar, [sentence -> 0], []], [token, 7, 15, pistachio, [sentence -> 0], []], [token, 17, 20, nuts, [sentence -> 0], []], [token, 23, 27, white, [sentence -> 0], []], [token, 29, 34, almond, [sentence -> 0], []], [token, 36, 39, bark, [sentence -> 0], []], [token, 42, 46, flour, [sentence -> 0], []], [token, 49, 55, vanilla, [sentence -> 0], []], [token, 57, 63, extract, [sentence -> 0], []], [token, 66, 70, olive, [sentence -> 0], []], [token, 72, 74, oil, [sentence -> 0], []], [token, 77, 82, almond, [sentence -> 0], []], [token, 84, 90, extract, [sentence -> 0], []], [token, 93, 96, eggs, [sentence -> 0], []], [token, 99, 102, bake, [sentence -> 0], []], [token, 106, 111, powder, [sentence -> 0], []], [token, 114, 116, dry, [sentence -> 0], []], [token, 120, 128, cranberry, [sentence -> 0], []]]                                                                                                                                                                                                                                                                                                                                                                                                                                                                                                                                                                                                                                                                                                                                                  |\n",
            "|mexican    |16903|olive oil, purple onion, fresh pineapple, pork, poblano peppers, corn tortillas, cheddar cheese, ground black pepper, salt, iceberg lettuce, lime, jalapeno chilies, chopped cilantro fresh                                                     |13  |[[document, 0, 186, olive oil, purple onion, fresh pineapple, pork, poblano peppers, corn tortillas, cheddar cheese, ground black pepper, salt, iceberg lettuce, lime, jalapeno chilies, chopped cilantro fresh, [sentence -> 0], []]]                                                     |[[token, 0, 4, olive, [sentence -> 0], []], [token, 6, 9, oil,, [sentence -> 0], []], [token, 11, 16, purple, [sentence -> 0], []], [token, 18, 23, onion,, [sentence -> 0], []], [token, 25, 29, fresh, [sentence -> 0], []], [token, 31, 40, pineapple,, [sentence -> 0], []], [token, 42, 46, pork,, [sentence -> 0], []], [token, 48, 54, poblano, [sentence -> 0], []], [token, 56, 63, peppers,, [sentence -> 0], []], [token, 65, 68, corn, [sentence -> 0], []], [token, 70, 79, tortillas,, [sentence -> 0], []], [token, 81, 87, cheddar, [sentence -> 0], []], [token, 89, 95, cheese,, [sentence -> 0], []], [token, 97, 102, ground, [sentence -> 0], []], [token, 104, 108, black, [sentence -> 0], []], [token, 110, 116, pepper,, [sentence -> 0], []], [token, 118, 122, salt,, [sentence -> 0], []], [token, 124, 130, iceberg, [sentence -> 0], []], [token, 132, 139, lettuce,, [sentence -> 0], []], [token, 141, 145, lime,, [sentence -> 0], []], [token, 147, 154, jalapeno, [sentence -> 0], []], [token, 156, 163, chilies,, [sentence -> 0], []], [token, 165, 171, chopped, [sentence -> 0], []], [token, 173, 180, cilantro, [sentence -> 0], []], [token, 182, 186, fresh, [sentence -> 0], []]]                                                                                                                                                                                                                                                                                                                                                                                              |[[token, 0, 4, olive, [sentence -> 0], []], [token, 6, 9, oil,, [sentence -> 0], []], [token, 11, 16, purple, [sentence -> 0], []], [token, 18, 23, onion,, [sentence -> 0], []], [token, 25, 29, fresh, [sentence -> 0], []], [token, 31, 40, pineapple,, [sentence -> 0], []], [token, 42, 46, pork,, [sentence -> 0], []], [token, 48, 54, poblano, [sentence -> 0], []], [token, 56, 63, peppers,, [sentence -> 0], []], [token, 65, 68, corn, [sentence -> 0], []], [token, 70, 79, tortillas,, [sentence -> 0], []], [token, 81, 87, cheddar, [sentence -> 0], []], [token, 89, 95, cheese,, [sentence -> 0], []], [token, 97, 102, ground, [sentence -> 0], []], [token, 104, 108, black, [sentence -> 0], []], [token, 110, 116, pepper,, [sentence -> 0], []], [token, 118, 122, salt,, [sentence -> 0], []], [token, 124, 130, iceberg, [sentence -> 0], []], [token, 132, 139, lettuce,, [sentence -> 0], []], [token, 141, 145, lime,, [sentence -> 0], []], [token, 147, 154, jalapeno, [sentence -> 0], []], [token, 156, 163, chilies,, [sentence -> 0], []], [token, 165, 171, chop, [sentence -> 0], []], [token, 173, 180, cilantro, [sentence -> 0], []], [token, 182, 186, fresh, [sentence -> 0], []]]                                                                                                                                                                                                                                                                                                                                                                                                 |[[token, 0, 4, olive, [sentence -> 0], []], [token, 6, 8, oil, [sentence -> 0], []], [token, 11, 16, purple, [sentence -> 0], []], [token, 18, 22, onion, [sentence -> 0], []], [token, 25, 29, fresh, [sentence -> 0], []], [token, 31, 39, pineapple, [sentence -> 0], []], [token, 42, 45, pork, [sentence -> 0], []], [token, 48, 54, poblano, [sentence -> 0], []], [token, 56, 62, peppers, [sentence -> 0], []], [token, 65, 68, corn, [sentence -> 0], []], [token, 70, 78, tortillas, [sentence -> 0], []], [token, 81, 87, cheddar, [sentence -> 0], []], [token, 89, 94, cheese, [sentence -> 0], []], [token, 97, 102, ground, [sentence -> 0], []], [token, 104, 108, black, [sentence -> 0], []], [token, 110, 115, pepper, [sentence -> 0], []], [token, 118, 121, salt, [sentence -> 0], []], [token, 124, 130, iceberg, [sentence -> 0], []], [token, 132, 138, lettuce, [sentence -> 0], []], [token, 141, 144, lime, [sentence -> 0], []], [token, 147, 154, jalapeno, [sentence -> 0], []], [token, 156, 162, chilies, [sentence -> 0], []], [token, 165, 168, chop, [sentence -> 0], []], [token, 173, 180, cilantro, [sentence -> 0], []], [token, 182, 186, fresh, [sentence -> 0], []]]                                                                                                                                                                                                                                                                                                                                                                                          |\n",
            "|italian    |12734|chopped tomatoes, fresh basil, garlic, extra-virgin olive oil, kosher salt, flat leaf parsley                                                                                                                                                   |6   |[[document, 0, 92, chopped tomatoes, fresh basil, garlic, extra-virgin olive oil, kosher salt, flat leaf parsley, [sentence -> 0], []]]                                                                                                                                                    |[[token, 0, 6, chopped, [sentence -> 0], []], [token, 8, 16, tomatoes,, [sentence -> 0], []], [token, 18, 22, fresh, [sentence -> 0], []], [token, 24, 29, basil,, [sentence -> 0], []], [token, 31, 37, garlic,, [sentence -> 0], []], [token, 39, 50, extra-virgin, [sentence -> 0], []], [token, 52, 56, olive, [sentence -> 0], []], [token, 58, 61, oil,, [sentence -> 0], []], [token, 63, 68, kosher, [sentence -> 0], []], [token, 70, 74, salt,, [sentence -> 0], []], [token, 76, 79, flat, [sentence -> 0], []], [token, 81, 84, leaf, [sentence -> 0], []], [token, 86, 92, parsley, [sentence -> 0], []]]                                                                                                                                                                                                                                                                                                                                                                                                                                                                                                                                                                                                                                                                                                                                                                                                                                                                                                                                                                                                      |[[token, 0, 6, chop, [sentence -> 0], []], [token, 8, 16, tomatoes,, [sentence -> 0], []], [token, 18, 22, fresh, [sentence -> 0], []], [token, 24, 29, basil,, [sentence -> 0], []], [token, 31, 37, garlic,, [sentence -> 0], []], [token, 39, 50, extra-virgin, [sentence -> 0], []], [token, 52, 56, olive, [sentence -> 0], []], [token, 58, 61, oil,, [sentence -> 0], []], [token, 63, 68, kosher, [sentence -> 0], []], [token, 70, 74, salt,, [sentence -> 0], []], [token, 76, 79, flat, [sentence -> 0], []], [token, 81, 84, leaf, [sentence -> 0], []], [token, 86, 92, parsley, [sentence -> 0], []]]                                                                                                                                                                                                                                                                                                                                                                                                                                                                                                                                                                                                                                                                                                                                                                                                                                                                                                                                                                                                         |[[token, 0, 3, chop, [sentence -> 0], []], [token, 8, 15, tomatoes, [sentence -> 0], []], [token, 18, 22, fresh, [sentence -> 0], []], [token, 24, 28, basil, [sentence -> 0], []], [token, 31, 36, garlic, [sentence -> 0], []], [token, 39, 50, extra-virgin, [sentence -> 0], []], [token, 52, 56, olive, [sentence -> 0], []], [token, 58, 60, oil, [sentence -> 0], []], [token, 63, 68, kosher, [sentence -> 0], []], [token, 70, 73, salt, [sentence -> 0], []], [token, 76, 79, flat, [sentence -> 0], []], [token, 81, 84, leaf, [sentence -> 0], []], [token, 86, 92, parsley, [sentence -> 0], []]]                                                                                                                                                                                                                                                                                                                                                                                                                                                                                                                                                                                                                                                                                                                                                                                                                                                                                                                                                                                           |\n",
            "|italian    |5875 |pimentos, sweet pepper, dried oregano, olive oil, garlic, sharp cheddar cheese, pepper, swiss cheese, provolone cheese, canola oil, mushrooms, black olives, sausages                                                                           |13  |[[document, 0, 164, pimentos, sweet pepper, dried oregano, olive oil, garlic, sharp cheddar cheese, pepper, swiss cheese, provolone cheese, canola oil, mushrooms, black olives, sausages, [sentence -> 0], []]]                                                                           |[[token, 0, 8, pimentos,, [sentence -> 0], []], [token, 10, 14, sweet, [sentence -> 0], []], [token, 16, 22, pepper,, [sentence -> 0], []], [token, 24, 28, dried, [sentence -> 0], []], [token, 30, 37, oregano,, [sentence -> 0], []], [token, 39, 43, olive, [sentence -> 0], []], [token, 45, 48, oil,, [sentence -> 0], []], [token, 50, 56, garlic,, [sentence -> 0], []], [token, 58, 62, sharp, [sentence -> 0], []], [token, 64, 70, cheddar, [sentence -> 0], []], [token, 72, 78, cheese,, [sentence -> 0], []], [token, 80, 86, pepper,, [sentence -> 0], []], [token, 88, 92, swiss, [sentence -> 0], []], [token, 94, 100, cheese,, [sentence -> 0], []], [token, 102, 110, provolone, [sentence -> 0], []], [token, 112, 118, cheese,, [sentence -> 0], []], [token, 120, 125, canola, [sentence -> 0], []], [token, 127, 130, oil,, [sentence -> 0], []], [token, 132, 141, mushrooms,, [sentence -> 0], []], [token, 143, 147, black, [sentence -> 0], []], [token, 149, 155, olives,, [sentence -> 0], []], [token, 157, 164, sausages, [sentence -> 0], []]]                                                                                                                                                                                                                                                                                                                                                                                                                                                                                                                                             |[[token, 0, 8, pimentos,, [sentence -> 0], []], [token, 10, 14, sweet, [sentence -> 0], []], [token, 16, 22, pepper,, [sentence -> 0], []], [token, 24, 28, dry, [sentence -> 0], []], [token, 30, 37, oregano,, [sentence -> 0], []], [token, 39, 43, olive, [sentence -> 0], []], [token, 45, 48, oil,, [sentence -> 0], []], [token, 50, 56, garlic,, [sentence -> 0], []], [token, 58, 62, sharp, [sentence -> 0], []], [token, 64, 70, cheddar, [sentence -> 0], []], [token, 72, 78, cheese,, [sentence -> 0], []], [token, 80, 86, pepper,, [sentence -> 0], []], [token, 88, 92, swiss, [sentence -> 0], []], [token, 94, 100, cheese,, [sentence -> 0], []], [token, 102, 110, provolone, [sentence -> 0], []], [token, 112, 118, cheese,, [sentence -> 0], []], [token, 120, 125, canola, [sentence -> 0], []], [token, 127, 130, oil,, [sentence -> 0], []], [token, 132, 141, mushrooms,, [sentence -> 0], []], [token, 143, 147, black, [sentence -> 0], []], [token, 149, 155, olives,, [sentence -> 0], []], [token, 157, 164, sausage, [sentence -> 0], []]]                                                                                                                                                                                                                                                                                                                                                                                                                                                                                                                                                |[[token, 0, 7, pimentos, [sentence -> 0], []], [token, 10, 14, sweet, [sentence -> 0], []], [token, 16, 21, pepper, [sentence -> 0], []], [token, 24, 26, dry, [sentence -> 0], []], [token, 30, 36, oregano, [sentence -> 0], []], [token, 39, 43, olive, [sentence -> 0], []], [token, 45, 47, oil, [sentence -> 0], []], [token, 50, 55, garlic, [sentence -> 0], []], [token, 58, 62, sharp, [sentence -> 0], []], [token, 64, 70, cheddar, [sentence -> 0], []], [token, 72, 77, cheese, [sentence -> 0], []], [token, 80, 85, pepper, [sentence -> 0], []], [token, 88, 92, swiss, [sentence -> 0], []], [token, 94, 99, cheese, [sentence -> 0], []], [token, 102, 110, provolone, [sentence -> 0], []], [token, 112, 117, cheese, [sentence -> 0], []], [token, 120, 125, canola, [sentence -> 0], []], [token, 127, 129, oil, [sentence -> 0], []], [token, 132, 140, mushrooms, [sentence -> 0], []], [token, 143, 147, black, [sentence -> 0], []], [token, 149, 154, olives, [sentence -> 0], []], [token, 157, 163, sausage, [sentence -> 0], []]]                                                                                                                                                                                                                                                                                                                                                                                                                                                                                                                                          |\n",
            "|chinese    |45887|low sodium soy sauce, fresh ginger, dry mustard, green beans, white pepper, sesame oil, scallions, canola oil, sugar, Shaoxing wine, garlic, ground turkey, water, crushed red pepper flakes, corn starch                                       |15  |[[document, 0, 200, low sodium soy sauce, fresh ginger, dry mustard, green beans, white pepper, sesame oil, scallions, canola oil, sugar, Shaoxing wine, garlic, ground turkey, water, crushed red pepper flakes, corn starch, [sentence -> 0], []]]                                       |[[token, 0, 2, low, [sentence -> 0], []], [token, 4, 9, sodium, [sentence -> 0], []], [token, 11, 13, soy, [sentence -> 0], []], [token, 15, 20, sauce,, [sentence -> 0], []], [token, 22, 26, fresh, [sentence -> 0], []], [token, 28, 34, ginger,, [sentence -> 0], []], [token, 36, 38, dry, [sentence -> 0], []], [token, 40, 47, mustard,, [sentence -> 0], []], [token, 49, 53, green, [sentence -> 0], []], [token, 55, 60, beans,, [sentence -> 0], []], [token, 62, 66, white, [sentence -> 0], []], [token, 68, 74, pepper,, [sentence -> 0], []], [token, 76, 81, sesame, [sentence -> 0], []], [token, 83, 86, oil,, [sentence -> 0], []], [token, 88, 97, scallions,, [sentence -> 0], []], [token, 99, 104, canola, [sentence -> 0], []], [token, 106, 109, oil,, [sentence -> 0], []], [token, 111, 116, sugar,, [sentence -> 0], []], [token, 118, 125, Shaoxing, [sentence -> 0], []], [token, 127, 131, wine,, [sentence -> 0], []], [token, 133, 139, garlic,, [sentence -> 0], []], [token, 141, 146, ground, [sentence -> 0], []], [token, 148, 154, turkey,, [sentence -> 0], []], [token, 156, 161, water,, [sentence -> 0], []], [token, 163, 169, crushed, [sentence -> 0], []], [token, 171, 173, red, [sentence -> 0], []], [token, 175, 180, pepper, [sentence -> 0], []], [token, 182, 188, flakes,, [sentence -> 0], []], [token, 190, 193, corn, [sentence -> 0], []], [token, 195, 200, starch, [sentence -> 0], []]]                                                                                                                                                                       |[[token, 0, 2, low, [sentence -> 0], []], [token, 4, 9, sodium, [sentence -> 0], []], [token, 11, 13, soy, [sentence -> 0], []], [token, 15, 20, sauce,, [sentence -> 0], []], [token, 22, 26, fresh, [sentence -> 0], []], [token, 28, 34, ginger,, [sentence -> 0], []], [token, 36, 38, dry, [sentence -> 0], []], [token, 40, 47, mustard,, [sentence -> 0], []], [token, 49, 53, green, [sentence -> 0], []], [token, 55, 60, beans,, [sentence -> 0], []], [token, 62, 66, white, [sentence -> 0], []], [token, 68, 74, pepper,, [sentence -> 0], []], [token, 76, 81, sesame, [sentence -> 0], []], [token, 83, 86, oil,, [sentence -> 0], []], [token, 88, 97, scallions,, [sentence -> 0], []], [token, 99, 104, canola, [sentence -> 0], []], [token, 106, 109, oil,, [sentence -> 0], []], [token, 111, 116, sugar,, [sentence -> 0], []], [token, 118, 125, Shaoxing, [sentence -> 0], []], [token, 127, 131, wine,, [sentence -> 0], []], [token, 133, 139, garlic,, [sentence -> 0], []], [token, 141, 146, ground, [sentence -> 0], []], [token, 148, 154, turkey,, [sentence -> 0], []], [token, 156, 161, water,, [sentence -> 0], []], [token, 163, 169, crush, [sentence -> 0], []], [token, 171, 173, red, [sentence -> 0], []], [token, 175, 180, pepper, [sentence -> 0], []], [token, 182, 188, flakes,, [sentence -> 0], []], [token, 190, 193, corn, [sentence -> 0], []], [token, 195, 200, starch, [sentence -> 0], []]]                                                                                                                                                                         |[[token, 0, 2, low, [sentence -> 0], []], [token, 4, 9, sodium, [sentence -> 0], []], [token, 11, 13, soy, [sentence -> 0], []], [token, 15, 19, sauce, [sentence -> 0], []], [token, 22, 26, fresh, [sentence -> 0], []], [token, 28, 33, ginger, [sentence -> 0], []], [token, 36, 38, dry, [sentence -> 0], []], [token, 40, 46, mustard, [sentence -> 0], []], [token, 49, 53, green, [sentence -> 0], []], [token, 55, 59, beans, [sentence -> 0], []], [token, 62, 66, white, [sentence -> 0], []], [token, 68, 73, pepper, [sentence -> 0], []], [token, 76, 81, sesame, [sentence -> 0], []], [token, 83, 85, oil, [sentence -> 0], []], [token, 88, 96, scallions, [sentence -> 0], []], [token, 99, 104, canola, [sentence -> 0], []], [token, 106, 108, oil, [sentence -> 0], []], [token, 111, 115, sugar, [sentence -> 0], []], [token, 118, 125, shaoxing, [sentence -> 0], []], [token, 127, 130, wine, [sentence -> 0], []], [token, 133, 138, garlic, [sentence -> 0], []], [token, 141, 146, ground, [sentence -> 0], []], [token, 148, 153, turkey, [sentence -> 0], []], [token, 156, 160, water, [sentence -> 0], []], [token, 163, 167, crush, [sentence -> 0], []], [token, 171, 173, red, [sentence -> 0], []], [token, 175, 180, pepper, [sentence -> 0], []], [token, 182, 187, flakes, [sentence -> 0], []], [token, 190, 193, corn, [sentence -> 0], []], [token, 195, 200, starch, [sentence -> 0], []]]                                                                                                                                                                    |\n",
            "|italian    |2698 |Italian parsley leaves, walnuts, hot red pepper flakes, extra-virgin olive oil, fresh lemon juice, trout fillet, garlic cloves, chipotle chile, fine sea salt, flat leaf parsley                                                                |10  |[[document, 0, 175, Italian parsley leaves, walnuts, hot red pepper flakes, extra-virgin olive oil, fresh lemon juice, trout fillet, garlic cloves, chipotle chile, fine sea salt, flat leaf parsley, [sentence -> 0], []]]                                                                |[[token, 0, 6, Italian, [sentence -> 0], []], [token, 8, 14, parsley, [sentence -> 0], []], [token, 16, 22, leaves,, [sentence -> 0], []], [token, 24, 31, walnuts,, [sentence -> 0], []], [token, 33, 35, hot, [sentence -> 0], []], [token, 37, 39, red, [sentence -> 0], []], [token, 41, 46, pepper, [sentence -> 0], []], [token, 48, 54, flakes,, [sentence -> 0], []], [token, 56, 67, extra-virgin, [sentence -> 0], []], [token, 69, 73, olive, [sentence -> 0], []], [token, 75, 78, oil,, [sentence -> 0], []], [token, 80, 84, fresh, [sentence -> 0], []], [token, 86, 90, lemon, [sentence -> 0], []], [token, 92, 97, juice,, [sentence -> 0], []], [token, 99, 103, trout, [sentence -> 0], []], [token, 105, 111, fillet,, [sentence -> 0], []], [token, 113, 118, garlic, [sentence -> 0], []], [token, 120, 126, cloves,, [sentence -> 0], []], [token, 128, 135, chipotle, [sentence -> 0], []], [token, 137, 142, chile,, [sentence -> 0], []], [token, 144, 147, fine, [sentence -> 0], []], [token, 149, 151, sea, [sentence -> 0], []], [token, 153, 157, salt,, [sentence -> 0], []], [token, 159, 162, flat, [sentence -> 0], []], [token, 164, 167, leaf, [sentence -> 0], []], [token, 169, 175, parsley, [sentence -> 0], []]]                                                                                                                                                                                                                                                                                                                                                                 |[[token, 0, 6, Italian, [sentence -> 0], []], [token, 8, 14, parsley, [sentence -> 0], []], [token, 16, 22, leaves,, [sentence -> 0], []], [token, 24, 31, walnuts,, [sentence -> 0], []], [token, 33, 35, hot, [sentence -> 0], []], [token, 37, 39, red, [sentence -> 0], []], [token, 41, 46, pepper, [sentence -> 0], []], [token, 48, 54, flakes,, [sentence -> 0], []], [token, 56, 67, extra-virgin, [sentence -> 0], []], [token, 69, 73, olive, [sentence -> 0], []], [token, 75, 78, oil,, [sentence -> 0], []], [token, 80, 84, fresh, [sentence -> 0], []], [token, 86, 90, lemon, [sentence -> 0], []], [token, 92, 97, juice,, [sentence -> 0], []], [token, 99, 103, trout, [sentence -> 0], []], [token, 105, 111, fillet,, [sentence -> 0], []], [token, 113, 118, garlic, [sentence -> 0], []], [token, 120, 126, cloves,, [sentence -> 0], []], [token, 128, 135, chipotle, [sentence -> 0], []], [token, 137, 142, chile,, [sentence -> 0], []], [token, 144, 147, fine, [sentence -> 0], []], [token, 149, 151, sea, [sentence -> 0], []], [token, 153, 157, salt,, [sentence -> 0], []], [token, 159, 162, flat, [sentence -> 0], []], [token, 164, 167, leaf, [sentence -> 0], []], [token, 169, 175, parsley, [sentence -> 0], []]]                                                                                                                                                                                                                                                                                                                                                                 |[[token, 0, 6, italian, [sentence -> 0], []], [token, 8, 14, parsley, [sentence -> 0], []], [token, 16, 21, leaves, [sentence -> 0], []], [token, 24, 30, walnuts, [sentence -> 0], []], [token, 33, 35, hot, [sentence -> 0], []], [token, 37, 39, red, [sentence -> 0], []], [token, 41, 46, pepper, [sentence -> 0], []], [token, 48, 53, flakes, [sentence -> 0], []], [token, 56, 67, extra-virgin, [sentence -> 0], []], [token, 69, 73, olive, [sentence -> 0], []], [token, 75, 77, oil, [sentence -> 0], []], [token, 80, 84, fresh, [sentence -> 0], []], [token, 86, 90, lemon, [sentence -> 0], []], [token, 92, 96, juice, [sentence -> 0], []], [token, 99, 103, trout, [sentence -> 0], []], [token, 105, 110, fillet, [sentence -> 0], []], [token, 113, 118, garlic, [sentence -> 0], []], [token, 120, 125, cloves, [sentence -> 0], []], [token, 128, 135, chipotle, [sentence -> 0], []], [token, 137, 141, chile, [sentence -> 0], []], [token, 144, 147, fine, [sentence -> 0], []], [token, 149, 151, sea, [sentence -> 0], []], [token, 153, 156, salt, [sentence -> 0], []], [token, 159, 162, flat, [sentence -> 0], []], [token, 164, 167, leaf, [sentence -> 0], []], [token, 169, 175, parsley, [sentence -> 0], []]]                                                                                                                                                                                                                                                                                                                                                       |\n",
            "|mexican    |41995|ground cinnamon, fresh cilantro, chili powder, ground coriander, kosher salt, ground black pepper, garlic, plum tomatoes, avocado, lime juice, flank steak, salt, ground cumin, black pepper, olive oil, crushed red pepper flakes, onions      |17  |[[document, 0, 233, ground cinnamon, fresh cilantro, chili powder, ground coriander, kosher salt, ground black pepper, garlic, plum tomatoes, avocado, lime juice, flank steak, salt, ground cumin, black pepper, olive oil, crushed red pepper flakes, onions, [sentence -> 0], []]]      |[[token, 0, 5, ground, [sentence -> 0], []], [token, 7, 15, cinnamon,, [sentence -> 0], []], [token, 17, 21, fresh, [sentence -> 0], []], [token, 23, 31, cilantro,, [sentence -> 0], []], [token, 33, 37, chili, [sentence -> 0], []], [token, 39, 45, powder,, [sentence -> 0], []], [token, 47, 52, ground, [sentence -> 0], []], [token, 54, 63, coriander,, [sentence -> 0], []], [token, 65, 70, kosher, [sentence -> 0], []], [token, 72, 76, salt,, [sentence -> 0], []], [token, 78, 83, ground, [sentence -> 0], []], [token, 85, 89, black, [sentence -> 0], []], [token, 91, 97, pepper,, [sentence -> 0], []], [token, 99, 105, garlic,, [sentence -> 0], []], [token, 107, 110, plum, [sentence -> 0], []], [token, 112, 120, tomatoes,, [sentence -> 0], []], [token, 122, 129, avocado,, [sentence -> 0], []], [token, 131, 134, lime, [sentence -> 0], []], [token, 136, 141, juice,, [sentence -> 0], []], [token, 143, 147, flank, [sentence -> 0], []], [token, 149, 154, steak,, [sentence -> 0], []], [token, 156, 160, salt,, [sentence -> 0], []], [token, 162, 167, ground, [sentence -> 0], []], [token, 169, 174, cumin,, [sentence -> 0], []], [token, 176, 180, black, [sentence -> 0], []], [token, 182, 188, pepper,, [sentence -> 0], []], [token, 190, 194, olive, [sentence -> 0], []], [token, 196, 199, oil,, [sentence -> 0], []], [token, 201, 207, crushed, [sentence -> 0], []], [token, 209, 211, red, [sentence -> 0], []], [token, 213, 218, pepper, [sentence -> 0], []], [token, 220, 226, flakes,, [sentence -> 0], []], [token, 228, 233, onions, [sentence -> 0], []]]      |[[token, 0, 5, ground, [sentence -> 0], []], [token, 7, 15, cinnamon,, [sentence -> 0], []], [token, 17, 21, fresh, [sentence -> 0], []], [token, 23, 31, cilantro,, [sentence -> 0], []], [token, 33, 37, chili, [sentence -> 0], []], [token, 39, 45, powder,, [sentence -> 0], []], [token, 47, 52, ground, [sentence -> 0], []], [token, 54, 63, coriander,, [sentence -> 0], []], [token, 65, 70, kosher, [sentence -> 0], []], [token, 72, 76, salt,, [sentence -> 0], []], [token, 78, 83, ground, [sentence -> 0], []], [token, 85, 89, black, [sentence -> 0], []], [token, 91, 97, pepper,, [sentence -> 0], []], [token, 99, 105, garlic,, [sentence -> 0], []], [token, 107, 110, plum, [sentence -> 0], []], [token, 112, 120, tomatoes,, [sentence -> 0], []], [token, 122, 129, avocado,, [sentence -> 0], []], [token, 131, 134, lime, [sentence -> 0], []], [token, 136, 141, juice,, [sentence -> 0], []], [token, 143, 147, flank, [sentence -> 0], []], [token, 149, 154, steak,, [sentence -> 0], []], [token, 156, 160, salt,, [sentence -> 0], []], [token, 162, 167, ground, [sentence -> 0], []], [token, 169, 174, cumin,, [sentence -> 0], []], [token, 176, 180, black, [sentence -> 0], []], [token, 182, 188, pepper,, [sentence -> 0], []], [token, 190, 194, olive, [sentence -> 0], []], [token, 196, 199, oil,, [sentence -> 0], []], [token, 201, 207, crush, [sentence -> 0], []], [token, 209, 211, red, [sentence -> 0], []], [token, 213, 218, pepper, [sentence -> 0], []], [token, 220, 226, flakes,, [sentence -> 0], []], [token, 228, 233, onion, [sentence -> 0], []]]         |[[token, 0, 5, ground, [sentence -> 0], []], [token, 7, 14, cinnamon, [sentence -> 0], []], [token, 17, 21, fresh, [sentence -> 0], []], [token, 23, 30, cilantro, [sentence -> 0], []], [token, 33, 37, chili, [sentence -> 0], []], [token, 39, 44, powder, [sentence -> 0], []], [token, 47, 52, ground, [sentence -> 0], []], [token, 54, 62, coriander, [sentence -> 0], []], [token, 65, 70, kosher, [sentence -> 0], []], [token, 72, 75, salt, [sentence -> 0], []], [token, 78, 83, ground, [sentence -> 0], []], [token, 85, 89, black, [sentence -> 0], []], [token, 91, 96, pepper, [sentence -> 0], []], [token, 99, 104, garlic, [sentence -> 0], []], [token, 107, 110, plum, [sentence -> 0], []], [token, 112, 119, tomatoes, [sentence -> 0], []], [token, 122, 128, avocado, [sentence -> 0], []], [token, 131, 134, lime, [sentence -> 0], []], [token, 136, 140, juice, [sentence -> 0], []], [token, 143, 147, flank, [sentence -> 0], []], [token, 149, 153, steak, [sentence -> 0], []], [token, 156, 159, salt, [sentence -> 0], []], [token, 162, 167, ground, [sentence -> 0], []], [token, 169, 173, cumin, [sentence -> 0], []], [token, 176, 180, black, [sentence -> 0], []], [token, 182, 187, pepper, [sentence -> 0], []], [token, 190, 194, olive, [sentence -> 0], []], [token, 196, 198, oil, [sentence -> 0], []], [token, 201, 205, crush, [sentence -> 0], []], [token, 209, 211, red, [sentence -> 0], []], [token, 213, 218, pepper, [sentence -> 0], []], [token, 220, 225, flakes, [sentence -> 0], []], [token, 228, 232, onion, [sentence -> 0], []]]      |\n",
            "|italian    |31908|fresh parmesan cheese, butter, all-purpose flour, fat free less sodium chicken broth, chopped fresh chives, gruyere cheese, ground black pepper, bacon slices, gnocchi, fat free milk, cooking spray, salt                                      |12  |[[document, 0, 201, fresh parmesan cheese, butter, all-purpose flour, fat free less sodium chicken broth, chopped fresh chives, gruyere cheese, ground black pepper, bacon slices, gnocchi, fat free milk, cooking spray, salt, [sentence -> 0], []]]                                      |[[token, 0, 4, fresh, [sentence -> 0], []], [token, 6, 13, parmesan, [sentence -> 0], []], [token, 15, 21, cheese,, [sentence -> 0], []], [token, 23, 29, butter,, [sentence -> 0], []], [token, 31, 41, all-purpose, [sentence -> 0], []], [token, 43, 48, flour,, [sentence -> 0], []], [token, 50, 52, fat, [sentence -> 0], []], [token, 54, 57, free, [sentence -> 0], []], [token, 59, 62, less, [sentence -> 0], []], [token, 64, 69, sodium, [sentence -> 0], []], [token, 71, 77, chicken, [sentence -> 0], []], [token, 79, 84, broth,, [sentence -> 0], []], [token, 86, 92, chopped, [sentence -> 0], []], [token, 94, 98, fresh, [sentence -> 0], []], [token, 100, 106, chives,, [sentence -> 0], []], [token, 108, 114, gruyere, [sentence -> 0], []], [token, 116, 122, cheese,, [sentence -> 0], []], [token, 124, 129, ground, [sentence -> 0], []], [token, 131, 135, black, [sentence -> 0], []], [token, 137, 143, pepper,, [sentence -> 0], []], [token, 145, 149, bacon, [sentence -> 0], []], [token, 151, 157, slices,, [sentence -> 0], []], [token, 159, 166, gnocchi,, [sentence -> 0], []], [token, 168, 170, fat, [sentence -> 0], []], [token, 172, 175, free, [sentence -> 0], []], [token, 177, 181, milk,, [sentence -> 0], []], [token, 183, 189, cooking, [sentence -> 0], []], [token, 191, 196, spray,, [sentence -> 0], []], [token, 198, 201, salt, [sentence -> 0], []]]                                                                                                                                                                                                           |[[token, 0, 4, fresh, [sentence -> 0], []], [token, 6, 13, parmesan, [sentence -> 0], []], [token, 15, 21, cheese,, [sentence -> 0], []], [token, 23, 29, butter,, [sentence -> 0], []], [token, 31, 41, all-purpose, [sentence -> 0], []], [token, 43, 48, flour,, [sentence -> 0], []], [token, 50, 52, fat, [sentence -> 0], []], [token, 54, 57, free, [sentence -> 0], []], [token, 59, 62, less, [sentence -> 0], []], [token, 64, 69, sodium, [sentence -> 0], []], [token, 71, 77, chicken, [sentence -> 0], []], [token, 79, 84, broth,, [sentence -> 0], []], [token, 86, 92, chop, [sentence -> 0], []], [token, 94, 98, fresh, [sentence -> 0], []], [token, 100, 106, chives,, [sentence -> 0], []], [token, 108, 114, gruyere, [sentence -> 0], []], [token, 116, 122, cheese,, [sentence -> 0], []], [token, 124, 129, ground, [sentence -> 0], []], [token, 131, 135, black, [sentence -> 0], []], [token, 137, 143, pepper,, [sentence -> 0], []], [token, 145, 149, bacon, [sentence -> 0], []], [token, 151, 157, slices,, [sentence -> 0], []], [token, 159, 166, gnocchi,, [sentence -> 0], []], [token, 168, 170, fat, [sentence -> 0], []], [token, 172, 175, free, [sentence -> 0], []], [token, 177, 181, milk,, [sentence -> 0], []], [token, 183, 189, cook, [sentence -> 0], []], [token, 191, 196, spray,, [sentence -> 0], []], [token, 198, 201, salt, [sentence -> 0], []]]                                                                                                                                                                                                                 |[[token, 0, 4, fresh, [sentence -> 0], []], [token, 6, 13, parmesan, [sentence -> 0], []], [token, 15, 20, cheese, [sentence -> 0], []], [token, 23, 28, butter, [sentence -> 0], []], [token, 31, 41, all-purpose, [sentence -> 0], []], [token, 43, 47, flour, [sentence -> 0], []], [token, 50, 52, fat, [sentence -> 0], []], [token, 54, 57, free, [sentence -> 0], []], [token, 59, 62, less, [sentence -> 0], []], [token, 64, 69, sodium, [sentence -> 0], []], [token, 71, 77, chicken, [sentence -> 0], []], [token, 79, 83, broth, [sentence -> 0], []], [token, 86, 89, chop, [sentence -> 0], []], [token, 94, 98, fresh, [sentence -> 0], []], [token, 100, 105, chives, [sentence -> 0], []], [token, 108, 114, gruyere, [sentence -> 0], []], [token, 116, 121, cheese, [sentence -> 0], []], [token, 124, 129, ground, [sentence -> 0], []], [token, 131, 135, black, [sentence -> 0], []], [token, 137, 142, pepper, [sentence -> 0], []], [token, 145, 149, bacon, [sentence -> 0], []], [token, 151, 156, slices, [sentence -> 0], []], [token, 159, 165, gnocchi, [sentence -> 0], []], [token, 168, 170, fat, [sentence -> 0], []], [token, 172, 175, free, [sentence -> 0], []], [token, 177, 180, milk, [sentence -> 0], []], [token, 183, 186, cook, [sentence -> 0], []], [token, 191, 195, spray, [sentence -> 0], []], [token, 198, 201, salt, [sentence -> 0], []]]                                                                                                                                                                                                         |\n",
            "|indian     |24717|tumeric, vegetable stock, tomatoes, garam masala, naan, red lentils, red chili peppers, onions, spinach, sweet potatoes                                                                                                                         |10  |[[document, 0, 118, tumeric, vegetable stock, tomatoes, garam masala, naan, red lentils, red chili peppers, onions, spinach, sweet potatoes, [sentence -> 0], []]]                                                                                                                         |[[token, 0, 7, tumeric,, [sentence -> 0], []], [token, 9, 17, vegetable, [sentence -> 0], []], [token, 19, 24, stock,, [sentence -> 0], []], [token, 26, 34, tomatoes,, [sentence -> 0], []], [token, 36, 40, garam, [sentence -> 0], []], [token, 42, 48, masala,, [sentence -> 0], []], [token, 50, 54, naan,, [sentence -> 0], []], [token, 56, 58, red, [sentence -> 0], []], [token, 60, 67, lentils,, [sentence -> 0], []], [token, 69, 71, red, [sentence -> 0], []], [token, 73, 77, chili, [sentence -> 0], []], [token, 79, 86, peppers,, [sentence -> 0], []], [token, 88, 94, onions,, [sentence -> 0], []], [token, 96, 103, spinach,, [sentence -> 0], []], [token, 105, 109, sweet, [sentence -> 0], []], [token, 111, 118, potatoes, [sentence -> 0], []]]                                                                                                                                                                                                                                                                                                                                                                                                                                                                                                                                                                                                                                                                                                                                                                                                                                                  |[[token, 0, 7, tumeric,, [sentence -> 0], []], [token, 9, 17, vegetable, [sentence -> 0], []], [token, 19, 24, stock,, [sentence -> 0], []], [token, 26, 34, tomatoes,, [sentence -> 0], []], [token, 36, 40, garam, [sentence -> 0], []], [token, 42, 48, masala,, [sentence -> 0], []], [token, 50, 54, naan,, [sentence -> 0], []], [token, 56, 58, red, [sentence -> 0], []], [token, 60, 67, lentils,, [sentence -> 0], []], [token, 69, 71, red, [sentence -> 0], []], [token, 73, 77, chili, [sentence -> 0], []], [token, 79, 86, peppers,, [sentence -> 0], []], [token, 88, 94, onions,, [sentence -> 0], []], [token, 96, 103, spinach,, [sentence -> 0], []], [token, 105, 109, sweet, [sentence -> 0], []], [token, 111, 118, potato, [sentence -> 0], []]]                                                                                                                                                                                                                                                                                                                                                                                                                                                                                                                                                                                                                                                                                                                                                                                                                                                    |[[token, 0, 6, tumeric, [sentence -> 0], []], [token, 9, 17, vegetable, [sentence -> 0], []], [token, 19, 23, stock, [sentence -> 0], []], [token, 26, 33, tomatoes, [sentence -> 0], []], [token, 36, 40, garam, [sentence -> 0], []], [token, 42, 47, masala, [sentence -> 0], []], [token, 50, 53, naan, [sentence -> 0], []], [token, 56, 58, red, [sentence -> 0], []], [token, 60, 66, lentils, [sentence -> 0], []], [token, 69, 71, red, [sentence -> 0], []], [token, 73, 77, chili, [sentence -> 0], []], [token, 79, 85, peppers, [sentence -> 0], []], [token, 88, 93, onions, [sentence -> 0], []], [token, 96, 102, spinach, [sentence -> 0], []], [token, 105, 109, sweet, [sentence -> 0], []], [token, 111, 116, potato, [sentence -> 0], []]]                                                                                                                                                                                                                                                                                                                                                                                                                                                                                                                                                                                                                                                                                                                                                                                                                                          |\n",
            "|british    |34466|greek yogurt, lemon curd, confectioners sugar, raspberries                                                                                                                                                                                      |4   |[[document, 0, 57, greek yogurt, lemon curd, confectioners sugar, raspberries, [sentence -> 0], []]]                                                                                                                                                                                       |[[token, 0, 4, greek, [sentence -> 0], []], [token, 6, 12, yogurt,, [sentence -> 0], []], [token, 14, 18, lemon, [sentence -> 0], []], [token, 20, 24, curd,, [sentence -> 0], []], [token, 26, 38, confectioners, [sentence -> 0], []], [token, 40, 45, sugar,, [sentence -> 0], []], [token, 47, 57, raspberries, [sentence -> 0], []]]                                                                                                                                                                                                                                                                                                                                                                                                                                                                                                                                                                                                                                                                                                                                                                                                                                                                                                                                                                                                                                                                                                                                                                                                                                                                                   |[[token, 0, 4, greek, [sentence -> 0], []], [token, 6, 12, yogurt,, [sentence -> 0], []], [token, 14, 18, lemon, [sentence -> 0], []], [token, 20, 24, curd,, [sentence -> 0], []], [token, 26, 38, confectioner, [sentence -> 0], []], [token, 40, 45, sugar,, [sentence -> 0], []], [token, 47, 57, raspberry, [sentence -> 0], []]]                                                                                                                                                                                                                                                                                                                                                                                                                                                                                                                                                                                                                                                                                                                                                                                                                                                                                                                                                                                                                                                                                                                                                                                                                                                                                      |[[token, 0, 4, greek, [sentence -> 0], []], [token, 6, 11, yogurt, [sentence -> 0], []], [token, 14, 18, lemon, [sentence -> 0], []], [token, 20, 23, curd, [sentence -> 0], []], [token, 26, 37, confectioner, [sentence -> 0], []], [token, 40, 44, sugar, [sentence -> 0], []], [token, 47, 55, raspberry, [sentence -> 0], []]]                                                                                                                                                                                                                                                                                                                                                                                                                                                                                                                                                                                                                                                                                                                                                                                                                                                                                                                                                                                                                                                                                                                                                                                                                                                                      |\n",
            "|italian    |1420 |italian seasoning, broiler-fryer chicken, mayonaise, zesty italian dressing                                                                                                                                                                     |4   |[[document, 0, 74, italian seasoning, broiler-fryer chicken, mayonaise, zesty italian dressing, [sentence -> 0], []]]                                                                                                                                                                      |[[token, 0, 6, italian, [sentence -> 0], []], [token, 8, 17, seasoning,, [sentence -> 0], []], [token, 19, 31, broiler-fryer, [sentence -> 0], []], [token, 33, 40, chicken,, [sentence -> 0], []], [token, 42, 51, mayonaise,, [sentence -> 0], []], [token, 53, 57, zesty, [sentence -> 0], []], [token, 59, 65, italian, [sentence -> 0], []], [token, 67, 74, dressing, [sentence -> 0], []]]                                                                                                                                                                                                                                                                                                                                                                                                                                                                                                                                                                                                                                                                                                                                                                                                                                                                                                                                                                                                                                                                                                                                                                                                                           |[[token, 0, 6, italian, [sentence -> 0], []], [token, 8, 17, seasoning,, [sentence -> 0], []], [token, 19, 31, broiler-fryer, [sentence -> 0], []], [token, 33, 40, chicken,, [sentence -> 0], []], [token, 42, 51, mayonaise,, [sentence -> 0], []], [token, 53, 57, zesty, [sentence -> 0], []], [token, 59, 65, italian, [sentence -> 0], []], [token, 67, 74, dress, [sentence -> 0], []]]                                                                                                                                                                                                                                                                                                                                                                                                                                                                                                                                                                                                                                                                                                                                                                                                                                                                                                                                                                                                                                                                                                                                                                                                                              |[[token, 0, 6, italian, [sentence -> 0], []], [token, 8, 16, seasoning, [sentence -> 0], []], [token, 19, 31, broiler-fryer, [sentence -> 0], []], [token, 33, 39, chicken, [sentence -> 0], []], [token, 42, 50, mayonaise, [sentence -> 0], []], [token, 53, 57, zesty, [sentence -> 0], []], [token, 59, 65, italian, [sentence -> 0], []], [token, 67, 71, dress, [sentence -> 0], []]]                                                                                                                                                                                                                                                                                                                                                                                                                                                                                                                                                                                                                                                                                                                                                                                                                                                                                                                                                                                                                                                                                                                                                                                                              |\n",
            "|thai       |2941 |sugar, hot chili, asian fish sauce, lime juice                                                                                                                                                                                                  |4   |[[document, 0, 45, sugar, hot chili, asian fish sauce, lime juice, [sentence -> 0], []]]                                                                                                                                                                                                   |[[token, 0, 5, sugar,, [sentence -> 0], []], [token, 7, 9, hot, [sentence -> 0], []], [token, 11, 16, chili,, [sentence -> 0], []], [token, 18, 22, asian, [sentence -> 0], []], [token, 24, 27, fish, [sentence -> 0], []], [token, 29, 34, sauce,, [sentence -> 0], []], [token, 36, 39, lime, [sentence -> 0], []], [token, 41, 45, juice, [sentence -> 0], []]]                                                                                                                                                                                                                                                                                                                                                                                                                                                                                                                                                                                                                                                                                                                                                                                                                                                                                                                                                                                                                                                                                                                                                                                                                                                         |[[token, 0, 5, sugar,, [sentence -> 0], []], [token, 7, 9, hot, [sentence -> 0], []], [token, 11, 16, chili,, [sentence -> 0], []], [token, 18, 22, asian, [sentence -> 0], []], [token, 24, 27, fish, [sentence -> 0], []], [token, 29, 34, sauce,, [sentence -> 0], []], [token, 36, 39, lime, [sentence -> 0], []], [token, 41, 45, juice, [sentence -> 0], []]]                                                                                                                                                                                                                                                                                                                                                                                                                                                                                                                                                                                                                                                                                                                                                                                                                                                                                                                                                                                                                                                                                                                                                                                                                                                         |[[token, 0, 4, sugar, [sentence -> 0], []], [token, 7, 9, hot, [sentence -> 0], []], [token, 11, 15, chili, [sentence -> 0], []], [token, 18, 22, asian, [sentence -> 0], []], [token, 24, 27, fish, [sentence -> 0], []], [token, 29, 33, sauce, [sentence -> 0], []], [token, 36, 39, lime, [sentence -> 0], []], [token, 41, 45, juice, [sentence -> 0], []]]                                                                                                                                                                                                                                                                                                                                                                                                                                                                                                                                                                                                                                                                                                                                                                                                                                                                                                                                                                                                                                                                                                                                                                                                                                         |\n",
            "|vietnamese |8152 |soy sauce, vegetable oil, red bell pepper, chicken broth, yellow squash, garlic chili sauce, sliced green onions, broccolini, salt, fresh lime juice, cooked rice, chicken breasts, corn starch                                                 |13  |[[document, 0, 190, soy sauce, vegetable oil, red bell pepper, chicken broth, yellow squash, garlic chili sauce, sliced green onions, broccolini, salt, fresh lime juice, cooked rice, chicken breasts, corn starch, [sentence -> 0], []]]                                                 |[[token, 0, 2, soy, [sentence -> 0], []], [token, 4, 9, sauce,, [sentence -> 0], []], [token, 11, 19, vegetable, [sentence -> 0], []], [token, 21, 24, oil,, [sentence -> 0], []], [token, 26, 28, red, [sentence -> 0], []], [token, 30, 33, bell, [sentence -> 0], []], [token, 35, 41, pepper,, [sentence -> 0], []], [token, 43, 49, chicken, [sentence -> 0], []], [token, 51, 56, broth,, [sentence -> 0], []], [token, 58, 63, yellow, [sentence -> 0], []], [token, 65, 71, squash,, [sentence -> 0], []], [token, 73, 78, garlic, [sentence -> 0], []], [token, 80, 84, chili, [sentence -> 0], []], [token, 86, 91, sauce,, [sentence -> 0], []], [token, 93, 98, sliced, [sentence -> 0], []], [token, 100, 104, green, [sentence -> 0], []], [token, 106, 112, onions,, [sentence -> 0], []], [token, 114, 124, broccolini,, [sentence -> 0], []], [token, 126, 130, salt,, [sentence -> 0], []], [token, 132, 136, fresh, [sentence -> 0], []], [token, 138, 141, lime, [sentence -> 0], []], [token, 143, 148, juice,, [sentence -> 0], []], [token, 150, 155, cooked, [sentence -> 0], []], [token, 157, 161, rice,, [sentence -> 0], []], [token, 163, 169, chicken, [sentence -> 0], []], [token, 171, 178, breasts,, [sentence -> 0], []], [token, 180, 183, corn, [sentence -> 0], []], [token, 185, 190, starch, [sentence -> 0], []]]                                                                                                                                                                                                                                                                  |[[token, 0, 2, soy, [sentence -> 0], []], [token, 4, 9, sauce,, [sentence -> 0], []], [token, 11, 19, vegetable, [sentence -> 0], []], [token, 21, 24, oil,, [sentence -> 0], []], [token, 26, 28, red, [sentence -> 0], []], [token, 30, 33, bell, [sentence -> 0], []], [token, 35, 41, pepper,, [sentence -> 0], []], [token, 43, 49, chicken, [sentence -> 0], []], [token, 51, 56, broth,, [sentence -> 0], []], [token, 58, 63, yellow, [sentence -> 0], []], [token, 65, 71, squash,, [sentence -> 0], []], [token, 73, 78, garlic, [sentence -> 0], []], [token, 80, 84, chili, [sentence -> 0], []], [token, 86, 91, sauce,, [sentence -> 0], []], [token, 93, 98, slice, [sentence -> 0], []], [token, 100, 104, green, [sentence -> 0], []], [token, 106, 112, onions,, [sentence -> 0], []], [token, 114, 124, broccolini,, [sentence -> 0], []], [token, 126, 130, salt,, [sentence -> 0], []], [token, 132, 136, fresh, [sentence -> 0], []], [token, 138, 141, lime, [sentence -> 0], []], [token, 143, 148, juice,, [sentence -> 0], []], [token, 150, 155, cook, [sentence -> 0], []], [token, 157, 161, rice,, [sentence -> 0], []], [token, 163, 169, chicken, [sentence -> 0], []], [token, 171, 178, breasts,, [sentence -> 0], []], [token, 180, 183, corn, [sentence -> 0], []], [token, 185, 190, starch, [sentence -> 0], []]]                                                                                                                                                                                                                                                                     |[[token, 0, 2, soy, [sentence -> 0], []], [token, 4, 8, sauce, [sentence -> 0], []], [token, 11, 19, vegetable, [sentence -> 0], []], [token, 21, 23, oil, [sentence -> 0], []], [token, 26, 28, red, [sentence -> 0], []], [token, 30, 33, bell, [sentence -> 0], []], [token, 35, 40, pepper, [sentence -> 0], []], [token, 43, 49, chicken, [sentence -> 0], []], [token, 51, 55, broth, [sentence -> 0], []], [token, 58, 63, yellow, [sentence -> 0], []], [token, 65, 70, squash, [sentence -> 0], []], [token, 73, 78, garlic, [sentence -> 0], []], [token, 80, 84, chili, [sentence -> 0], []], [token, 86, 90, sauce, [sentence -> 0], []], [token, 93, 97, slice, [sentence -> 0], []], [token, 100, 104, green, [sentence -> 0], []], [token, 106, 111, onions, [sentence -> 0], []], [token, 114, 123, broccolini, [sentence -> 0], []], [token, 126, 129, salt, [sentence -> 0], []], [token, 132, 136, fresh, [sentence -> 0], []], [token, 138, 141, lime, [sentence -> 0], []], [token, 143, 147, juice, [sentence -> 0], []], [token, 150, 153, cook, [sentence -> 0], []], [token, 157, 160, rice, [sentence -> 0], []], [token, 163, 169, chicken, [sentence -> 0], []], [token, 171, 177, breasts, [sentence -> 0], []], [token, 180, 183, corn, [sentence -> 0], []], [token, 185, 190, starch, [sentence -> 0], []]]                                                                                                                                                                                                                                                              |\n",
            "+-----------+-----+------------------------------------------------------------------------------------------------------------------------------------------------------------------------------------------------------------------------------------------------+----+-------------------------------------------------------------------------------------------------------------------------------------------------------------------------------------------------------------------------------------------------------------------------------------------+----------------------------------------------------------------------------------------------------------------------------------------------------------------------------------------------------------------------------------------------------------------------------------------------------------------------------------------------------------------------------------------------------------------------------------------------------------------------------------------------------------------------------------------------------------------------------------------------------------------------------------------------------------------------------------------------------------------------------------------------------------------------------------------------------------------------------------------------------------------------------------------------------------------------------------------------------------------------------------------------------------------------------------------------------------------------------------------------------------------------------------------------------------------------------------------------------------------------------------------------------------------------------------------------------------------------------------------------------------------------------------------------------------------------------------------------------------------------------------------------------------------------------------------------------------------------------------------------------------------------------+----------------------------------------------------------------------------------------------------------------------------------------------------------------------------------------------------------------------------------------------------------------------------------------------------------------------------------------------------------------------------------------------------------------------------------------------------------------------------------------------------------------------------------------------------------------------------------------------------------------------------------------------------------------------------------------------------------------------------------------------------------------------------------------------------------------------------------------------------------------------------------------------------------------------------------------------------------------------------------------------------------------------------------------------------------------------------------------------------------------------------------------------------------------------------------------------------------------------------------------------------------------------------------------------------------------------------------------------------------------------------------------------------------------------------------------------------------------------------------------------------------------------------------------------------------------------------------------------------------------------------+---------------------------------------------------------------------------------------------------------------------------------------------------------------------------------------------------------------------------------------------------------------------------------------------------------------------------------------------------------------------------------------------------------------------------------------------------------------------------------------------------------------------------------------------------------------------------------------------------------------------------------------------------------------------------------------------------------------------------------------------------------------------------------------------------------------------------------------------------------------------------------------------------------------------------------------------------------------------------------------------------------------------------------------------------------------------------------------------------------------------------------------------------------------------------------------------------------------------------------------------------------------------------------------------------------------------------------------------------------------------------------------------------------------------------------------------------------------------------------------------------------------------------------------------------------------------------------------------------------+\n",
            "only showing top 20 rows\n",
            "\n"
          ]
        }
      ]
    },
    {
      "cell_type": "code",
      "source": [
        ""
      ],
      "metadata": {
        "id": "CCgPblPU7pfJ"
      },
      "id": "CCgPblPU7pfJ",
      "execution_count": null,
      "outputs": []
    },
    {
      "cell_type": "code",
      "source": [
        ""
      ],
      "metadata": {
        "id": "7V5KXa5C7piH"
      },
      "id": "7V5KXa5C7piH",
      "execution_count": null,
      "outputs": []
    },
    {
      "cell_type": "markdown",
      "metadata": {
        "id": "Ou54XRtJZPty"
      },
      "source": [
        "1 - 0.69046 on kaggle\n",
        "\n",
        "2 - 0.70132 on kaggle\n",
        "\n",
        "3 - 0.71771 on kaggle"
      ],
      "id": "Ou54XRtJZPty"
    },
    {
      "cell_type": "code",
      "execution_count": null,
      "metadata": {
        "id": "-Uw0y8pmXuXq"
      },
      "outputs": [],
      "source": [
        "# split_udf = F.udf(lambda value: value[1].item(), DoubleType())"
      ],
      "id": "-Uw0y8pmXuXq"
    }
  ],
  "metadata": {
    "colab": {
      "collapsed_sections": [],
      "name": "spark_final",
      "provenance": [],
      "include_colab_link": true
    },
    "kernelspec": {
      "display_name": "Python 3",
      "language": "python",
      "name": "python3"
    },
    "language_info": {
      "codemirror_mode": {
        "name": "ipython",
        "version": 3
      },
      "file_extension": ".py",
      "mimetype": "text/x-python",
      "name": "python",
      "nbconvert_exporter": "python",
      "pygments_lexer": "ipython3",
      "version": "3.8.8"
    },
    "accelerator": "GPU"
  },
  "nbformat": 4,
  "nbformat_minor": 5
}