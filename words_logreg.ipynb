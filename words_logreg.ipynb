{
 "cells": [
  {
   "cell_type": "code",
   "execution_count": 1,
   "id": "3a47ec3d",
   "metadata": {},
   "outputs": [],
   "source": [
    "import pandas as pd\n",
    "import numpy as np\n",
    "import re\n",
    "import spacy\n",
    "import optuna\n",
    "\n",
    "nlp = spacy.load('en_core_web_sm', disable=['parser', 'ner', 'tagger'])\n",
    "\n",
    "from sklearn.feature_extraction.text import TfidfVectorizer\n",
    "from sklearn.model_selection import train_test_split, cross_val_score, GridSearchCV\n",
    "\n",
    "from sklearn.linear_model import LogisticRegression\n",
    "from sklearn.svm import SVC\n",
    "from sklearn.pipeline import Pipeline\n",
    "\n",
    "from sklearn.metrics import accuracy_score\n",
    "\n",
    "from catboost import CatBoostClassifier"
   ]
  },
  {
   "cell_type": "markdown",
   "id": "1e18c43a",
   "metadata": {},
   "source": [
    "### Data"
   ]
  },
  {
   "cell_type": "code",
   "execution_count": 2,
   "id": "1330e171",
   "metadata": {},
   "outputs": [],
   "source": [
    "train = pd.read_json('train.json').set_index('id')"
   ]
  },
  {
   "cell_type": "code",
   "execution_count": 3,
   "id": "92bb8c5d",
   "metadata": {},
   "outputs": [
    {
     "data": {
      "text/html": [
       "<div>\n",
       "<style scoped>\n",
       "    .dataframe tbody tr th:only-of-type {\n",
       "        vertical-align: middle;\n",
       "    }\n",
       "\n",
       "    .dataframe tbody tr th {\n",
       "        vertical-align: top;\n",
       "    }\n",
       "\n",
       "    .dataframe thead th {\n",
       "        text-align: right;\n",
       "    }\n",
       "</style>\n",
       "<table border=\"1\" class=\"dataframe\">\n",
       "  <thead>\n",
       "    <tr style=\"text-align: right;\">\n",
       "      <th></th>\n",
       "      <th>cuisine</th>\n",
       "      <th>ingredients</th>\n",
       "    </tr>\n",
       "    <tr>\n",
       "      <th>id</th>\n",
       "      <th></th>\n",
       "      <th></th>\n",
       "    </tr>\n",
       "  </thead>\n",
       "  <tbody>\n",
       "    <tr>\n",
       "      <th>10259</th>\n",
       "      <td>greek</td>\n",
       "      <td>[romaine lettuce, black olives, grape tomatoes...</td>\n",
       "    </tr>\n",
       "    <tr>\n",
       "      <th>25693</th>\n",
       "      <td>southern_us</td>\n",
       "      <td>[plain flour, ground pepper, salt, tomatoes, g...</td>\n",
       "    </tr>\n",
       "    <tr>\n",
       "      <th>20130</th>\n",
       "      <td>filipino</td>\n",
       "      <td>[eggs, pepper, salt, mayonaise, cooking oil, g...</td>\n",
       "    </tr>\n",
       "    <tr>\n",
       "      <th>22213</th>\n",
       "      <td>indian</td>\n",
       "      <td>[water, vegetable oil, wheat, salt]</td>\n",
       "    </tr>\n",
       "    <tr>\n",
       "      <th>13162</th>\n",
       "      <td>indian</td>\n",
       "      <td>[black pepper, shallots, cornflour, cayenne pe...</td>\n",
       "    </tr>\n",
       "    <tr>\n",
       "      <th>...</th>\n",
       "      <td>...</td>\n",
       "      <td>...</td>\n",
       "    </tr>\n",
       "    <tr>\n",
       "      <th>29109</th>\n",
       "      <td>irish</td>\n",
       "      <td>[light brown sugar, granulated sugar, butter, ...</td>\n",
       "    </tr>\n",
       "    <tr>\n",
       "      <th>11462</th>\n",
       "      <td>italian</td>\n",
       "      <td>[KRAFT Zesty Italian Dressing, purple onion, b...</td>\n",
       "    </tr>\n",
       "    <tr>\n",
       "      <th>2238</th>\n",
       "      <td>irish</td>\n",
       "      <td>[eggs, citrus fruit, raisins, sourdough starte...</td>\n",
       "    </tr>\n",
       "    <tr>\n",
       "      <th>41882</th>\n",
       "      <td>chinese</td>\n",
       "      <td>[boneless chicken skinless thigh, minced garli...</td>\n",
       "    </tr>\n",
       "    <tr>\n",
       "      <th>2362</th>\n",
       "      <td>mexican</td>\n",
       "      <td>[green chile, jalapeno chilies, onions, ground...</td>\n",
       "    </tr>\n",
       "  </tbody>\n",
       "</table>\n",
       "<p>39774 rows × 2 columns</p>\n",
       "</div>"
      ],
      "text/plain": [
       "           cuisine                                        ingredients\n",
       "id                                                                   \n",
       "10259        greek  [romaine lettuce, black olives, grape tomatoes...\n",
       "25693  southern_us  [plain flour, ground pepper, salt, tomatoes, g...\n",
       "20130     filipino  [eggs, pepper, salt, mayonaise, cooking oil, g...\n",
       "22213       indian                [water, vegetable oil, wheat, salt]\n",
       "13162       indian  [black pepper, shallots, cornflour, cayenne pe...\n",
       "...            ...                                                ...\n",
       "29109        irish  [light brown sugar, granulated sugar, butter, ...\n",
       "11462      italian  [KRAFT Zesty Italian Dressing, purple onion, b...\n",
       "2238         irish  [eggs, citrus fruit, raisins, sourdough starte...\n",
       "41882      chinese  [boneless chicken skinless thigh, minced garli...\n",
       "2362       mexican  [green chile, jalapeno chilies, onions, ground...\n",
       "\n",
       "[39774 rows x 2 columns]"
      ]
     },
     "execution_count": 3,
     "metadata": {},
     "output_type": "execute_result"
    }
   ],
   "source": [
    "train"
   ]
  },
  {
   "cell_type": "code",
   "execution_count": 4,
   "id": "0cc37d4d",
   "metadata": {},
   "outputs": [],
   "source": [
    "test = pd.read_json('test.json').set_index('id')"
   ]
  },
  {
   "cell_type": "code",
   "execution_count": 5,
   "id": "6541d023",
   "metadata": {},
   "outputs": [
    {
     "data": {
      "text/html": [
       "<div>\n",
       "<style scoped>\n",
       "    .dataframe tbody tr th:only-of-type {\n",
       "        vertical-align: middle;\n",
       "    }\n",
       "\n",
       "    .dataframe tbody tr th {\n",
       "        vertical-align: top;\n",
       "    }\n",
       "\n",
       "    .dataframe thead th {\n",
       "        text-align: right;\n",
       "    }\n",
       "</style>\n",
       "<table border=\"1\" class=\"dataframe\">\n",
       "  <thead>\n",
       "    <tr style=\"text-align: right;\">\n",
       "      <th></th>\n",
       "      <th>ingredients</th>\n",
       "    </tr>\n",
       "    <tr>\n",
       "      <th>id</th>\n",
       "      <th></th>\n",
       "    </tr>\n",
       "  </thead>\n",
       "  <tbody>\n",
       "    <tr>\n",
       "      <th>18009</th>\n",
       "      <td>[baking powder, eggs, all-purpose flour, raisi...</td>\n",
       "    </tr>\n",
       "    <tr>\n",
       "      <th>28583</th>\n",
       "      <td>[sugar, egg yolks, corn starch, cream of tarta...</td>\n",
       "    </tr>\n",
       "    <tr>\n",
       "      <th>41580</th>\n",
       "      <td>[sausage links, fennel bulb, fronds, olive oil...</td>\n",
       "    </tr>\n",
       "    <tr>\n",
       "      <th>29752</th>\n",
       "      <td>[meat cuts, file powder, smoked sausage, okra,...</td>\n",
       "    </tr>\n",
       "    <tr>\n",
       "      <th>35687</th>\n",
       "      <td>[ground black pepper, salt, sausage casings, l...</td>\n",
       "    </tr>\n",
       "    <tr>\n",
       "      <th>...</th>\n",
       "      <td>...</td>\n",
       "    </tr>\n",
       "    <tr>\n",
       "      <th>30246</th>\n",
       "      <td>[large egg yolks, fresh lemon juice, sugar, bo...</td>\n",
       "    </tr>\n",
       "    <tr>\n",
       "      <th>36028</th>\n",
       "      <td>[hot sauce, butter, sweet potatoes, adobo sauc...</td>\n",
       "    </tr>\n",
       "    <tr>\n",
       "      <th>22339</th>\n",
       "      <td>[black pepper, salt, parmigiano reggiano chees...</td>\n",
       "    </tr>\n",
       "    <tr>\n",
       "      <th>42525</th>\n",
       "      <td>[cheddar cheese, cayenne, paprika, plum tomato...</td>\n",
       "    </tr>\n",
       "    <tr>\n",
       "      <th>1443</th>\n",
       "      <td>[cold water, olive oil, lime wedges, garlic cl...</td>\n",
       "    </tr>\n",
       "  </tbody>\n",
       "</table>\n",
       "<p>9944 rows × 1 columns</p>\n",
       "</div>"
      ],
      "text/plain": [
       "                                             ingredients\n",
       "id                                                      \n",
       "18009  [baking powder, eggs, all-purpose flour, raisi...\n",
       "28583  [sugar, egg yolks, corn starch, cream of tarta...\n",
       "41580  [sausage links, fennel bulb, fronds, olive oil...\n",
       "29752  [meat cuts, file powder, smoked sausage, okra,...\n",
       "35687  [ground black pepper, salt, sausage casings, l...\n",
       "...                                                  ...\n",
       "30246  [large egg yolks, fresh lemon juice, sugar, bo...\n",
       "36028  [hot sauce, butter, sweet potatoes, adobo sauc...\n",
       "22339  [black pepper, salt, parmigiano reggiano chees...\n",
       "42525  [cheddar cheese, cayenne, paprika, plum tomato...\n",
       "1443   [cold water, olive oil, lime wedges, garlic cl...\n",
       "\n",
       "[9944 rows x 1 columns]"
      ]
     },
     "execution_count": 5,
     "metadata": {},
     "output_type": "execute_result"
    }
   ],
   "source": [
    "test"
   ]
  },
  {
   "cell_type": "code",
   "execution_count": 6,
   "id": "525dfb5c",
   "metadata": {},
   "outputs": [],
   "source": [
    "with open('sample_submission.csv') as f:\n",
    "    sample_submission = f.readlines()"
   ]
  },
  {
   "cell_type": "code",
   "execution_count": 7,
   "id": "0512a7fe",
   "metadata": {},
   "outputs": [
    {
     "data": {
      "text/plain": [
       "9945"
      ]
     },
     "execution_count": 7,
     "metadata": {},
     "output_type": "execute_result"
    }
   ],
   "source": [
    "len(sample_submission)"
   ]
  },
  {
   "cell_type": "code",
   "execution_count": 8,
   "id": "9a24848b",
   "metadata": {
    "scrolled": false
   },
   "outputs": [
    {
     "data": {
      "text/plain": [
       "['id,cuisine\\n',\n",
       " '35203,italian\\n',\n",
       " '17600,italian\\n',\n",
       " '35200,italian\\n',\n",
       " '17602,italian\\n']"
      ]
     },
     "execution_count": 8,
     "metadata": {},
     "output_type": "execute_result"
    }
   ],
   "source": [
    "sample_submission[:5]"
   ]
  },
  {
   "cell_type": "markdown",
   "id": "a1d08ce1",
   "metadata": {},
   "source": [
    "### Feature engineering"
   ]
  },
  {
   "cell_type": "code",
   "execution_count": 9,
   "id": "b3c69353",
   "metadata": {},
   "outputs": [],
   "source": [
    "def clean_ingredients(old_ing):\n",
    "    ing = old_ing.lower()\n",
    "    ing = re.sub(r'\\(.*oz\\.\\)', ' ', ing)\n",
    "    ing = re.sub(r'[^a-zâçèéíîú]', ' ', ing)\n",
    "    ing = re.sub(r' +', ' ', ing)\n",
    "    ing = ing.strip()\n",
    "    return ing"
   ]
  },
  {
   "cell_type": "code",
   "execution_count": 10,
   "id": "2aafbc50",
   "metadata": {},
   "outputs": [],
   "source": [
    "train['ingredients'] = train['ingredients'].apply(lambda x: [clean_ingredients(ing) for ing in x])\n",
    "test['ingredients'] = test['ingredients'].apply(lambda x: [clean_ingredients(ing) for ing in x])"
   ]
  },
  {
   "cell_type": "code",
   "execution_count": 11,
   "id": "05fe7cb7",
   "metadata": {},
   "outputs": [],
   "source": [
    "def lemmatize(old_ing):\n",
    "    doc = nlp(old_ing)\n",
    "    return ' '.join([token.lemma_ for token in doc])"
   ]
  },
  {
   "cell_type": "code",
   "execution_count": 12,
   "id": "f58910fa",
   "metadata": {},
   "outputs": [],
   "source": [
    "train['norm'] = train['ingredients'].apply(lambda x: [lemmatize(ing) for ing in x])\n",
    "test['norm'] = test['ingredients'].apply(lambda x: [lemmatize(ing) for ing in x])"
   ]
  },
  {
   "cell_type": "code",
   "execution_count": 13,
   "id": "1c1d5b32",
   "metadata": {},
   "outputs": [],
   "source": [
    "train['words'] = train['norm'].apply(lambda x: ' '.join(x))\n",
    "test['words'] = test['norm'].apply(lambda x: ' '.join(x))"
   ]
  },
  {
   "cell_type": "code",
   "execution_count": 14,
   "id": "c767119a",
   "metadata": {},
   "outputs": [
    {
     "data": {
      "text/html": [
       "<div>\n",
       "<style scoped>\n",
       "    .dataframe tbody tr th:only-of-type {\n",
       "        vertical-align: middle;\n",
       "    }\n",
       "\n",
       "    .dataframe tbody tr th {\n",
       "        vertical-align: top;\n",
       "    }\n",
       "\n",
       "    .dataframe thead th {\n",
       "        text-align: right;\n",
       "    }\n",
       "</style>\n",
       "<table border=\"1\" class=\"dataframe\">\n",
       "  <thead>\n",
       "    <tr style=\"text-align: right;\">\n",
       "      <th></th>\n",
       "      <th>cuisine</th>\n",
       "      <th>ingredients</th>\n",
       "      <th>norm</th>\n",
       "      <th>words</th>\n",
       "    </tr>\n",
       "    <tr>\n",
       "      <th>id</th>\n",
       "      <th></th>\n",
       "      <th></th>\n",
       "      <th></th>\n",
       "      <th></th>\n",
       "    </tr>\n",
       "  </thead>\n",
       "  <tbody>\n",
       "    <tr>\n",
       "      <th>10259</th>\n",
       "      <td>greek</td>\n",
       "      <td>[romaine lettuce, black olives, grape tomatoes...</td>\n",
       "      <td>[romaine lettuce, black olive, grape tomato, g...</td>\n",
       "      <td>romaine lettuce black olive grape tomato garli...</td>\n",
       "    </tr>\n",
       "    <tr>\n",
       "      <th>25693</th>\n",
       "      <td>southern_us</td>\n",
       "      <td>[plain flour, ground pepper, salt, tomatoes, g...</td>\n",
       "      <td>[plain flour, grind pepper, salt, tomato, grin...</td>\n",
       "      <td>plain flour grind pepper salt tomato grind bla...</td>\n",
       "    </tr>\n",
       "    <tr>\n",
       "      <th>20130</th>\n",
       "      <td>filipino</td>\n",
       "      <td>[eggs, pepper, salt, mayonaise, cooking oil, g...</td>\n",
       "      <td>[egg, pepper, salt, mayonaise, cook oil, green...</td>\n",
       "      <td>egg pepper salt mayonaise cook oil green chili...</td>\n",
       "    </tr>\n",
       "    <tr>\n",
       "      <th>22213</th>\n",
       "      <td>indian</td>\n",
       "      <td>[water, vegetable oil, wheat, salt]</td>\n",
       "      <td>[water, vegetable oil, wheat, salt]</td>\n",
       "      <td>water vegetable oil wheat salt</td>\n",
       "    </tr>\n",
       "    <tr>\n",
       "      <th>13162</th>\n",
       "      <td>indian</td>\n",
       "      <td>[black pepper, shallots, cornflour, cayenne pe...</td>\n",
       "      <td>[black pepper, shallot, cornflour, cayenne pep...</td>\n",
       "      <td>black pepper shallot cornflour cayenne pepper ...</td>\n",
       "    </tr>\n",
       "    <tr>\n",
       "      <th>...</th>\n",
       "      <td>...</td>\n",
       "      <td>...</td>\n",
       "      <td>...</td>\n",
       "      <td>...</td>\n",
       "    </tr>\n",
       "    <tr>\n",
       "      <th>29109</th>\n",
       "      <td>irish</td>\n",
       "      <td>[light brown sugar, granulated sugar, butter, ...</td>\n",
       "      <td>[light brown sugar, granulate sugar, butter, w...</td>\n",
       "      <td>light brown sugar granulate sugar butter warm ...</td>\n",
       "    </tr>\n",
       "    <tr>\n",
       "      <th>11462</th>\n",
       "      <td>italian</td>\n",
       "      <td>[kraft zesty italian dressing, purple onion, b...</td>\n",
       "      <td>[kraft zesty italian dress, purple onion, broc...</td>\n",
       "      <td>kraft zesty italian dress purple onion broccol...</td>\n",
       "    </tr>\n",
       "    <tr>\n",
       "      <th>2238</th>\n",
       "      <td>irish</td>\n",
       "      <td>[eggs, citrus fruit, raisins, sourdough starte...</td>\n",
       "      <td>[egg, citrus fruit, raisin, sourdough starter,...</td>\n",
       "      <td>egg citrus fruit raisin sourdough starter flou...</td>\n",
       "    </tr>\n",
       "    <tr>\n",
       "      <th>41882</th>\n",
       "      <td>chinese</td>\n",
       "      <td>[boneless chicken skinless thigh, minced garli...</td>\n",
       "      <td>[boneless chicken skinless thigh, mince garlic...</td>\n",
       "      <td>boneless chicken skinless thigh mince garlic s...</td>\n",
       "    </tr>\n",
       "    <tr>\n",
       "      <th>2362</th>\n",
       "      <td>mexican</td>\n",
       "      <td>[green chile, jalapeno chilies, onions, ground...</td>\n",
       "      <td>[green chile, jalapeno chili, onion, grind bla...</td>\n",
       "      <td>green chile jalapeno chili onion grind black p...</td>\n",
       "    </tr>\n",
       "  </tbody>\n",
       "</table>\n",
       "<p>39774 rows × 4 columns</p>\n",
       "</div>"
      ],
      "text/plain": [
       "           cuisine                                        ingredients  \\\n",
       "id                                                                      \n",
       "10259        greek  [romaine lettuce, black olives, grape tomatoes...   \n",
       "25693  southern_us  [plain flour, ground pepper, salt, tomatoes, g...   \n",
       "20130     filipino  [eggs, pepper, salt, mayonaise, cooking oil, g...   \n",
       "22213       indian                [water, vegetable oil, wheat, salt]   \n",
       "13162       indian  [black pepper, shallots, cornflour, cayenne pe...   \n",
       "...            ...                                                ...   \n",
       "29109        irish  [light brown sugar, granulated sugar, butter, ...   \n",
       "11462      italian  [kraft zesty italian dressing, purple onion, b...   \n",
       "2238         irish  [eggs, citrus fruit, raisins, sourdough starte...   \n",
       "41882      chinese  [boneless chicken skinless thigh, minced garli...   \n",
       "2362       mexican  [green chile, jalapeno chilies, onions, ground...   \n",
       "\n",
       "                                                    norm  \\\n",
       "id                                                         \n",
       "10259  [romaine lettuce, black olive, grape tomato, g...   \n",
       "25693  [plain flour, grind pepper, salt, tomato, grin...   \n",
       "20130  [egg, pepper, salt, mayonaise, cook oil, green...   \n",
       "22213                [water, vegetable oil, wheat, salt]   \n",
       "13162  [black pepper, shallot, cornflour, cayenne pep...   \n",
       "...                                                  ...   \n",
       "29109  [light brown sugar, granulate sugar, butter, w...   \n",
       "11462  [kraft zesty italian dress, purple onion, broc...   \n",
       "2238   [egg, citrus fruit, raisin, sourdough starter,...   \n",
       "41882  [boneless chicken skinless thigh, mince garlic...   \n",
       "2362   [green chile, jalapeno chili, onion, grind bla...   \n",
       "\n",
       "                                                   words  \n",
       "id                                                        \n",
       "10259  romaine lettuce black olive grape tomato garli...  \n",
       "25693  plain flour grind pepper salt tomato grind bla...  \n",
       "20130  egg pepper salt mayonaise cook oil green chili...  \n",
       "22213                     water vegetable oil wheat salt  \n",
       "13162  black pepper shallot cornflour cayenne pepper ...  \n",
       "...                                                  ...  \n",
       "29109  light brown sugar granulate sugar butter warm ...  \n",
       "11462  kraft zesty italian dress purple onion broccol...  \n",
       "2238   egg citrus fruit raisin sourdough starter flou...  \n",
       "41882  boneless chicken skinless thigh mince garlic s...  \n",
       "2362   green chile jalapeno chili onion grind black p...  \n",
       "\n",
       "[39774 rows x 4 columns]"
      ]
     },
     "execution_count": 14,
     "metadata": {},
     "output_type": "execute_result"
    }
   ],
   "source": [
    "train"
   ]
  },
  {
   "cell_type": "code",
   "execution_count": 15,
   "id": "7234bf5f",
   "metadata": {},
   "outputs": [
    {
     "data": {
      "text/html": [
       "<div>\n",
       "<style scoped>\n",
       "    .dataframe tbody tr th:only-of-type {\n",
       "        vertical-align: middle;\n",
       "    }\n",
       "\n",
       "    .dataframe tbody tr th {\n",
       "        vertical-align: top;\n",
       "    }\n",
       "\n",
       "    .dataframe thead th {\n",
       "        text-align: right;\n",
       "    }\n",
       "</style>\n",
       "<table border=\"1\" class=\"dataframe\">\n",
       "  <thead>\n",
       "    <tr style=\"text-align: right;\">\n",
       "      <th></th>\n",
       "      <th>ingredients</th>\n",
       "      <th>norm</th>\n",
       "      <th>words</th>\n",
       "    </tr>\n",
       "    <tr>\n",
       "      <th>id</th>\n",
       "      <th></th>\n",
       "      <th></th>\n",
       "      <th></th>\n",
       "    </tr>\n",
       "  </thead>\n",
       "  <tbody>\n",
       "    <tr>\n",
       "      <th>18009</th>\n",
       "      <td>[baking powder, eggs, all purpose flour, raisi...</td>\n",
       "      <td>[bake powder, egg, all purpose flour, raisin, ...</td>\n",
       "      <td>bake powder egg all purpose flour raisin milk ...</td>\n",
       "    </tr>\n",
       "    <tr>\n",
       "      <th>28583</th>\n",
       "      <td>[sugar, egg yolks, corn starch, cream of tarta...</td>\n",
       "      <td>[sugar, egg yolk, corn starch, cream of tartar...</td>\n",
       "      <td>sugar egg yolk corn starch cream of tartar ban...</td>\n",
       "    </tr>\n",
       "    <tr>\n",
       "      <th>41580</th>\n",
       "      <td>[sausage links, fennel bulb, fronds, olive oil...</td>\n",
       "      <td>[sausage link, fennel bulb, frond, olive oil, ...</td>\n",
       "      <td>sausage link fennel bulb frond olive oil cuban...</td>\n",
       "    </tr>\n",
       "    <tr>\n",
       "      <th>29752</th>\n",
       "      <td>[meat cuts, file powder, smoked sausage, okra,...</td>\n",
       "      <td>[meat cut, file powder, smoke sausage, okra, s...</td>\n",
       "      <td>meat cut file powder smoke sausage okra shrimp...</td>\n",
       "    </tr>\n",
       "    <tr>\n",
       "      <th>35687</th>\n",
       "      <td>[ground black pepper, salt, sausage casings, l...</td>\n",
       "      <td>[grind black pepper, salt, sausage casing, lee...</td>\n",
       "      <td>grind black pepper salt sausage casing leek pa...</td>\n",
       "    </tr>\n",
       "    <tr>\n",
       "      <th>...</th>\n",
       "      <td>...</td>\n",
       "      <td>...</td>\n",
       "      <td>...</td>\n",
       "    </tr>\n",
       "    <tr>\n",
       "      <th>30246</th>\n",
       "      <td>[large egg yolks, fresh lemon juice, sugar, bo...</td>\n",
       "      <td>[large egg yolk, fresh lemon juice, sugar, bou...</td>\n",
       "      <td>large egg yolk fresh lemon juice sugar bourbon...</td>\n",
       "    </tr>\n",
       "    <tr>\n",
       "      <th>36028</th>\n",
       "      <td>[hot sauce, butter, sweet potatoes, adobo sauc...</td>\n",
       "      <td>[hot sauce, butter, sweet potato, adobo sauce,...</td>\n",
       "      <td>hot sauce butter sweet potato adobo sauce salt</td>\n",
       "    </tr>\n",
       "    <tr>\n",
       "      <th>22339</th>\n",
       "      <td>[black pepper, salt, parmigiano reggiano chees...</td>\n",
       "      <td>[black pepper, salt, parmigiano reggiano chees...</td>\n",
       "      <td>black pepper salt parmigiano reggiano cheese r...</td>\n",
       "    </tr>\n",
       "    <tr>\n",
       "      <th>42525</th>\n",
       "      <td>[cheddar cheese, cayenne, paprika, plum tomato...</td>\n",
       "      <td>[cheddar cheese, cayenne, paprika, plum tomato...</td>\n",
       "      <td>cheddar cheese cayenne paprika plum tomato gre...</td>\n",
       "    </tr>\n",
       "    <tr>\n",
       "      <th>1443</th>\n",
       "      <td>[cold water, olive oil, lime wedges, garlic cl...</td>\n",
       "      <td>[cold water, olive oil, lime wedge, garlic clo...</td>\n",
       "      <td>cold water olive oil lime wedge garlic clove b...</td>\n",
       "    </tr>\n",
       "  </tbody>\n",
       "</table>\n",
       "<p>9944 rows × 3 columns</p>\n",
       "</div>"
      ],
      "text/plain": [
       "                                             ingredients  \\\n",
       "id                                                         \n",
       "18009  [baking powder, eggs, all purpose flour, raisi...   \n",
       "28583  [sugar, egg yolks, corn starch, cream of tarta...   \n",
       "41580  [sausage links, fennel bulb, fronds, olive oil...   \n",
       "29752  [meat cuts, file powder, smoked sausage, okra,...   \n",
       "35687  [ground black pepper, salt, sausage casings, l...   \n",
       "...                                                  ...   \n",
       "30246  [large egg yolks, fresh lemon juice, sugar, bo...   \n",
       "36028  [hot sauce, butter, sweet potatoes, adobo sauc...   \n",
       "22339  [black pepper, salt, parmigiano reggiano chees...   \n",
       "42525  [cheddar cheese, cayenne, paprika, plum tomato...   \n",
       "1443   [cold water, olive oil, lime wedges, garlic cl...   \n",
       "\n",
       "                                                    norm  \\\n",
       "id                                                         \n",
       "18009  [bake powder, egg, all purpose flour, raisin, ...   \n",
       "28583  [sugar, egg yolk, corn starch, cream of tartar...   \n",
       "41580  [sausage link, fennel bulb, frond, olive oil, ...   \n",
       "29752  [meat cut, file powder, smoke sausage, okra, s...   \n",
       "35687  [grind black pepper, salt, sausage casing, lee...   \n",
       "...                                                  ...   \n",
       "30246  [large egg yolk, fresh lemon juice, sugar, bou...   \n",
       "36028  [hot sauce, butter, sweet potato, adobo sauce,...   \n",
       "22339  [black pepper, salt, parmigiano reggiano chees...   \n",
       "42525  [cheddar cheese, cayenne, paprika, plum tomato...   \n",
       "1443   [cold water, olive oil, lime wedge, garlic clo...   \n",
       "\n",
       "                                                   words  \n",
       "id                                                        \n",
       "18009  bake powder egg all purpose flour raisin milk ...  \n",
       "28583  sugar egg yolk corn starch cream of tartar ban...  \n",
       "41580  sausage link fennel bulb frond olive oil cuban...  \n",
       "29752  meat cut file powder smoke sausage okra shrimp...  \n",
       "35687  grind black pepper salt sausage casing leek pa...  \n",
       "...                                                  ...  \n",
       "30246  large egg yolk fresh lemon juice sugar bourbon...  \n",
       "36028     hot sauce butter sweet potato adobo sauce salt  \n",
       "22339  black pepper salt parmigiano reggiano cheese r...  \n",
       "42525  cheddar cheese cayenne paprika plum tomato gre...  \n",
       "1443   cold water olive oil lime wedge garlic clove b...  \n",
       "\n",
       "[9944 rows x 3 columns]"
      ]
     },
     "execution_count": 15,
     "metadata": {},
     "output_type": "execute_result"
    }
   ],
   "source": [
    "test"
   ]
  },
  {
   "cell_type": "code",
   "execution_count": 16,
   "id": "e503b4da",
   "metadata": {},
   "outputs": [],
   "source": [
    "X = train['words']\n",
    "X_kaggle = test['words']"
   ]
  },
  {
   "cell_type": "code",
   "execution_count": 17,
   "id": "d2f9cc3e",
   "metadata": {},
   "outputs": [
    {
     "data": {
      "text/plain": [
       "id\n",
       "10259          greek\n",
       "25693    southern_us\n",
       "20130       filipino\n",
       "22213         indian\n",
       "13162         indian\n",
       "            ...     \n",
       "29109          irish\n",
       "11462        italian\n",
       "2238           irish\n",
       "41882        chinese\n",
       "2362         mexican\n",
       "Name: cuisine, Length: 39774, dtype: object"
      ]
     },
     "execution_count": 17,
     "metadata": {},
     "output_type": "execute_result"
    }
   ],
   "source": [
    "y = train['cuisine']\n",
    "y"
   ]
  },
  {
   "cell_type": "markdown",
   "id": "061445ec",
   "metadata": {},
   "source": [
    "### Hyperparam tuning for logreg (GridSearchCV)"
   ]
  },
  {
   "cell_type": "code",
   "execution_count": 35,
   "id": "004b1c33",
   "metadata": {},
   "outputs": [],
   "source": [
    "def get_best_model(model, X_tr, y_tr, param_grid):\n",
    "    \n",
    "    grid = GridSearchCV(model, param_grid, cv=3, scoring='accuracy')\n",
    "    grid.fit(X_tr, y_tr)\n",
    "    \n",
    "    return grid.best_estimator_, grid.best_score_, grid.best_params_, pd.DataFrame(grid.cv_results_)"
   ]
  },
  {
   "cell_type": "code",
   "execution_count": 38,
   "id": "833b34db",
   "metadata": {},
   "outputs": [],
   "source": [
    "pipe = Pipeline([('tfidf', TfidfVectorizer(binary=True)),\n",
    "               ('lr', LogisticRegression(max_iter=5000, random_state=10))])"
   ]
  },
  {
   "cell_type": "code",
   "execution_count": 41,
   "id": "44ab8659",
   "metadata": {},
   "outputs": [],
   "source": [
    "params = [{'lr__penalty': ['l2'],\n",
    "         'lr__C': [1e-5, 1e-4, 1e-3, 1e-2, 1e-1, 1, 1e1, 1e2, 1e3],\n",
    "         'lr__class_weight': [None, 'balanced'],\n",
    "         'lr__multi_class': ['ovr', 'multinomial']},\n",
    "         {'lr__penalty': ['none'],\n",
    "         'lr__class_weight': [None, 'balanced'],\n",
    "         'lr__multi_class': ['ovr', 'multinomial']}]"
   ]
  },
  {
   "cell_type": "code",
   "execution_count": 42,
   "id": "6a0ea7f7",
   "metadata": {
    "scrolled": true
   },
   "outputs": [
    {
     "name": "stderr",
     "output_type": "stream",
     "text": [
      "C:\\ProgramData\\Anaconda3\\lib\\site-packages\\sklearn\\linear_model\\_logistic.py:814: ConvergenceWarning:\n",
      "\n",
      "lbfgs failed to converge (status=1):\n",
      "STOP: TOTAL NO. of ITERATIONS REACHED LIMIT.\n",
      "\n",
      "Increase the number of iterations (max_iter) or scale the data as shown in:\n",
      "    https://scikit-learn.org/stable/modules/preprocessing.html\n",
      "Please also refer to the documentation for alternative solver options:\n",
      "    https://scikit-learn.org/stable/modules/linear_model.html#logistic-regression\n",
      "\n",
      "C:\\ProgramData\\Anaconda3\\lib\\site-packages\\sklearn\\linear_model\\_logistic.py:814: ConvergenceWarning:\n",
      "\n",
      "lbfgs failed to converge (status=1):\n",
      "STOP: TOTAL NO. of ITERATIONS REACHED LIMIT.\n",
      "\n",
      "Increase the number of iterations (max_iter) or scale the data as shown in:\n",
      "    https://scikit-learn.org/stable/modules/preprocessing.html\n",
      "Please also refer to the documentation for alternative solver options:\n",
      "    https://scikit-learn.org/stable/modules/linear_model.html#logistic-regression\n",
      "\n",
      "C:\\ProgramData\\Anaconda3\\lib\\site-packages\\sklearn\\linear_model\\_logistic.py:814: ConvergenceWarning:\n",
      "\n",
      "lbfgs failed to converge (status=1):\n",
      "STOP: TOTAL NO. of ITERATIONS REACHED LIMIT.\n",
      "\n",
      "Increase the number of iterations (max_iter) or scale the data as shown in:\n",
      "    https://scikit-learn.org/stable/modules/preprocessing.html\n",
      "Please also refer to the documentation for alternative solver options:\n",
      "    https://scikit-learn.org/stable/modules/linear_model.html#logistic-regression\n",
      "\n",
      "C:\\ProgramData\\Anaconda3\\lib\\site-packages\\sklearn\\linear_model\\_logistic.py:814: ConvergenceWarning:\n",
      "\n",
      "lbfgs failed to converge (status=1):\n",
      "STOP: TOTAL NO. of ITERATIONS REACHED LIMIT.\n",
      "\n",
      "Increase the number of iterations (max_iter) or scale the data as shown in:\n",
      "    https://scikit-learn.org/stable/modules/preprocessing.html\n",
      "Please also refer to the documentation for alternative solver options:\n",
      "    https://scikit-learn.org/stable/modules/linear_model.html#logistic-regression\n",
      "\n",
      "C:\\ProgramData\\Anaconda3\\lib\\site-packages\\sklearn\\linear_model\\_logistic.py:814: ConvergenceWarning:\n",
      "\n",
      "lbfgs failed to converge (status=1):\n",
      "STOP: TOTAL NO. of ITERATIONS REACHED LIMIT.\n",
      "\n",
      "Increase the number of iterations (max_iter) or scale the data as shown in:\n",
      "    https://scikit-learn.org/stable/modules/preprocessing.html\n",
      "Please also refer to the documentation for alternative solver options:\n",
      "    https://scikit-learn.org/stable/modules/linear_model.html#logistic-regression\n",
      "\n",
      "C:\\ProgramData\\Anaconda3\\lib\\site-packages\\sklearn\\linear_model\\_logistic.py:814: ConvergenceWarning:\n",
      "\n",
      "lbfgs failed to converge (status=1):\n",
      "STOP: TOTAL NO. of ITERATIONS REACHED LIMIT.\n",
      "\n",
      "Increase the number of iterations (max_iter) or scale the data as shown in:\n",
      "    https://scikit-learn.org/stable/modules/preprocessing.html\n",
      "Please also refer to the documentation for alternative solver options:\n",
      "    https://scikit-learn.org/stable/modules/linear_model.html#logistic-regression\n",
      "\n"
     ]
    }
   ],
   "source": [
    "model_data = get_best_model(pipe, X, y, params)"
   ]
  },
  {
   "cell_type": "code",
   "execution_count": 43,
   "id": "220bac32",
   "metadata": {},
   "outputs": [
    {
     "name": "stdout",
     "output_type": "stream",
     "text": [
      "Pipeline(steps=[('tfidf', TfidfVectorizer(binary=True)),\n",
      "                ('lr',\n",
      "                 LogisticRegression(C=10.0, max_iter=5000, multi_class='ovr',\n",
      "                                    random_state=10))])\n",
      "0.7856137175038972\n",
      "{'lr__C': 10.0, 'lr__class_weight': None, 'lr__multi_class': 'ovr', 'lr__penalty': 'l2'}\n"
     ]
    }
   ],
   "source": [
    "for item in model_data[:3]:\n",
    "    print(item)"
   ]
  },
  {
   "cell_type": "markdown",
   "id": "14ed9a1d",
   "metadata": {},
   "source": [
    "### SVC with best params"
   ]
  },
  {
   "cell_type": "code",
   "execution_count": 44,
   "id": "a5f1f35f",
   "metadata": {},
   "outputs": [],
   "source": [
    "X_train, X_test, y_train, y_test = train_test_split(X, y, test_size=8000, random_state=10)"
   ]
  },
  {
   "cell_type": "code",
   "execution_count": 46,
   "id": "87471116",
   "metadata": {},
   "outputs": [],
   "source": [
    "pipe = Pipeline([('tfidf', TfidfVectorizer(binary=True)),\n",
    "               ('lr', LogisticRegression(C=10, multi_class='ovr', max_iter=5000, random_state=10))])"
   ]
  },
  {
   "cell_type": "code",
   "execution_count": 47,
   "id": "ed456306",
   "metadata": {},
   "outputs": [
    {
     "data": {
      "text/plain": [
       "Pipeline(steps=[('tfidf', TfidfVectorizer(binary=True)),\n",
       "                ('lr',\n",
       "                 LogisticRegression(C=10, max_iter=5000, multi_class='ovr',\n",
       "                                    random_state=10))])"
      ]
     },
     "execution_count": 47,
     "metadata": {},
     "output_type": "execute_result"
    }
   ],
   "source": [
    "pipe.fit(X_train, y_train)"
   ]
  },
  {
   "cell_type": "code",
   "execution_count": 48,
   "id": "f7baf8f8",
   "metadata": {},
   "outputs": [],
   "source": [
    "pred_train = pipe.predict(X_train)\n",
    "pred_test = pipe.predict(X_test)"
   ]
  },
  {
   "cell_type": "code",
   "execution_count": 49,
   "id": "ebdf3bfb",
   "metadata": {},
   "outputs": [
    {
     "name": "stdout",
     "output_type": "stream",
     "text": [
      "0.8569270472713539\n",
      "0.790125\n"
     ]
    }
   ],
   "source": [
    "print(accuracy_score(y_train, pred_train))\n",
    "print(accuracy_score(y_test, pred_test))"
   ]
  },
  {
   "cell_type": "code",
   "execution_count": 50,
   "id": "b263d94a",
   "metadata": {},
   "outputs": [
    {
     "data": {
      "text/plain": [
       "0.7893096682416668"
      ]
     },
     "execution_count": 50,
     "metadata": {},
     "output_type": "execute_result"
    }
   ],
   "source": [
    "cross_val_score(pipe, X, y, cv=5, scoring='accuracy').mean()"
   ]
  },
  {
   "cell_type": "markdown",
   "id": "43c3c3ab",
   "metadata": {},
   "source": [
    "Cross-validation score: 0.78931"
   ]
  },
  {
   "cell_type": "markdown",
   "id": "779ff6ac",
   "metadata": {},
   "source": [
    "### Kaggle submission"
   ]
  },
  {
   "cell_type": "code",
   "execution_count": 51,
   "id": "6b87f82c",
   "metadata": {},
   "outputs": [],
   "source": [
    "pipe = Pipeline([('tfidf', TfidfVectorizer(binary=True)),\n",
    "               ('lr', LogisticRegression(C=10, multi_class='ovr', max_iter=5000, random_state=10))])"
   ]
  },
  {
   "cell_type": "code",
   "execution_count": 52,
   "id": "c5c502be",
   "metadata": {},
   "outputs": [
    {
     "data": {
      "text/plain": [
       "Pipeline(steps=[('tfidf', TfidfVectorizer(binary=True)),\n",
       "                ('lr',\n",
       "                 LogisticRegression(C=10, max_iter=5000, multi_class='ovr',\n",
       "                                    random_state=10))])"
      ]
     },
     "execution_count": 52,
     "metadata": {},
     "output_type": "execute_result"
    }
   ],
   "source": [
    "pipe.fit(X, y)"
   ]
  },
  {
   "cell_type": "code",
   "execution_count": 53,
   "id": "46ba114c",
   "metadata": {},
   "outputs": [
    {
     "data": {
      "text/plain": [
       "array(['british', 'southern_us', 'italian', ..., 'italian', 'southern_us',\n",
       "       'mexican'], dtype=object)"
      ]
     },
     "execution_count": 53,
     "metadata": {},
     "output_type": "execute_result"
    }
   ],
   "source": [
    "pred_kaggle = pipe.predict(X_kaggle)\n",
    "pred_kaggle"
   ]
  },
  {
   "cell_type": "code",
   "execution_count": 54,
   "id": "0636ccf1",
   "metadata": {},
   "outputs": [
    {
     "data": {
      "text/html": [
       "<div>\n",
       "<style scoped>\n",
       "    .dataframe tbody tr th:only-of-type {\n",
       "        vertical-align: middle;\n",
       "    }\n",
       "\n",
       "    .dataframe tbody tr th {\n",
       "        vertical-align: top;\n",
       "    }\n",
       "\n",
       "    .dataframe thead th {\n",
       "        text-align: right;\n",
       "    }\n",
       "</style>\n",
       "<table border=\"1\" class=\"dataframe\">\n",
       "  <thead>\n",
       "    <tr style=\"text-align: right;\">\n",
       "      <th></th>\n",
       "      <th>cuisine</th>\n",
       "    </tr>\n",
       "    <tr>\n",
       "      <th>id</th>\n",
       "      <th></th>\n",
       "    </tr>\n",
       "  </thead>\n",
       "  <tbody>\n",
       "    <tr>\n",
       "      <th>18009</th>\n",
       "      <td>british</td>\n",
       "    </tr>\n",
       "    <tr>\n",
       "      <th>28583</th>\n",
       "      <td>southern_us</td>\n",
       "    </tr>\n",
       "    <tr>\n",
       "      <th>41580</th>\n",
       "      <td>italian</td>\n",
       "    </tr>\n",
       "    <tr>\n",
       "      <th>29752</th>\n",
       "      <td>cajun_creole</td>\n",
       "    </tr>\n",
       "    <tr>\n",
       "      <th>35687</th>\n",
       "      <td>italian</td>\n",
       "    </tr>\n",
       "    <tr>\n",
       "      <th>...</th>\n",
       "      <td>...</td>\n",
       "    </tr>\n",
       "    <tr>\n",
       "      <th>30246</th>\n",
       "      <td>french</td>\n",
       "    </tr>\n",
       "    <tr>\n",
       "      <th>36028</th>\n",
       "      <td>southern_us</td>\n",
       "    </tr>\n",
       "    <tr>\n",
       "      <th>22339</th>\n",
       "      <td>italian</td>\n",
       "    </tr>\n",
       "    <tr>\n",
       "      <th>42525</th>\n",
       "      <td>southern_us</td>\n",
       "    </tr>\n",
       "    <tr>\n",
       "      <th>1443</th>\n",
       "      <td>mexican</td>\n",
       "    </tr>\n",
       "  </tbody>\n",
       "</table>\n",
       "<p>9944 rows × 1 columns</p>\n",
       "</div>"
      ],
      "text/plain": [
       "            cuisine\n",
       "id                 \n",
       "18009       british\n",
       "28583   southern_us\n",
       "41580       italian\n",
       "29752  cajun_creole\n",
       "35687       italian\n",
       "...             ...\n",
       "30246        french\n",
       "36028   southern_us\n",
       "22339       italian\n",
       "42525   southern_us\n",
       "1443        mexican\n",
       "\n",
       "[9944 rows x 1 columns]"
      ]
     },
     "execution_count": 54,
     "metadata": {},
     "output_type": "execute_result"
    }
   ],
   "source": [
    "submission = pd.DataFrame(pred_kaggle, index=test.index, columns=['cuisine'])\n",
    "submission"
   ]
  },
  {
   "cell_type": "code",
   "execution_count": 55,
   "id": "e0c9437d",
   "metadata": {},
   "outputs": [],
   "source": [
    "submission.to_csv('submission17.csv')"
   ]
  },
  {
   "cell_type": "markdown",
   "id": "189bac0c",
   "metadata": {},
   "source": [
    "Kaggle score: 0.78569"
   ]
  }
 ],
 "metadata": {
  "kernelspec": {
   "display_name": "Python 3 (ipykernel)",
   "language": "python",
   "name": "python3"
  },
  "language_info": {
   "codemirror_mode": {
    "name": "ipython",
    "version": 3
   },
   "file_extension": ".py",
   "mimetype": "text/x-python",
   "name": "python",
   "nbconvert_exporter": "python",
   "pygments_lexer": "ipython3",
   "version": "3.8.5"
  }
 },
 "nbformat": 4,
 "nbformat_minor": 5
}
