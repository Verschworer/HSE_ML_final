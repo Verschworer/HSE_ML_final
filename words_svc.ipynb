{
 "cells": [
  {
   "cell_type": "code",
   "execution_count": 11,
   "id": "3a47ec3d",
   "metadata": {},
   "outputs": [],
   "source": [
    "import pandas as pd\n",
    "import numpy as np\n",
    "import json\n",
    "import re\n",
    "import spacy\n",
    "from nltk import ngrams, everygrams, bigrams\n",
    "\n",
    "nlp = spacy.load('en_core_web_sm', disable=['parser', 'ner', 'tagger'])\n",
    "\n",
    "from sklearn.feature_extraction import DictVectorizer\n",
    "from sklearn.feature_extraction.text import CountVectorizer, TfidfVectorizer\n",
    "from sklearn.model_selection import train_test_split, cross_val_score, GridSearchCV\n",
    "from sklearn.preprocessing import StandardScaler\n",
    "\n",
    "from sklearn.linear_model import LogisticRegression\n",
    "from sklearn.naive_bayes import MultinomialNB, ComplementNB, BernoulliNB\n",
    "from sklearn.neighbors import KNeighborsClassifier\n",
    "from sklearn.svm import LinearSVC, SVC\n",
    "\n",
    "from sklearn.metrics import accuracy_score"
   ]
  },
  {
   "cell_type": "markdown",
   "id": "1e18c43a",
   "metadata": {},
   "source": [
    "### Data"
   ]
  },
  {
   "cell_type": "code",
   "execution_count": 12,
   "id": "1330e171",
   "metadata": {},
   "outputs": [],
   "source": [
    "train = pd.read_json('train.json').set_index('id')"
   ]
  },
  {
   "cell_type": "code",
   "execution_count": 13,
   "id": "92bb8c5d",
   "metadata": {},
   "outputs": [
    {
     "data": {
      "text/html": [
       "<div>\n",
       "<style scoped>\n",
       "    .dataframe tbody tr th:only-of-type {\n",
       "        vertical-align: middle;\n",
       "    }\n",
       "\n",
       "    .dataframe tbody tr th {\n",
       "        vertical-align: top;\n",
       "    }\n",
       "\n",
       "    .dataframe thead th {\n",
       "        text-align: right;\n",
       "    }\n",
       "</style>\n",
       "<table border=\"1\" class=\"dataframe\">\n",
       "  <thead>\n",
       "    <tr style=\"text-align: right;\">\n",
       "      <th></th>\n",
       "      <th>cuisine</th>\n",
       "      <th>ingredients</th>\n",
       "    </tr>\n",
       "    <tr>\n",
       "      <th>id</th>\n",
       "      <th></th>\n",
       "      <th></th>\n",
       "    </tr>\n",
       "  </thead>\n",
       "  <tbody>\n",
       "    <tr>\n",
       "      <th>10259</th>\n",
       "      <td>greek</td>\n",
       "      <td>[romaine lettuce, black olives, grape tomatoes...</td>\n",
       "    </tr>\n",
       "    <tr>\n",
       "      <th>25693</th>\n",
       "      <td>southern_us</td>\n",
       "      <td>[plain flour, ground pepper, salt, tomatoes, g...</td>\n",
       "    </tr>\n",
       "    <tr>\n",
       "      <th>20130</th>\n",
       "      <td>filipino</td>\n",
       "      <td>[eggs, pepper, salt, mayonaise, cooking oil, g...</td>\n",
       "    </tr>\n",
       "    <tr>\n",
       "      <th>22213</th>\n",
       "      <td>indian</td>\n",
       "      <td>[water, vegetable oil, wheat, salt]</td>\n",
       "    </tr>\n",
       "    <tr>\n",
       "      <th>13162</th>\n",
       "      <td>indian</td>\n",
       "      <td>[black pepper, shallots, cornflour, cayenne pe...</td>\n",
       "    </tr>\n",
       "    <tr>\n",
       "      <th>...</th>\n",
       "      <td>...</td>\n",
       "      <td>...</td>\n",
       "    </tr>\n",
       "    <tr>\n",
       "      <th>29109</th>\n",
       "      <td>irish</td>\n",
       "      <td>[light brown sugar, granulated sugar, butter, ...</td>\n",
       "    </tr>\n",
       "    <tr>\n",
       "      <th>11462</th>\n",
       "      <td>italian</td>\n",
       "      <td>[KRAFT Zesty Italian Dressing, purple onion, b...</td>\n",
       "    </tr>\n",
       "    <tr>\n",
       "      <th>2238</th>\n",
       "      <td>irish</td>\n",
       "      <td>[eggs, citrus fruit, raisins, sourdough starte...</td>\n",
       "    </tr>\n",
       "    <tr>\n",
       "      <th>41882</th>\n",
       "      <td>chinese</td>\n",
       "      <td>[boneless chicken skinless thigh, minced garli...</td>\n",
       "    </tr>\n",
       "    <tr>\n",
       "      <th>2362</th>\n",
       "      <td>mexican</td>\n",
       "      <td>[green chile, jalapeno chilies, onions, ground...</td>\n",
       "    </tr>\n",
       "  </tbody>\n",
       "</table>\n",
       "<p>39774 rows × 2 columns</p>\n",
       "</div>"
      ],
      "text/plain": [
       "           cuisine                                        ingredients\n",
       "id                                                                   \n",
       "10259        greek  [romaine lettuce, black olives, grape tomatoes...\n",
       "25693  southern_us  [plain flour, ground pepper, salt, tomatoes, g...\n",
       "20130     filipino  [eggs, pepper, salt, mayonaise, cooking oil, g...\n",
       "22213       indian                [water, vegetable oil, wheat, salt]\n",
       "13162       indian  [black pepper, shallots, cornflour, cayenne pe...\n",
       "...            ...                                                ...\n",
       "29109        irish  [light brown sugar, granulated sugar, butter, ...\n",
       "11462      italian  [KRAFT Zesty Italian Dressing, purple onion, b...\n",
       "2238         irish  [eggs, citrus fruit, raisins, sourdough starte...\n",
       "41882      chinese  [boneless chicken skinless thigh, minced garli...\n",
       "2362       mexican  [green chile, jalapeno chilies, onions, ground...\n",
       "\n",
       "[39774 rows x 2 columns]"
      ]
     },
     "execution_count": 13,
     "metadata": {},
     "output_type": "execute_result"
    }
   ],
   "source": [
    "train"
   ]
  },
  {
   "cell_type": "code",
   "execution_count": 14,
   "id": "0cc37d4d",
   "metadata": {},
   "outputs": [],
   "source": [
    "test = pd.read_json('test.json').set_index('id')"
   ]
  },
  {
   "cell_type": "code",
   "execution_count": 15,
   "id": "6541d023",
   "metadata": {},
   "outputs": [
    {
     "data": {
      "text/html": [
       "<div>\n",
       "<style scoped>\n",
       "    .dataframe tbody tr th:only-of-type {\n",
       "        vertical-align: middle;\n",
       "    }\n",
       "\n",
       "    .dataframe tbody tr th {\n",
       "        vertical-align: top;\n",
       "    }\n",
       "\n",
       "    .dataframe thead th {\n",
       "        text-align: right;\n",
       "    }\n",
       "</style>\n",
       "<table border=\"1\" class=\"dataframe\">\n",
       "  <thead>\n",
       "    <tr style=\"text-align: right;\">\n",
       "      <th></th>\n",
       "      <th>ingredients</th>\n",
       "    </tr>\n",
       "    <tr>\n",
       "      <th>id</th>\n",
       "      <th></th>\n",
       "    </tr>\n",
       "  </thead>\n",
       "  <tbody>\n",
       "    <tr>\n",
       "      <th>18009</th>\n",
       "      <td>[baking powder, eggs, all-purpose flour, raisi...</td>\n",
       "    </tr>\n",
       "    <tr>\n",
       "      <th>28583</th>\n",
       "      <td>[sugar, egg yolks, corn starch, cream of tarta...</td>\n",
       "    </tr>\n",
       "    <tr>\n",
       "      <th>41580</th>\n",
       "      <td>[sausage links, fennel bulb, fronds, olive oil...</td>\n",
       "    </tr>\n",
       "    <tr>\n",
       "      <th>29752</th>\n",
       "      <td>[meat cuts, file powder, smoked sausage, okra,...</td>\n",
       "    </tr>\n",
       "    <tr>\n",
       "      <th>35687</th>\n",
       "      <td>[ground black pepper, salt, sausage casings, l...</td>\n",
       "    </tr>\n",
       "    <tr>\n",
       "      <th>...</th>\n",
       "      <td>...</td>\n",
       "    </tr>\n",
       "    <tr>\n",
       "      <th>30246</th>\n",
       "      <td>[large egg yolks, fresh lemon juice, sugar, bo...</td>\n",
       "    </tr>\n",
       "    <tr>\n",
       "      <th>36028</th>\n",
       "      <td>[hot sauce, butter, sweet potatoes, adobo sauc...</td>\n",
       "    </tr>\n",
       "    <tr>\n",
       "      <th>22339</th>\n",
       "      <td>[black pepper, salt, parmigiano reggiano chees...</td>\n",
       "    </tr>\n",
       "    <tr>\n",
       "      <th>42525</th>\n",
       "      <td>[cheddar cheese, cayenne, paprika, plum tomato...</td>\n",
       "    </tr>\n",
       "    <tr>\n",
       "      <th>1443</th>\n",
       "      <td>[cold water, olive oil, lime wedges, garlic cl...</td>\n",
       "    </tr>\n",
       "  </tbody>\n",
       "</table>\n",
       "<p>9944 rows × 1 columns</p>\n",
       "</div>"
      ],
      "text/plain": [
       "                                             ingredients\n",
       "id                                                      \n",
       "18009  [baking powder, eggs, all-purpose flour, raisi...\n",
       "28583  [sugar, egg yolks, corn starch, cream of tarta...\n",
       "41580  [sausage links, fennel bulb, fronds, olive oil...\n",
       "29752  [meat cuts, file powder, smoked sausage, okra,...\n",
       "35687  [ground black pepper, salt, sausage casings, l...\n",
       "...                                                  ...\n",
       "30246  [large egg yolks, fresh lemon juice, sugar, bo...\n",
       "36028  [hot sauce, butter, sweet potatoes, adobo sauc...\n",
       "22339  [black pepper, salt, parmigiano reggiano chees...\n",
       "42525  [cheddar cheese, cayenne, paprika, plum tomato...\n",
       "1443   [cold water, olive oil, lime wedges, garlic cl...\n",
       "\n",
       "[9944 rows x 1 columns]"
      ]
     },
     "execution_count": 15,
     "metadata": {},
     "output_type": "execute_result"
    }
   ],
   "source": [
    "test"
   ]
  },
  {
   "cell_type": "code",
   "execution_count": 16,
   "id": "525dfb5c",
   "metadata": {},
   "outputs": [],
   "source": [
    "with open('sample_submission.csv') as f:\n",
    "    sample_submission = f.readlines()"
   ]
  },
  {
   "cell_type": "code",
   "execution_count": 17,
   "id": "0512a7fe",
   "metadata": {},
   "outputs": [
    {
     "data": {
      "text/plain": [
       "9945"
      ]
     },
     "execution_count": 17,
     "metadata": {},
     "output_type": "execute_result"
    }
   ],
   "source": [
    "len(sample_submission)"
   ]
  },
  {
   "cell_type": "code",
   "execution_count": 18,
   "id": "9a24848b",
   "metadata": {
    "scrolled": false
   },
   "outputs": [
    {
     "data": {
      "text/plain": [
       "['id,cuisine\\n',\n",
       " '35203,italian\\n',\n",
       " '17600,italian\\n',\n",
       " '35200,italian\\n',\n",
       " '17602,italian\\n']"
      ]
     },
     "execution_count": 18,
     "metadata": {},
     "output_type": "execute_result"
    }
   ],
   "source": [
    "sample_submission[:5]"
   ]
  },
  {
   "cell_type": "markdown",
   "id": "a1d08ce1",
   "metadata": {},
   "source": [
    "### Feature engineering"
   ]
  },
  {
   "cell_type": "code",
   "execution_count": 19,
   "id": "b3c69353",
   "metadata": {},
   "outputs": [],
   "source": [
    "def clean_ingredients(old_ing):\n",
    "    ing = old_ing.lower()\n",
    "    ing = re.sub(r'\\(.*oz\\.\\)', ' ', ing)\n",
    "    ing = re.sub(r'[^a-zâçèéíîú]', ' ', ing)\n",
    "    ing = re.sub(r' +', ' ', ing)\n",
    "    ing = ing.strip()\n",
    "    return ing"
   ]
  },
  {
   "cell_type": "code",
   "execution_count": 20,
   "id": "2aafbc50",
   "metadata": {},
   "outputs": [],
   "source": [
    "train['ingredients'] = train['ingredients'].apply(lambda x: [clean_ingredients(ing) for ing in x])\n",
    "test['ingredients'] = test['ingredients'].apply(lambda x: [clean_ingredients(ing) for ing in x])"
   ]
  },
  {
   "cell_type": "code",
   "execution_count": 21,
   "id": "05fe7cb7",
   "metadata": {},
   "outputs": [],
   "source": [
    "def lemmatize(old_ing):\n",
    "    doc = nlp(old_ing)\n",
    "    return ' '.join([token.lemma_ for token in doc])"
   ]
  },
  {
   "cell_type": "code",
   "execution_count": 22,
   "id": "f58910fa",
   "metadata": {},
   "outputs": [],
   "source": [
    "train['norm'] = train['ingredients'].apply(lambda x: [lemmatize(ing) for ing in x])\n",
    "test['norm'] = test['ingredients'].apply(lambda x: [lemmatize(ing) for ing in x])"
   ]
  },
  {
   "cell_type": "code",
   "execution_count": 23,
   "id": "1c1d5b32",
   "metadata": {},
   "outputs": [],
   "source": [
    "train['words'] = train['norm'].apply(lambda x: ' '.join(x))\n",
    "test['words'] = test['norm'].apply(lambda x: ' '.join(x))"
   ]
  },
  {
   "cell_type": "code",
   "execution_count": 24,
   "id": "8b1bd790",
   "metadata": {},
   "outputs": [],
   "source": [
    "def get_bigrams(l: list):\n",
    "    ngrams_list = []\n",
    "    for item in l:\n",
    "        if ' ' not in item:\n",
    "            ngrams_list.append(item)\n",
    "        else:\n",
    "            ngrams_list += ['_'.join(pair) for pair in bigrams(item.split())]\n",
    "    return ' '.join(ngrams_list)"
   ]
  },
  {
   "cell_type": "code",
   "execution_count": 25,
   "id": "3aeeeb34",
   "metadata": {},
   "outputs": [],
   "source": [
    "train['bigrams'] = train['norm'].apply(lambda x: get_bigrams(x))\n",
    "test['bigrams'] = test['norm'].apply(lambda x: get_bigrams(x))"
   ]
  },
  {
   "cell_type": "code",
   "execution_count": 26,
   "id": "c767119a",
   "metadata": {},
   "outputs": [
    {
     "data": {
      "text/html": [
       "<div>\n",
       "<style scoped>\n",
       "    .dataframe tbody tr th:only-of-type {\n",
       "        vertical-align: middle;\n",
       "    }\n",
       "\n",
       "    .dataframe tbody tr th {\n",
       "        vertical-align: top;\n",
       "    }\n",
       "\n",
       "    .dataframe thead th {\n",
       "        text-align: right;\n",
       "    }\n",
       "</style>\n",
       "<table border=\"1\" class=\"dataframe\">\n",
       "  <thead>\n",
       "    <tr style=\"text-align: right;\">\n",
       "      <th></th>\n",
       "      <th>cuisine</th>\n",
       "      <th>ingredients</th>\n",
       "      <th>norm</th>\n",
       "      <th>words</th>\n",
       "      <th>bigrams</th>\n",
       "    </tr>\n",
       "    <tr>\n",
       "      <th>id</th>\n",
       "      <th></th>\n",
       "      <th></th>\n",
       "      <th></th>\n",
       "      <th></th>\n",
       "      <th></th>\n",
       "    </tr>\n",
       "  </thead>\n",
       "  <tbody>\n",
       "    <tr>\n",
       "      <th>10259</th>\n",
       "      <td>greek</td>\n",
       "      <td>[romaine lettuce, black olives, grape tomatoes...</td>\n",
       "      <td>[romaine lettuce, black olive, grape tomato, g...</td>\n",
       "      <td>romaine lettuce black olive grape tomato garli...</td>\n",
       "      <td>romaine_lettuce black_olive grape_tomato garli...</td>\n",
       "    </tr>\n",
       "    <tr>\n",
       "      <th>25693</th>\n",
       "      <td>southern_us</td>\n",
       "      <td>[plain flour, ground pepper, salt, tomatoes, g...</td>\n",
       "      <td>[plain flour, grind pepper, salt, tomato, grin...</td>\n",
       "      <td>plain flour grind pepper salt tomato grind bla...</td>\n",
       "      <td>plain_flour grind_pepper salt tomato grind_bla...</td>\n",
       "    </tr>\n",
       "    <tr>\n",
       "      <th>20130</th>\n",
       "      <td>filipino</td>\n",
       "      <td>[eggs, pepper, salt, mayonaise, cooking oil, g...</td>\n",
       "      <td>[egg, pepper, salt, mayonaise, cook oil, green...</td>\n",
       "      <td>egg pepper salt mayonaise cook oil green chili...</td>\n",
       "      <td>egg pepper salt mayonaise cook_oil green_chili...</td>\n",
       "    </tr>\n",
       "    <tr>\n",
       "      <th>22213</th>\n",
       "      <td>indian</td>\n",
       "      <td>[water, vegetable oil, wheat, salt]</td>\n",
       "      <td>[water, vegetable oil, wheat, salt]</td>\n",
       "      <td>water vegetable oil wheat salt</td>\n",
       "      <td>water vegetable_oil wheat salt</td>\n",
       "    </tr>\n",
       "    <tr>\n",
       "      <th>13162</th>\n",
       "      <td>indian</td>\n",
       "      <td>[black pepper, shallots, cornflour, cayenne pe...</td>\n",
       "      <td>[black pepper, shallot, cornflour, cayenne pep...</td>\n",
       "      <td>black pepper shallot cornflour cayenne pepper ...</td>\n",
       "      <td>black_pepper shallot cornflour cayenne_pepper ...</td>\n",
       "    </tr>\n",
       "    <tr>\n",
       "      <th>...</th>\n",
       "      <td>...</td>\n",
       "      <td>...</td>\n",
       "      <td>...</td>\n",
       "      <td>...</td>\n",
       "      <td>...</td>\n",
       "    </tr>\n",
       "    <tr>\n",
       "      <th>29109</th>\n",
       "      <td>irish</td>\n",
       "      <td>[light brown sugar, granulated sugar, butter, ...</td>\n",
       "      <td>[light brown sugar, granulate sugar, butter, w...</td>\n",
       "      <td>light brown sugar granulate sugar butter warm ...</td>\n",
       "      <td>light_brown brown_sugar granulate_sugar butter...</td>\n",
       "    </tr>\n",
       "    <tr>\n",
       "      <th>11462</th>\n",
       "      <td>italian</td>\n",
       "      <td>[kraft zesty italian dressing, purple onion, b...</td>\n",
       "      <td>[kraft zesty italian dress, purple onion, broc...</td>\n",
       "      <td>kraft zesty italian dress purple onion broccol...</td>\n",
       "      <td>kraft_zesty zesty_italian italian_dress purple...</td>\n",
       "    </tr>\n",
       "    <tr>\n",
       "      <th>2238</th>\n",
       "      <td>irish</td>\n",
       "      <td>[eggs, citrus fruit, raisins, sourdough starte...</td>\n",
       "      <td>[egg, citrus fruit, raisin, sourdough starter,...</td>\n",
       "      <td>egg citrus fruit raisin sourdough starter flou...</td>\n",
       "      <td>egg citrus_fruit raisin sourdough_starter flou...</td>\n",
       "    </tr>\n",
       "    <tr>\n",
       "      <th>41882</th>\n",
       "      <td>chinese</td>\n",
       "      <td>[boneless chicken skinless thigh, minced garli...</td>\n",
       "      <td>[boneless chicken skinless thigh, mince garlic...</td>\n",
       "      <td>boneless chicken skinless thigh mince garlic s...</td>\n",
       "      <td>boneless_chicken chicken_skinless skinless_thi...</td>\n",
       "    </tr>\n",
       "    <tr>\n",
       "      <th>2362</th>\n",
       "      <td>mexican</td>\n",
       "      <td>[green chile, jalapeno chilies, onions, ground...</td>\n",
       "      <td>[green chile, jalapeno chili, onion, grind bla...</td>\n",
       "      <td>green chile jalapeno chili onion grind black p...</td>\n",
       "      <td>green_chile jalapeno_chili onion grind_black b...</td>\n",
       "    </tr>\n",
       "  </tbody>\n",
       "</table>\n",
       "<p>39774 rows × 5 columns</p>\n",
       "</div>"
      ],
      "text/plain": [
       "           cuisine                                        ingredients  \\\n",
       "id                                                                      \n",
       "10259        greek  [romaine lettuce, black olives, grape tomatoes...   \n",
       "25693  southern_us  [plain flour, ground pepper, salt, tomatoes, g...   \n",
       "20130     filipino  [eggs, pepper, salt, mayonaise, cooking oil, g...   \n",
       "22213       indian                [water, vegetable oil, wheat, salt]   \n",
       "13162       indian  [black pepper, shallots, cornflour, cayenne pe...   \n",
       "...            ...                                                ...   \n",
       "29109        irish  [light brown sugar, granulated sugar, butter, ...   \n",
       "11462      italian  [kraft zesty italian dressing, purple onion, b...   \n",
       "2238         irish  [eggs, citrus fruit, raisins, sourdough starte...   \n",
       "41882      chinese  [boneless chicken skinless thigh, minced garli...   \n",
       "2362       mexican  [green chile, jalapeno chilies, onions, ground...   \n",
       "\n",
       "                                                    norm  \\\n",
       "id                                                         \n",
       "10259  [romaine lettuce, black olive, grape tomato, g...   \n",
       "25693  [plain flour, grind pepper, salt, tomato, grin...   \n",
       "20130  [egg, pepper, salt, mayonaise, cook oil, green...   \n",
       "22213                [water, vegetable oil, wheat, salt]   \n",
       "13162  [black pepper, shallot, cornflour, cayenne pep...   \n",
       "...                                                  ...   \n",
       "29109  [light brown sugar, granulate sugar, butter, w...   \n",
       "11462  [kraft zesty italian dress, purple onion, broc...   \n",
       "2238   [egg, citrus fruit, raisin, sourdough starter,...   \n",
       "41882  [boneless chicken skinless thigh, mince garlic...   \n",
       "2362   [green chile, jalapeno chili, onion, grind bla...   \n",
       "\n",
       "                                                   words  \\\n",
       "id                                                         \n",
       "10259  romaine lettuce black olive grape tomato garli...   \n",
       "25693  plain flour grind pepper salt tomato grind bla...   \n",
       "20130  egg pepper salt mayonaise cook oil green chili...   \n",
       "22213                     water vegetable oil wheat salt   \n",
       "13162  black pepper shallot cornflour cayenne pepper ...   \n",
       "...                                                  ...   \n",
       "29109  light brown sugar granulate sugar butter warm ...   \n",
       "11462  kraft zesty italian dress purple onion broccol...   \n",
       "2238   egg citrus fruit raisin sourdough starter flou...   \n",
       "41882  boneless chicken skinless thigh mince garlic s...   \n",
       "2362   green chile jalapeno chili onion grind black p...   \n",
       "\n",
       "                                                 bigrams  \n",
       "id                                                        \n",
       "10259  romaine_lettuce black_olive grape_tomato garli...  \n",
       "25693  plain_flour grind_pepper salt tomato grind_bla...  \n",
       "20130  egg pepper salt mayonaise cook_oil green_chili...  \n",
       "22213                     water vegetable_oil wheat salt  \n",
       "13162  black_pepper shallot cornflour cayenne_pepper ...  \n",
       "...                                                  ...  \n",
       "29109  light_brown brown_sugar granulate_sugar butter...  \n",
       "11462  kraft_zesty zesty_italian italian_dress purple...  \n",
       "2238   egg citrus_fruit raisin sourdough_starter flou...  \n",
       "41882  boneless_chicken chicken_skinless skinless_thi...  \n",
       "2362   green_chile jalapeno_chili onion grind_black b...  \n",
       "\n",
       "[39774 rows x 5 columns]"
      ]
     },
     "execution_count": 26,
     "metadata": {},
     "output_type": "execute_result"
    }
   ],
   "source": [
    "train"
   ]
  },
  {
   "cell_type": "code",
   "execution_count": 27,
   "id": "4a1124e1",
   "metadata": {},
   "outputs": [],
   "source": [
    "c_vectorizer_counts = CountVectorizer()\n",
    "c_vectorizer_bin = CountVectorizer(binary=True)\n",
    "c_vectorizer_counts_bigram = CountVectorizer(token_pattern=r'(?u)\\b\\w+_?\\w+\\b')\n",
    "c_vectorizer_bin_bigram = CountVectorizer(token_pattern=r'(?u)\\b\\w+_?\\w+\\b', binary=True)\n",
    "tfidf = TfidfVectorizer(binary=True)"
   ]
  },
  {
   "cell_type": "code",
   "execution_count": 28,
   "id": "8f1c6562",
   "metadata": {},
   "outputs": [],
   "source": [
    "X = tfidf.fit_transform(train['words'])\n",
    "X_kaggle = tfidf.transform(test['words'])"
   ]
  },
  {
   "cell_type": "code",
   "execution_count": 29,
   "id": "83402bd2",
   "metadata": {},
   "outputs": [
    {
     "name": "stdout",
     "output_type": "stream",
     "text": [
      "(39774, 2692)\n",
      "(9944, 2692)\n"
     ]
    }
   ],
   "source": [
    "print(X.shape)\n",
    "print(X_kaggle.shape)"
   ]
  },
  {
   "cell_type": "code",
   "execution_count": 30,
   "id": "d2f9cc3e",
   "metadata": {},
   "outputs": [
    {
     "data": {
      "text/plain": [
       "id\n",
       "10259          greek\n",
       "25693    southern_us\n",
       "20130       filipino\n",
       "22213         indian\n",
       "13162         indian\n",
       "            ...     \n",
       "29109          irish\n",
       "11462        italian\n",
       "2238           irish\n",
       "41882        chinese\n",
       "2362         mexican\n",
       "Name: cuisine, Length: 39774, dtype: object"
      ]
     },
     "execution_count": 30,
     "metadata": {},
     "output_type": "execute_result"
    }
   ],
   "source": [
    "y = train['cuisine']\n",
    "y"
   ]
  },
  {
   "cell_type": "markdown",
   "id": "31dc4d34",
   "metadata": {},
   "source": [
    "### SVC"
   ]
  },
  {
   "cell_type": "code",
   "execution_count": 31,
   "id": "b34c7e83",
   "metadata": {},
   "outputs": [],
   "source": [
    "X_train, X_test, y_train, y_test = train_test_split(X, y, test_size=8000, random_state=10)"
   ]
  },
  {
   "cell_type": "code",
   "execution_count": 33,
   "id": "fdcdb65f",
   "metadata": {},
   "outputs": [],
   "source": [
    "model = SVC(random_state=10, max_iter=5000)"
   ]
  },
  {
   "cell_type": "code",
   "execution_count": 34,
   "id": "4e2c248a",
   "metadata": {},
   "outputs": [
    {
     "name": "stdout",
     "output_type": "stream",
     "text": [
      "Wall time: 1min 54s\n"
     ]
    },
    {
     "name": "stderr",
     "output_type": "stream",
     "text": [
      "C:\\ProgramData\\Anaconda3\\lib\\site-packages\\sklearn\\svm\\_base.py:284: ConvergenceWarning: Solver terminated early (max_iter=5000).  Consider pre-processing your data with StandardScaler or MinMaxScaler.\n",
      "  warnings.warn(\n"
     ]
    },
    {
     "data": {
      "text/plain": [
       "SVC(max_iter=5000, random_state=10)"
      ]
     },
     "execution_count": 34,
     "metadata": {},
     "output_type": "execute_result"
    }
   ],
   "source": [
    "%%time\n",
    "model.fit(X_train, y_train)"
   ]
  },
  {
   "cell_type": "code",
   "execution_count": 35,
   "id": "9f057c40",
   "metadata": {},
   "outputs": [],
   "source": [
    "pred_train = model.predict(X_train)\n",
    "pred_test = model.predict(X_test)"
   ]
  },
  {
   "cell_type": "code",
   "execution_count": 36,
   "id": "c048813f",
   "metadata": {},
   "outputs": [
    {
     "name": "stdout",
     "output_type": "stream",
     "text": [
      "0.9283691068168943\n",
      "0.803875\n"
     ]
    }
   ],
   "source": [
    "print(accuracy_score(y_train, pred_train))\n",
    "print(accuracy_score(y_test, pred_test))"
   ]
  },
  {
   "cell_type": "code",
   "execution_count": 37,
   "id": "101d779e",
   "metadata": {},
   "outputs": [
    {
     "name": "stderr",
     "output_type": "stream",
     "text": [
      "C:\\ProgramData\\Anaconda3\\lib\\site-packages\\sklearn\\svm\\_base.py:284: ConvergenceWarning: Solver terminated early (max_iter=5000).  Consider pre-processing your data with StandardScaler or MinMaxScaler.\n",
      "  warnings.warn(\n",
      "C:\\ProgramData\\Anaconda3\\lib\\site-packages\\sklearn\\svm\\_base.py:284: ConvergenceWarning: Solver terminated early (max_iter=5000).  Consider pre-processing your data with StandardScaler or MinMaxScaler.\n",
      "  warnings.warn(\n",
      "C:\\ProgramData\\Anaconda3\\lib\\site-packages\\sklearn\\svm\\_base.py:284: ConvergenceWarning: Solver terminated early (max_iter=5000).  Consider pre-processing your data with StandardScaler or MinMaxScaler.\n",
      "  warnings.warn(\n",
      "C:\\ProgramData\\Anaconda3\\lib\\site-packages\\sklearn\\svm\\_base.py:284: ConvergenceWarning: Solver terminated early (max_iter=5000).  Consider pre-processing your data with StandardScaler or MinMaxScaler.\n",
      "  warnings.warn(\n",
      "C:\\ProgramData\\Anaconda3\\lib\\site-packages\\sklearn\\svm\\_base.py:284: ConvergenceWarning: Solver terminated early (max_iter=5000).  Consider pre-processing your data with StandardScaler or MinMaxScaler.\n",
      "  warnings.warn(\n"
     ]
    },
    {
     "data": {
      "text/plain": [
       "0.8006487365203473"
      ]
     },
     "execution_count": 37,
     "metadata": {},
     "output_type": "execute_result"
    }
   ],
   "source": [
    "cross_val_score(model, X, y, cv=5, scoring='accuracy').mean()"
   ]
  },
  {
   "cell_type": "markdown",
   "id": "f91ade87",
   "metadata": {},
   "source": [
    "#### Cross-validation score\n",
    "\n",
    "SVC:\n",
    "0.8\n",
    "\n",
    "LinearSVC:\n",
    "\n",
    "Counts for words: 0.771<br>\n",
    "0/1 for words: 0.786<br>\n",
    "Counts for bigrams: 0.786<br>\n",
    "0/1 for bigrams: 0.786<br>"
   ]
  },
  {
   "cell_type": "markdown",
   "id": "46166778",
   "metadata": {},
   "source": [
    "### Hyperparam tuning for SVC"
   ]
  },
  {
   "cell_type": "code",
   "execution_count": null,
   "id": "004b1c33",
   "metadata": {},
   "outputs": [],
   "source": [
    "def get_best_model(model, X_tr, y_tr, param_grid):\n",
    "    \n",
    "    grid = GridSearchCV(model, param_grid, cv=3, scoring='accuracy')\n",
    "    grid.fit(X_tr, y_tr)\n",
    "    \n",
    "    return grid.best_estimator_, grid.best_score_, grid.best_params_, pd.DataFrame(grid.cv_results_)"
   ]
  },
  {
   "cell_type": "code",
   "execution_count": null,
   "id": "43b4284c",
   "metadata": {},
   "outputs": [],
   "source": [
    "model = LinearSVC(random_state=10, max_iter=10000)"
   ]
  },
  {
   "cell_type": "code",
   "execution_count": null,
   "id": "44ab8659",
   "metadata": {},
   "outputs": [],
   "source": [
    "params = {'penalty': ['l1', 'l2'],\n",
    "          'class_weight': [None, 'balanced'],\n",
    "          'C': [1e-7, 1e-6, 1e-5, 1e-4, 1e-3, 1e-2, 1e-1, 1, 1e+1, 1e+2, 1e+3]}"
   ]
  },
  {
   "cell_type": "code",
   "execution_count": null,
   "id": "6a0ea7f7",
   "metadata": {},
   "outputs": [],
   "source": [
    "model_data = get_best_model(model, X, y, params)"
   ]
  },
  {
   "cell_type": "code",
   "execution_count": null,
   "id": "220bac32",
   "metadata": {},
   "outputs": [],
   "source": [
    "for item in model_data[:3]:\n",
    "    print(item)"
   ]
  },
  {
   "cell_type": "markdown",
   "id": "14ed9a1d",
   "metadata": {},
   "source": [
    "### SVC with best params"
   ]
  },
  {
   "cell_type": "code",
   "execution_count": null,
   "id": "6a30737c",
   "metadata": {},
   "outputs": [],
   "source": [
    "model = SVC(max_iter=10000, random_state=10)"
   ]
  },
  {
   "cell_type": "code",
   "execution_count": null,
   "id": "ed456306",
   "metadata": {},
   "outputs": [],
   "source": [
    "model.fit(X_train, y_train)"
   ]
  },
  {
   "cell_type": "code",
   "execution_count": null,
   "id": "f7baf8f8",
   "metadata": {},
   "outputs": [],
   "source": [
    "pred_train = model.predict(X_train)\n",
    "pred_test = model.predict(X_test)"
   ]
  },
  {
   "cell_type": "code",
   "execution_count": null,
   "id": "ebdf3bfb",
   "metadata": {},
   "outputs": [],
   "source": [
    "print(accuracy_score(y_train, pred_train))\n",
    "print(accuracy_score(y_test, pred_test))"
   ]
  },
  {
   "cell_type": "code",
   "execution_count": null,
   "id": "b263d94a",
   "metadata": {},
   "outputs": [],
   "source": [
    "cross_val_score(model, X, y, cv=5, scoring='accuracy').mean()"
   ]
  },
  {
   "cell_type": "markdown",
   "id": "43c3c3ab",
   "metadata": {},
   "source": [
    "Cross-validation score: ..."
   ]
  },
  {
   "cell_type": "markdown",
   "id": "779ff6ac",
   "metadata": {},
   "source": [
    "### Kaggle submission"
   ]
  },
  {
   "cell_type": "code",
   "execution_count": 38,
   "id": "c4b19b4c",
   "metadata": {},
   "outputs": [],
   "source": [
    "model = SVC(max_iter=5000, random_state=10)"
   ]
  },
  {
   "cell_type": "code",
   "execution_count": 39,
   "id": "c5c502be",
   "metadata": {},
   "outputs": [
    {
     "name": "stderr",
     "output_type": "stream",
     "text": [
      "C:\\ProgramData\\Anaconda3\\lib\\site-packages\\sklearn\\svm\\_base.py:284: ConvergenceWarning: Solver terminated early (max_iter=5000).  Consider pre-processing your data with StandardScaler or MinMaxScaler.\n",
      "  warnings.warn(\n"
     ]
    },
    {
     "data": {
      "text/plain": [
       "SVC(max_iter=5000, random_state=10)"
      ]
     },
     "execution_count": 39,
     "metadata": {},
     "output_type": "execute_result"
    }
   ],
   "source": [
    "model.fit(X, y)"
   ]
  },
  {
   "cell_type": "code",
   "execution_count": 40,
   "id": "46ba114c",
   "metadata": {},
   "outputs": [
    {
     "data": {
      "text/plain": [
       "array(['british', 'southern_us', 'italian', ..., 'italian', 'southern_us',\n",
       "       'mexican'], dtype=object)"
      ]
     },
     "execution_count": 40,
     "metadata": {},
     "output_type": "execute_result"
    }
   ],
   "source": [
    "pred_kaggle = model.predict(X_kaggle)\n",
    "pred_kaggle"
   ]
  },
  {
   "cell_type": "code",
   "execution_count": 41,
   "id": "0636ccf1",
   "metadata": {},
   "outputs": [
    {
     "data": {
      "text/html": [
       "<div>\n",
       "<style scoped>\n",
       "    .dataframe tbody tr th:only-of-type {\n",
       "        vertical-align: middle;\n",
       "    }\n",
       "\n",
       "    .dataframe tbody tr th {\n",
       "        vertical-align: top;\n",
       "    }\n",
       "\n",
       "    .dataframe thead th {\n",
       "        text-align: right;\n",
       "    }\n",
       "</style>\n",
       "<table border=\"1\" class=\"dataframe\">\n",
       "  <thead>\n",
       "    <tr style=\"text-align: right;\">\n",
       "      <th></th>\n",
       "      <th>cuisine</th>\n",
       "    </tr>\n",
       "    <tr>\n",
       "      <th>id</th>\n",
       "      <th></th>\n",
       "    </tr>\n",
       "  </thead>\n",
       "  <tbody>\n",
       "    <tr>\n",
       "      <th>18009</th>\n",
       "      <td>british</td>\n",
       "    </tr>\n",
       "    <tr>\n",
       "      <th>28583</th>\n",
       "      <td>southern_us</td>\n",
       "    </tr>\n",
       "    <tr>\n",
       "      <th>41580</th>\n",
       "      <td>italian</td>\n",
       "    </tr>\n",
       "    <tr>\n",
       "      <th>29752</th>\n",
       "      <td>cajun_creole</td>\n",
       "    </tr>\n",
       "    <tr>\n",
       "      <th>35687</th>\n",
       "      <td>italian</td>\n",
       "    </tr>\n",
       "    <tr>\n",
       "      <th>...</th>\n",
       "      <td>...</td>\n",
       "    </tr>\n",
       "    <tr>\n",
       "      <th>30246</th>\n",
       "      <td>french</td>\n",
       "    </tr>\n",
       "    <tr>\n",
       "      <th>36028</th>\n",
       "      <td>southern_us</td>\n",
       "    </tr>\n",
       "    <tr>\n",
       "      <th>22339</th>\n",
       "      <td>italian</td>\n",
       "    </tr>\n",
       "    <tr>\n",
       "      <th>42525</th>\n",
       "      <td>southern_us</td>\n",
       "    </tr>\n",
       "    <tr>\n",
       "      <th>1443</th>\n",
       "      <td>mexican</td>\n",
       "    </tr>\n",
       "  </tbody>\n",
       "</table>\n",
       "<p>9944 rows × 1 columns</p>\n",
       "</div>"
      ],
      "text/plain": [
       "            cuisine\n",
       "id                 \n",
       "18009       british\n",
       "28583   southern_us\n",
       "41580       italian\n",
       "29752  cajun_creole\n",
       "35687       italian\n",
       "...             ...\n",
       "30246        french\n",
       "36028   southern_us\n",
       "22339       italian\n",
       "42525   southern_us\n",
       "1443        mexican\n",
       "\n",
       "[9944 rows x 1 columns]"
      ]
     },
     "execution_count": 41,
     "metadata": {},
     "output_type": "execute_result"
    }
   ],
   "source": [
    "submission = pd.DataFrame(pred_kaggle, index=test.index, columns=['cuisine'])\n",
    "submission"
   ]
  },
  {
   "cell_type": "code",
   "execution_count": 42,
   "id": "e0c9437d",
   "metadata": {},
   "outputs": [],
   "source": [
    "submission.to_csv('submission7.csv')"
   ]
  },
  {
   "cell_type": "markdown",
   "id": "a325e13a",
   "metadata": {},
   "source": [
    "Kaggle score: 0.80229"
   ]
  }
 ],
 "metadata": {
  "kernelspec": {
   "display_name": "Python 3 (ipykernel)",
   "language": "python",
   "name": "python3"
  },
  "language_info": {
   "codemirror_mode": {
    "name": "ipython",
    "version": 3
   },
   "file_extension": ".py",
   "mimetype": "text/x-python",
   "name": "python",
   "nbconvert_exporter": "python",
   "pygments_lexer": "ipython3",
   "version": "3.8.5"
  }
 },
 "nbformat": 4,
 "nbformat_minor": 5
}
