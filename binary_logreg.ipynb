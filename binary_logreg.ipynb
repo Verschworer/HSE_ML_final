{
 "cells": [
  {
   "cell_type": "code",
   "execution_count": 1,
   "id": "3a47ec3d",
   "metadata": {},
   "outputs": [],
   "source": [
    "import pandas as pd\n",
    "import numpy as np\n",
    "import json\n",
    "import re\n",
    "\n",
    "from sklearn.feature_extraction import DictVectorizer\n",
    "from sklearn.model_selection import train_test_split, cross_val_score, GridSearchCV\n",
    "\n",
    "from sklearn.linear_model import LogisticRegression\n",
    "from sklearn.metrics import accuracy_score"
   ]
  },
  {
   "cell_type": "markdown",
   "id": "1e18c43a",
   "metadata": {},
   "source": [
    "### Data"
   ]
  },
  {
   "cell_type": "code",
   "execution_count": 2,
   "id": "1330e171",
   "metadata": {},
   "outputs": [],
   "source": [
    "train = pd.read_json('train.json').set_index('id')"
   ]
  },
  {
   "cell_type": "code",
   "execution_count": 3,
   "id": "92bb8c5d",
   "metadata": {},
   "outputs": [
    {
     "data": {
      "text/html": [
       "<div>\n",
       "<style scoped>\n",
       "    .dataframe tbody tr th:only-of-type {\n",
       "        vertical-align: middle;\n",
       "    }\n",
       "\n",
       "    .dataframe tbody tr th {\n",
       "        vertical-align: top;\n",
       "    }\n",
       "\n",
       "    .dataframe thead th {\n",
       "        text-align: right;\n",
       "    }\n",
       "</style>\n",
       "<table border=\"1\" class=\"dataframe\">\n",
       "  <thead>\n",
       "    <tr style=\"text-align: right;\">\n",
       "      <th></th>\n",
       "      <th>cuisine</th>\n",
       "      <th>ingredients</th>\n",
       "    </tr>\n",
       "    <tr>\n",
       "      <th>id</th>\n",
       "      <th></th>\n",
       "      <th></th>\n",
       "    </tr>\n",
       "  </thead>\n",
       "  <tbody>\n",
       "    <tr>\n",
       "      <th>10259</th>\n",
       "      <td>greek</td>\n",
       "      <td>[romaine lettuce, black olives, grape tomatoes...</td>\n",
       "    </tr>\n",
       "    <tr>\n",
       "      <th>25693</th>\n",
       "      <td>southern_us</td>\n",
       "      <td>[plain flour, ground pepper, salt, tomatoes, g...</td>\n",
       "    </tr>\n",
       "    <tr>\n",
       "      <th>20130</th>\n",
       "      <td>filipino</td>\n",
       "      <td>[eggs, pepper, salt, mayonaise, cooking oil, g...</td>\n",
       "    </tr>\n",
       "    <tr>\n",
       "      <th>22213</th>\n",
       "      <td>indian</td>\n",
       "      <td>[water, vegetable oil, wheat, salt]</td>\n",
       "    </tr>\n",
       "    <tr>\n",
       "      <th>13162</th>\n",
       "      <td>indian</td>\n",
       "      <td>[black pepper, shallots, cornflour, cayenne pe...</td>\n",
       "    </tr>\n",
       "    <tr>\n",
       "      <th>...</th>\n",
       "      <td>...</td>\n",
       "      <td>...</td>\n",
       "    </tr>\n",
       "    <tr>\n",
       "      <th>29109</th>\n",
       "      <td>irish</td>\n",
       "      <td>[light brown sugar, granulated sugar, butter, ...</td>\n",
       "    </tr>\n",
       "    <tr>\n",
       "      <th>11462</th>\n",
       "      <td>italian</td>\n",
       "      <td>[KRAFT Zesty Italian Dressing, purple onion, b...</td>\n",
       "    </tr>\n",
       "    <tr>\n",
       "      <th>2238</th>\n",
       "      <td>irish</td>\n",
       "      <td>[eggs, citrus fruit, raisins, sourdough starte...</td>\n",
       "    </tr>\n",
       "    <tr>\n",
       "      <th>41882</th>\n",
       "      <td>chinese</td>\n",
       "      <td>[boneless chicken skinless thigh, minced garli...</td>\n",
       "    </tr>\n",
       "    <tr>\n",
       "      <th>2362</th>\n",
       "      <td>mexican</td>\n",
       "      <td>[green chile, jalapeno chilies, onions, ground...</td>\n",
       "    </tr>\n",
       "  </tbody>\n",
       "</table>\n",
       "<p>39774 rows × 2 columns</p>\n",
       "</div>"
      ],
      "text/plain": [
       "           cuisine                                        ingredients\n",
       "id                                                                   \n",
       "10259        greek  [romaine lettuce, black olives, grape tomatoes...\n",
       "25693  southern_us  [plain flour, ground pepper, salt, tomatoes, g...\n",
       "20130     filipino  [eggs, pepper, salt, mayonaise, cooking oil, g...\n",
       "22213       indian                [water, vegetable oil, wheat, salt]\n",
       "13162       indian  [black pepper, shallots, cornflour, cayenne pe...\n",
       "...            ...                                                ...\n",
       "29109        irish  [light brown sugar, granulated sugar, butter, ...\n",
       "11462      italian  [KRAFT Zesty Italian Dressing, purple onion, b...\n",
       "2238         irish  [eggs, citrus fruit, raisins, sourdough starte...\n",
       "41882      chinese  [boneless chicken skinless thigh, minced garli...\n",
       "2362       mexican  [green chile, jalapeno chilies, onions, ground...\n",
       "\n",
       "[39774 rows x 2 columns]"
      ]
     },
     "execution_count": 3,
     "metadata": {},
     "output_type": "execute_result"
    }
   ],
   "source": [
    "train"
   ]
  },
  {
   "cell_type": "code",
   "execution_count": 4,
   "id": "0cc37d4d",
   "metadata": {},
   "outputs": [],
   "source": [
    "test = pd.read_json('test.json').set_index('id')"
   ]
  },
  {
   "cell_type": "code",
   "execution_count": 5,
   "id": "6541d023",
   "metadata": {},
   "outputs": [
    {
     "data": {
      "text/html": [
       "<div>\n",
       "<style scoped>\n",
       "    .dataframe tbody tr th:only-of-type {\n",
       "        vertical-align: middle;\n",
       "    }\n",
       "\n",
       "    .dataframe tbody tr th {\n",
       "        vertical-align: top;\n",
       "    }\n",
       "\n",
       "    .dataframe thead th {\n",
       "        text-align: right;\n",
       "    }\n",
       "</style>\n",
       "<table border=\"1\" class=\"dataframe\">\n",
       "  <thead>\n",
       "    <tr style=\"text-align: right;\">\n",
       "      <th></th>\n",
       "      <th>ingredients</th>\n",
       "    </tr>\n",
       "    <tr>\n",
       "      <th>id</th>\n",
       "      <th></th>\n",
       "    </tr>\n",
       "  </thead>\n",
       "  <tbody>\n",
       "    <tr>\n",
       "      <th>18009</th>\n",
       "      <td>[baking powder, eggs, all-purpose flour, raisi...</td>\n",
       "    </tr>\n",
       "    <tr>\n",
       "      <th>28583</th>\n",
       "      <td>[sugar, egg yolks, corn starch, cream of tarta...</td>\n",
       "    </tr>\n",
       "    <tr>\n",
       "      <th>41580</th>\n",
       "      <td>[sausage links, fennel bulb, fronds, olive oil...</td>\n",
       "    </tr>\n",
       "    <tr>\n",
       "      <th>29752</th>\n",
       "      <td>[meat cuts, file powder, smoked sausage, okra,...</td>\n",
       "    </tr>\n",
       "    <tr>\n",
       "      <th>35687</th>\n",
       "      <td>[ground black pepper, salt, sausage casings, l...</td>\n",
       "    </tr>\n",
       "    <tr>\n",
       "      <th>...</th>\n",
       "      <td>...</td>\n",
       "    </tr>\n",
       "    <tr>\n",
       "      <th>30246</th>\n",
       "      <td>[large egg yolks, fresh lemon juice, sugar, bo...</td>\n",
       "    </tr>\n",
       "    <tr>\n",
       "      <th>36028</th>\n",
       "      <td>[hot sauce, butter, sweet potatoes, adobo sauc...</td>\n",
       "    </tr>\n",
       "    <tr>\n",
       "      <th>22339</th>\n",
       "      <td>[black pepper, salt, parmigiano reggiano chees...</td>\n",
       "    </tr>\n",
       "    <tr>\n",
       "      <th>42525</th>\n",
       "      <td>[cheddar cheese, cayenne, paprika, plum tomato...</td>\n",
       "    </tr>\n",
       "    <tr>\n",
       "      <th>1443</th>\n",
       "      <td>[cold water, olive oil, lime wedges, garlic cl...</td>\n",
       "    </tr>\n",
       "  </tbody>\n",
       "</table>\n",
       "<p>9944 rows × 1 columns</p>\n",
       "</div>"
      ],
      "text/plain": [
       "                                             ingredients\n",
       "id                                                      \n",
       "18009  [baking powder, eggs, all-purpose flour, raisi...\n",
       "28583  [sugar, egg yolks, corn starch, cream of tarta...\n",
       "41580  [sausage links, fennel bulb, fronds, olive oil...\n",
       "29752  [meat cuts, file powder, smoked sausage, okra,...\n",
       "35687  [ground black pepper, salt, sausage casings, l...\n",
       "...                                                  ...\n",
       "30246  [large egg yolks, fresh lemon juice, sugar, bo...\n",
       "36028  [hot sauce, butter, sweet potatoes, adobo sauc...\n",
       "22339  [black pepper, salt, parmigiano reggiano chees...\n",
       "42525  [cheddar cheese, cayenne, paprika, plum tomato...\n",
       "1443   [cold water, olive oil, lime wedges, garlic cl...\n",
       "\n",
       "[9944 rows x 1 columns]"
      ]
     },
     "execution_count": 5,
     "metadata": {},
     "output_type": "execute_result"
    }
   ],
   "source": [
    "test"
   ]
  },
  {
   "cell_type": "code",
   "execution_count": 10,
   "id": "525dfb5c",
   "metadata": {},
   "outputs": [],
   "source": [
    "with open('sample_submission.csv') as f:\n",
    "    sample_submission = f.readlines()"
   ]
  },
  {
   "cell_type": "code",
   "execution_count": 11,
   "id": "0512a7fe",
   "metadata": {},
   "outputs": [
    {
     "data": {
      "text/plain": [
       "9945"
      ]
     },
     "execution_count": 11,
     "metadata": {},
     "output_type": "execute_result"
    }
   ],
   "source": [
    "len(sample_submission)"
   ]
  },
  {
   "cell_type": "code",
   "execution_count": 12,
   "id": "9a24848b",
   "metadata": {
    "scrolled": false
   },
   "outputs": [
    {
     "data": {
      "text/plain": [
       "['id,cuisine\\n',\n",
       " '35203,italian\\n',\n",
       " '17600,italian\\n',\n",
       " '35200,italian\\n',\n",
       " '17602,italian\\n']"
      ]
     },
     "execution_count": 12,
     "metadata": {},
     "output_type": "execute_result"
    }
   ],
   "source": [
    "sample_submission[:5]"
   ]
  },
  {
   "cell_type": "markdown",
   "id": "90e4c676",
   "metadata": {},
   "source": [
    "### EDA: Train set"
   ]
  },
  {
   "cell_type": "markdown",
   "id": "f6828062",
   "metadata": {},
   "source": [
    "#### Target: cuisine"
   ]
  },
  {
   "cell_type": "code",
   "execution_count": 10,
   "id": "e7167ce2",
   "metadata": {},
   "outputs": [
    {
     "data": {
      "text/plain": [
       "20"
      ]
     },
     "execution_count": 10,
     "metadata": {},
     "output_type": "execute_result"
    }
   ],
   "source": [
    "len(train.cuisine.unique())"
   ]
  },
  {
   "cell_type": "markdown",
   "id": "ec1ff46d",
   "metadata": {},
   "source": [
    "The sample is imbalanced:"
   ]
  },
  {
   "cell_type": "code",
   "execution_count": 11,
   "id": "43a63719",
   "metadata": {},
   "outputs": [
    {
     "data": {
      "text/plain": [
       "italian         7838\n",
       "mexican         6438\n",
       "southern_us     4320\n",
       "indian          3003\n",
       "chinese         2673\n",
       "french          2646\n",
       "cajun_creole    1546\n",
       "thai            1539\n",
       "japanese        1423\n",
       "greek           1175\n",
       "spanish          989\n",
       "korean           830\n",
       "vietnamese       825\n",
       "moroccan         821\n",
       "british          804\n",
       "filipino         755\n",
       "irish            667\n",
       "jamaican         526\n",
       "russian          489\n",
       "brazilian        467\n",
       "Name: cuisine, dtype: int64"
      ]
     },
     "execution_count": 11,
     "metadata": {},
     "output_type": "execute_result"
    }
   ],
   "source": [
    "train.cuisine.value_counts()"
   ]
  },
  {
   "cell_type": "code",
   "execution_count": 12,
   "id": "d6751218",
   "metadata": {},
   "outputs": [
    {
     "data": {
      "text/plain": [
       "cuisine        0\n",
       "ingredients    0\n",
       "dtype: int64"
      ]
     },
     "execution_count": 12,
     "metadata": {},
     "output_type": "execute_result"
    }
   ],
   "source": [
    "train.isna().sum()"
   ]
  },
  {
   "cell_type": "code",
   "execution_count": 13,
   "id": "a1c8aaf9",
   "metadata": {},
   "outputs": [
    {
     "data": {
      "text/plain": [
       "cuisine        True\n",
       "ingredients    True\n",
       "dtype: bool"
      ]
     },
     "execution_count": 13,
     "metadata": {},
     "output_type": "execute_result"
    }
   ],
   "source": [
    "train.all(axis=0)"
   ]
  },
  {
   "cell_type": "markdown",
   "id": "e651c69c",
   "metadata": {},
   "source": [
    "#### Features: ingredients"
   ]
  },
  {
   "cell_type": "code",
   "execution_count": 14,
   "id": "98f1dbc9",
   "metadata": {
    "scrolled": false
   },
   "outputs": [],
   "source": [
    "ing_full = train.ingredients.tolist()\n",
    "ing_counts = dict()"
   ]
  },
  {
   "cell_type": "code",
   "execution_count": 15,
   "id": "5411d152",
   "metadata": {
    "scrolled": true
   },
   "outputs": [],
   "source": [
    "for ing_list in ing_full:\n",
    "    for ingredient in ing_list:\n",
    "        ing_counts[ingredient] = ing_counts.get(ingredient, 0) + 1"
   ]
  },
  {
   "cell_type": "code",
   "execution_count": 16,
   "id": "6efbe508",
   "metadata": {},
   "outputs": [
    {
     "name": "stdout",
     "output_type": "stream",
     "text": [
      "Number of ingredients mentioned: 428275\n"
     ]
    }
   ],
   "source": [
    "print(f'Number of ingredients mentioned: {sum(ing_counts.values())}')"
   ]
  },
  {
   "cell_type": "code",
   "execution_count": null,
   "id": "d61ddcd5",
   "metadata": {},
   "outputs": [],
   "source": []
  },
  {
   "cell_type": "markdown",
   "id": "8e09f452",
   "metadata": {},
   "source": [
    "#### Most popular ingredients"
   ]
  },
  {
   "cell_type": "code",
   "execution_count": 17,
   "id": "e3e00d0c",
   "metadata": {},
   "outputs": [
    {
     "name": "stdout",
     "output_type": "stream",
     "text": [
      "Number of unique ingredients: 6714\n",
      "\n",
      "salt 18049\n",
      "onions 7972\n",
      "olive oil 7972\n",
      "water 7457\n",
      "garlic 7380\n",
      "sugar 6434\n",
      "garlic cloves 6237\n",
      "butter 4848\n",
      "ground black pepper 4785\n",
      "all-purpose flour 4632\n",
      "pepper 4438\n",
      "vegetable oil 4385\n",
      "eggs 3388\n",
      "soy sauce 3296\n",
      "kosher salt 3113\n"
     ]
    }
   ],
   "source": [
    "sorted_ing = sorted(ing_counts, key=ing_counts.get, reverse=True)\n",
    "\n",
    "print(f'Number of unique ingredients: {len(sorted_ing)}\\n')\n",
    "\n",
    "for k in sorted_ing[:15]:\n",
    "    print(k, ing_counts[k])"
   ]
  },
  {
   "cell_type": "markdown",
   "id": "e53b040e",
   "metadata": {},
   "source": [
    "#### Most rare ingredients"
   ]
  },
  {
   "cell_type": "code",
   "execution_count": 17,
   "id": "f96162e7",
   "metadata": {},
   "outputs": [
    {
     "name": "stdout",
     "output_type": "stream",
     "text": [
      "game 1\n",
      "tongue 1\n",
      "Daiya 1\n",
      "curry mix 1\n",
      "Kraft Slim Cut Mozzarella Cheese Slices 1\n",
      "Oscar Mayer Cotto Salami 1\n",
      "Challenge Butter 1\n",
      "orange glaze 1\n",
      "cholesterol free egg substitute 1\n",
      "ciabatta loaf 1\n",
      "Lipton® Iced Tea Brew Family Size Tea Bags 1\n",
      "Hidden Valley® Greek Yogurt Original Ranch® Dip Mix 1\n",
      "lop chong 1\n",
      "tomato garlic pasta sauce 1\n",
      "crushed cheese crackers 1\n"
     ]
    }
   ],
   "source": [
    "for k in sorted_ing[-15:]:\n",
    "    print(k, ing_counts[k])"
   ]
  },
  {
   "cell_type": "markdown",
   "id": "15878273",
   "metadata": {},
   "source": [
    "#### Similar ingredient names"
   ]
  },
  {
   "cell_type": "code",
   "execution_count": 18,
   "id": "0df02fef",
   "metadata": {},
   "outputs": [
    {
     "data": {
      "text/plain": [
       "[('organic tomato', 7),\n",
       " ('yellow tomato', 7),\n",
       " ('large tomato', 5),\n",
       " ('sauce tomato', 2),\n",
       " ('low sodium tomato', 1),\n",
       " ('paste tomato', 1)]"
      ]
     },
     "execution_count": 18,
     "metadata": {},
     "output_type": "execute_result"
    }
   ],
   "source": [
    "[(i, ing_counts[i]) for i in sorted_ing if re.search(r'tomato$', i)]"
   ]
  },
  {
   "cell_type": "code",
   "execution_count": 19,
   "id": "d70e415d",
   "metadata": {},
   "outputs": [
    {
     "data": {
      "text/plain": [
       "[('tomatoes', 3058),\n",
       " ('diced tomatoes', 1624),\n",
       " ('plum tomatoes', 858),\n",
       " ('crushed tomatoes', 453),\n",
       " ('cherry tomatoes', 436),\n",
       " ('chopped tomatoes', 298)]"
      ]
     },
     "execution_count": 19,
     "metadata": {},
     "output_type": "execute_result"
    }
   ],
   "source": [
    "[(i, ing_counts[i]) for i in sorted_ing if re.search(r'tomatoes$', i)][:6]"
   ]
  },
  {
   "cell_type": "code",
   "execution_count": 20,
   "id": "35f1d97a",
   "metadata": {},
   "outputs": [
    {
     "data": {
      "text/plain": [
       "[('milk', 2263),\n",
       " ('buttermilk', 863),\n",
       " ('coconut milk', 854),\n",
       " ('whole milk', 764),\n",
       " ('sweetened condensed milk', 271),\n",
       " ('evaporated milk', 208)]"
      ]
     },
     "execution_count": 20,
     "metadata": {},
     "output_type": "execute_result"
    }
   ],
   "source": [
    "[(i, ing_counts[i]) for i in sorted_ing if re.search(r'milk$', i)][:6]"
   ]
  },
  {
   "cell_type": "markdown",
   "id": "5693544f",
   "metadata": {},
   "source": [
    "#### Symbols in ingredients"
   ]
  },
  {
   "cell_type": "code",
   "execution_count": 21,
   "id": "fd51295d",
   "metadata": {},
   "outputs": [
    {
     "data": {
      "text/plain": [
       "\"  ! % & ' ( ) , - . / 0 1 2 3 4 5 6 7 8 9 A B C D E F G H I J K L M N O P Q R S T U V W Y Z a b c d e f g h i j k l m n o p q r s t u v w x y z ® â ç è é í î ú ’ € ™\""
      ]
     },
     "execution_count": 21,
     "metadata": {},
     "output_type": "execute_result"
    }
   ],
   "source": [
    "symbols = list(set(''.join(sorted_ing)))\n",
    "symbols.sort()\n",
    "' '.join(symbols)"
   ]
  },
  {
   "cell_type": "code",
   "execution_count": 22,
   "id": "2cf73c32",
   "metadata": {},
   "outputs": [
    {
     "data": {
      "text/plain": [
       "array(['french', 'brazilian', 'spanish', 'italian', 'cajun_creole',\n",
       "       'irish'], dtype=object)"
      ]
     },
     "execution_count": 22,
     "metadata": {},
     "output_type": "execute_result"
    }
   ],
   "source": [
    "train['c diacritics'] = train['ingredients'].apply(lambda x: 'ç' in str(x))\n",
    "train[train['c diacritics']]['cuisine'].unique()"
   ]
  },
  {
   "cell_type": "code",
   "execution_count": 23,
   "id": "a62335b5",
   "metadata": {},
   "outputs": [],
   "source": [
    "train.drop(['c diacritics'], axis=1, inplace=True)"
   ]
  },
  {
   "cell_type": "markdown",
   "id": "6a6b0252",
   "metadata": {},
   "source": [
    "### EDA: Test set"
   ]
  },
  {
   "cell_type": "code",
   "execution_count": 24,
   "id": "b6307e28",
   "metadata": {
    "scrolled": false
   },
   "outputs": [],
   "source": [
    "ing_full_test = test.ingredients.tolist()\n",
    "ing_counts_test = dict()"
   ]
  },
  {
   "cell_type": "code",
   "execution_count": 25,
   "id": "b9edf31f",
   "metadata": {
    "scrolled": true
   },
   "outputs": [],
   "source": [
    "for ing_list in ing_full_test:\n",
    "    for ingredient in ing_list:\n",
    "        ing_counts_test[ingredient] = ing_counts_test.get(ingredient, 0) + 1"
   ]
  },
  {
   "cell_type": "markdown",
   "id": "9a61470d",
   "metadata": {},
   "source": [
    "#### Most popular ingredients in the test set are the same as in the train set"
   ]
  },
  {
   "cell_type": "code",
   "execution_count": 26,
   "id": "d39ff5d5",
   "metadata": {},
   "outputs": [
    {
     "name": "stdout",
     "output_type": "stream",
     "text": [
      "salt 4485\n",
      "onions 2036\n",
      "olive oil 1917\n",
      "water 1836\n",
      "garlic 1791\n",
      "sugar 1630\n",
      "garlic cloves 1535\n",
      "butter 1230\n",
      "ground black pepper 1205\n",
      "all-purpose flour 1184\n",
      "vegetable oil 1131\n",
      "pepper 1070\n",
      "eggs 874\n",
      "soy sauce 824\n",
      "kosher salt 817\n"
     ]
    }
   ],
   "source": [
    "sorted_ing_test = sorted(ing_counts_test, key=ing_counts_test.get, reverse=True)\n",
    "\n",
    "for k in sorted_ing_test[:15]:\n",
    "    print(k, ing_counts_test[k])"
   ]
  },
  {
   "cell_type": "code",
   "execution_count": 27,
   "id": "f2bab346",
   "metadata": {
    "scrolled": false
   },
   "outputs": [
    {
     "name": "stdout",
     "output_type": "stream",
     "text": [
      "Train set            Test set            \n",
      "salt                 salt                \n",
      "onions               onions              \n",
      "olive oil            olive oil           \n",
      "water                water               \n",
      "garlic               garlic              \n",
      "sugar                sugar               \n",
      "garlic cloves        garlic cloves       \n",
      "butter               butter              \n",
      "ground black pepper  ground black pepper \n",
      "all-purpose flour    all-purpose flour   \n",
      "pepper               vegetable oil       \n",
      "vegetable oil        pepper              \n",
      "eggs                 eggs                \n",
      "soy sauce            soy sauce           \n",
      "kosher salt          kosher salt         \n"
     ]
    }
   ],
   "source": [
    "print('{:<20} {:<20}'.format('Train set', 'Test set'))\n",
    "for i in range(15):\n",
    "    print(f'{sorted_ing[i]:<20} {sorted_ing_test[i]:<20}')"
   ]
  },
  {
   "cell_type": "markdown",
   "id": "1a240084",
   "metadata": {},
   "source": [
    "#### Most rare ingredients in the test set"
   ]
  },
  {
   "cell_type": "code",
   "execution_count": 28,
   "id": "cbd7b87e",
   "metadata": {},
   "outputs": [
    {
     "name": "stdout",
     "output_type": "stream",
     "text": [
      "raita 1\n",
      "leftover meat 1\n",
      "vanilla flavoring 1\n",
      "collard green leaves 1\n",
      "black gram 1\n",
      "fraise 1\n",
      "beef heart 1\n",
      "lambs liver 1\n",
      "soft cheese 1\n",
      "sliced mango 1\n",
      "pork strips 1\n",
      "shark fillets 1\n",
      "hash brown 1\n",
      "porter 1\n",
      "butter crackers 1\n"
     ]
    }
   ],
   "source": [
    "for k in sorted_ing_test[-15:]:\n",
    "    print(k, ing_counts_test[k])"
   ]
  },
  {
   "cell_type": "markdown",
   "id": "162f1d05",
   "metadata": {},
   "source": [
    "#### Ingredients from the train set that are not in the test set"
   ]
  },
  {
   "cell_type": "markdown",
   "id": "e557443d",
   "metadata": {},
   "source": [
    "Number of unknown unique ingredients"
   ]
  },
  {
   "cell_type": "code",
   "execution_count": 29,
   "id": "fd143582",
   "metadata": {},
   "outputs": [
    {
     "data": {
      "text/plain": [
       "423"
      ]
     },
     "execution_count": 29,
     "metadata": {},
     "output_type": "execute_result"
    }
   ],
   "source": [
    "diff_ing = [i for i in sorted_ing_test if i not in sorted_ing]\n",
    "len(diff_ing)"
   ]
  },
  {
   "cell_type": "markdown",
   "id": "5fd4a973",
   "metadata": {},
   "source": [
    "unknown unique ingredients / all unique ingredients in the test set"
   ]
  },
  {
   "cell_type": "code",
   "execution_count": 30,
   "id": "548533f4",
   "metadata": {},
   "outputs": [
    {
     "data": {
      "text/plain": [
       "0.09433541480820695"
      ]
     },
     "execution_count": 30,
     "metadata": {},
     "output_type": "execute_result"
    }
   ],
   "source": [
    "len(diff_ing) / len(sorted_ing_test)"
   ]
  },
  {
   "cell_type": "markdown",
   "id": "60aee99c",
   "metadata": {},
   "source": [
    "Number of recipes with unknown ingredients"
   ]
  },
  {
   "cell_type": "code",
   "execution_count": 31,
   "id": "5b06ef0f",
   "metadata": {},
   "outputs": [],
   "source": [
    "test['unknown'] = test['ingredients'].apply(lambda x: bool([i for i in x if i in diff_ing]))"
   ]
  },
  {
   "cell_type": "code",
   "execution_count": 32,
   "id": "c22450e9",
   "metadata": {},
   "outputs": [
    {
     "data": {
      "text/plain": [
       "False    9509\n",
       "True      435\n",
       "Name: unknown, dtype: int64"
      ]
     },
     "execution_count": 32,
     "metadata": {},
     "output_type": "execute_result"
    }
   ],
   "source": [
    "test['unknown'].value_counts()"
   ]
  },
  {
   "cell_type": "markdown",
   "id": "07bffbc0",
   "metadata": {},
   "source": [
    "relative frequency of recipes with unknown ingredients"
   ]
  },
  {
   "cell_type": "code",
   "execution_count": 33,
   "id": "92bb3ff4",
   "metadata": {},
   "outputs": [
    {
     "data": {
      "text/plain": [
       "False    0.956255\n",
       "True     0.043745\n",
       "Name: unknown, dtype: float64"
      ]
     },
     "execution_count": 33,
     "metadata": {},
     "output_type": "execute_result"
    }
   ],
   "source": [
    "test['unknown'].value_counts(normalize=True)"
   ]
  },
  {
   "cell_type": "code",
   "execution_count": 34,
   "id": "8389c14b",
   "metadata": {},
   "outputs": [],
   "source": [
    "test.drop('unknown', axis=1, inplace=True)"
   ]
  },
  {
   "cell_type": "markdown",
   "id": "a1d08ce1",
   "metadata": {},
   "source": [
    "### Feature engineering"
   ]
  },
  {
   "cell_type": "code",
   "execution_count": 6,
   "id": "fcf2921c",
   "metadata": {},
   "outputs": [],
   "source": [
    "ing_dict_train = train[['ingredients']].to_dict(orient='records')\n",
    "ing_dict_test = test[['ingredients']].to_dict(orient='records')"
   ]
  },
  {
   "cell_type": "code",
   "execution_count": 7,
   "id": "4a1124e1",
   "metadata": {},
   "outputs": [],
   "source": [
    "vectorizer = DictVectorizer()"
   ]
  },
  {
   "cell_type": "code",
   "execution_count": 8,
   "id": "8f1c6562",
   "metadata": {},
   "outputs": [],
   "source": [
    "X = vectorizer.fit_transform(ing_dict_train)\n",
    "X_kaggle = vectorizer.transform(ing_dict_test)"
   ]
  },
  {
   "cell_type": "code",
   "execution_count": 38,
   "id": "83402bd2",
   "metadata": {},
   "outputs": [
    {
     "name": "stdout",
     "output_type": "stream",
     "text": [
      "(39774, 6714)\n",
      "(9944, 6714)\n"
     ]
    }
   ],
   "source": [
    "print(X.shape)\n",
    "print(X_kaggle.shape)"
   ]
  },
  {
   "cell_type": "code",
   "execution_count": 39,
   "id": "9d4dc8eb",
   "metadata": {
    "scrolled": false
   },
   "outputs": [
    {
     "data": {
      "text/html": [
       "<div>\n",
       "<style scoped>\n",
       "    .dataframe tbody tr th:only-of-type {\n",
       "        vertical-align: middle;\n",
       "    }\n",
       "\n",
       "    .dataframe tbody tr th {\n",
       "        vertical-align: top;\n",
       "    }\n",
       "\n",
       "    .dataframe thead th {\n",
       "        text-align: right;\n",
       "    }\n",
       "</style>\n",
       "<table border=\"1\" class=\"dataframe\">\n",
       "  <thead>\n",
       "    <tr style=\"text-align: right;\">\n",
       "      <th></th>\n",
       "      <th>ingredients=(    oz.) tomato sauce</th>\n",
       "      <th>ingredients=(   oz.) tomato paste</th>\n",
       "      <th>ingredients=(10 oz.) frozen chopped spinach</th>\n",
       "      <th>ingredients=(10 oz.) frozen chopped spinach, thawed and squeezed dry</th>\n",
       "      <th>ingredients=(14 oz.) sweetened condensed milk</th>\n",
       "      <th>ingredients=(14.5 oz.) diced tomatoes</th>\n",
       "      <th>ingredients=(15 oz.) refried beans</th>\n",
       "      <th>ingredients=1% low-fat buttermilk</th>\n",
       "      <th>ingredients=1% low-fat chocolate milk</th>\n",
       "      <th>ingredients=1% low-fat cottage cheese</th>\n",
       "      <th>...</th>\n",
       "      <th>ingredients=yukon gold potatoes</th>\n",
       "      <th>ingredients=yuzu</th>\n",
       "      <th>ingredients=yuzu juice</th>\n",
       "      <th>ingredients=za'atar</th>\n",
       "      <th>ingredients=zest</th>\n",
       "      <th>ingredients=zesty italian dressing</th>\n",
       "      <th>ingredients=zinfandel</th>\n",
       "      <th>ingredients=ziti</th>\n",
       "      <th>ingredients=zucchini</th>\n",
       "      <th>ingredients=zucchini blossoms</th>\n",
       "    </tr>\n",
       "    <tr>\n",
       "      <th>id</th>\n",
       "      <th></th>\n",
       "      <th></th>\n",
       "      <th></th>\n",
       "      <th></th>\n",
       "      <th></th>\n",
       "      <th></th>\n",
       "      <th></th>\n",
       "      <th></th>\n",
       "      <th></th>\n",
       "      <th></th>\n",
       "      <th></th>\n",
       "      <th></th>\n",
       "      <th></th>\n",
       "      <th></th>\n",
       "      <th></th>\n",
       "      <th></th>\n",
       "      <th></th>\n",
       "      <th></th>\n",
       "      <th></th>\n",
       "      <th></th>\n",
       "      <th></th>\n",
       "    </tr>\n",
       "  </thead>\n",
       "  <tbody>\n",
       "    <tr>\n",
       "      <th>10259</th>\n",
       "      <td>0.0</td>\n",
       "      <td>0.0</td>\n",
       "      <td>0.0</td>\n",
       "      <td>0.0</td>\n",
       "      <td>0.0</td>\n",
       "      <td>0.0</td>\n",
       "      <td>0.0</td>\n",
       "      <td>0.0</td>\n",
       "      <td>0.0</td>\n",
       "      <td>0.0</td>\n",
       "      <td>...</td>\n",
       "      <td>0.0</td>\n",
       "      <td>0.0</td>\n",
       "      <td>0.0</td>\n",
       "      <td>0.0</td>\n",
       "      <td>0.0</td>\n",
       "      <td>0.0</td>\n",
       "      <td>0.0</td>\n",
       "      <td>0.0</td>\n",
       "      <td>0.0</td>\n",
       "      <td>0.0</td>\n",
       "    </tr>\n",
       "    <tr>\n",
       "      <th>25693</th>\n",
       "      <td>0.0</td>\n",
       "      <td>0.0</td>\n",
       "      <td>0.0</td>\n",
       "      <td>0.0</td>\n",
       "      <td>0.0</td>\n",
       "      <td>0.0</td>\n",
       "      <td>0.0</td>\n",
       "      <td>0.0</td>\n",
       "      <td>0.0</td>\n",
       "      <td>0.0</td>\n",
       "      <td>...</td>\n",
       "      <td>0.0</td>\n",
       "      <td>0.0</td>\n",
       "      <td>0.0</td>\n",
       "      <td>0.0</td>\n",
       "      <td>0.0</td>\n",
       "      <td>0.0</td>\n",
       "      <td>0.0</td>\n",
       "      <td>0.0</td>\n",
       "      <td>0.0</td>\n",
       "      <td>0.0</td>\n",
       "    </tr>\n",
       "    <tr>\n",
       "      <th>20130</th>\n",
       "      <td>0.0</td>\n",
       "      <td>0.0</td>\n",
       "      <td>0.0</td>\n",
       "      <td>0.0</td>\n",
       "      <td>0.0</td>\n",
       "      <td>0.0</td>\n",
       "      <td>0.0</td>\n",
       "      <td>0.0</td>\n",
       "      <td>0.0</td>\n",
       "      <td>0.0</td>\n",
       "      <td>...</td>\n",
       "      <td>0.0</td>\n",
       "      <td>0.0</td>\n",
       "      <td>0.0</td>\n",
       "      <td>0.0</td>\n",
       "      <td>0.0</td>\n",
       "      <td>0.0</td>\n",
       "      <td>0.0</td>\n",
       "      <td>0.0</td>\n",
       "      <td>0.0</td>\n",
       "      <td>0.0</td>\n",
       "    </tr>\n",
       "    <tr>\n",
       "      <th>22213</th>\n",
       "      <td>0.0</td>\n",
       "      <td>0.0</td>\n",
       "      <td>0.0</td>\n",
       "      <td>0.0</td>\n",
       "      <td>0.0</td>\n",
       "      <td>0.0</td>\n",
       "      <td>0.0</td>\n",
       "      <td>0.0</td>\n",
       "      <td>0.0</td>\n",
       "      <td>0.0</td>\n",
       "      <td>...</td>\n",
       "      <td>0.0</td>\n",
       "      <td>0.0</td>\n",
       "      <td>0.0</td>\n",
       "      <td>0.0</td>\n",
       "      <td>0.0</td>\n",
       "      <td>0.0</td>\n",
       "      <td>0.0</td>\n",
       "      <td>0.0</td>\n",
       "      <td>0.0</td>\n",
       "      <td>0.0</td>\n",
       "    </tr>\n",
       "    <tr>\n",
       "      <th>13162</th>\n",
       "      <td>0.0</td>\n",
       "      <td>0.0</td>\n",
       "      <td>0.0</td>\n",
       "      <td>0.0</td>\n",
       "      <td>0.0</td>\n",
       "      <td>0.0</td>\n",
       "      <td>0.0</td>\n",
       "      <td>0.0</td>\n",
       "      <td>0.0</td>\n",
       "      <td>0.0</td>\n",
       "      <td>...</td>\n",
       "      <td>0.0</td>\n",
       "      <td>0.0</td>\n",
       "      <td>0.0</td>\n",
       "      <td>0.0</td>\n",
       "      <td>0.0</td>\n",
       "      <td>0.0</td>\n",
       "      <td>0.0</td>\n",
       "      <td>0.0</td>\n",
       "      <td>0.0</td>\n",
       "      <td>0.0</td>\n",
       "    </tr>\n",
       "  </tbody>\n",
       "</table>\n",
       "<p>5 rows × 6714 columns</p>\n",
       "</div>"
      ],
      "text/plain": [
       "       ingredients=(    oz.) tomato sauce  ingredients=(   oz.) tomato paste  \\\n",
       "id                                                                             \n",
       "10259                                 0.0                                0.0   \n",
       "25693                                 0.0                                0.0   \n",
       "20130                                 0.0                                0.0   \n",
       "22213                                 0.0                                0.0   \n",
       "13162                                 0.0                                0.0   \n",
       "\n",
       "       ingredients=(10 oz.) frozen chopped spinach  \\\n",
       "id                                                   \n",
       "10259                                          0.0   \n",
       "25693                                          0.0   \n",
       "20130                                          0.0   \n",
       "22213                                          0.0   \n",
       "13162                                          0.0   \n",
       "\n",
       "       ingredients=(10 oz.) frozen chopped spinach, thawed and squeezed dry  \\\n",
       "id                                                                            \n",
       "10259                                                0.0                      \n",
       "25693                                                0.0                      \n",
       "20130                                                0.0                      \n",
       "22213                                                0.0                      \n",
       "13162                                                0.0                      \n",
       "\n",
       "       ingredients=(14 oz.) sweetened condensed milk  \\\n",
       "id                                                     \n",
       "10259                                            0.0   \n",
       "25693                                            0.0   \n",
       "20130                                            0.0   \n",
       "22213                                            0.0   \n",
       "13162                                            0.0   \n",
       "\n",
       "       ingredients=(14.5 oz.) diced tomatoes  \\\n",
       "id                                             \n",
       "10259                                    0.0   \n",
       "25693                                    0.0   \n",
       "20130                                    0.0   \n",
       "22213                                    0.0   \n",
       "13162                                    0.0   \n",
       "\n",
       "       ingredients=(15 oz.) refried beans  ingredients=1% low-fat buttermilk  \\\n",
       "id                                                                             \n",
       "10259                                 0.0                                0.0   \n",
       "25693                                 0.0                                0.0   \n",
       "20130                                 0.0                                0.0   \n",
       "22213                                 0.0                                0.0   \n",
       "13162                                 0.0                                0.0   \n",
       "\n",
       "       ingredients=1% low-fat chocolate milk  \\\n",
       "id                                             \n",
       "10259                                    0.0   \n",
       "25693                                    0.0   \n",
       "20130                                    0.0   \n",
       "22213                                    0.0   \n",
       "13162                                    0.0   \n",
       "\n",
       "       ingredients=1% low-fat cottage cheese  ...  \\\n",
       "id                                            ...   \n",
       "10259                                    0.0  ...   \n",
       "25693                                    0.0  ...   \n",
       "20130                                    0.0  ...   \n",
       "22213                                    0.0  ...   \n",
       "13162                                    0.0  ...   \n",
       "\n",
       "       ingredients=yukon gold potatoes  ingredients=yuzu  \\\n",
       "id                                                         \n",
       "10259                              0.0               0.0   \n",
       "25693                              0.0               0.0   \n",
       "20130                              0.0               0.0   \n",
       "22213                              0.0               0.0   \n",
       "13162                              0.0               0.0   \n",
       "\n",
       "       ingredients=yuzu juice  ingredients=za'atar  ingredients=zest  \\\n",
       "id                                                                     \n",
       "10259                     0.0                  0.0               0.0   \n",
       "25693                     0.0                  0.0               0.0   \n",
       "20130                     0.0                  0.0               0.0   \n",
       "22213                     0.0                  0.0               0.0   \n",
       "13162                     0.0                  0.0               0.0   \n",
       "\n",
       "       ingredients=zesty italian dressing  ingredients=zinfandel  \\\n",
       "id                                                                 \n",
       "10259                                 0.0                    0.0   \n",
       "25693                                 0.0                    0.0   \n",
       "20130                                 0.0                    0.0   \n",
       "22213                                 0.0                    0.0   \n",
       "13162                                 0.0                    0.0   \n",
       "\n",
       "       ingredients=ziti  ingredients=zucchini  ingredients=zucchini blossoms  \n",
       "id                                                                            \n",
       "10259               0.0                   0.0                            0.0  \n",
       "25693               0.0                   0.0                            0.0  \n",
       "20130               0.0                   0.0                            0.0  \n",
       "22213               0.0                   0.0                            0.0  \n",
       "13162               0.0                   0.0                            0.0  \n",
       "\n",
       "[5 rows x 6714 columns]"
      ]
     },
     "execution_count": 39,
     "metadata": {},
     "output_type": "execute_result"
    }
   ],
   "source": [
    "X_df = pd.DataFrame(X.toarray(), index=train.index, columns=vectorizer.get_feature_names_out())\n",
    "X_df.head()"
   ]
  },
  {
   "cell_type": "code",
   "execution_count": 40,
   "id": "d2f9cc3e",
   "metadata": {},
   "outputs": [
    {
     "data": {
      "text/plain": [
       "id\n",
       "10259          greek\n",
       "25693    southern_us\n",
       "20130       filipino\n",
       "22213         indian\n",
       "13162         indian\n",
       "            ...     \n",
       "29109          irish\n",
       "11462        italian\n",
       "2238           irish\n",
       "41882        chinese\n",
       "2362         mexican\n",
       "Name: cuisine, Length: 39774, dtype: object"
      ]
     },
     "execution_count": 40,
     "metadata": {},
     "output_type": "execute_result"
    }
   ],
   "source": [
    "y = train['cuisine']\n",
    "y"
   ]
  },
  {
   "cell_type": "markdown",
   "id": "31dc4d34",
   "metadata": {},
   "source": [
    "### Logistic Regression"
   ]
  },
  {
   "cell_type": "code",
   "execution_count": 41,
   "id": "fdcdb65f",
   "metadata": {},
   "outputs": [],
   "source": [
    "model = LogisticRegression(multi_class='multinomial', random_state=10, max_iter=1000)"
   ]
  },
  {
   "cell_type": "code",
   "execution_count": 80,
   "id": "059c5474",
   "metadata": {},
   "outputs": [],
   "source": [
    "X_train, X_test, y_train, y_test = train_test_split(X, y, test_size=6000, random_state=10)"
   ]
  },
  {
   "cell_type": "code",
   "execution_count": 43,
   "id": "4e2c248a",
   "metadata": {},
   "outputs": [
    {
     "data": {
      "text/plain": [
       "LogisticRegression(max_iter=1000, multi_class='multinomial', random_state=10)"
      ]
     },
     "execution_count": 43,
     "metadata": {},
     "output_type": "execute_result"
    }
   ],
   "source": [
    "model.fit(X_train, y_train)"
   ]
  },
  {
   "cell_type": "code",
   "execution_count": 44,
   "id": "9f057c40",
   "metadata": {},
   "outputs": [],
   "source": [
    "pred_train = model.predict(X_train)\n",
    "pred_test = model.predict(X_test)"
   ]
  },
  {
   "cell_type": "code",
   "execution_count": 45,
   "id": "c048813f",
   "metadata": {},
   "outputs": [
    {
     "name": "stdout",
     "output_type": "stream",
     "text": [
      "0.8904482738200983\n",
      "0.7796666666666666\n"
     ]
    }
   ],
   "source": [
    "print(accuracy_score(y_train, pred_train))\n",
    "print(accuracy_score(y_test, pred_test))"
   ]
  },
  {
   "cell_type": "code",
   "execution_count": 46,
   "id": "101d779e",
   "metadata": {},
   "outputs": [
    {
     "data": {
      "text/plain": [
       "0.77789521995345"
      ]
     },
     "execution_count": 46,
     "metadata": {},
     "output_type": "execute_result"
    }
   ],
   "source": [
    "cross_val_score(model, X, y, cv=5, scoring='accuracy').mean()"
   ]
  },
  {
   "cell_type": "markdown",
   "id": "f91ade87",
   "metadata": {},
   "source": [
    "Cross-validation score: 0.778"
   ]
  },
  {
   "cell_type": "markdown",
   "id": "ff0c0a69",
   "metadata": {},
   "source": [
    "### Hyperparameters tuning for Logistic Regression"
   ]
  },
  {
   "cell_type": "code",
   "execution_count": 52,
   "id": "24d89a96",
   "metadata": {},
   "outputs": [],
   "source": [
    "def get_best_model(model, X_tr, y_tr, param_grid):\n",
    "    \n",
    "    grid = GridSearchCV(model, param_grid, cv=3, scoring='accuracy')\n",
    "    grid.fit(X_tr, y_tr)\n",
    "    \n",
    "    return grid.best_estimator_, grid.best_score_, grid.best_params_, pd.DataFrame(grid.cv_results_)"
   ]
  },
  {
   "cell_type": "markdown",
   "id": "f80ecd9d",
   "metadata": {},
   "source": [
    "After a bit of experimenting, the following best model was found:"
   ]
  },
  {
   "cell_type": "code",
   "execution_count": 81,
   "id": "c1699cc1",
   "metadata": {},
   "outputs": [],
   "source": [
    "model = LogisticRegression(max_iter=2000, random_state=10)"
   ]
  },
  {
   "cell_type": "code",
   "execution_count": 82,
   "id": "5eb6c7e5",
   "metadata": {},
   "outputs": [],
   "source": [
    "params = {'class_weight': [None, 'balanced'],\n",
    "          'C': [1e-5, 1e-4, 1e-3, 1e-2, 1e-1, 1, 1e+1, 1e+2],\n",
    "          'multi_class': ['ovr', 'multinomial']}"
   ]
  },
  {
   "cell_type": "code",
   "execution_count": 78,
   "id": "48c4b714",
   "metadata": {
    "scrolled": true
   },
   "outputs": [],
   "source": [
    "model_data = get_best_model(model, X, y, params)"
   ]
  },
  {
   "cell_type": "code",
   "execution_count": 79,
   "id": "962be63e",
   "metadata": {},
   "outputs": [
    {
     "name": "stdout",
     "output_type": "stream",
     "text": [
      "LogisticRegression(C=1, max_iter=2000, multi_class='ovr', random_state=10)\n",
      "0.7757831749384021\n",
      "{'C': 1, 'class_weight': None, 'multi_class': 'ovr'}\n"
     ]
    }
   ],
   "source": [
    "for item in model_data[:3]:\n",
    "    print(item)"
   ]
  },
  {
   "cell_type": "markdown",
   "id": "a1050383",
   "metadata": {},
   "source": [
    "saga + ovr takes too much time to fit (~1 min)"
   ]
  },
  {
   "cell_type": "code",
   "execution_count": 87,
   "id": "c6b02ddb",
   "metadata": {},
   "outputs": [],
   "source": [
    "best_model = LogisticRegression(multi_class='ovr', max_iter=2000, random_state=10)"
   ]
  },
  {
   "cell_type": "code",
   "execution_count": 89,
   "id": "f7f8042d",
   "metadata": {},
   "outputs": [
    {
     "data": {
      "text/plain": [
       "LogisticRegression(max_iter=2000, multi_class='ovr', random_state=10)"
      ]
     },
     "execution_count": 89,
     "metadata": {},
     "output_type": "execute_result"
    }
   ],
   "source": [
    "best_model.fit(X_train, y_train)"
   ]
  },
  {
   "cell_type": "code",
   "execution_count": 90,
   "id": "d33e18f0",
   "metadata": {},
   "outputs": [],
   "source": [
    "pred_train = best_model.predict(X_train)\n",
    "pred_test = best_model.predict(X_test)"
   ]
  },
  {
   "cell_type": "code",
   "execution_count": 91,
   "id": "033771ed",
   "metadata": {},
   "outputs": [
    {
     "name": "stdout",
     "output_type": "stream",
     "text": [
      "0.8713211346005804\n",
      "0.7815\n"
     ]
    }
   ],
   "source": [
    "print(accuracy_score(y_train, pred_train))\n",
    "print(accuracy_score(y_test, pred_test))"
   ]
  },
  {
   "cell_type": "code",
   "execution_count": 92,
   "id": "c48d7f05",
   "metadata": {},
   "outputs": [
    {
     "data": {
      "text/plain": [
       "0.7800071561699762"
      ]
     },
     "execution_count": 92,
     "metadata": {},
     "output_type": "execute_result"
    }
   ],
   "source": [
    "cross_val_score(best_model, X, y, cv=5, scoring='accuracy').mean()"
   ]
  },
  {
   "cell_type": "markdown",
   "id": "2e574b43",
   "metadata": {},
   "source": [
    "Cross-validation score: 0.78"
   ]
  },
  {
   "cell_type": "markdown",
   "id": "779ff6ac",
   "metadata": {},
   "source": [
    "### Kaggle submission"
   ]
  },
  {
   "cell_type": "code",
   "execution_count": 20,
   "id": "e2f26de6",
   "metadata": {},
   "outputs": [],
   "source": [
    "model = LogisticRegression(multi_class='ovr', random_state=10, max_iter=1000)"
   ]
  },
  {
   "cell_type": "code",
   "execution_count": 21,
   "id": "4b2dd1ad",
   "metadata": {},
   "outputs": [
    {
     "data": {
      "text/plain": [
       "LogisticRegression(max_iter=1000, multi_class='ovr', random_state=10)"
      ]
     },
     "execution_count": 21,
     "metadata": {},
     "output_type": "execute_result"
    }
   ],
   "source": [
    "model.fit(X, y)"
   ]
  },
  {
   "cell_type": "code",
   "execution_count": 23,
   "id": "46ba114c",
   "metadata": {},
   "outputs": [
    {
     "data": {
      "text/plain": [
       "array(['british', 'southern_us', 'italian', ..., 'italian', 'southern_us',\n",
       "       'mexican'], dtype=object)"
      ]
     },
     "execution_count": 23,
     "metadata": {},
     "output_type": "execute_result"
    }
   ],
   "source": [
    "pred_kaggle = model.predict(X_kaggle)\n",
    "pred_kaggle"
   ]
  },
  {
   "cell_type": "code",
   "execution_count": 24,
   "id": "0636ccf1",
   "metadata": {},
   "outputs": [
    {
     "data": {
      "text/html": [
       "<div>\n",
       "<style scoped>\n",
       "    .dataframe tbody tr th:only-of-type {\n",
       "        vertical-align: middle;\n",
       "    }\n",
       "\n",
       "    .dataframe tbody tr th {\n",
       "        vertical-align: top;\n",
       "    }\n",
       "\n",
       "    .dataframe thead th {\n",
       "        text-align: right;\n",
       "    }\n",
       "</style>\n",
       "<table border=\"1\" class=\"dataframe\">\n",
       "  <thead>\n",
       "    <tr style=\"text-align: right;\">\n",
       "      <th></th>\n",
       "      <th>cuisine</th>\n",
       "    </tr>\n",
       "    <tr>\n",
       "      <th>id</th>\n",
       "      <th></th>\n",
       "    </tr>\n",
       "  </thead>\n",
       "  <tbody>\n",
       "    <tr>\n",
       "      <th>18009</th>\n",
       "      <td>british</td>\n",
       "    </tr>\n",
       "    <tr>\n",
       "      <th>28583</th>\n",
       "      <td>southern_us</td>\n",
       "    </tr>\n",
       "    <tr>\n",
       "      <th>41580</th>\n",
       "      <td>italian</td>\n",
       "    </tr>\n",
       "    <tr>\n",
       "      <th>29752</th>\n",
       "      <td>cajun_creole</td>\n",
       "    </tr>\n",
       "    <tr>\n",
       "      <th>35687</th>\n",
       "      <td>italian</td>\n",
       "    </tr>\n",
       "    <tr>\n",
       "      <th>...</th>\n",
       "      <td>...</td>\n",
       "    </tr>\n",
       "    <tr>\n",
       "      <th>30246</th>\n",
       "      <td>french</td>\n",
       "    </tr>\n",
       "    <tr>\n",
       "      <th>36028</th>\n",
       "      <td>southern_us</td>\n",
       "    </tr>\n",
       "    <tr>\n",
       "      <th>22339</th>\n",
       "      <td>italian</td>\n",
       "    </tr>\n",
       "    <tr>\n",
       "      <th>42525</th>\n",
       "      <td>southern_us</td>\n",
       "    </tr>\n",
       "    <tr>\n",
       "      <th>1443</th>\n",
       "      <td>mexican</td>\n",
       "    </tr>\n",
       "  </tbody>\n",
       "</table>\n",
       "<p>9944 rows × 1 columns</p>\n",
       "</div>"
      ],
      "text/plain": [
       "            cuisine\n",
       "id                 \n",
       "18009       british\n",
       "28583   southern_us\n",
       "41580       italian\n",
       "29752  cajun_creole\n",
       "35687       italian\n",
       "...             ...\n",
       "30246        french\n",
       "36028   southern_us\n",
       "22339       italian\n",
       "42525   southern_us\n",
       "1443        mexican\n",
       "\n",
       "[9944 rows x 1 columns]"
      ]
     },
     "execution_count": 24,
     "metadata": {},
     "output_type": "execute_result"
    }
   ],
   "source": [
    "submission = pd.DataFrame(pred_kaggle, index=test.index, columns=['cuisine'])\n",
    "submission"
   ]
  },
  {
   "cell_type": "code",
   "execution_count": 26,
   "id": "e0c9437d",
   "metadata": {},
   "outputs": [],
   "source": [
    "submission.to_csv('submission6.csv')"
   ]
  },
  {
   "cell_type": "markdown",
   "id": "74736cde",
   "metadata": {},
   "source": [
    "Kaggle score: 0.78338"
   ]
  },
  {
   "cell_type": "markdown",
   "id": "fc82ec87",
   "metadata": {},
   "source": [
    "### Ingredients normalization"
   ]
  },
  {
   "cell_type": "code",
   "execution_count": 9,
   "id": "915f6cb3",
   "metadata": {},
   "outputs": [],
   "source": [
    "def clean_ingredients(old_ing):\n",
    "    ing = old_ing.lower()\n",
    "    ing = re.sub(r'\\(.*oz\\.\\)', ' ', ing)\n",
    "    ing = re.sub(r'[^a-zâçèéíîú]', ' ', ing)\n",
    "    ing = re.sub(r' +', ' ', ing)\n",
    "    ing = ing.strip()\n",
    "    return ing"
   ]
  },
  {
   "cell_type": "code",
   "execution_count": 10,
   "id": "3381e3b0",
   "metadata": {},
   "outputs": [],
   "source": [
    "train['norm'] = train['ingredients'].apply(lambda x: [clean_ingredients(ing) for ing in x])\n",
    "test['norm'] = test['ingredients'].apply(lambda x: [clean_ingredients(ing) for ing in x])"
   ]
  },
  {
   "cell_type": "code",
   "execution_count": 11,
   "id": "e90674ec",
   "metadata": {},
   "outputs": [],
   "source": [
    "ing_dict_train = train[['norm']].to_dict(orient='records')\n",
    "ing_dict_test = test[['norm']].to_dict(orient='records')"
   ]
  },
  {
   "cell_type": "code",
   "execution_count": 12,
   "id": "b4f58ee4",
   "metadata": {},
   "outputs": [],
   "source": [
    "vectorizer = DictVectorizer()"
   ]
  },
  {
   "cell_type": "code",
   "execution_count": 13,
   "id": "4bc27dd1",
   "metadata": {},
   "outputs": [],
   "source": [
    "X = vectorizer.fit_transform(ing_dict_train)\n",
    "X_kaggle = vectorizer.transform(ing_dict_test)"
   ]
  },
  {
   "cell_type": "code",
   "execution_count": 14,
   "id": "e5be79a8",
   "metadata": {},
   "outputs": [
    {
     "name": "stdout",
     "output_type": "stream",
     "text": [
      "(39774, 6679)\n",
      "(9944, 6679)\n"
     ]
    }
   ],
   "source": [
    "print(X.shape)\n",
    "print(X_kaggle.shape)"
   ]
  },
  {
   "cell_type": "code",
   "execution_count": 15,
   "id": "988ceb07",
   "metadata": {
    "scrolled": false
   },
   "outputs": [
    {
     "data": {
      "text/html": [
       "<div>\n",
       "<style scoped>\n",
       "    .dataframe tbody tr th:only-of-type {\n",
       "        vertical-align: middle;\n",
       "    }\n",
       "\n",
       "    .dataframe tbody tr th {\n",
       "        vertical-align: top;\n",
       "    }\n",
       "\n",
       "    .dataframe thead th {\n",
       "        text-align: right;\n",
       "    }\n",
       "</style>\n",
       "<table border=\"1\" class=\"dataframe\">\n",
       "  <thead>\n",
       "    <tr style=\"text-align: right;\">\n",
       "      <th></th>\n",
       "      <th>norm=a taste of thai rice noodles</th>\n",
       "      <th>norm=abalone</th>\n",
       "      <th>norm=abbamele</th>\n",
       "      <th>norm=absinthe</th>\n",
       "      <th>norm=abura age</th>\n",
       "      <th>norm=acai juice</th>\n",
       "      <th>norm=accent</th>\n",
       "      <th>norm=accent seasoning</th>\n",
       "      <th>norm=accompaniment</th>\n",
       "      <th>norm=achiote</th>\n",
       "      <th>...</th>\n",
       "      <th>norm=yuzukosho</th>\n",
       "      <th>norm=za atar</th>\n",
       "      <th>norm=zatarain s jambalaya mix</th>\n",
       "      <th>norm=zatarains creole seasoning</th>\n",
       "      <th>norm=zest</th>\n",
       "      <th>norm=zesty italian dressing</th>\n",
       "      <th>norm=zinfandel</th>\n",
       "      <th>norm=ziti</th>\n",
       "      <th>norm=zucchini</th>\n",
       "      <th>norm=zucchini blossoms</th>\n",
       "    </tr>\n",
       "    <tr>\n",
       "      <th>id</th>\n",
       "      <th></th>\n",
       "      <th></th>\n",
       "      <th></th>\n",
       "      <th></th>\n",
       "      <th></th>\n",
       "      <th></th>\n",
       "      <th></th>\n",
       "      <th></th>\n",
       "      <th></th>\n",
       "      <th></th>\n",
       "      <th></th>\n",
       "      <th></th>\n",
       "      <th></th>\n",
       "      <th></th>\n",
       "      <th></th>\n",
       "      <th></th>\n",
       "      <th></th>\n",
       "      <th></th>\n",
       "      <th></th>\n",
       "      <th></th>\n",
       "      <th></th>\n",
       "    </tr>\n",
       "  </thead>\n",
       "  <tbody>\n",
       "    <tr>\n",
       "      <th>10259</th>\n",
       "      <td>0.0</td>\n",
       "      <td>0.0</td>\n",
       "      <td>0.0</td>\n",
       "      <td>0.0</td>\n",
       "      <td>0.0</td>\n",
       "      <td>0.0</td>\n",
       "      <td>0.0</td>\n",
       "      <td>0.0</td>\n",
       "      <td>0.0</td>\n",
       "      <td>0.0</td>\n",
       "      <td>...</td>\n",
       "      <td>0.0</td>\n",
       "      <td>0.0</td>\n",
       "      <td>0.0</td>\n",
       "      <td>0.0</td>\n",
       "      <td>0.0</td>\n",
       "      <td>0.0</td>\n",
       "      <td>0.0</td>\n",
       "      <td>0.0</td>\n",
       "      <td>0.0</td>\n",
       "      <td>0.0</td>\n",
       "    </tr>\n",
       "    <tr>\n",
       "      <th>25693</th>\n",
       "      <td>0.0</td>\n",
       "      <td>0.0</td>\n",
       "      <td>0.0</td>\n",
       "      <td>0.0</td>\n",
       "      <td>0.0</td>\n",
       "      <td>0.0</td>\n",
       "      <td>0.0</td>\n",
       "      <td>0.0</td>\n",
       "      <td>0.0</td>\n",
       "      <td>0.0</td>\n",
       "      <td>...</td>\n",
       "      <td>0.0</td>\n",
       "      <td>0.0</td>\n",
       "      <td>0.0</td>\n",
       "      <td>0.0</td>\n",
       "      <td>0.0</td>\n",
       "      <td>0.0</td>\n",
       "      <td>0.0</td>\n",
       "      <td>0.0</td>\n",
       "      <td>0.0</td>\n",
       "      <td>0.0</td>\n",
       "    </tr>\n",
       "    <tr>\n",
       "      <th>20130</th>\n",
       "      <td>0.0</td>\n",
       "      <td>0.0</td>\n",
       "      <td>0.0</td>\n",
       "      <td>0.0</td>\n",
       "      <td>0.0</td>\n",
       "      <td>0.0</td>\n",
       "      <td>0.0</td>\n",
       "      <td>0.0</td>\n",
       "      <td>0.0</td>\n",
       "      <td>0.0</td>\n",
       "      <td>...</td>\n",
       "      <td>0.0</td>\n",
       "      <td>0.0</td>\n",
       "      <td>0.0</td>\n",
       "      <td>0.0</td>\n",
       "      <td>0.0</td>\n",
       "      <td>0.0</td>\n",
       "      <td>0.0</td>\n",
       "      <td>0.0</td>\n",
       "      <td>0.0</td>\n",
       "      <td>0.0</td>\n",
       "    </tr>\n",
       "    <tr>\n",
       "      <th>22213</th>\n",
       "      <td>0.0</td>\n",
       "      <td>0.0</td>\n",
       "      <td>0.0</td>\n",
       "      <td>0.0</td>\n",
       "      <td>0.0</td>\n",
       "      <td>0.0</td>\n",
       "      <td>0.0</td>\n",
       "      <td>0.0</td>\n",
       "      <td>0.0</td>\n",
       "      <td>0.0</td>\n",
       "      <td>...</td>\n",
       "      <td>0.0</td>\n",
       "      <td>0.0</td>\n",
       "      <td>0.0</td>\n",
       "      <td>0.0</td>\n",
       "      <td>0.0</td>\n",
       "      <td>0.0</td>\n",
       "      <td>0.0</td>\n",
       "      <td>0.0</td>\n",
       "      <td>0.0</td>\n",
       "      <td>0.0</td>\n",
       "    </tr>\n",
       "    <tr>\n",
       "      <th>13162</th>\n",
       "      <td>0.0</td>\n",
       "      <td>0.0</td>\n",
       "      <td>0.0</td>\n",
       "      <td>0.0</td>\n",
       "      <td>0.0</td>\n",
       "      <td>0.0</td>\n",
       "      <td>0.0</td>\n",
       "      <td>0.0</td>\n",
       "      <td>0.0</td>\n",
       "      <td>0.0</td>\n",
       "      <td>...</td>\n",
       "      <td>0.0</td>\n",
       "      <td>0.0</td>\n",
       "      <td>0.0</td>\n",
       "      <td>0.0</td>\n",
       "      <td>0.0</td>\n",
       "      <td>0.0</td>\n",
       "      <td>0.0</td>\n",
       "      <td>0.0</td>\n",
       "      <td>0.0</td>\n",
       "      <td>0.0</td>\n",
       "    </tr>\n",
       "  </tbody>\n",
       "</table>\n",
       "<p>5 rows × 6679 columns</p>\n",
       "</div>"
      ],
      "text/plain": [
       "       norm=a taste of thai rice noodles  norm=abalone  norm=abbamele  \\\n",
       "id                                                                      \n",
       "10259                                0.0           0.0            0.0   \n",
       "25693                                0.0           0.0            0.0   \n",
       "20130                                0.0           0.0            0.0   \n",
       "22213                                0.0           0.0            0.0   \n",
       "13162                                0.0           0.0            0.0   \n",
       "\n",
       "       norm=absinthe  norm=abura age  norm=acai juice  norm=accent  \\\n",
       "id                                                                   \n",
       "10259            0.0             0.0              0.0          0.0   \n",
       "25693            0.0             0.0              0.0          0.0   \n",
       "20130            0.0             0.0              0.0          0.0   \n",
       "22213            0.0             0.0              0.0          0.0   \n",
       "13162            0.0             0.0              0.0          0.0   \n",
       "\n",
       "       norm=accent seasoning  norm=accompaniment  norm=achiote  ...  \\\n",
       "id                                                              ...   \n",
       "10259                    0.0                 0.0           0.0  ...   \n",
       "25693                    0.0                 0.0           0.0  ...   \n",
       "20130                    0.0                 0.0           0.0  ...   \n",
       "22213                    0.0                 0.0           0.0  ...   \n",
       "13162                    0.0                 0.0           0.0  ...   \n",
       "\n",
       "       norm=yuzukosho  norm=za atar  norm=zatarain s jambalaya mix  \\\n",
       "id                                                                   \n",
       "10259             0.0           0.0                            0.0   \n",
       "25693             0.0           0.0                            0.0   \n",
       "20130             0.0           0.0                            0.0   \n",
       "22213             0.0           0.0                            0.0   \n",
       "13162             0.0           0.0                            0.0   \n",
       "\n",
       "       norm=zatarains creole seasoning  norm=zest  \\\n",
       "id                                                  \n",
       "10259                              0.0        0.0   \n",
       "25693                              0.0        0.0   \n",
       "20130                              0.0        0.0   \n",
       "22213                              0.0        0.0   \n",
       "13162                              0.0        0.0   \n",
       "\n",
       "       norm=zesty italian dressing  norm=zinfandel  norm=ziti  norm=zucchini  \\\n",
       "id                                                                             \n",
       "10259                          0.0             0.0        0.0            0.0   \n",
       "25693                          0.0             0.0        0.0            0.0   \n",
       "20130                          0.0             0.0        0.0            0.0   \n",
       "22213                          0.0             0.0        0.0            0.0   \n",
       "13162                          0.0             0.0        0.0            0.0   \n",
       "\n",
       "       norm=zucchini blossoms  \n",
       "id                             \n",
       "10259                     0.0  \n",
       "25693                     0.0  \n",
       "20130                     0.0  \n",
       "22213                     0.0  \n",
       "13162                     0.0  \n",
       "\n",
       "[5 rows x 6679 columns]"
      ]
     },
     "execution_count": 15,
     "metadata": {},
     "output_type": "execute_result"
    }
   ],
   "source": [
    "X_df = pd.DataFrame(X.toarray(), index=train.index, columns=vectorizer.get_feature_names_out())\n",
    "X_df.head()"
   ]
  },
  {
   "cell_type": "code",
   "execution_count": 16,
   "id": "76cb9c72",
   "metadata": {},
   "outputs": [
    {
     "data": {
      "text/plain": [
       "id\n",
       "10259          greek\n",
       "25693    southern_us\n",
       "20130       filipino\n",
       "22213         indian\n",
       "13162         indian\n",
       "            ...     \n",
       "29109          irish\n",
       "11462        italian\n",
       "2238           irish\n",
       "41882        chinese\n",
       "2362         mexican\n",
       "Name: cuisine, Length: 39774, dtype: object"
      ]
     },
     "execution_count": 16,
     "metadata": {},
     "output_type": "execute_result"
    }
   ],
   "source": [
    "y = train['cuisine']\n",
    "y"
   ]
  },
  {
   "cell_type": "markdown",
   "id": "73afbd4c",
   "metadata": {},
   "source": [
    "### Logistic Regression"
   ]
  },
  {
   "cell_type": "code",
   "execution_count": 17,
   "id": "c35a3cda",
   "metadata": {},
   "outputs": [],
   "source": [
    "model = LogisticRegression(multi_class='ovr', random_state=10, max_iter=1000)"
   ]
  },
  {
   "cell_type": "code",
   "execution_count": 18,
   "id": "7f71ebf2",
   "metadata": {},
   "outputs": [],
   "source": [
    "X_train, X_test, y_train, y_test = train_test_split(X, y, test_size=6000, random_state=10)"
   ]
  },
  {
   "cell_type": "code",
   "execution_count": 19,
   "id": "11f3375d",
   "metadata": {},
   "outputs": [
    {
     "data": {
      "text/plain": [
       "LogisticRegression(max_iter=1000, multi_class='ovr', random_state=10)"
      ]
     },
     "execution_count": 19,
     "metadata": {},
     "output_type": "execute_result"
    }
   ],
   "source": [
    "model.fit(X_train, y_train)"
   ]
  },
  {
   "cell_type": "code",
   "execution_count": 35,
   "id": "f6e51ada",
   "metadata": {},
   "outputs": [],
   "source": [
    "pred_train = model.predict(X_train)\n",
    "pred_test = model.predict(X_test)"
   ]
  },
  {
   "cell_type": "code",
   "execution_count": 36,
   "id": "a047c085",
   "metadata": {},
   "outputs": [
    {
     "name": "stdout",
     "output_type": "stream",
     "text": [
      "0.8714395688991532\n",
      "0.7823333333333333\n"
     ]
    }
   ],
   "source": [
    "print(accuracy_score(y_train, pred_train))\n",
    "print(accuracy_score(y_test, pred_test))"
   ]
  },
  {
   "cell_type": "code",
   "execution_count": 37,
   "id": "1bd3a48b",
   "metadata": {},
   "outputs": [
    {
     "data": {
      "text/plain": [
       "0.7798311630656919"
      ]
     },
     "execution_count": 37,
     "metadata": {},
     "output_type": "execute_result"
    }
   ],
   "source": [
    "cross_val_score(model, X, y, cv=5, scoring='accuracy').mean()"
   ]
  },
  {
   "cell_type": "markdown",
   "id": "dfec0a8a",
   "metadata": {},
   "source": [
    "Cross validation score: 0.78"
   ]
  }
 ],
 "metadata": {
  "kernelspec": {
   "display_name": "Python 3 (ipykernel)",
   "language": "python",
   "name": "python3"
  },
  "language_info": {
   "codemirror_mode": {
    "name": "ipython",
    "version": 3
   },
   "file_extension": ".py",
   "mimetype": "text/x-python",
   "name": "python",
   "nbconvert_exporter": "python",
   "pygments_lexer": "ipython3",
   "version": "3.8.5"
  }
 },
 "nbformat": 4,
 "nbformat_minor": 5
}
