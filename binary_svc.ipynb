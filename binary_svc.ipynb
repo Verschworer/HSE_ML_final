{
 "cells": [
  {
   "cell_type": "code",
   "execution_count": 90,
   "id": "3a47ec3d",
   "metadata": {},
   "outputs": [],
   "source": [
    "import pandas as pd\n",
    "import numpy as np\n",
    "import json\n",
    "import re\n",
    "import spacy\n",
    "from nltk import ngrams, everygrams\n",
    "\n",
    "nlp = spacy.load('en_core_web_sm', disable=['parser', 'ner', 'tagger'])\n",
    "\n",
    "from sklearn.feature_extraction import DictVectorizer\n",
    "from sklearn.model_selection import train_test_split, cross_val_score, GridSearchCV\n",
    "from sklearn.preprocessing import StandardScaler\n",
    "\n",
    "from sklearn.linear_model import LogisticRegression\n",
    "from sklearn.naive_bayes import MultinomialNB, ComplementNB, BernoulliNB\n",
    "from sklearn.neighbors import KNeighborsClassifier\n",
    "from sklearn.svm import LinearSVC, SVC\n",
    "\n",
    "from sklearn.metrics import accuracy_score"
   ]
  },
  {
   "cell_type": "markdown",
   "id": "1e18c43a",
   "metadata": {},
   "source": [
    "### Data"
   ]
  },
  {
   "cell_type": "code",
   "execution_count": 2,
   "id": "1330e171",
   "metadata": {},
   "outputs": [],
   "source": [
    "train = pd.read_json('train.json').set_index('id')"
   ]
  },
  {
   "cell_type": "code",
   "execution_count": 3,
   "id": "92bb8c5d",
   "metadata": {},
   "outputs": [
    {
     "data": {
      "text/html": [
       "<div>\n",
       "<style scoped>\n",
       "    .dataframe tbody tr th:only-of-type {\n",
       "        vertical-align: middle;\n",
       "    }\n",
       "\n",
       "    .dataframe tbody tr th {\n",
       "        vertical-align: top;\n",
       "    }\n",
       "\n",
       "    .dataframe thead th {\n",
       "        text-align: right;\n",
       "    }\n",
       "</style>\n",
       "<table border=\"1\" class=\"dataframe\">\n",
       "  <thead>\n",
       "    <tr style=\"text-align: right;\">\n",
       "      <th></th>\n",
       "      <th>cuisine</th>\n",
       "      <th>ingredients</th>\n",
       "    </tr>\n",
       "    <tr>\n",
       "      <th>id</th>\n",
       "      <th></th>\n",
       "      <th></th>\n",
       "    </tr>\n",
       "  </thead>\n",
       "  <tbody>\n",
       "    <tr>\n",
       "      <th>10259</th>\n",
       "      <td>greek</td>\n",
       "      <td>[romaine lettuce, black olives, grape tomatoes...</td>\n",
       "    </tr>\n",
       "    <tr>\n",
       "      <th>25693</th>\n",
       "      <td>southern_us</td>\n",
       "      <td>[plain flour, ground pepper, salt, tomatoes, g...</td>\n",
       "    </tr>\n",
       "    <tr>\n",
       "      <th>20130</th>\n",
       "      <td>filipino</td>\n",
       "      <td>[eggs, pepper, salt, mayonaise, cooking oil, g...</td>\n",
       "    </tr>\n",
       "    <tr>\n",
       "      <th>22213</th>\n",
       "      <td>indian</td>\n",
       "      <td>[water, vegetable oil, wheat, salt]</td>\n",
       "    </tr>\n",
       "    <tr>\n",
       "      <th>13162</th>\n",
       "      <td>indian</td>\n",
       "      <td>[black pepper, shallots, cornflour, cayenne pe...</td>\n",
       "    </tr>\n",
       "    <tr>\n",
       "      <th>...</th>\n",
       "      <td>...</td>\n",
       "      <td>...</td>\n",
       "    </tr>\n",
       "    <tr>\n",
       "      <th>29109</th>\n",
       "      <td>irish</td>\n",
       "      <td>[light brown sugar, granulated sugar, butter, ...</td>\n",
       "    </tr>\n",
       "    <tr>\n",
       "      <th>11462</th>\n",
       "      <td>italian</td>\n",
       "      <td>[KRAFT Zesty Italian Dressing, purple onion, b...</td>\n",
       "    </tr>\n",
       "    <tr>\n",
       "      <th>2238</th>\n",
       "      <td>irish</td>\n",
       "      <td>[eggs, citrus fruit, raisins, sourdough starte...</td>\n",
       "    </tr>\n",
       "    <tr>\n",
       "      <th>41882</th>\n",
       "      <td>chinese</td>\n",
       "      <td>[boneless chicken skinless thigh, minced garli...</td>\n",
       "    </tr>\n",
       "    <tr>\n",
       "      <th>2362</th>\n",
       "      <td>mexican</td>\n",
       "      <td>[green chile, jalapeno chilies, onions, ground...</td>\n",
       "    </tr>\n",
       "  </tbody>\n",
       "</table>\n",
       "<p>39774 rows × 2 columns</p>\n",
       "</div>"
      ],
      "text/plain": [
       "           cuisine                                        ingredients\n",
       "id                                                                   \n",
       "10259        greek  [romaine lettuce, black olives, grape tomatoes...\n",
       "25693  southern_us  [plain flour, ground pepper, salt, tomatoes, g...\n",
       "20130     filipino  [eggs, pepper, salt, mayonaise, cooking oil, g...\n",
       "22213       indian                [water, vegetable oil, wheat, salt]\n",
       "13162       indian  [black pepper, shallots, cornflour, cayenne pe...\n",
       "...            ...                                                ...\n",
       "29109        irish  [light brown sugar, granulated sugar, butter, ...\n",
       "11462      italian  [KRAFT Zesty Italian Dressing, purple onion, b...\n",
       "2238         irish  [eggs, citrus fruit, raisins, sourdough starte...\n",
       "41882      chinese  [boneless chicken skinless thigh, minced garli...\n",
       "2362       mexican  [green chile, jalapeno chilies, onions, ground...\n",
       "\n",
       "[39774 rows x 2 columns]"
      ]
     },
     "execution_count": 3,
     "metadata": {},
     "output_type": "execute_result"
    }
   ],
   "source": [
    "train"
   ]
  },
  {
   "cell_type": "code",
   "execution_count": 4,
   "id": "0cc37d4d",
   "metadata": {},
   "outputs": [],
   "source": [
    "test = pd.read_json('test.json').set_index('id')"
   ]
  },
  {
   "cell_type": "code",
   "execution_count": 5,
   "id": "6541d023",
   "metadata": {},
   "outputs": [
    {
     "data": {
      "text/html": [
       "<div>\n",
       "<style scoped>\n",
       "    .dataframe tbody tr th:only-of-type {\n",
       "        vertical-align: middle;\n",
       "    }\n",
       "\n",
       "    .dataframe tbody tr th {\n",
       "        vertical-align: top;\n",
       "    }\n",
       "\n",
       "    .dataframe thead th {\n",
       "        text-align: right;\n",
       "    }\n",
       "</style>\n",
       "<table border=\"1\" class=\"dataframe\">\n",
       "  <thead>\n",
       "    <tr style=\"text-align: right;\">\n",
       "      <th></th>\n",
       "      <th>ingredients</th>\n",
       "    </tr>\n",
       "    <tr>\n",
       "      <th>id</th>\n",
       "      <th></th>\n",
       "    </tr>\n",
       "  </thead>\n",
       "  <tbody>\n",
       "    <tr>\n",
       "      <th>18009</th>\n",
       "      <td>[baking powder, eggs, all-purpose flour, raisi...</td>\n",
       "    </tr>\n",
       "    <tr>\n",
       "      <th>28583</th>\n",
       "      <td>[sugar, egg yolks, corn starch, cream of tarta...</td>\n",
       "    </tr>\n",
       "    <tr>\n",
       "      <th>41580</th>\n",
       "      <td>[sausage links, fennel bulb, fronds, olive oil...</td>\n",
       "    </tr>\n",
       "    <tr>\n",
       "      <th>29752</th>\n",
       "      <td>[meat cuts, file powder, smoked sausage, okra,...</td>\n",
       "    </tr>\n",
       "    <tr>\n",
       "      <th>35687</th>\n",
       "      <td>[ground black pepper, salt, sausage casings, l...</td>\n",
       "    </tr>\n",
       "    <tr>\n",
       "      <th>...</th>\n",
       "      <td>...</td>\n",
       "    </tr>\n",
       "    <tr>\n",
       "      <th>30246</th>\n",
       "      <td>[large egg yolks, fresh lemon juice, sugar, bo...</td>\n",
       "    </tr>\n",
       "    <tr>\n",
       "      <th>36028</th>\n",
       "      <td>[hot sauce, butter, sweet potatoes, adobo sauc...</td>\n",
       "    </tr>\n",
       "    <tr>\n",
       "      <th>22339</th>\n",
       "      <td>[black pepper, salt, parmigiano reggiano chees...</td>\n",
       "    </tr>\n",
       "    <tr>\n",
       "      <th>42525</th>\n",
       "      <td>[cheddar cheese, cayenne, paprika, plum tomato...</td>\n",
       "    </tr>\n",
       "    <tr>\n",
       "      <th>1443</th>\n",
       "      <td>[cold water, olive oil, lime wedges, garlic cl...</td>\n",
       "    </tr>\n",
       "  </tbody>\n",
       "</table>\n",
       "<p>9944 rows × 1 columns</p>\n",
       "</div>"
      ],
      "text/plain": [
       "                                             ingredients\n",
       "id                                                      \n",
       "18009  [baking powder, eggs, all-purpose flour, raisi...\n",
       "28583  [sugar, egg yolks, corn starch, cream of tarta...\n",
       "41580  [sausage links, fennel bulb, fronds, olive oil...\n",
       "29752  [meat cuts, file powder, smoked sausage, okra,...\n",
       "35687  [ground black pepper, salt, sausage casings, l...\n",
       "...                                                  ...\n",
       "30246  [large egg yolks, fresh lemon juice, sugar, bo...\n",
       "36028  [hot sauce, butter, sweet potatoes, adobo sauc...\n",
       "22339  [black pepper, salt, parmigiano reggiano chees...\n",
       "42525  [cheddar cheese, cayenne, paprika, plum tomato...\n",
       "1443   [cold water, olive oil, lime wedges, garlic cl...\n",
       "\n",
       "[9944 rows x 1 columns]"
      ]
     },
     "execution_count": 5,
     "metadata": {},
     "output_type": "execute_result"
    }
   ],
   "source": [
    "test"
   ]
  },
  {
   "cell_type": "code",
   "execution_count": 7,
   "id": "525dfb5c",
   "metadata": {},
   "outputs": [],
   "source": [
    "with open('sample_submission.csv') as f:\n",
    "    sample_submission = f.readlines()"
   ]
  },
  {
   "cell_type": "code",
   "execution_count": 8,
   "id": "0512a7fe",
   "metadata": {},
   "outputs": [
    {
     "data": {
      "text/plain": [
       "9945"
      ]
     },
     "execution_count": 8,
     "metadata": {},
     "output_type": "execute_result"
    }
   ],
   "source": [
    "len(sample_submission)"
   ]
  },
  {
   "cell_type": "code",
   "execution_count": 9,
   "id": "9a24848b",
   "metadata": {
    "scrolled": false
   },
   "outputs": [
    {
     "data": {
      "text/plain": [
       "['id,cuisine\\n',\n",
       " '35203,italian\\n',\n",
       " '17600,italian\\n',\n",
       " '35200,italian\\n',\n",
       " '17602,italian\\n']"
      ]
     },
     "execution_count": 9,
     "metadata": {},
     "output_type": "execute_result"
    }
   ],
   "source": [
    "sample_submission[:5]"
   ]
  },
  {
   "cell_type": "markdown",
   "id": "a1d08ce1",
   "metadata": {},
   "source": [
    "### Feature engineering"
   ]
  },
  {
   "cell_type": "code",
   "execution_count": 6,
   "id": "b3c69353",
   "metadata": {},
   "outputs": [],
   "source": [
    "def clean_ingredients(old_ing):\n",
    "    ing = old_ing.lower()\n",
    "    ing = re.sub(r'\\(.*oz\\.\\)', ' ', ing)\n",
    "    ing = re.sub(r'[^a-zâçèéíîú]', ' ', ing)\n",
    "    ing = re.sub(r' +', ' ', ing)\n",
    "    ing = ing.strip()\n",
    "    return ing"
   ]
  },
  {
   "cell_type": "code",
   "execution_count": 7,
   "id": "2aafbc50",
   "metadata": {},
   "outputs": [],
   "source": [
    "train['ingredients'] = train['ingredients'].apply(lambda x: [clean_ingredients(ing) for ing in x])\n",
    "test['ingredients'] = test['ingredients'].apply(lambda x: [clean_ingredients(ing) for ing in x])"
   ]
  },
  {
   "cell_type": "code",
   "execution_count": 66,
   "id": "05fe7cb7",
   "metadata": {},
   "outputs": [],
   "source": [
    "def lemmatize_2(old_ing):\n",
    "    words = ' '.join(old_ing.split()[-2:])\n",
    "    doc = nlp(words)\n",
    "    return ' '.join([token.lemma_ for token in doc])"
   ]
  },
  {
   "cell_type": "code",
   "execution_count": 67,
   "id": "f58910fa",
   "metadata": {},
   "outputs": [],
   "source": [
    "train['norm'] = train['ingredients'].apply(lambda x: [lemmatize_2(ing) for ing in x])\n",
    "test['norm'] = test['ingredients'].apply(lambda x: [lemmatize_2(ing) for ing in x])"
   ]
  },
  {
   "cell_type": "code",
   "execution_count": 128,
   "id": "8b1bd790",
   "metadata": {},
   "outputs": [],
   "source": [
    "def get_ngrams(l: list, n: int):\n",
    "    s = ' '.join(l)\n",
    "    ngrams_list = []\n",
    "    for item in s.split():\n",
    "        grams = list(everygrams(item, max_len=n, pad_left=True, pad_right=True, left_pad_symbol='<s>', right_pad_symbol='<e>'))\n",
    "        ngrams_list += [''.join(let) for let in grams]\n",
    "    return list(set(ngrams_list))"
   ]
  },
  {
   "cell_type": "code",
   "execution_count": 152,
   "id": "5921be62",
   "metadata": {},
   "outputs": [],
   "source": [
    "train['ngrams'] = train['ingredients'].apply(lambda x: get_ngrams(x, 3))\n",
    "test['ngrams'] = test['ingredients'].apply(lambda x: get_ngrams(x, 3))"
   ]
  },
  {
   "cell_type": "code",
   "execution_count": 153,
   "id": "fcf2921c",
   "metadata": {},
   "outputs": [],
   "source": [
    "ing_dict_train = train[['ngrams']].to_dict(orient='records')\n",
    "ing_dict_test = test[['ngrams']].to_dict(orient='records')"
   ]
  },
  {
   "cell_type": "code",
   "execution_count": 154,
   "id": "4a1124e1",
   "metadata": {},
   "outputs": [],
   "source": [
    "vectorizer = DictVectorizer()"
   ]
  },
  {
   "cell_type": "code",
   "execution_count": 155,
   "id": "8f1c6562",
   "metadata": {},
   "outputs": [],
   "source": [
    "X = vectorizer.fit_transform(ing_dict_train)\n",
    "X_kaggle = vectorizer.transform(ing_dict_test)"
   ]
  },
  {
   "cell_type": "code",
   "execution_count": 156,
   "id": "83402bd2",
   "metadata": {},
   "outputs": [
    {
     "name": "stdout",
     "output_type": "stream",
     "text": [
      "(39774, 4059)\n",
      "(9944, 4059)\n"
     ]
    }
   ],
   "source": [
    "print(X.shape)\n",
    "print(X_kaggle.shape)"
   ]
  },
  {
   "cell_type": "code",
   "execution_count": 157,
   "id": "d2f9cc3e",
   "metadata": {},
   "outputs": [
    {
     "data": {
      "text/plain": [
       "id\n",
       "10259          greek\n",
       "25693    southern_us\n",
       "20130       filipino\n",
       "22213         indian\n",
       "13162         indian\n",
       "            ...     \n",
       "29109          irish\n",
       "11462        italian\n",
       "2238           irish\n",
       "41882        chinese\n",
       "2362         mexican\n",
       "Name: cuisine, Length: 39774, dtype: object"
      ]
     },
     "execution_count": 157,
     "metadata": {},
     "output_type": "execute_result"
    }
   ],
   "source": [
    "y = train['cuisine']\n",
    "y"
   ]
  },
  {
   "cell_type": "markdown",
   "id": "31dc4d34",
   "metadata": {},
   "source": [
    "### LinearSVC"
   ]
  },
  {
   "cell_type": "code",
   "execution_count": 158,
   "id": "b34c7e83",
   "metadata": {},
   "outputs": [],
   "source": [
    "X_train, X_test, y_train, y_test = train_test_split(X, y, test_size=8000, random_state=10)"
   ]
  },
  {
   "cell_type": "code",
   "execution_count": null,
   "id": "fdcdb65f",
   "metadata": {},
   "outputs": [],
   "source": [
    "model = LinearSVC(random_state=10)"
   ]
  },
  {
   "cell_type": "code",
   "execution_count": 18,
   "id": "4e2c248a",
   "metadata": {},
   "outputs": [
    {
     "name": "stdout",
     "output_type": "stream",
     "text": [
      "Wall time: 4.6 s\n"
     ]
    },
    {
     "data": {
      "text/plain": [
       "LinearSVC()"
      ]
     },
     "execution_count": 18,
     "metadata": {},
     "output_type": "execute_result"
    }
   ],
   "source": [
    "%%time\n",
    "model.fit(X_train, y_train)"
   ]
  },
  {
   "cell_type": "code",
   "execution_count": 19,
   "id": "9f057c40",
   "metadata": {},
   "outputs": [],
   "source": [
    "pred_train = model.predict(X_train)\n",
    "pred_test = model.predict(X_test)"
   ]
  },
  {
   "cell_type": "code",
   "execution_count": 20,
   "id": "c048813f",
   "metadata": {},
   "outputs": [
    {
     "name": "stdout",
     "output_type": "stream",
     "text": [
      "0.9320513627494178\n",
      "0.771125\n"
     ]
    }
   ],
   "source": [
    "print(accuracy_score(y_train, pred_train))\n",
    "print(accuracy_score(y_test, pred_test))"
   ]
  },
  {
   "cell_type": "code",
   "execution_count": 21,
   "id": "101d779e",
   "metadata": {},
   "outputs": [
    {
     "data": {
      "text/plain": [
       "0.7674109852582582"
      ]
     },
     "execution_count": 21,
     "metadata": {},
     "output_type": "execute_result"
    }
   ],
   "source": [
    "cross_val_score(model, X, y, cv=5, scoring='accuracy').mean()"
   ]
  },
  {
   "cell_type": "markdown",
   "id": "f91ade87",
   "metadata": {},
   "source": [
    "Cross-validation score: 0.767"
   ]
  },
  {
   "cell_type": "markdown",
   "id": "f472152e",
   "metadata": {},
   "source": [
    "### SVC"
   ]
  },
  {
   "cell_type": "markdown",
   "id": "5b16bb73",
   "metadata": {},
   "source": [
    "Cross-val score kernel='poly': 0.604<br>\n",
    "Cross-val score kernel='rbf': 0.757<br>\n",
    "Cross-val score kernel='linear': 0.756<br>\n",
    "Cross-val score kernel='sigmoid': 0.744"
   ]
  },
  {
   "cell_type": "code",
   "execution_count": 44,
   "id": "d6afd7d5",
   "metadata": {},
   "outputs": [],
   "source": [
    "model = SVC(random_state=10)"
   ]
  },
  {
   "cell_type": "code",
   "execution_count": 45,
   "id": "ce482637",
   "metadata": {},
   "outputs": [
    {
     "name": "stdout",
     "output_type": "stream",
     "text": [
      "Wall time: 1min 30s\n"
     ]
    },
    {
     "data": {
      "text/plain": [
       "SVC(random_state=10)"
      ]
     },
     "execution_count": 45,
     "metadata": {},
     "output_type": "execute_result"
    }
   ],
   "source": [
    "%%time\n",
    "model.fit(X_train, y_train)"
   ]
  },
  {
   "cell_type": "code",
   "execution_count": 46,
   "id": "52d35771",
   "metadata": {},
   "outputs": [],
   "source": [
    "pred_train = model.predict(X_train)\n",
    "pred_test = model.predict(X_test)"
   ]
  },
  {
   "cell_type": "code",
   "execution_count": 47,
   "id": "281b3117",
   "metadata": {},
   "outputs": [
    {
     "name": "stdout",
     "output_type": "stream",
     "text": [
      "0.9012400075533455\n",
      "0.76175\n"
     ]
    }
   ],
   "source": [
    "print(accuracy_score(y_train, pred_train))\n",
    "print(accuracy_score(y_test, pred_test))"
   ]
  },
  {
   "cell_type": "code",
   "execution_count": 48,
   "id": "71bd2b86",
   "metadata": {},
   "outputs": [
    {
     "data": {
      "text/plain": [
       "0.7572284444480969"
      ]
     },
     "execution_count": 48,
     "metadata": {},
     "output_type": "execute_result"
    }
   ],
   "source": [
    "cross_val_score(model, X, y, cv=5, scoring='accuracy').mean()"
   ]
  },
  {
   "cell_type": "markdown",
   "id": "46166778",
   "metadata": {},
   "source": [
    "### Hyperparam tuning for LinearSVC"
   ]
  },
  {
   "cell_type": "code",
   "execution_count": 80,
   "id": "004b1c33",
   "metadata": {},
   "outputs": [],
   "source": [
    "def get_best_model(model, X_tr, y_tr, param_grid):\n",
    "    \n",
    "    grid = GridSearchCV(model, param_grid, cv=3, scoring='accuracy')\n",
    "    grid.fit(X_tr, y_tr)\n",
    "    \n",
    "    return grid.best_estimator_, grid.best_score_, grid.best_params_, pd.DataFrame(grid.cv_results_)"
   ]
  },
  {
   "cell_type": "code",
   "execution_count": 81,
   "id": "43b4284c",
   "metadata": {},
   "outputs": [],
   "source": [
    "model = LinearSVC(random_state=10, max_iter=10000)"
   ]
  },
  {
   "cell_type": "code",
   "execution_count": 82,
   "id": "44ab8659",
   "metadata": {},
   "outputs": [],
   "source": [
    "params = {'penalty': ['l1', 'l2'],\n",
    "          'class_weight': [None, 'balanced'],\n",
    "          'C': [1e-7, 1e-6, 1e-5, 1e-4, 1e-3, 1e-2, 1e-1, 1, 1e+1, 1e+2, 1e+3]}"
   ]
  },
  {
   "cell_type": "code",
   "execution_count": 83,
   "id": "6a0ea7f7",
   "metadata": {},
   "outputs": [
    {
     "name": "stderr",
     "output_type": "stream",
     "text": [
      "C:\\ProgramData\\Anaconda3\\lib\\site-packages\\sklearn\\svm\\_base.py:1206: ConvergenceWarning: Liblinear failed to converge, increase the number of iterations.\n",
      "  warnings.warn(\n",
      "C:\\ProgramData\\Anaconda3\\lib\\site-packages\\sklearn\\svm\\_base.py:1206: ConvergenceWarning: Liblinear failed to converge, increase the number of iterations.\n",
      "  warnings.warn(\n",
      "C:\\ProgramData\\Anaconda3\\lib\\site-packages\\sklearn\\svm\\_base.py:1206: ConvergenceWarning: Liblinear failed to converge, increase the number of iterations.\n",
      "  warnings.warn(\n",
      "C:\\ProgramData\\Anaconda3\\lib\\site-packages\\sklearn\\svm\\_base.py:1206: ConvergenceWarning: Liblinear failed to converge, increase the number of iterations.\n",
      "  warnings.warn(\n",
      "C:\\ProgramData\\Anaconda3\\lib\\site-packages\\sklearn\\svm\\_base.py:1206: ConvergenceWarning: Liblinear failed to converge, increase the number of iterations.\n",
      "  warnings.warn(\n",
      "C:\\ProgramData\\Anaconda3\\lib\\site-packages\\sklearn\\svm\\_base.py:1206: ConvergenceWarning: Liblinear failed to converge, increase the number of iterations.\n",
      "  warnings.warn(\n",
      "C:\\ProgramData\\Anaconda3\\lib\\site-packages\\sklearn\\svm\\_base.py:1206: ConvergenceWarning: Liblinear failed to converge, increase the number of iterations.\n",
      "  warnings.warn(\n",
      "C:\\ProgramData\\Anaconda3\\lib\\site-packages\\sklearn\\svm\\_base.py:1206: ConvergenceWarning: Liblinear failed to converge, increase the number of iterations.\n",
      "  warnings.warn(\n",
      "C:\\ProgramData\\Anaconda3\\lib\\site-packages\\sklearn\\svm\\_base.py:1206: ConvergenceWarning: Liblinear failed to converge, increase the number of iterations.\n",
      "  warnings.warn(\n",
      "C:\\ProgramData\\Anaconda3\\lib\\site-packages\\sklearn\\svm\\_base.py:1206: ConvergenceWarning: Liblinear failed to converge, increase the number of iterations.\n",
      "  warnings.warn(\n",
      "C:\\ProgramData\\Anaconda3\\lib\\site-packages\\sklearn\\svm\\_base.py:1206: ConvergenceWarning: Liblinear failed to converge, increase the number of iterations.\n",
      "  warnings.warn(\n",
      "C:\\ProgramData\\Anaconda3\\lib\\site-packages\\sklearn\\svm\\_base.py:1206: ConvergenceWarning: Liblinear failed to converge, increase the number of iterations.\n",
      "  warnings.warn(\n",
      "C:\\ProgramData\\Anaconda3\\lib\\site-packages\\sklearn\\model_selection\\_validation.py:372: FitFailedWarning: \n",
      "66 fits failed out of a total of 132.\n",
      "The score on these train-test partitions for these parameters will be set to nan.\n",
      "If these failures are not expected, you can try to debug them by setting error_score='raise'.\n",
      "\n",
      "Below are more details about the failures:\n",
      "--------------------------------------------------------------------------------\n",
      "66 fits failed with the following error:\n",
      "Traceback (most recent call last):\n",
      "  File \"C:\\ProgramData\\Anaconda3\\lib\\site-packages\\sklearn\\model_selection\\_validation.py\", line 681, in _fit_and_score\n",
      "    estimator.fit(X_train, y_train, **fit_params)\n",
      "  File \"C:\\ProgramData\\Anaconda3\\lib\\site-packages\\sklearn\\svm\\_classes.py\", line 257, in fit\n",
      "    self.coef_, self.intercept_, self.n_iter_ = _fit_liblinear(\n",
      "  File \"C:\\ProgramData\\Anaconda3\\lib\\site-packages\\sklearn\\svm\\_base.py\", line 1185, in _fit_liblinear\n",
      "    solver_type = _get_liblinear_solver_type(multi_class, penalty, loss, dual)\n",
      "  File \"C:\\ProgramData\\Anaconda3\\lib\\site-packages\\sklearn\\svm\\_base.py\", line 1024, in _get_liblinear_solver_type\n",
      "    raise ValueError(\n",
      "ValueError: Unsupported set of arguments: The combination of penalty='l1' and loss='squared_hinge' are not supported when dual=True, Parameters: penalty='l1', loss='squared_hinge', dual=True\n",
      "\n",
      "  warnings.warn(some_fits_failed_message, FitFailedWarning)\n",
      "C:\\ProgramData\\Anaconda3\\lib\\site-packages\\sklearn\\model_selection\\_search.py:969: UserWarning: One or more of the test scores are non-finite: [       nan 0.28480917        nan 0.33536984        nan 0.29416202\n",
      "        nan 0.3562126         nan 0.37270579        nan 0.4914517\n",
      "        nan 0.51546236        nan 0.62332177        nan 0.65668527\n",
      "        nan 0.6913813         nan 0.7535576         nan 0.75041484\n",
      "        nan 0.7804596         nan 0.76592749        nan 0.76670689\n",
      "        nan 0.74986172        nan 0.73186001        nan 0.71257605\n",
      "        nan 0.69105446        nan 0.66993513        nan 0.64808669\n",
      "        nan 0.63787902]\n",
      "  warnings.warn(\n"
     ]
    }
   ],
   "source": [
    "model_data = get_best_model(model, X, y, params)"
   ]
  },
  {
   "cell_type": "code",
   "execution_count": 84,
   "id": "220bac32",
   "metadata": {},
   "outputs": [
    {
     "name": "stdout",
     "output_type": "stream",
     "text": [
      "LinearSVC(C=0.1, max_iter=10000, random_state=10)\n",
      "0.7804595967214764\n",
      "{'C': 0.1, 'class_weight': None, 'penalty': 'l2'}\n"
     ]
    }
   ],
   "source": [
    "for item in model_data[:3]:\n",
    "    print(item)"
   ]
  },
  {
   "cell_type": "markdown",
   "id": "cad66fee",
   "metadata": {},
   "source": [
    "Best LinearSVC for normalized last 2 words:<br>\n",
    "LinearSVC(C=0.1, max_iter=10000, random_state=10)<br>\n",
    "0.7804595967214764<br>\n",
    "{'C': 0.1, 'class_weight': None, 'penalty': 'l2'}"
   ]
  },
  {
   "cell_type": "markdown",
   "id": "14ed9a1d",
   "metadata": {},
   "source": [
    "### LinearSVC with best params"
   ]
  },
  {
   "cell_type": "code",
   "execution_count": 159,
   "id": "6a30737c",
   "metadata": {},
   "outputs": [],
   "source": [
    "model = LinearSVC(C=0.1, max_iter=10000, random_state=10)"
   ]
  },
  {
   "cell_type": "code",
   "execution_count": 160,
   "id": "ed456306",
   "metadata": {},
   "outputs": [
    {
     "data": {
      "text/plain": [
       "LinearSVC(C=0.1, max_iter=10000, random_state=10)"
      ]
     },
     "execution_count": 160,
     "metadata": {},
     "output_type": "execute_result"
    }
   ],
   "source": [
    "model.fit(X_train, y_train)"
   ]
  },
  {
   "cell_type": "code",
   "execution_count": 161,
   "id": "f7baf8f8",
   "metadata": {},
   "outputs": [],
   "source": [
    "pred_train = model.predict(X_train)\n",
    "pred_test = model.predict(X_test)"
   ]
  },
  {
   "cell_type": "code",
   "execution_count": 162,
   "id": "ebdf3bfb",
   "metadata": {},
   "outputs": [
    {
     "name": "stdout",
     "output_type": "stream",
     "text": [
      "0.886983067917165\n",
      "0.774875\n"
     ]
    }
   ],
   "source": [
    "print(accuracy_score(y_train, pred_train))\n",
    "print(accuracy_score(y_test, pred_test))"
   ]
  },
  {
   "cell_type": "code",
   "execution_count": 163,
   "id": "b263d94a",
   "metadata": {},
   "outputs": [
    {
     "data": {
      "text/plain": [
       "0.7799316212786691"
      ]
     },
     "execution_count": 163,
     "metadata": {},
     "output_type": "execute_result"
    }
   ],
   "source": [
    "cross_val_score(model, X, y, cv=5, scoring='accuracy').mean()"
   ]
  },
  {
   "cell_type": "markdown",
   "id": "43c3c3ab",
   "metadata": {},
   "source": [
    "Cross-validation score: 0.78"
   ]
  },
  {
   "cell_type": "markdown",
   "id": "779ff6ac",
   "metadata": {},
   "source": [
    "### Kaggle submission"
   ]
  },
  {
   "cell_type": "code",
   "execution_count": 85,
   "id": "c4b19b4c",
   "metadata": {},
   "outputs": [],
   "source": [
    "model = LinearSVC(C=0.1, max_iter=10000, random_state=10)"
   ]
  },
  {
   "cell_type": "code",
   "execution_count": 86,
   "id": "c5c502be",
   "metadata": {},
   "outputs": [
    {
     "data": {
      "text/plain": [
       "LinearSVC(C=0.1, max_iter=10000, random_state=10)"
      ]
     },
     "execution_count": 86,
     "metadata": {},
     "output_type": "execute_result"
    }
   ],
   "source": [
    "model.fit(X, y)"
   ]
  },
  {
   "cell_type": "code",
   "execution_count": 87,
   "id": "46ba114c",
   "metadata": {},
   "outputs": [
    {
     "data": {
      "text/plain": [
       "array(['irish', 'southern_us', 'italian', ..., 'italian', 'southern_us',\n",
       "       'mexican'], dtype=object)"
      ]
     },
     "execution_count": 87,
     "metadata": {},
     "output_type": "execute_result"
    }
   ],
   "source": [
    "pred_kaggle = model.predict(X_kaggle)\n",
    "pred_kaggle"
   ]
  },
  {
   "cell_type": "code",
   "execution_count": 88,
   "id": "0636ccf1",
   "metadata": {},
   "outputs": [
    {
     "data": {
      "text/html": [
       "<div>\n",
       "<style scoped>\n",
       "    .dataframe tbody tr th:only-of-type {\n",
       "        vertical-align: middle;\n",
       "    }\n",
       "\n",
       "    .dataframe tbody tr th {\n",
       "        vertical-align: top;\n",
       "    }\n",
       "\n",
       "    .dataframe thead th {\n",
       "        text-align: right;\n",
       "    }\n",
       "</style>\n",
       "<table border=\"1\" class=\"dataframe\">\n",
       "  <thead>\n",
       "    <tr style=\"text-align: right;\">\n",
       "      <th></th>\n",
       "      <th>cuisine</th>\n",
       "    </tr>\n",
       "    <tr>\n",
       "      <th>id</th>\n",
       "      <th></th>\n",
       "    </tr>\n",
       "  </thead>\n",
       "  <tbody>\n",
       "    <tr>\n",
       "      <th>18009</th>\n",
       "      <td>irish</td>\n",
       "    </tr>\n",
       "    <tr>\n",
       "      <th>28583</th>\n",
       "      <td>southern_us</td>\n",
       "    </tr>\n",
       "    <tr>\n",
       "      <th>41580</th>\n",
       "      <td>italian</td>\n",
       "    </tr>\n",
       "    <tr>\n",
       "      <th>29752</th>\n",
       "      <td>cajun_creole</td>\n",
       "    </tr>\n",
       "    <tr>\n",
       "      <th>35687</th>\n",
       "      <td>italian</td>\n",
       "    </tr>\n",
       "    <tr>\n",
       "      <th>...</th>\n",
       "      <td>...</td>\n",
       "    </tr>\n",
       "    <tr>\n",
       "      <th>30246</th>\n",
       "      <td>french</td>\n",
       "    </tr>\n",
       "    <tr>\n",
       "      <th>36028</th>\n",
       "      <td>southern_us</td>\n",
       "    </tr>\n",
       "    <tr>\n",
       "      <th>22339</th>\n",
       "      <td>italian</td>\n",
       "    </tr>\n",
       "    <tr>\n",
       "      <th>42525</th>\n",
       "      <td>southern_us</td>\n",
       "    </tr>\n",
       "    <tr>\n",
       "      <th>1443</th>\n",
       "      <td>mexican</td>\n",
       "    </tr>\n",
       "  </tbody>\n",
       "</table>\n",
       "<p>9944 rows × 1 columns</p>\n",
       "</div>"
      ],
      "text/plain": [
       "            cuisine\n",
       "id                 \n",
       "18009         irish\n",
       "28583   southern_us\n",
       "41580       italian\n",
       "29752  cajun_creole\n",
       "35687       italian\n",
       "...             ...\n",
       "30246        french\n",
       "36028   southern_us\n",
       "22339       italian\n",
       "42525   southern_us\n",
       "1443        mexican\n",
       "\n",
       "[9944 rows x 1 columns]"
      ]
     },
     "execution_count": 88,
     "metadata": {},
     "output_type": "execute_result"
    }
   ],
   "source": [
    "submission = pd.DataFrame(pred_kaggle, index=test.index, columns=['cuisine'])\n",
    "submission"
   ]
  },
  {
   "cell_type": "code",
   "execution_count": 89,
   "id": "e0c9437d",
   "metadata": {},
   "outputs": [],
   "source": [
    "submission.to_csv('submission5.csv')"
   ]
  },
  {
   "cell_type": "markdown",
   "id": "74736cde",
   "metadata": {},
   "source": [
    "For normalized last 2 words:<br>\n",
    "Cross-val score: 0.78408<br>\n",
    "Kaggle score: 0.78710\n",
    "\n",
    "For char ngrams:<br>\n",
    "Cross-val score: 0.78"
   ]
  }
 ],
 "metadata": {
  "kernelspec": {
   "display_name": "Python 3 (ipykernel)",
   "language": "python",
   "name": "python3"
  },
  "language_info": {
   "codemirror_mode": {
    "name": "ipython",
    "version": 3
   },
   "file_extension": ".py",
   "mimetype": "text/x-python",
   "name": "python",
   "nbconvert_exporter": "python",
   "pygments_lexer": "ipython3",
   "version": "3.8.5"
  }
 },
 "nbformat": 4,
 "nbformat_minor": 5
}
