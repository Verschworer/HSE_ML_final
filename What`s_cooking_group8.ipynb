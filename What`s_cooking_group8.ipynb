{
 "cells": [
  {
   "cell_type": "code",
   "execution_count": 27,
   "id": "3a47ec3d",
   "metadata": {},
   "outputs": [],
   "source": [
    "import pandas as pd\n",
    "import numpy as np\n",
    "import json"
   ]
  },
  {
   "cell_type": "markdown",
   "id": "1e18c43a",
   "metadata": {},
   "source": [
    "### Загружаем данные"
   ]
  },
  {
   "cell_type": "code",
   "execution_count": 28,
   "id": "1330e171",
   "metadata": {},
   "outputs": [],
   "source": [
    "train = pd.read_json('train.json').set_index('id')"
   ]
  },
  {
   "cell_type": "code",
   "execution_count": 29,
   "id": "6eca5678",
   "metadata": {},
   "outputs": [],
   "source": [
    "y= train.cuisine"
   ]
  },
  {
   "cell_type": "code",
   "execution_count": 30,
   "id": "71f709b4",
   "metadata": {},
   "outputs": [
    {
     "data": {
      "text/html": [
       "<div>\n",
       "<style scoped>\n",
       "    .dataframe tbody tr th:only-of-type {\n",
       "        vertical-align: middle;\n",
       "    }\n",
       "\n",
       "    .dataframe tbody tr th {\n",
       "        vertical-align: top;\n",
       "    }\n",
       "\n",
       "    .dataframe thead th {\n",
       "        text-align: right;\n",
       "    }\n",
       "</style>\n",
       "<table border=\"1\" class=\"dataframe\">\n",
       "  <thead>\n",
       "    <tr style=\"text-align: right;\">\n",
       "      <th></th>\n",
       "      <th>cuisine</th>\n",
       "      <th>ingredients</th>\n",
       "    </tr>\n",
       "    <tr>\n",
       "      <th>id</th>\n",
       "      <th></th>\n",
       "      <th></th>\n",
       "    </tr>\n",
       "  </thead>\n",
       "  <tbody>\n",
       "    <tr>\n",
       "      <th>10259</th>\n",
       "      <td>greek</td>\n",
       "      <td>[romaine lettuce, black olives, grape tomatoes...</td>\n",
       "    </tr>\n",
       "    <tr>\n",
       "      <th>25693</th>\n",
       "      <td>southern_us</td>\n",
       "      <td>[plain flour, ground pepper, salt, tomatoes, g...</td>\n",
       "    </tr>\n",
       "    <tr>\n",
       "      <th>20130</th>\n",
       "      <td>filipino</td>\n",
       "      <td>[eggs, pepper, salt, mayonaise, cooking oil, g...</td>\n",
       "    </tr>\n",
       "    <tr>\n",
       "      <th>22213</th>\n",
       "      <td>indian</td>\n",
       "      <td>[water, vegetable oil, wheat, salt]</td>\n",
       "    </tr>\n",
       "    <tr>\n",
       "      <th>13162</th>\n",
       "      <td>indian</td>\n",
       "      <td>[black pepper, shallots, cornflour, cayenne pe...</td>\n",
       "    </tr>\n",
       "    <tr>\n",
       "      <th>...</th>\n",
       "      <td>...</td>\n",
       "      <td>...</td>\n",
       "    </tr>\n",
       "    <tr>\n",
       "      <th>29109</th>\n",
       "      <td>irish</td>\n",
       "      <td>[light brown sugar, granulated sugar, butter, ...</td>\n",
       "    </tr>\n",
       "    <tr>\n",
       "      <th>11462</th>\n",
       "      <td>italian</td>\n",
       "      <td>[KRAFT Zesty Italian Dressing, purple onion, b...</td>\n",
       "    </tr>\n",
       "    <tr>\n",
       "      <th>2238</th>\n",
       "      <td>irish</td>\n",
       "      <td>[eggs, citrus fruit, raisins, sourdough starte...</td>\n",
       "    </tr>\n",
       "    <tr>\n",
       "      <th>41882</th>\n",
       "      <td>chinese</td>\n",
       "      <td>[boneless chicken skinless thigh, minced garli...</td>\n",
       "    </tr>\n",
       "    <tr>\n",
       "      <th>2362</th>\n",
       "      <td>mexican</td>\n",
       "      <td>[green chile, jalapeno chilies, onions, ground...</td>\n",
       "    </tr>\n",
       "  </tbody>\n",
       "</table>\n",
       "<p>39774 rows × 2 columns</p>\n",
       "</div>"
      ],
      "text/plain": [
       "           cuisine                                        ingredients\n",
       "id                                                                   \n",
       "10259        greek  [romaine lettuce, black olives, grape tomatoes...\n",
       "25693  southern_us  [plain flour, ground pepper, salt, tomatoes, g...\n",
       "20130     filipino  [eggs, pepper, salt, mayonaise, cooking oil, g...\n",
       "22213       indian                [water, vegetable oil, wheat, salt]\n",
       "13162       indian  [black pepper, shallots, cornflour, cayenne pe...\n",
       "...            ...                                                ...\n",
       "29109        irish  [light brown sugar, granulated sugar, butter, ...\n",
       "11462      italian  [KRAFT Zesty Italian Dressing, purple onion, b...\n",
       "2238         irish  [eggs, citrus fruit, raisins, sourdough starte...\n",
       "41882      chinese  [boneless chicken skinless thigh, minced garli...\n",
       "2362       mexican  [green chile, jalapeno chilies, onions, ground...\n",
       "\n",
       "[39774 rows x 2 columns]"
      ]
     },
     "execution_count": 30,
     "metadata": {},
     "output_type": "execute_result"
    }
   ],
   "source": [
    "train"
   ]
  },
  {
   "cell_type": "code",
   "execution_count": 31,
   "id": "0cc37d4d",
   "metadata": {},
   "outputs": [],
   "source": [
    "test = pd.read_json('test.json').set_index('id')"
   ]
  },
  {
   "cell_type": "code",
   "execution_count": 32,
   "id": "6541d023",
   "metadata": {},
   "outputs": [
    {
     "data": {
      "text/html": [
       "<div>\n",
       "<style scoped>\n",
       "    .dataframe tbody tr th:only-of-type {\n",
       "        vertical-align: middle;\n",
       "    }\n",
       "\n",
       "    .dataframe tbody tr th {\n",
       "        vertical-align: top;\n",
       "    }\n",
       "\n",
       "    .dataframe thead th {\n",
       "        text-align: right;\n",
       "    }\n",
       "</style>\n",
       "<table border=\"1\" class=\"dataframe\">\n",
       "  <thead>\n",
       "    <tr style=\"text-align: right;\">\n",
       "      <th></th>\n",
       "      <th>ingredients</th>\n",
       "    </tr>\n",
       "    <tr>\n",
       "      <th>id</th>\n",
       "      <th></th>\n",
       "    </tr>\n",
       "  </thead>\n",
       "  <tbody>\n",
       "    <tr>\n",
       "      <th>18009</th>\n",
       "      <td>[baking powder, eggs, all-purpose flour, raisi...</td>\n",
       "    </tr>\n",
       "    <tr>\n",
       "      <th>28583</th>\n",
       "      <td>[sugar, egg yolks, corn starch, cream of tarta...</td>\n",
       "    </tr>\n",
       "    <tr>\n",
       "      <th>41580</th>\n",
       "      <td>[sausage links, fennel bulb, fronds, olive oil...</td>\n",
       "    </tr>\n",
       "    <tr>\n",
       "      <th>29752</th>\n",
       "      <td>[meat cuts, file powder, smoked sausage, okra,...</td>\n",
       "    </tr>\n",
       "    <tr>\n",
       "      <th>35687</th>\n",
       "      <td>[ground black pepper, salt, sausage casings, l...</td>\n",
       "    </tr>\n",
       "    <tr>\n",
       "      <th>...</th>\n",
       "      <td>...</td>\n",
       "    </tr>\n",
       "    <tr>\n",
       "      <th>30246</th>\n",
       "      <td>[large egg yolks, fresh lemon juice, sugar, bo...</td>\n",
       "    </tr>\n",
       "    <tr>\n",
       "      <th>36028</th>\n",
       "      <td>[hot sauce, butter, sweet potatoes, adobo sauc...</td>\n",
       "    </tr>\n",
       "    <tr>\n",
       "      <th>22339</th>\n",
       "      <td>[black pepper, salt, parmigiano reggiano chees...</td>\n",
       "    </tr>\n",
       "    <tr>\n",
       "      <th>42525</th>\n",
       "      <td>[cheddar cheese, cayenne, paprika, plum tomato...</td>\n",
       "    </tr>\n",
       "    <tr>\n",
       "      <th>1443</th>\n",
       "      <td>[cold water, olive oil, lime wedges, garlic cl...</td>\n",
       "    </tr>\n",
       "  </tbody>\n",
       "</table>\n",
       "<p>9944 rows × 1 columns</p>\n",
       "</div>"
      ],
      "text/plain": [
       "                                             ingredients\n",
       "id                                                      \n",
       "18009  [baking powder, eggs, all-purpose flour, raisi...\n",
       "28583  [sugar, egg yolks, corn starch, cream of tarta...\n",
       "41580  [sausage links, fennel bulb, fronds, olive oil...\n",
       "29752  [meat cuts, file powder, smoked sausage, okra,...\n",
       "35687  [ground black pepper, salt, sausage casings, l...\n",
       "...                                                  ...\n",
       "30246  [large egg yolks, fresh lemon juice, sugar, bo...\n",
       "36028  [hot sauce, butter, sweet potatoes, adobo sauc...\n",
       "22339  [black pepper, salt, parmigiano reggiano chees...\n",
       "42525  [cheddar cheese, cayenne, paprika, plum tomato...\n",
       "1443   [cold water, olive oil, lime wedges, garlic cl...\n",
       "\n",
       "[9944 rows x 1 columns]"
      ]
     },
     "execution_count": 32,
     "metadata": {},
     "output_type": "execute_result"
    }
   ],
   "source": [
    "test"
   ]
  },
  {
   "cell_type": "markdown",
   "id": "90e4c676",
   "metadata": {},
   "source": [
    "### Разведовательный анализ трейна"
   ]
  },
  {
   "cell_type": "code",
   "execution_count": 33,
   "id": "e7167ce2",
   "metadata": {},
   "outputs": [
    {
     "data": {
      "text/plain": [
       "20"
      ]
     },
     "execution_count": 33,
     "metadata": {},
     "output_type": "execute_result"
    }
   ],
   "source": [
    "len(train.cuisine.unique())"
   ]
  },
  {
   "cell_type": "code",
   "execution_count": 34,
   "id": "43a63719",
   "metadata": {},
   "outputs": [
    {
     "data": {
      "text/plain": [
       "italian         7838\n",
       "mexican         6438\n",
       "southern_us     4320\n",
       "indian          3003\n",
       "chinese         2673\n",
       "french          2646\n",
       "cajun_creole    1546\n",
       "thai            1539\n",
       "japanese        1423\n",
       "greek           1175\n",
       "spanish          989\n",
       "korean           830\n",
       "vietnamese       825\n",
       "moroccan         821\n",
       "british          804\n",
       "filipino         755\n",
       "irish            667\n",
       "jamaican         526\n",
       "russian          489\n",
       "brazilian        467\n",
       "Name: cuisine, dtype: int64"
      ]
     },
     "execution_count": 34,
     "metadata": {},
     "output_type": "execute_result"
    }
   ],
   "source": [
    "train.cuisine.value_counts()"
   ]
  },
  {
   "cell_type": "markdown",
   "id": "971aedaf",
   "metadata": {},
   "source": [
    "у нас несбалансированнный датасет"
   ]
  },
  {
   "cell_type": "code",
   "execution_count": 35,
   "id": "d6751218",
   "metadata": {},
   "outputs": [
    {
     "data": {
      "text/plain": [
       "cuisine        0\n",
       "ingredients    0\n",
       "dtype: int64"
      ]
     },
     "execution_count": 35,
     "metadata": {},
     "output_type": "execute_result"
    }
   ],
   "source": [
    "train.isna().sum()"
   ]
  },
  {
   "cell_type": "code",
   "execution_count": 36,
   "id": "fa76f8cd",
   "metadata": {},
   "outputs": [
    {
     "name": "stdout",
     "output_type": "stream",
     "text": [
      "количество ингредиентов: 428275\n"
     ]
    }
   ],
   "source": [
    "ing_full = train.ingredients.tolist()\n",
    "ing_counts = dict()\n",
    "\n",
    "for ing_list in ing_full:\n",
    "    for ingredient in ing_list:\n",
    "        ing_counts[ingredient] = ing_counts.get(ingredient, 0) + 1\n",
    "print(f'количество ингредиентов: {sum(ing_counts.values())}')"
   ]
  },
  {
   "cell_type": "code",
   "execution_count": 37,
   "id": "7295f5a2",
   "metadata": {},
   "outputs": [
    {
     "name": "stdout",
     "output_type": "stream",
     "text": [
      "количество уникальных ингредиентов: 6714\n",
      "\n",
      "salt 18049\n",
      "onions 7972\n",
      "olive oil 7972\n",
      "water 7457\n",
      "garlic 7380\n",
      "sugar 6434\n",
      "garlic cloves 6237\n",
      "butter 4848\n",
      "ground black pepper 4785\n",
      "all-purpose flour 4632\n",
      "pepper 4438\n",
      "vegetable oil 4385\n",
      "eggs 3388\n",
      "soy sauce 3296\n",
      "kosher salt 3113\n"
     ]
    }
   ],
   "source": [
    "sorted_ing = sorted(ing_counts, key=ing_counts.get, reverse=True)\n",
    "\n",
    "print(f'количество уникальных ингредиентов: {len(sorted_ing)}\\n')\n",
    "\n",
    "for k in sorted_ing[:15]:    # популярные \n",
    "    print(k, ing_counts[k])"
   ]
  },
  {
   "cell_type": "code",
   "execution_count": null,
   "id": "d07e2b5a",
   "metadata": {},
   "outputs": [],
   "source": []
  },
  {
   "cell_type": "code",
   "execution_count": null,
   "id": "fbb62d03",
   "metadata": {},
   "outputs": [],
   "source": []
  },
  {
   "cell_type": "markdown",
   "id": "e651c69c",
   "metadata": {},
   "source": [
    "### Работа  с признаками"
   ]
  },
  {
   "cell_type": "markdown",
   "id": "0104be96",
   "metadata": {},
   "source": [
    "Дальше работа разделилась на 4 направления:\n",
    "\n",
    "1) Работа с ингредиентами как с бинарными признаками\n",
    "\n",
    "2) Работа с н_граммами\n",
    "\n",
    "3) Работа со структурой tfidf\n",
    "\n",
    "4) Работа с вектором в pyspark (отдельный ноутбук будет сдан Александром Зубковым)"
   ]
  },
  {
   "cell_type": "markdown",
   "id": "6044febd",
   "metadata": {},
   "source": [
    "Очистка"
   ]
  },
  {
   "cell_type": "code",
   "execution_count": 38,
   "id": "fd51295d",
   "metadata": {},
   "outputs": [],
   "source": [
    "import re\n",
    "def clean_ingredients(old_ing):\n",
    "    ing = old_ing.lower()\n",
    "    ing = re.sub(r'\\(.*oz\\.\\)', ' ', ing)\n",
    "    ing = re.sub(r'[^a-zâçèéíîú]', ' ', ing)\n",
    "    ing = re.sub(r' +', ' ', ing)\n",
    "    ing = ing.strip()\n",
    "    return ing\n",
    "\n",
    "train['ingredients'] = train['ingredients'].apply(lambda x: [clean_ingredients(ing) for ing in x])\n",
    "test['ingredients'] = test['ingredients'].apply(lambda x: [clean_ingredients(ing) for ing in x])"
   ]
  },
  {
   "cell_type": "markdown",
   "id": "f31075e3",
   "metadata": {},
   "source": [
    "Работа с бинарными признаками"
   ]
  },
  {
   "cell_type": "code",
   "execution_count": 39,
   "id": "d9b7a8bb",
   "metadata": {},
   "outputs": [],
   "source": [
    "df_full= train.append(test)"
   ]
  },
  {
   "cell_type": "code",
   "execution_count": 40,
   "id": "7d541d07",
   "metadata": {},
   "outputs": [],
   "source": [
    "from sklearn.feature_extraction import DictVectorizer\n",
    "ing_dict_full = df_full[['ingredients']].to_dict(orient='records')\n",
    "vectorizer = DictVectorizer()"
   ]
  },
  {
   "cell_type": "code",
   "execution_count": 41,
   "id": "4e40473e",
   "metadata": {},
   "outputs": [],
   "source": [
    "import pattern\n",
    "from pattern.en import lemma\n",
    "\n",
    "for x in ing_dict_full: # лемматизация\n",
    "    for k in x:\n",
    "        z=x.get(k)\n",
    "        x.update({k:[' '.join ([lemma(u)for u in i.split(' ')]) for i in z]})"
   ]
  },
  {
   "cell_type": "code",
   "execution_count": 42,
   "id": "6294cec0",
   "metadata": {},
   "outputs": [],
   "source": [
    "full_vec = vectorizer.fit_transform(ing_dict_full)"
   ]
  },
  {
   "cell_type": "code",
   "execution_count": 43,
   "id": "6ae791fe",
   "metadata": {},
   "outputs": [
    {
     "data": {
      "text/html": [
       "<div>\n",
       "<style scoped>\n",
       "    .dataframe tbody tr th:only-of-type {\n",
       "        vertical-align: middle;\n",
       "    }\n",
       "\n",
       "    .dataframe tbody tr th {\n",
       "        vertical-align: top;\n",
       "    }\n",
       "\n",
       "    .dataframe thead th {\n",
       "        text-align: right;\n",
       "    }\n",
       "</style>\n",
       "<table border=\"1\" class=\"dataframe\">\n",
       "  <thead>\n",
       "    <tr style=\"text-align: right;\">\n",
       "      <th></th>\n",
       "      <th>ingredients=a taste of thai rice noodle</th>\n",
       "      <th>ingredients=abalone</th>\n",
       "      <th>ingredients=abbamele</th>\n",
       "      <th>ingredients=absinthe</th>\n",
       "      <th>ingredients=abura age</th>\n",
       "      <th>ingredients=acai juice</th>\n",
       "      <th>ingredients=accent</th>\n",
       "      <th>ingredients=accent season</th>\n",
       "      <th>ingredients=accompaniment</th>\n",
       "      <th>ingredients=achiote</th>\n",
       "      <th>...</th>\n",
       "      <th>ingredients=za atar</th>\n",
       "      <th>ingredients=zabaglione</th>\n",
       "      <th>ingredients=zatarain  jambalaya mix</th>\n",
       "      <th>ingredients=zatarain creole season</th>\n",
       "      <th>ingredients=zest</th>\n",
       "      <th>ingredients=zesty italian dress</th>\n",
       "      <th>ingredients=zinfandel</th>\n",
       "      <th>ingredients=ziti</th>\n",
       "      <th>ingredients=zucchini</th>\n",
       "      <th>ingredients=zucchini blossom</th>\n",
       "    </tr>\n",
       "    <tr>\n",
       "      <th>id</th>\n",
       "      <th></th>\n",
       "      <th></th>\n",
       "      <th></th>\n",
       "      <th></th>\n",
       "      <th></th>\n",
       "      <th></th>\n",
       "      <th></th>\n",
       "      <th></th>\n",
       "      <th></th>\n",
       "      <th></th>\n",
       "      <th></th>\n",
       "      <th></th>\n",
       "      <th></th>\n",
       "      <th></th>\n",
       "      <th></th>\n",
       "      <th></th>\n",
       "      <th></th>\n",
       "      <th></th>\n",
       "      <th></th>\n",
       "      <th></th>\n",
       "      <th></th>\n",
       "    </tr>\n",
       "  </thead>\n",
       "  <tbody>\n",
       "    <tr>\n",
       "      <th>10259</th>\n",
       "      <td>0.0</td>\n",
       "      <td>0.0</td>\n",
       "      <td>0.0</td>\n",
       "      <td>0.0</td>\n",
       "      <td>0.0</td>\n",
       "      <td>0.0</td>\n",
       "      <td>0.0</td>\n",
       "      <td>0.0</td>\n",
       "      <td>0.0</td>\n",
       "      <td>0.0</td>\n",
       "      <td>...</td>\n",
       "      <td>0.0</td>\n",
       "      <td>0.0</td>\n",
       "      <td>0.0</td>\n",
       "      <td>0.0</td>\n",
       "      <td>0.0</td>\n",
       "      <td>0.0</td>\n",
       "      <td>0.0</td>\n",
       "      <td>0.0</td>\n",
       "      <td>0.0</td>\n",
       "      <td>0.0</td>\n",
       "    </tr>\n",
       "    <tr>\n",
       "      <th>25693</th>\n",
       "      <td>0.0</td>\n",
       "      <td>0.0</td>\n",
       "      <td>0.0</td>\n",
       "      <td>0.0</td>\n",
       "      <td>0.0</td>\n",
       "      <td>0.0</td>\n",
       "      <td>0.0</td>\n",
       "      <td>0.0</td>\n",
       "      <td>0.0</td>\n",
       "      <td>0.0</td>\n",
       "      <td>...</td>\n",
       "      <td>0.0</td>\n",
       "      <td>0.0</td>\n",
       "      <td>0.0</td>\n",
       "      <td>0.0</td>\n",
       "      <td>0.0</td>\n",
       "      <td>0.0</td>\n",
       "      <td>0.0</td>\n",
       "      <td>0.0</td>\n",
       "      <td>0.0</td>\n",
       "      <td>0.0</td>\n",
       "    </tr>\n",
       "    <tr>\n",
       "      <th>20130</th>\n",
       "      <td>0.0</td>\n",
       "      <td>0.0</td>\n",
       "      <td>0.0</td>\n",
       "      <td>0.0</td>\n",
       "      <td>0.0</td>\n",
       "      <td>0.0</td>\n",
       "      <td>0.0</td>\n",
       "      <td>0.0</td>\n",
       "      <td>0.0</td>\n",
       "      <td>0.0</td>\n",
       "      <td>...</td>\n",
       "      <td>0.0</td>\n",
       "      <td>0.0</td>\n",
       "      <td>0.0</td>\n",
       "      <td>0.0</td>\n",
       "      <td>0.0</td>\n",
       "      <td>0.0</td>\n",
       "      <td>0.0</td>\n",
       "      <td>0.0</td>\n",
       "      <td>0.0</td>\n",
       "      <td>0.0</td>\n",
       "    </tr>\n",
       "    <tr>\n",
       "      <th>22213</th>\n",
       "      <td>0.0</td>\n",
       "      <td>0.0</td>\n",
       "      <td>0.0</td>\n",
       "      <td>0.0</td>\n",
       "      <td>0.0</td>\n",
       "      <td>0.0</td>\n",
       "      <td>0.0</td>\n",
       "      <td>0.0</td>\n",
       "      <td>0.0</td>\n",
       "      <td>0.0</td>\n",
       "      <td>...</td>\n",
       "      <td>0.0</td>\n",
       "      <td>0.0</td>\n",
       "      <td>0.0</td>\n",
       "      <td>0.0</td>\n",
       "      <td>0.0</td>\n",
       "      <td>0.0</td>\n",
       "      <td>0.0</td>\n",
       "      <td>0.0</td>\n",
       "      <td>0.0</td>\n",
       "      <td>0.0</td>\n",
       "    </tr>\n",
       "    <tr>\n",
       "      <th>13162</th>\n",
       "      <td>0.0</td>\n",
       "      <td>0.0</td>\n",
       "      <td>0.0</td>\n",
       "      <td>0.0</td>\n",
       "      <td>0.0</td>\n",
       "      <td>0.0</td>\n",
       "      <td>0.0</td>\n",
       "      <td>0.0</td>\n",
       "      <td>0.0</td>\n",
       "      <td>0.0</td>\n",
       "      <td>...</td>\n",
       "      <td>0.0</td>\n",
       "      <td>0.0</td>\n",
       "      <td>0.0</td>\n",
       "      <td>0.0</td>\n",
       "      <td>0.0</td>\n",
       "      <td>0.0</td>\n",
       "      <td>0.0</td>\n",
       "      <td>0.0</td>\n",
       "      <td>0.0</td>\n",
       "      <td>0.0</td>\n",
       "    </tr>\n",
       "    <tr>\n",
       "      <th>...</th>\n",
       "      <td>...</td>\n",
       "      <td>...</td>\n",
       "      <td>...</td>\n",
       "      <td>...</td>\n",
       "      <td>...</td>\n",
       "      <td>...</td>\n",
       "      <td>...</td>\n",
       "      <td>...</td>\n",
       "      <td>...</td>\n",
       "      <td>...</td>\n",
       "      <td>...</td>\n",
       "      <td>...</td>\n",
       "      <td>...</td>\n",
       "      <td>...</td>\n",
       "      <td>...</td>\n",
       "      <td>...</td>\n",
       "      <td>...</td>\n",
       "      <td>...</td>\n",
       "      <td>...</td>\n",
       "      <td>...</td>\n",
       "      <td>...</td>\n",
       "    </tr>\n",
       "    <tr>\n",
       "      <th>30246</th>\n",
       "      <td>0.0</td>\n",
       "      <td>0.0</td>\n",
       "      <td>0.0</td>\n",
       "      <td>0.0</td>\n",
       "      <td>0.0</td>\n",
       "      <td>0.0</td>\n",
       "      <td>0.0</td>\n",
       "      <td>0.0</td>\n",
       "      <td>0.0</td>\n",
       "      <td>0.0</td>\n",
       "      <td>...</td>\n",
       "      <td>0.0</td>\n",
       "      <td>0.0</td>\n",
       "      <td>0.0</td>\n",
       "      <td>0.0</td>\n",
       "      <td>0.0</td>\n",
       "      <td>0.0</td>\n",
       "      <td>0.0</td>\n",
       "      <td>0.0</td>\n",
       "      <td>0.0</td>\n",
       "      <td>0.0</td>\n",
       "    </tr>\n",
       "    <tr>\n",
       "      <th>36028</th>\n",
       "      <td>0.0</td>\n",
       "      <td>0.0</td>\n",
       "      <td>0.0</td>\n",
       "      <td>0.0</td>\n",
       "      <td>0.0</td>\n",
       "      <td>0.0</td>\n",
       "      <td>0.0</td>\n",
       "      <td>0.0</td>\n",
       "      <td>0.0</td>\n",
       "      <td>0.0</td>\n",
       "      <td>...</td>\n",
       "      <td>0.0</td>\n",
       "      <td>0.0</td>\n",
       "      <td>0.0</td>\n",
       "      <td>0.0</td>\n",
       "      <td>0.0</td>\n",
       "      <td>0.0</td>\n",
       "      <td>0.0</td>\n",
       "      <td>0.0</td>\n",
       "      <td>0.0</td>\n",
       "      <td>0.0</td>\n",
       "    </tr>\n",
       "    <tr>\n",
       "      <th>22339</th>\n",
       "      <td>0.0</td>\n",
       "      <td>0.0</td>\n",
       "      <td>0.0</td>\n",
       "      <td>0.0</td>\n",
       "      <td>0.0</td>\n",
       "      <td>0.0</td>\n",
       "      <td>0.0</td>\n",
       "      <td>0.0</td>\n",
       "      <td>0.0</td>\n",
       "      <td>0.0</td>\n",
       "      <td>...</td>\n",
       "      <td>0.0</td>\n",
       "      <td>0.0</td>\n",
       "      <td>0.0</td>\n",
       "      <td>0.0</td>\n",
       "      <td>0.0</td>\n",
       "      <td>0.0</td>\n",
       "      <td>0.0</td>\n",
       "      <td>0.0</td>\n",
       "      <td>0.0</td>\n",
       "      <td>0.0</td>\n",
       "    </tr>\n",
       "    <tr>\n",
       "      <th>42525</th>\n",
       "      <td>0.0</td>\n",
       "      <td>0.0</td>\n",
       "      <td>0.0</td>\n",
       "      <td>0.0</td>\n",
       "      <td>0.0</td>\n",
       "      <td>0.0</td>\n",
       "      <td>0.0</td>\n",
       "      <td>0.0</td>\n",
       "      <td>0.0</td>\n",
       "      <td>0.0</td>\n",
       "      <td>...</td>\n",
       "      <td>0.0</td>\n",
       "      <td>0.0</td>\n",
       "      <td>0.0</td>\n",
       "      <td>0.0</td>\n",
       "      <td>0.0</td>\n",
       "      <td>0.0</td>\n",
       "      <td>0.0</td>\n",
       "      <td>0.0</td>\n",
       "      <td>0.0</td>\n",
       "      <td>0.0</td>\n",
       "    </tr>\n",
       "    <tr>\n",
       "      <th>1443</th>\n",
       "      <td>0.0</td>\n",
       "      <td>0.0</td>\n",
       "      <td>0.0</td>\n",
       "      <td>0.0</td>\n",
       "      <td>0.0</td>\n",
       "      <td>0.0</td>\n",
       "      <td>0.0</td>\n",
       "      <td>0.0</td>\n",
       "      <td>0.0</td>\n",
       "      <td>0.0</td>\n",
       "      <td>...</td>\n",
       "      <td>0.0</td>\n",
       "      <td>0.0</td>\n",
       "      <td>0.0</td>\n",
       "      <td>0.0</td>\n",
       "      <td>0.0</td>\n",
       "      <td>0.0</td>\n",
       "      <td>0.0</td>\n",
       "      <td>0.0</td>\n",
       "      <td>0.0</td>\n",
       "      <td>0.0</td>\n",
       "    </tr>\n",
       "  </tbody>\n",
       "</table>\n",
       "<p>49718 rows × 7089 columns</p>\n",
       "</div>"
      ],
      "text/plain": [
       "       ingredients=a taste of thai rice noodle  ingredients=abalone  \\\n",
       "id                                                                    \n",
       "10259                                      0.0                  0.0   \n",
       "25693                                      0.0                  0.0   \n",
       "20130                                      0.0                  0.0   \n",
       "22213                                      0.0                  0.0   \n",
       "13162                                      0.0                  0.0   \n",
       "...                                        ...                  ...   \n",
       "30246                                      0.0                  0.0   \n",
       "36028                                      0.0                  0.0   \n",
       "22339                                      0.0                  0.0   \n",
       "42525                                      0.0                  0.0   \n",
       "1443                                       0.0                  0.0   \n",
       "\n",
       "       ingredients=abbamele  ingredients=absinthe  ingredients=abura age  \\\n",
       "id                                                                         \n",
       "10259                   0.0                   0.0                    0.0   \n",
       "25693                   0.0                   0.0                    0.0   \n",
       "20130                   0.0                   0.0                    0.0   \n",
       "22213                   0.0                   0.0                    0.0   \n",
       "13162                   0.0                   0.0                    0.0   \n",
       "...                     ...                   ...                    ...   \n",
       "30246                   0.0                   0.0                    0.0   \n",
       "36028                   0.0                   0.0                    0.0   \n",
       "22339                   0.0                   0.0                    0.0   \n",
       "42525                   0.0                   0.0                    0.0   \n",
       "1443                    0.0                   0.0                    0.0   \n",
       "\n",
       "       ingredients=acai juice  ingredients=accent  ingredients=accent season  \\\n",
       "id                                                                             \n",
       "10259                     0.0                 0.0                        0.0   \n",
       "25693                     0.0                 0.0                        0.0   \n",
       "20130                     0.0                 0.0                        0.0   \n",
       "22213                     0.0                 0.0                        0.0   \n",
       "13162                     0.0                 0.0                        0.0   \n",
       "...                       ...                 ...                        ...   \n",
       "30246                     0.0                 0.0                        0.0   \n",
       "36028                     0.0                 0.0                        0.0   \n",
       "22339                     0.0                 0.0                        0.0   \n",
       "42525                     0.0                 0.0                        0.0   \n",
       "1443                      0.0                 0.0                        0.0   \n",
       "\n",
       "       ingredients=accompaniment  ingredients=achiote  ...  \\\n",
       "id                                                     ...   \n",
       "10259                        0.0                  0.0  ...   \n",
       "25693                        0.0                  0.0  ...   \n",
       "20130                        0.0                  0.0  ...   \n",
       "22213                        0.0                  0.0  ...   \n",
       "13162                        0.0                  0.0  ...   \n",
       "...                          ...                  ...  ...   \n",
       "30246                        0.0                  0.0  ...   \n",
       "36028                        0.0                  0.0  ...   \n",
       "22339                        0.0                  0.0  ...   \n",
       "42525                        0.0                  0.0  ...   \n",
       "1443                         0.0                  0.0  ...   \n",
       "\n",
       "       ingredients=za atar  ingredients=zabaglione  \\\n",
       "id                                                   \n",
       "10259                  0.0                     0.0   \n",
       "25693                  0.0                     0.0   \n",
       "20130                  0.0                     0.0   \n",
       "22213                  0.0                     0.0   \n",
       "13162                  0.0                     0.0   \n",
       "...                    ...                     ...   \n",
       "30246                  0.0                     0.0   \n",
       "36028                  0.0                     0.0   \n",
       "22339                  0.0                     0.0   \n",
       "42525                  0.0                     0.0   \n",
       "1443                   0.0                     0.0   \n",
       "\n",
       "       ingredients=zatarain  jambalaya mix  \\\n",
       "id                                           \n",
       "10259                                  0.0   \n",
       "25693                                  0.0   \n",
       "20130                                  0.0   \n",
       "22213                                  0.0   \n",
       "13162                                  0.0   \n",
       "...                                    ...   \n",
       "30246                                  0.0   \n",
       "36028                                  0.0   \n",
       "22339                                  0.0   \n",
       "42525                                  0.0   \n",
       "1443                                   0.0   \n",
       "\n",
       "       ingredients=zatarain creole season  ingredients=zest  \\\n",
       "id                                                            \n",
       "10259                                 0.0               0.0   \n",
       "25693                                 0.0               0.0   \n",
       "20130                                 0.0               0.0   \n",
       "22213                                 0.0               0.0   \n",
       "13162                                 0.0               0.0   \n",
       "...                                   ...               ...   \n",
       "30246                                 0.0               0.0   \n",
       "36028                                 0.0               0.0   \n",
       "22339                                 0.0               0.0   \n",
       "42525                                 0.0               0.0   \n",
       "1443                                  0.0               0.0   \n",
       "\n",
       "       ingredients=zesty italian dress  ingredients=zinfandel  \\\n",
       "id                                                              \n",
       "10259                              0.0                    0.0   \n",
       "25693                              0.0                    0.0   \n",
       "20130                              0.0                    0.0   \n",
       "22213                              0.0                    0.0   \n",
       "13162                              0.0                    0.0   \n",
       "...                                ...                    ...   \n",
       "30246                              0.0                    0.0   \n",
       "36028                              0.0                    0.0   \n",
       "22339                              0.0                    0.0   \n",
       "42525                              0.0                    0.0   \n",
       "1443                               0.0                    0.0   \n",
       "\n",
       "       ingredients=ziti  ingredients=zucchini  ingredients=zucchini blossom  \n",
       "id                                                                           \n",
       "10259               0.0                   0.0                           0.0  \n",
       "25693               0.0                   0.0                           0.0  \n",
       "20130               0.0                   0.0                           0.0  \n",
       "22213               0.0                   0.0                           0.0  \n",
       "13162               0.0                   0.0                           0.0  \n",
       "...                 ...                   ...                           ...  \n",
       "30246               0.0                   0.0                           0.0  \n",
       "36028               0.0                   0.0                           0.0  \n",
       "22339               0.0                   0.0                           0.0  \n",
       "42525               0.0                   0.0                           0.0  \n",
       "1443                0.0                   0.0                           0.0  \n",
       "\n",
       "[49718 rows x 7089 columns]"
      ]
     },
     "execution_count": 43,
     "metadata": {},
     "output_type": "execute_result"
    }
   ],
   "source": [
    "df_full = pd.DataFrame(full_vec.toarray(), index=df_full.index, columns=vectorizer.feature_names_)\n",
    "df_full"
   ]
  },
  {
   "cell_type": "code",
   "execution_count": 44,
   "id": "09e9fba4",
   "metadata": {},
   "outputs": [],
   "source": [
    "df_full_train=df_full[0:39774]\n",
    "df_full_test=df_full[39774:]"
   ]
  },
  {
   "cell_type": "markdown",
   "id": "8f7e40b1",
   "metadata": {},
   "source": [
    "Наиболее удачной моделью в работе сбинарными признакками по итогам ряда экспериментов стала LogisticRegression,\n",
    "с указанными ниже параметрами. Кроме нее пробовали SVC (best Kaggle score: 0.78710, best Cross-val score: 0.78),\n",
    "RandomForest (best Cross-val score: 0.612 kaggle  даже не загружали)"
   ]
  },
  {
   "cell_type": "code",
   "execution_count": 45,
   "id": "2bad92fa",
   "metadata": {},
   "outputs": [],
   "source": [
    "from sklearn.linear_model import LogisticRegression\n",
    "model = LogisticRegression(multi_class='ovr', max_iter=2000, random_state=10)"
   ]
  },
  {
   "cell_type": "code",
   "execution_count": 46,
   "id": "db4a0c73",
   "metadata": {},
   "outputs": [
    {
     "name": "stdout",
     "output_type": "stream",
     "text": [
      "0.8711730917273642\n",
      "0.7816666666666666\n"
     ]
    }
   ],
   "source": [
    "from sklearn.metrics import accuracy_score\n",
    "from sklearn.model_selection import train_test_split, cross_val_score, GridSearchCV\n",
    "X_train, X_test, y_train, y_test = train_test_split(df_full_train, y, test_size=6000, random_state=10)\n",
    "model.fit(X_train, y_train)\n",
    "pred_train = model.predict(X_train)\n",
    "pred_test = model.predict(X_test)\n",
    "print(accuracy_score(y_train, pred_train))\n",
    "print(accuracy_score(y_test, pred_test))"
   ]
  },
  {
   "cell_type": "code",
   "execution_count": 47,
   "id": "f2a181d8",
   "metadata": {},
   "outputs": [
    {
     "data": {
      "text/plain": [
       "0.7799568606855857"
      ]
     },
     "execution_count": 47,
     "metadata": {},
     "output_type": "execute_result"
    }
   ],
   "source": [
    "\n",
    "cross_val_score(model, df_full_train, y, cv=5, scoring='accuracy').mean()"
   ]
  },
  {
   "cell_type": "markdown",
   "id": "d0487aa8",
   "metadata": {},
   "source": [
    " сильного переобучения нет"
   ]
  },
  {
   "cell_type": "code",
   "execution_count": 48,
   "id": "ff3ca3c2",
   "metadata": {},
   "outputs": [],
   "source": [
    "pred_kaggle = model.predict(df_full_test) # проверяем скор на kaggle\n",
    "submission = pd.DataFrame(pred_kaggle, index=df_full_test.index, columns=['cuisine'])\n",
    "submission.to_csv('submission2.csv') # kaggle - 0.78368"
   ]
  },
  {
   "cell_type": "markdown",
   "id": "d8ccbea0",
   "metadata": {},
   "source": [
    "Работа с n_граммами"
   ]
  },
  {
   "cell_type": "code",
   "execution_count": 59,
   "id": "0684c529",
   "metadata": {},
   "outputs": [],
   "source": [
    "from nltk import ngrams, everygrams\n",
    "def get_ngrams(l: list, n: int):\n",
    "    ngrams_list = []\n",
    "    for item in l:\n",
    "        grams = list(everygrams(item, max_len=n, pad_left=True, pad_right=True, left_pad_symbol='<s>', right_pad_symbol='<e>'))\n",
    "        ngrams_list += grams\n",
    "    ngrams_list1 = [''.join(i) for i in ngrams_list]\n",
    "    return set(ngrams_list1)"
   ]
  },
  {
   "cell_type": "code",
   "execution_count": 60,
   "id": "c0739346",
   "metadata": {},
   "outputs": [],
   "source": [
    "def clean_some_symbols(ing_list: list):\n",
    "    new_list = sum([re.sub(r'[^a-zâçèéíîú!&\\'\\.\\®’™]', ' ', ing).split() for ing in ing_list], [])\n",
    "    new_list = list(set(new_list))\n",
    "    return new_list"
   ]
  },
  {
   "cell_type": "code",
   "execution_count": 61,
   "id": "b11cf801",
   "metadata": {},
   "outputs": [],
   "source": [
    "def clean_letters_only(ing_list: list):\n",
    "    new_list = sum([re.sub(r'[^a-zâçèéíîú]', ' ', ing).split() for ing in ing_list], [])\n",
    "    new_list = list(set(new_list))\n",
    "    return new_list"
   ]
  },
  {
   "cell_type": "code",
   "execution_count": 62,
   "id": "00a95dc7",
   "metadata": {},
   "outputs": [],
   "source": [
    "def extract_ngrams_some_symbols(old_df):\n",
    "    df = old_df.copy()\n",
    "    df['voc_some_symbols'] = df['ingredients'].apply(lambda x: clean_some_symbols(x))\n",
    "    df['some_symb_ngrams'] = df['voc_some_symbols'].apply(lambda x: get_ngrams(x, 3))\n",
    "    return df[['some_symb_ngrams']].to_dict(orient='records')"
   ]
  },
  {
   "cell_type": "code",
   "execution_count": 63,
   "id": "33ba024c",
   "metadata": {},
   "outputs": [],
   "source": [
    "def extract_ngrams_letters_only(old_df):\n",
    "    df = old_df.copy()\n",
    "    df['voc_letters_only'] = df['ingredients'].apply(lambda x: clean_some_symbols(x))\n",
    "    df['letters_only_ngrams'] = df['voc_letters_only'].apply(lambda x: get_ngrams(x, 3))\n",
    "    return df[['letters_only_ngrams']].to_dict(orient='records')"
   ]
  },
  {
   "cell_type": "code",
   "execution_count": 64,
   "id": "7c6b993e",
   "metadata": {},
   "outputs": [],
   "source": [
    "ngrams_train = extract_ngrams_letters_only(train)\n",
    "ngrams_test = extract_ngrams_letters_only(test)"
   ]
  },
  {
   "cell_type": "code",
   "execution_count": 65,
   "id": "407d0b89",
   "metadata": {},
   "outputs": [],
   "source": [
    "X = vectorizer.fit_transform(ngrams_train)\n",
    "X_kaggle = vectorizer.transform(ngrams_test)"
   ]
  },
  {
   "cell_type": "code",
   "execution_count": 66,
   "id": "81bc3c5f",
   "metadata": {},
   "outputs": [
    {
     "name": "stdout",
     "output_type": "stream",
     "text": [
      "(39774, 4059)\n",
      "(9944, 4059)\n"
     ]
    }
   ],
   "source": [
    "print(X.shape)\n",
    "print(X_kaggle.shape)"
   ]
  },
  {
   "cell_type": "code",
   "execution_count": 70,
   "id": "4784d61f",
   "metadata": {},
   "outputs": [],
   "source": [
    "X_df = pd.DataFrame(X.toarray(), index=train.index)"
   ]
  },
  {
   "cell_type": "markdown",
   "id": "84cbdcfd",
   "metadata": {},
   "source": [
    "здесь попробуем Catboost"
   ]
  },
  {
   "cell_type": "code",
   "execution_count": 71,
   "id": "a8253f72",
   "metadata": {},
   "outputs": [],
   "source": [
    "X_train, X_test, y_train, y_test = train_test_split(X, y, test_size=6000, random_state=10)"
   ]
  },
  {
   "cell_type": "code",
   "execution_count": 73,
   "id": "11dc3125",
   "metadata": {},
   "outputs": [],
   "source": [
    "from catboost import CatBoostClassifier, Pool, cv\n",
    "train_pool = Pool(X_train, y_train)\n",
    "val_pool = Pool(X_test, y_test)"
   ]
  },
  {
   "cell_type": "code",
   "execution_count": 76,
   "id": "0dbb2bf8",
   "metadata": {},
   "outputs": [],
   "source": [
    "cb = CatBoostClassifier(objective='MultiClass', eval_metric='Accuracy', random_state=10)"
   ]
  },
  {
   "cell_type": "code",
   "execution_count": 77,
   "id": "2b4a37a5",
   "metadata": {},
   "outputs": [
    {
     "name": "stderr",
     "output_type": "stream",
     "text": [
      "Custom logger is already specified. Specify more than one logger at same time is not thread safe."
     ]
    },
    {
     "data": {
      "text/plain": [
       "<catboost.core.CatBoostClassifier at 0x125570612b0>"
      ]
     },
     "execution_count": 77,
     "metadata": {},
     "output_type": "execute_result"
    }
   ],
   "source": [
    "cb.fit(train_pool, eval_set=val_pool, verbose = False)"
   ]
  },
  {
   "cell_type": "code",
   "execution_count": 78,
   "id": "0ee21710",
   "metadata": {},
   "outputs": [
    {
     "name": "stdout",
     "output_type": "stream",
     "text": [
      "0.8346361106176349\n",
      "0.7778333333333334\n"
     ]
    }
   ],
   "source": [
    "pred_train = cb.predict(X_train)\n",
    "pred_test = cb.predict(X_test)\n",
    "print(accuracy_score(y_train, pred_train))\n",
    "print(accuracy_score(y_test, pred_test))"
   ]
  },
  {
   "cell_type": "markdown",
   "id": "5a350c26",
   "metadata": {},
   "source": [
    "best сross validation score: 0.786\n",
    "\n",
    "Kaggle score: 0.78318"
   ]
  },
  {
   "cell_type": "markdown",
   "id": "4c666f8a",
   "metadata": {},
   "source": [
    "Работа со структурой tfidf"
   ]
  },
  {
   "cell_type": "code",
   "execution_count": 79,
   "id": "ec6cb6de",
   "metadata": {},
   "outputs": [],
   "source": [
    "def lem_str (ingr_lst): # лемматизация и разделение на слова\n",
    "    str_ing=''\n",
    "    for i in ingr_lst:\n",
    "        ing= ' '.join([lemma(u) for u in i.split(' ')])\n",
    "        str_ing+=ing+' '\n",
    "    return str_ing"
   ]
  },
  {
   "cell_type": "code",
   "execution_count": 80,
   "id": "c25be884",
   "metadata": {},
   "outputs": [],
   "source": [
    "train['words'] = train['ingredients'].apply(lambda x: lem_str(x))"
   ]
  },
  {
   "cell_type": "code",
   "execution_count": 81,
   "id": "c04a1f94",
   "metadata": {},
   "outputs": [
    {
     "data": {
      "text/html": [
       "<div>\n",
       "<style scoped>\n",
       "    .dataframe tbody tr th:only-of-type {\n",
       "        vertical-align: middle;\n",
       "    }\n",
       "\n",
       "    .dataframe tbody tr th {\n",
       "        vertical-align: top;\n",
       "    }\n",
       "\n",
       "    .dataframe thead th {\n",
       "        text-align: right;\n",
       "    }\n",
       "</style>\n",
       "<table border=\"1\" class=\"dataframe\">\n",
       "  <thead>\n",
       "    <tr style=\"text-align: right;\">\n",
       "      <th></th>\n",
       "      <th>cuisine</th>\n",
       "      <th>ingredients</th>\n",
       "      <th>words</th>\n",
       "    </tr>\n",
       "    <tr>\n",
       "      <th>id</th>\n",
       "      <th></th>\n",
       "      <th></th>\n",
       "      <th></th>\n",
       "    </tr>\n",
       "  </thead>\n",
       "  <tbody>\n",
       "    <tr>\n",
       "      <th>10259</th>\n",
       "      <td>greek</td>\n",
       "      <td>[romaine lettuce, black olives, grape tomatoes...</td>\n",
       "      <td>romaine lettuce black olive grape tomatoe garl...</td>\n",
       "    </tr>\n",
       "    <tr>\n",
       "      <th>25693</th>\n",
       "      <td>southern_us</td>\n",
       "      <td>[plain flour, ground pepper, salt, tomatoes, g...</td>\n",
       "      <td>plain flour grind pepper salt tomatoe grind bl...</td>\n",
       "    </tr>\n",
       "    <tr>\n",
       "      <th>20130</th>\n",
       "      <td>filipino</td>\n",
       "      <td>[eggs, pepper, salt, mayonaise, cooking oil, g...</td>\n",
       "      <td>egg pepper salt mayonaise cook oil green chily...</td>\n",
       "    </tr>\n",
       "    <tr>\n",
       "      <th>22213</th>\n",
       "      <td>indian</td>\n",
       "      <td>[water, vegetable oil, wheat, salt]</td>\n",
       "      <td>water vegetable oil wheat salt</td>\n",
       "    </tr>\n",
       "    <tr>\n",
       "      <th>13162</th>\n",
       "      <td>indian</td>\n",
       "      <td>[black pepper, shallots, cornflour, cayenne pe...</td>\n",
       "      <td>black pepper shallot cornflour cayenne pepper ...</td>\n",
       "    </tr>\n",
       "    <tr>\n",
       "      <th>...</th>\n",
       "      <td>...</td>\n",
       "      <td>...</td>\n",
       "      <td>...</td>\n",
       "    </tr>\n",
       "    <tr>\n",
       "      <th>29109</th>\n",
       "      <td>irish</td>\n",
       "      <td>[light brown sugar, granulated sugar, butter, ...</td>\n",
       "      <td>light brown sugar granulate sugar butter warm ...</td>\n",
       "    </tr>\n",
       "    <tr>\n",
       "      <th>11462</th>\n",
       "      <td>italian</td>\n",
       "      <td>[kraft zesty italian dressing, purple onion, b...</td>\n",
       "      <td>kraft zesty italian dress purple onion broccol...</td>\n",
       "    </tr>\n",
       "    <tr>\n",
       "      <th>2238</th>\n",
       "      <td>irish</td>\n",
       "      <td>[eggs, citrus fruit, raisins, sourdough starte...</td>\n",
       "      <td>egg citru fruit raisin sourdough starter flour...</td>\n",
       "    </tr>\n",
       "    <tr>\n",
       "      <th>41882</th>\n",
       "      <td>chinese</td>\n",
       "      <td>[boneless chicken skinless thigh, minced garli...</td>\n",
       "      <td>boneles chicken skinles thigh mince garlic ste...</td>\n",
       "    </tr>\n",
       "    <tr>\n",
       "      <th>2362</th>\n",
       "      <td>mexican</td>\n",
       "      <td>[green chile, jalapeno chilies, onions, ground...</td>\n",
       "      <td>green chile jalapeno chily onion grind black p...</td>\n",
       "    </tr>\n",
       "  </tbody>\n",
       "</table>\n",
       "<p>39774 rows × 3 columns</p>\n",
       "</div>"
      ],
      "text/plain": [
       "           cuisine                                        ingredients  \\\n",
       "id                                                                      \n",
       "10259        greek  [romaine lettuce, black olives, grape tomatoes...   \n",
       "25693  southern_us  [plain flour, ground pepper, salt, tomatoes, g...   \n",
       "20130     filipino  [eggs, pepper, salt, mayonaise, cooking oil, g...   \n",
       "22213       indian                [water, vegetable oil, wheat, salt]   \n",
       "13162       indian  [black pepper, shallots, cornflour, cayenne pe...   \n",
       "...            ...                                                ...   \n",
       "29109        irish  [light brown sugar, granulated sugar, butter, ...   \n",
       "11462      italian  [kraft zesty italian dressing, purple onion, b...   \n",
       "2238         irish  [eggs, citrus fruit, raisins, sourdough starte...   \n",
       "41882      chinese  [boneless chicken skinless thigh, minced garli...   \n",
       "2362       mexican  [green chile, jalapeno chilies, onions, ground...   \n",
       "\n",
       "                                                   words  \n",
       "id                                                        \n",
       "10259  romaine lettuce black olive grape tomatoe garl...  \n",
       "25693  plain flour grind pepper salt tomatoe grind bl...  \n",
       "20130  egg pepper salt mayonaise cook oil green chily...  \n",
       "22213                    water vegetable oil wheat salt   \n",
       "13162  black pepper shallot cornflour cayenne pepper ...  \n",
       "...                                                  ...  \n",
       "29109  light brown sugar granulate sugar butter warm ...  \n",
       "11462  kraft zesty italian dress purple onion broccol...  \n",
       "2238   egg citru fruit raisin sourdough starter flour...  \n",
       "41882  boneles chicken skinles thigh mince garlic ste...  \n",
       "2362   green chile jalapeno chily onion grind black p...  \n",
       "\n",
       "[39774 rows x 3 columns]"
      ]
     },
     "execution_count": 81,
     "metadata": {},
     "output_type": "execute_result"
    }
   ],
   "source": [
    "train"
   ]
  },
  {
   "cell_type": "code",
   "execution_count": 83,
   "id": "a000e00d",
   "metadata": {},
   "outputs": [],
   "source": [
    "from sklearn.feature_extraction.text import CountVectorizer, TfidfVectorizer\n",
    "# перебрали следкющие варианты:\n",
    "#c_vectorizer_counts = CountVectorizer()\n",
    "#c_vectorizer_bin = CountVectorizer(binary=True)\n",
    "#c_vectorizer_counts_bigram = CountVectorizer(token_pattern=r'(?u)\\b\\w+_?\\w+\\b')\n",
    "#c_vectorizer_bin_bigram = CountVectorizer(token_pattern=r'(?u)\\b\\w+_?\\w+\\b', binary=True)\n",
    "#tfidf = TfidfVectorizer()\n",
    "tfidf_bin = TfidfVectorizer(binary=True)\n",
    "#tfidf_bigram = TfidfVectorizer(token_pattern=r'(?u)\\b\\w+_?\\w+\\b')\n",
    "#tfidf_bin_bigram = TfidfVectorizer(token_pattern=r'(?u)\\b\\w+_?\\w+\\b', binary=True)"
   ]
  },
  {
   "cell_type": "code",
   "execution_count": 86,
   "id": "fe457516",
   "metadata": {},
   "outputs": [],
   "source": [
    "test['words'] = test['ingredients'].apply(lambda x: lem_str(x))"
   ]
  },
  {
   "cell_type": "code",
   "execution_count": 88,
   "id": "d8f9889e",
   "metadata": {},
   "outputs": [],
   "source": [
    "X_train, X_test, y_train, y_test = train_test_split(train['words'], y, test_size=8000, random_state=10)"
   ]
  },
  {
   "cell_type": "code",
   "execution_count": 98,
   "id": "ba96e27f",
   "metadata": {},
   "outputs": [],
   "source": [
    "from sklearn.pipeline import Pipeline\n",
    "from sklearn.svm import SVC\n",
    "pipe = Pipeline([('tfidf', TfidfVectorizer(binary=True)),   \n",
    "               ('svc', SVC(C=3, max_iter=10000, random_state=10))]) # лучшие параметры после подборки"
   ]
  },
  {
   "cell_type": "code",
   "execution_count": 99,
   "id": "58def890",
   "metadata": {},
   "outputs": [
    {
     "data": {
      "text/plain": [
       "Pipeline(steps=[('tfidf', TfidfVectorizer(binary=True)),\n",
       "                ('svc', SVC(C=3, max_iter=10000, random_state=10))])"
      ]
     },
     "execution_count": 99,
     "metadata": {},
     "output_type": "execute_result"
    }
   ],
   "source": [
    "pipe.fit(X_train, y_train)"
   ]
  },
  {
   "cell_type": "code",
   "execution_count": 100,
   "id": "941f9e97",
   "metadata": {},
   "outputs": [
    {
     "name": "stdout",
     "output_type": "stream",
     "text": [
      "0.9947126581481714\n",
      "0.811875\n"
     ]
    }
   ],
   "source": [
    "pred_train = pipe.predict(X_train)\n",
    "pred_test = pipe.predict(X_test)\n",
    "print(accuracy_score(y_train, pred_train))\n",
    "print(accuracy_score(y_test, pred_test))"
   ]
  },
  {
   "cell_type": "code",
   "execution_count": 101,
   "id": "32c3ad45",
   "metadata": {},
   "outputs": [
    {
     "data": {
      "text/plain": [
       "0.8099512802005624"
      ]
     },
     "execution_count": 101,
     "metadata": {},
     "output_type": "execute_result"
    }
   ],
   "source": [
    "cross_val_score(pipe, train['words'], train['cuisine'], cv=5, scoring='accuracy').mean()"
   ]
  },
  {
   "cell_type": "markdown",
   "id": "cf06e736",
   "metadata": {},
   "source": [
    "Kaggle score: 0.81114"
   ]
  },
  {
   "cell_type": "markdown",
   "id": "f7d293e5",
   "metadata": {},
   "source": [
    "работа в pyspark будет сдана Александром Зубковым в отдельном ноутбуке"
   ]
  },
  {
   "cell_type": "code",
   "execution_count": null,
   "id": "f6193775",
   "metadata": {},
   "outputs": [],
   "source": []
  }
 ],
 "metadata": {
  "kernelspec": {
   "display_name": "Python 3",
   "language": "python",
   "name": "python3"
  },
  "language_info": {
   "codemirror_mode": {
    "name": "ipython",
    "version": 3
   },
   "file_extension": ".py",
   "mimetype": "text/x-python",
   "name": "python",
   "nbconvert_exporter": "python",
   "pygments_lexer": "ipython3",
   "version": "3.8.8"
  }
 },
 "nbformat": 4,
 "nbformat_minor": 5
}
