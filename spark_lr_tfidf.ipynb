{
  "nbformat": 4,
  "nbformat_minor": 5,
  "metadata": {
    "kernelspec": {
      "display_name": "Python 3",
      "language": "python",
      "name": "python3"
    },
    "language_info": {
      "codemirror_mode": {
        "name": "ipython",
        "version": 3
      },
      "file_extension": ".py",
      "mimetype": "text/x-python",
      "name": "python",
      "nbconvert_exporter": "python",
      "pygments_lexer": "ipython3",
      "version": "3.8.8"
    },
    "colab": {
      "name": "spark_lr_tfidf",
      "provenance": [],
      "collapsed_sections": [],
      "include_colab_link": true
    }
  },
  "cells": [
    {
      "cell_type": "markdown",
      "metadata": {
        "id": "view-in-github",
        "colab_type": "text"
      },
      "source": [
        "<a href=\"https://colab.research.google.com/github/Verschworer/HSE_ML_final/blob/main/spark_lr_tfidf.ipynb\" target=\"_parent\"><img src=\"https://colab.research.google.com/assets/colab-badge.svg\" alt=\"Open In Colab\"/></a>"
      ]
    },
    {
      "cell_type": "code",
      "metadata": {
        "id": "RdwyxZHa16Su",
        "colab": {
          "resources": {
            "http://localhost:8080/nbextensions/google.colab/files.js": {
              "data": "Ly8gQ29weXJpZ2h0IDIwMTcgR29vZ2xlIExMQwovLwovLyBMaWNlbnNlZCB1bmRlciB0aGUgQXBhY2hlIExpY2Vuc2UsIFZlcnNpb24gMi4wICh0aGUgIkxpY2Vuc2UiKTsKLy8geW91IG1heSBub3QgdXNlIHRoaXMgZmlsZSBleGNlcHQgaW4gY29tcGxpYW5jZSB3aXRoIHRoZSBMaWNlbnNlLgovLyBZb3UgbWF5IG9idGFpbiBhIGNvcHkgb2YgdGhlIExpY2Vuc2UgYXQKLy8KLy8gICAgICBodHRwOi8vd3d3LmFwYWNoZS5vcmcvbGljZW5zZXMvTElDRU5TRS0yLjAKLy8KLy8gVW5sZXNzIHJlcXVpcmVkIGJ5IGFwcGxpY2FibGUgbGF3IG9yIGFncmVlZCB0byBpbiB3cml0aW5nLCBzb2Z0d2FyZQovLyBkaXN0cmlidXRlZCB1bmRlciB0aGUgTGljZW5zZSBpcyBkaXN0cmlidXRlZCBvbiBhbiAiQVMgSVMiIEJBU0lTLAovLyBXSVRIT1VUIFdBUlJBTlRJRVMgT1IgQ09ORElUSU9OUyBPRiBBTlkgS0lORCwgZWl0aGVyIGV4cHJlc3Mgb3IgaW1wbGllZC4KLy8gU2VlIHRoZSBMaWNlbnNlIGZvciB0aGUgc3BlY2lmaWMgbGFuZ3VhZ2UgZ292ZXJuaW5nIHBlcm1pc3Npb25zIGFuZAovLyBsaW1pdGF0aW9ucyB1bmRlciB0aGUgTGljZW5zZS4KCi8qKgogKiBAZmlsZW92ZXJ2aWV3IEhlbHBlcnMgZm9yIGdvb2dsZS5jb2xhYiBQeXRob24gbW9kdWxlLgogKi8KKGZ1bmN0aW9uKHNjb3BlKSB7CmZ1bmN0aW9uIHNwYW4odGV4dCwgc3R5bGVBdHRyaWJ1dGVzID0ge30pIHsKICBjb25zdCBlbGVtZW50ID0gZG9jdW1lbnQuY3JlYXRlRWxlbWVudCgnc3BhbicpOwogIGVsZW1lbnQudGV4dENvbnRlbnQgPSB0ZXh0OwogIGZvciAoY29uc3Qga2V5IG9mIE9iamVjdC5rZXlzKHN0eWxlQXR0cmlidXRlcykpIHsKICAgIGVsZW1lbnQuc3R5bGVba2V5XSA9IHN0eWxlQXR0cmlidXRlc1trZXldOwogIH0KICByZXR1cm4gZWxlbWVudDsKfQoKLy8gTWF4IG51bWJlciBvZiBieXRlcyB3aGljaCB3aWxsIGJlIHVwbG9hZGVkIGF0IGEgdGltZS4KY29uc3QgTUFYX1BBWUxPQURfU0laRSA9IDEwMCAqIDEwMjQ7CgpmdW5jdGlvbiBfdXBsb2FkRmlsZXMoaW5wdXRJZCwgb3V0cHV0SWQpIHsKICBjb25zdCBzdGVwcyA9IHVwbG9hZEZpbGVzU3RlcChpbnB1dElkLCBvdXRwdXRJZCk7CiAgY29uc3Qgb3V0cHV0RWxlbWVudCA9IGRvY3VtZW50LmdldEVsZW1lbnRCeUlkKG91dHB1dElkKTsKICAvLyBDYWNoZSBzdGVwcyBvbiB0aGUgb3V0cHV0RWxlbWVudCB0byBtYWtlIGl0IGF2YWlsYWJsZSBmb3IgdGhlIG5leHQgY2FsbAogIC8vIHRvIHVwbG9hZEZpbGVzQ29udGludWUgZnJvbSBQeXRob24uCiAgb3V0cHV0RWxlbWVudC5zdGVwcyA9IHN0ZXBzOwoKICByZXR1cm4gX3VwbG9hZEZpbGVzQ29udGludWUob3V0cHV0SWQpOwp9CgovLyBUaGlzIGlzIHJvdWdobHkgYW4gYXN5bmMgZ2VuZXJhdG9yIChub3Qgc3VwcG9ydGVkIGluIHRoZSBicm93c2VyIHlldCksCi8vIHdoZXJlIHRoZXJlIGFyZSBtdWx0aXBsZSBhc3luY2hyb25vdXMgc3RlcHMgYW5kIHRoZSBQeXRob24gc2lkZSBpcyBnb2luZwovLyB0byBwb2xsIGZvciBjb21wbGV0aW9uIG9mIGVhY2ggc3RlcC4KLy8gVGhpcyB1c2VzIGEgUHJvbWlzZSB0byBibG9jayB0aGUgcHl0aG9uIHNpZGUgb24gY29tcGxldGlvbiBvZiBlYWNoIHN0ZXAsCi8vIHRoZW4gcGFzc2VzIHRoZSByZXN1bHQgb2YgdGhlIHByZXZpb3VzIHN0ZXAgYXMgdGhlIGlucHV0IHRvIHRoZSBuZXh0IHN0ZXAuCmZ1bmN0aW9uIF91cGxvYWRGaWxlc0NvbnRpbnVlKG91dHB1dElkKSB7CiAgY29uc3Qgb3V0cHV0RWxlbWVudCA9IGRvY3VtZW50LmdldEVsZW1lbnRCeUlkKG91dHB1dElkKTsKICBjb25zdCBzdGVwcyA9IG91dHB1dEVsZW1lbnQuc3RlcHM7CgogIGNvbnN0IG5leHQgPSBzdGVwcy5uZXh0KG91dHB1dEVsZW1lbnQubGFzdFByb21pc2VWYWx1ZSk7CiAgcmV0dXJuIFByb21pc2UucmVzb2x2ZShuZXh0LnZhbHVlLnByb21pc2UpLnRoZW4oKHZhbHVlKSA9PiB7CiAgICAvLyBDYWNoZSB0aGUgbGFzdCBwcm9taXNlIHZhbHVlIHRvIG1ha2UgaXQgYXZhaWxhYmxlIHRvIHRoZSBuZXh0CiAgICAvLyBzdGVwIG9mIHRoZSBnZW5lcmF0b3IuCiAgICBvdXRwdXRFbGVtZW50Lmxhc3RQcm9taXNlVmFsdWUgPSB2YWx1ZTsKICAgIHJldHVybiBuZXh0LnZhbHVlLnJlc3BvbnNlOwogIH0pOwp9CgovKioKICogR2VuZXJhdG9yIGZ1bmN0aW9uIHdoaWNoIGlzIGNhbGxlZCBiZXR3ZWVuIGVhY2ggYXN5bmMgc3RlcCBvZiB0aGUgdXBsb2FkCiAqIHByb2Nlc3MuCiAqIEBwYXJhbSB7c3RyaW5nfSBpbnB1dElkIEVsZW1lbnQgSUQgb2YgdGhlIGlucHV0IGZpbGUgcGlja2VyIGVsZW1lbnQuCiAqIEBwYXJhbSB7c3RyaW5nfSBvdXRwdXRJZCBFbGVtZW50IElEIG9mIHRoZSBvdXRwdXQgZGlzcGxheS4KICogQHJldHVybiB7IUl0ZXJhYmxlPCFPYmplY3Q+fSBJdGVyYWJsZSBvZiBuZXh0IHN0ZXBzLgogKi8KZnVuY3Rpb24qIHVwbG9hZEZpbGVzU3RlcChpbnB1dElkLCBvdXRwdXRJZCkgewogIGNvbnN0IGlucHV0RWxlbWVudCA9IGRvY3VtZW50LmdldEVsZW1lbnRCeUlkKGlucHV0SWQpOwogIGlucHV0RWxlbWVudC5kaXNhYmxlZCA9IGZhbHNlOwoKICBjb25zdCBvdXRwdXRFbGVtZW50ID0gZG9jdW1lbnQuZ2V0RWxlbWVudEJ5SWQob3V0cHV0SWQpOwogIG91dHB1dEVsZW1lbnQuaW5uZXJIVE1MID0gJyc7CgogIGNvbnN0IHBpY2tlZFByb21pc2UgPSBuZXcgUHJvbWlzZSgocmVzb2x2ZSkgPT4gewogICAgaW5wdXRFbGVtZW50LmFkZEV2ZW50TGlzdGVuZXIoJ2NoYW5nZScsIChlKSA9PiB7CiAgICAgIHJlc29sdmUoZS50YXJnZXQuZmlsZXMpOwogICAgfSk7CiAgfSk7CgogIGNvbnN0IGNhbmNlbCA9IGRvY3VtZW50LmNyZWF0ZUVsZW1lbnQoJ2J1dHRvbicpOwogIGlucHV0RWxlbWVudC5wYXJlbnRFbGVtZW50LmFwcGVuZENoaWxkKGNhbmNlbCk7CiAgY2FuY2VsLnRleHRDb250ZW50ID0gJ0NhbmNlbCB1cGxvYWQnOwogIGNvbnN0IGNhbmNlbFByb21pc2UgPSBuZXcgUHJvbWlzZSgocmVzb2x2ZSkgPT4gewogICAgY2FuY2VsLm9uY2xpY2sgPSAoKSA9PiB7CiAgICAgIHJlc29sdmUobnVsbCk7CiAgICB9OwogIH0pOwoKICAvLyBXYWl0IGZvciB0aGUgdXNlciB0byBwaWNrIHRoZSBmaWxlcy4KICBjb25zdCBmaWxlcyA9IHlpZWxkIHsKICAgIHByb21pc2U6IFByb21pc2UucmFjZShbcGlja2VkUHJvbWlzZSwgY2FuY2VsUHJvbWlzZV0pLAogICAgcmVzcG9uc2U6IHsKICAgICAgYWN0aW9uOiAnc3RhcnRpbmcnLAogICAgfQogIH07CgogIGNhbmNlbC5yZW1vdmUoKTsKCiAgLy8gRGlzYWJsZSB0aGUgaW5wdXQgZWxlbWVudCBzaW5jZSBmdXJ0aGVyIHBpY2tzIGFyZSBub3QgYWxsb3dlZC4KICBpbnB1dEVsZW1lbnQuZGlzYWJsZWQgPSB0cnVlOwoKICBpZiAoIWZpbGVzKSB7CiAgICByZXR1cm4gewogICAgICByZXNwb25zZTogewogICAgICAgIGFjdGlvbjogJ2NvbXBsZXRlJywKICAgICAgfQogICAgfTsKICB9CgogIGZvciAoY29uc3QgZmlsZSBvZiBmaWxlcykgewogICAgY29uc3QgbGkgPSBkb2N1bWVudC5jcmVhdGVFbGVtZW50KCdsaScpOwogICAgbGkuYXBwZW5kKHNwYW4oZmlsZS5uYW1lLCB7Zm9udFdlaWdodDogJ2JvbGQnfSkpOwogICAgbGkuYXBwZW5kKHNwYW4oCiAgICAgICAgYCgke2ZpbGUudHlwZSB8fCAnbi9hJ30pIC0gJHtmaWxlLnNpemV9IGJ5dGVzLCBgICsKICAgICAgICBgbGFzdCBtb2RpZmllZDogJHsKICAgICAgICAgICAgZmlsZS5sYXN0TW9kaWZpZWREYXRlID8gZmlsZS5sYXN0TW9kaWZpZWREYXRlLnRvTG9jYWxlRGF0ZVN0cmluZygpIDoKICAgICAgICAgICAgICAgICAgICAgICAgICAgICAgICAgICAgJ24vYSd9IC0gYCkpOwogICAgY29uc3QgcGVyY2VudCA9IHNwYW4oJzAlIGRvbmUnKTsKICAgIGxpLmFwcGVuZENoaWxkKHBlcmNlbnQpOwoKICAgIG91dHB1dEVsZW1lbnQuYXBwZW5kQ2hpbGQobGkpOwoKICAgIGNvbnN0IGZpbGVEYXRhUHJvbWlzZSA9IG5ldyBQcm9taXNlKChyZXNvbHZlKSA9PiB7CiAgICAgIGNvbnN0IHJlYWRlciA9IG5ldyBGaWxlUmVhZGVyKCk7CiAgICAgIHJlYWRlci5vbmxvYWQgPSAoZSkgPT4gewogICAgICAgIHJlc29sdmUoZS50YXJnZXQucmVzdWx0KTsKICAgICAgfTsKICAgICAgcmVhZGVyLnJlYWRBc0FycmF5QnVmZmVyKGZpbGUpOwogICAgfSk7CiAgICAvLyBXYWl0IGZvciB0aGUgZGF0YSB0byBiZSByZWFkeS4KICAgIGxldCBmaWxlRGF0YSA9IHlpZWxkIHsKICAgICAgcHJvbWlzZTogZmlsZURhdGFQcm9taXNlLAogICAgICByZXNwb25zZTogewogICAgICAgIGFjdGlvbjogJ2NvbnRpbnVlJywKICAgICAgfQogICAgfTsKCiAgICAvLyBVc2UgYSBjaHVua2VkIHNlbmRpbmcgdG8gYXZvaWQgbWVzc2FnZSBzaXplIGxpbWl0cy4gU2VlIGIvNjIxMTU2NjAuCiAgICBsZXQgcG9zaXRpb24gPSAwOwogICAgZG8gewogICAgICBjb25zdCBsZW5ndGggPSBNYXRoLm1pbihmaWxlRGF0YS5ieXRlTGVuZ3RoIC0gcG9zaXRpb24sIE1BWF9QQVlMT0FEX1NJWkUpOwogICAgICBjb25zdCBjaHVuayA9IG5ldyBVaW50OEFycmF5KGZpbGVEYXRhLCBwb3NpdGlvbiwgbGVuZ3RoKTsKICAgICAgcG9zaXRpb24gKz0gbGVuZ3RoOwoKICAgICAgY29uc3QgYmFzZTY0ID0gYnRvYShTdHJpbmcuZnJvbUNoYXJDb2RlLmFwcGx5KG51bGwsIGNodW5rKSk7CiAgICAgIHlpZWxkIHsKICAgICAgICByZXNwb25zZTogewogICAgICAgICAgYWN0aW9uOiAnYXBwZW5kJywKICAgICAgICAgIGZpbGU6IGZpbGUubmFtZSwKICAgICAgICAgIGRhdGE6IGJhc2U2NCwKICAgICAgICB9LAogICAgICB9OwoKICAgICAgbGV0IHBlcmNlbnREb25lID0gZmlsZURhdGEuYnl0ZUxlbmd0aCA9PT0gMCA/CiAgICAgICAgICAxMDAgOgogICAgICAgICAgTWF0aC5yb3VuZCgocG9zaXRpb24gLyBmaWxlRGF0YS5ieXRlTGVuZ3RoKSAqIDEwMCk7CiAgICAgIHBlcmNlbnQudGV4dENvbnRlbnQgPSBgJHtwZXJjZW50RG9uZX0lIGRvbmVgOwoKICAgIH0gd2hpbGUgKHBvc2l0aW9uIDwgZmlsZURhdGEuYnl0ZUxlbmd0aCk7CiAgfQoKICAvLyBBbGwgZG9uZS4KICB5aWVsZCB7CiAgICByZXNwb25zZTogewogICAgICBhY3Rpb246ICdjb21wbGV0ZScsCiAgICB9CiAgfTsKfQoKc2NvcGUuZ29vZ2xlID0gc2NvcGUuZ29vZ2xlIHx8IHt9OwpzY29wZS5nb29nbGUuY29sYWIgPSBzY29wZS5nb29nbGUuY29sYWIgfHwge307CnNjb3BlLmdvb2dsZS5jb2xhYi5fZmlsZXMgPSB7CiAgX3VwbG9hZEZpbGVzLAogIF91cGxvYWRGaWxlc0NvbnRpbnVlLAp9Owp9KShzZWxmKTsK",
              "ok": true,
              "headers": [
                [
                  "content-type",
                  "application/javascript"
                ]
              ],
              "status": 200,
              "status_text": "OK"
            }
          },
          "base_uri": "https://localhost:8080/",
          "height": 258
        },
        "outputId": "bad079e1-e785-4eb0-a3fc-d7eae68252cc"
      },
      "source": [
        "! pip install -q kaggle\n",
        "from google.colab import files\n",
        "files.upload()\n",
        "! mkdir ~/.kaggle\n",
        "! cp kaggle.json ~/.kaggle/\n",
        "! chmod 600 ~/.kaggle/kaggle.json\n",
        "! kaggle competitions download -c whats-cooking  "
      ],
      "id": "RdwyxZHa16Su",
      "execution_count": 1,
      "outputs": [
        {
          "output_type": "display_data",
          "data": {
            "text/html": [
              "\n",
              "     <input type=\"file\" id=\"files-b8e1eb33-0bd1-4cfb-a805-298250b7ac2f\" name=\"files[]\" multiple disabled\n",
              "        style=\"border:none\" />\n",
              "     <output id=\"result-b8e1eb33-0bd1-4cfb-a805-298250b7ac2f\">\n",
              "      Upload widget is only available when the cell has been executed in the\n",
              "      current browser session. Please rerun this cell to enable.\n",
              "      </output>\n",
              "      <script src=\"/nbextensions/google.colab/files.js\"></script> "
            ],
            "text/plain": [
              "<IPython.core.display.HTML object>"
            ]
          },
          "metadata": {}
        },
        {
          "output_type": "stream",
          "name": "stdout",
          "text": [
            "Saving kaggle.json to kaggle.json\n",
            "Warning: Looks like you're using an outdated API Version, please consider updating (server 1.5.12 / client 1.5.4)\n",
            "Downloading test.json.zip to /content\n",
            "  0% 0.00/426k [00:00<?, ?B/s]\n",
            "100% 426k/426k [00:00<00:00, 63.9MB/s]\n",
            "Downloading sample_submission.csv.zip to /content\n",
            "  0% 0.00/25.8k [00:00<?, ?B/s]\n",
            "100% 25.8k/25.8k [00:00<00:00, 25.7MB/s]\n",
            "Downloading train.json.zip to /content\n",
            "  0% 0.00/1.76M [00:00<?, ?B/s]\n",
            "100% 1.76M/1.76M [00:00<00:00, 120MB/s]\n"
          ]
        }
      ]
    },
    {
      "cell_type": "markdown",
      "metadata": {
        "id": "3a3f2ff3"
      },
      "source": [
        "### Data"
      ],
      "id": "3a3f2ff3"
    },
    {
      "cell_type": "code",
      "metadata": {
        "id": "dutio5Im1efo",
        "outputId": "13cb144a-8863-4919-be42-58406d3554a0",
        "colab": {
          "base_uri": "https://localhost:8080/"
        }
      },
      "source": [
        "! pip install -q pyspark"
      ],
      "id": "dutio5Im1efo",
      "execution_count": 2,
      "outputs": [
        {
          "output_type": "stream",
          "name": "stdout",
          "text": [
            "\u001b[K     |████████████████████████████████| 281.3 MB 40 kB/s \n",
            "\u001b[K     |████████████████████████████████| 198 kB 79.9 MB/s \n",
            "\u001b[?25h  Building wheel for pyspark (setup.py) ... \u001b[?25l\u001b[?25hdone\n"
          ]
        }
      ]
    },
    {
      "cell_type": "code",
      "metadata": {
        "id": "1bd0552c"
      },
      "source": [
        "# import libraries\n",
        "\n",
        "import pyspark\n",
        "import pyspark.sql.functions as F\n",
        "from pyspark.sql.types import * #JVM типы данных\n",
        "\n",
        "\n",
        "from pyspark import SparkContext, SparkConf\n",
        "from pyspark.sql import SparkSession\n",
        "\n",
        "from pyspark.ml.feature import VectorAssembler, StringIndexer, RegexTokenizer, StopWordsRemover, HashingTF, IDF, IndexToString\n",
        "from pyspark.ml.tuning import CrossValidator, ParamGridBuilder\n",
        "from pyspark.ml import Pipeline\n",
        "\n",
        "from pyspark.ml.evaluation import MulticlassClassificationEvaluator\n",
        "from pyspark.ml.classification import LogisticRegression, GBTClassifier, NaiveBayes, RandomForestClassifier, OneVsRest\n",
        "\n",
        "import numpy as np\n",
        "import pandas as pd\n",
        "\n",
        "\n",
        "import matplotlib.pyplot as plt\n",
        "import seaborn as sns\n",
        "%matplotlib inline"
      ],
      "id": "1bd0552c",
      "execution_count": 3,
      "outputs": []
    },
    {
      "cell_type": "code",
      "metadata": {
        "id": "Mz7BScsw1xfa"
      },
      "source": [
        "# spark up\n",
        "\n",
        "spark = SparkSession.builder.master(\n",
        "    \"local[5]\"\n",
        "    ).appName(\n",
        "    \"team8final\"\n",
        "    ).config(\n",
        "        \"spark.sql.execution.arrow.pyspark.enabled\", \n",
        "        \"true\").getOrCreate()"
      ],
      "id": "Mz7BScsw1xfa",
      "execution_count": 4,
      "outputs": []
    },
    {
      "cell_type": "code",
      "metadata": {
        "colab": {
          "base_uri": "https://localhost:8080/",
          "height": 222
        },
        "id": "I4Zo6cEM2Cup",
        "outputId": "5b01f779-171c-4bf9-b754-e5fd370d5460"
      },
      "source": [
        "spark # spark is alive"
      ],
      "id": "I4Zo6cEM2Cup",
      "execution_count": 5,
      "outputs": [
        {
          "output_type": "execute_result",
          "data": {
            "text/html": [
              "\n",
              "            <div>\n",
              "                <p><b>SparkSession - in-memory</b></p>\n",
              "                \n",
              "        <div>\n",
              "            <p><b>SparkContext</b></p>\n",
              "\n",
              "            <p><a href=\"http://95437210698d:4040\">Spark UI</a></p>\n",
              "\n",
              "            <dl>\n",
              "              <dt>Version</dt>\n",
              "                <dd><code>v3.2.0</code></dd>\n",
              "              <dt>Master</dt>\n",
              "                <dd><code>local[5]</code></dd>\n",
              "              <dt>AppName</dt>\n",
              "                <dd><code>team8final</code></dd>\n",
              "            </dl>\n",
              "        </div>\n",
              "        \n",
              "            </div>\n",
              "        "
            ],
            "text/plain": [
              "<pyspark.sql.session.SparkSession at 0x7f0c34864790>"
            ]
          },
          "metadata": {},
          "execution_count": 5
        }
      ]
    },
    {
      "cell_type": "code",
      "metadata": {
        "id": "s88dr07e3crj",
        "outputId": "7368119d-ff53-4907-e346-ddd4ea4b32dd",
        "colab": {
          "base_uri": "https://localhost:8080/"
        }
      },
      "source": [
        "! unzip '/content/train.json.zip'\n",
        "! unzip '/content/test.json.zip'\n",
        "! unzip '/content/sample_submission.csv.zip'"
      ],
      "id": "s88dr07e3crj",
      "execution_count": 6,
      "outputs": [
        {
          "output_type": "stream",
          "name": "stdout",
          "text": [
            "Archive:  /content/train.json.zip\n",
            "  inflating: train.json              \n",
            "   creating: __MACOSX/\n",
            "  inflating: __MACOSX/._train.json   \n",
            "Archive:  /content/test.json.zip\n",
            "  inflating: test.json               \n",
            "  inflating: __MACOSX/._test.json    \n",
            "Archive:  /content/sample_submission.csv.zip\n",
            "  inflating: sample_submission.csv   \n"
          ]
        }
      ]
    },
    {
      "cell_type": "code",
      "metadata": {
        "colab": {
          "base_uri": "https://localhost:8080/"
        },
        "id": "cPKwJxeL4I6H",
        "outputId": "189815d2-51c9-4351-ea5d-2ae7e3eec02c"
      },
      "source": [
        "# from google.colab import drive\n",
        "# drive.mount('/content/drive')"
      ],
      "id": "cPKwJxeL4I6H",
      "execution_count": null,
      "outputs": [
        {
          "output_type": "stream",
          "name": "stdout",
          "text": [
            "Mounted at /content/drive\n"
          ]
        }
      ]
    },
    {
      "cell_type": "code",
      "metadata": {
        "id": "krpngm9C2d9c"
      },
      "source": [
        "df = spark.read.json('train.json', multiLine=True)"
      ],
      "id": "krpngm9C2d9c",
      "execution_count": 7,
      "outputs": []
    },
    {
      "cell_type": "code",
      "metadata": {
        "colab": {
          "base_uri": "https://localhost:8080/"
        },
        "id": "8Bv-rQcD9iNL",
        "outputId": "5e1f8b5e-323a-4bd7-d175-14d270b0b4a9"
      },
      "source": [
        "print((df.count(), len(df.columns)))"
      ],
      "id": "8Bv-rQcD9iNL",
      "execution_count": 8,
      "outputs": [
        {
          "output_type": "stream",
          "name": "stdout",
          "text": [
            "(39774, 3)\n"
          ]
        }
      ]
    },
    {
      "cell_type": "code",
      "metadata": {
        "colab": {
          "base_uri": "https://localhost:8080/"
        },
        "id": "PrI9qzSy2eFc",
        "outputId": "30632882-cbea-4357-ebb7-0a628e06baeb"
      },
      "source": [
        "df.show()"
      ],
      "id": "PrI9qzSy2eFc",
      "execution_count": 9,
      "outputs": [
        {
          "output_type": "stream",
          "name": "stdout",
          "text": [
            "+-----------+-----+--------------------+\n",
            "|    cuisine|   id|         ingredients|\n",
            "+-----------+-----+--------------------+\n",
            "|      greek|10259|[romaine lettuce,...|\n",
            "|southern_us|25693|[plain flour, gro...|\n",
            "|   filipino|20130|[eggs, pepper, sa...|\n",
            "|     indian|22213|[water, vegetable...|\n",
            "|     indian|13162|[black pepper, sh...|\n",
            "|   jamaican| 6602|[plain flour, sug...|\n",
            "|    spanish|42779|[olive oil, salt,...|\n",
            "|    italian| 3735|[sugar, pistachio...|\n",
            "|    mexican|16903|[olive oil, purpl...|\n",
            "|    italian|12734|[chopped tomatoes...|\n",
            "|    italian| 5875|[pimentos, sweet ...|\n",
            "|    chinese|45887|[low sodium soy s...|\n",
            "|    italian| 2698|[Italian parsley ...|\n",
            "|    mexican|41995|[ground cinnamon,...|\n",
            "|    italian|31908|[fresh parmesan c...|\n",
            "|     indian|24717|[tumeric, vegetab...|\n",
            "|    british|34466|[greek yogurt, le...|\n",
            "|    italian| 1420|[italian seasonin...|\n",
            "|       thai| 2941|[sugar, hot chili...|\n",
            "| vietnamese| 8152|[soy sauce, veget...|\n",
            "+-----------+-----+--------------------+\n",
            "only showing top 20 rows\n",
            "\n"
          ]
        }
      ]
    },
    {
      "cell_type": "code",
      "source": [
        "df.select([F.count(F.when(F.isnull(c), c)).alias(c) for c in df.columns]).show() # check the NULL"
      ],
      "metadata": {
        "colab": {
          "base_uri": "https://localhost:8080/"
        },
        "id": "ZKjkD90WoNO3",
        "outputId": "2ab8d847-3a86-48ef-bb58-b775b8305676"
      },
      "id": "ZKjkD90WoNO3",
      "execution_count": null,
      "outputs": [
        {
          "output_type": "stream",
          "name": "stdout",
          "text": [
            "+-------+---+-----------+\n",
            "|cuisine| id|ingredients|\n",
            "+-------+---+-----------+\n",
            "|      0|  0|          0|\n",
            "+-------+---+-----------+\n",
            "\n"
          ]
        }
      ]
    },
    {
      "cell_type": "code",
      "source": [
        "# check the NaNs\n",
        "df_temp = df.withColumn(\"ingredients\", F.concat_ws(',' ,F.col(\"ingredients\")))\n",
        "df_temp.select([F.count(F.when(F.isnan(c), c)).alias(c) for c in df_temp.columns]).show()\n"
      ],
      "metadata": {
        "colab": {
          "base_uri": "https://localhost:8080/"
        },
        "id": "ue8q8RYej9BM",
        "outputId": "92871b26-fd3f-4dbb-db30-3e2573ab4424"
      },
      "id": "ue8q8RYej9BM",
      "execution_count": 53,
      "outputs": [
        {
          "output_type": "stream",
          "name": "stdout",
          "text": [
            "+-------+---+-----------+\n",
            "|cuisine| id|ingredients|\n",
            "+-------+---+-----------+\n",
            "|      0|  0|          0|\n",
            "+-------+---+-----------+\n",
            "\n"
          ]
        }
      ]
    },
    {
      "cell_type": "code",
      "source": [
        "len(df.select('cuisine').distinct().rdd.map(lambda r: r[0]).collect())"
      ],
      "metadata": {
        "colab": {
          "base_uri": "https://localhost:8080/"
        },
        "id": "t3ZObSQZ6X7H",
        "outputId": "c5dafd13-fe6f-48ab-9525-75124d53a90d"
      },
      "id": "t3ZObSQZ6X7H",
      "execution_count": 54,
      "outputs": [
        {
          "output_type": "execute_result",
          "data": {
            "text/plain": [
              "20"
            ]
          },
          "metadata": {},
          "execution_count": 54
        }
      ]
    },
    {
      "cell_type": "code",
      "source": [
        "df.groupBy('cuisine').count().orderBy('count', ascending=False).show()"
      ],
      "metadata": {
        "id": "urXNjPljj6_t",
        "outputId": "748cd918-0484-4b0a-b453-0d2ffdbd01df",
        "colab": {
          "base_uri": "https://localhost:8080/"
        }
      },
      "id": "urXNjPljj6_t",
      "execution_count": 57,
      "outputs": [
        {
          "output_type": "stream",
          "name": "stdout",
          "text": [
            "+------------+-----+\n",
            "|     cuisine|count|\n",
            "+------------+-----+\n",
            "|     italian| 7838|\n",
            "|     mexican| 6438|\n",
            "| southern_us| 4320|\n",
            "|      indian| 3003|\n",
            "|     chinese| 2673|\n",
            "|      french| 2646|\n",
            "|cajun_creole| 1546|\n",
            "|        thai| 1539|\n",
            "|    japanese| 1423|\n",
            "|       greek| 1175|\n",
            "|     spanish|  989|\n",
            "|      korean|  830|\n",
            "|  vietnamese|  825|\n",
            "|    moroccan|  821|\n",
            "|     british|  804|\n",
            "|    filipino|  755|\n",
            "|       irish|  667|\n",
            "|    jamaican|  526|\n",
            "|     russian|  489|\n",
            "|   brazilian|  467|\n",
            "+------------+-----+\n",
            "\n"
          ]
        }
      ]
    },
    {
      "cell_type": "code",
      "source": [
        "# df.select('cuisine').distinct().rdd.map(lambda r: r[0]).collect()"
      ],
      "metadata": {
        "id": "ldcJaIp4fFW8"
      },
      "id": "ldcJaIp4fFW8",
      "execution_count": null,
      "outputs": []
    },
    {
      "cell_type": "markdown",
      "metadata": {
        "id": "pePAiKwuAdgp"
      },
      "source": [
        "#PREPROCESSING"
      ],
      "id": "pePAiKwuAdgp"
    },
    {
      "cell_type": "code",
      "source": [
        "df_temp = df_temp.withColumn(\"ingredients\", F.lower(F.col(\"ingredients\")))"
      ],
      "metadata": {
        "id": "EbqPw0HoovQ6"
      },
      "id": "EbqPw0HoovQ6",
      "execution_count": null,
      "outputs": []
    },
    {
      "cell_type": "code",
      "source": [
        "spaceDeleteUDF = F.udf(lambda s: s.replace(\" \", \"\"), StringType())\n",
        "df_temp = df_temp.withColumn(\"ingredients\", spaceDeleteUDF(\"ingredients\"))"
      ],
      "metadata": {
        "id": "4I5dY9qbLffK"
      },
      "id": "4I5dY9qbLffK",
      "execution_count": 58,
      "outputs": []
    },
    {
      "cell_type": "code",
      "source": [
        "df_temp.show()"
      ],
      "metadata": {
        "colab": {
          "base_uri": "https://localhost:8080/"
        },
        "id": "leTE1tNVMEhd",
        "outputId": "79f76756-cd85-4dca-d24e-3fc6b49c9bc4"
      },
      "id": "leTE1tNVMEhd",
      "execution_count": 59,
      "outputs": [
        {
          "output_type": "stream",
          "name": "stdout",
          "text": [
            "+-----------+-----+--------------------+\n",
            "|    cuisine|   id|         ingredients|\n",
            "+-----------+-----+--------------------+\n",
            "|      greek|10259|romainelettuce,bl...|\n",
            "|southern_us|25693|plainflour,ground...|\n",
            "|   filipino|20130|eggs,pepper,salt,...|\n",
            "|     indian|22213|water,vegetableoi...|\n",
            "|     indian|13162|blackpepper,shall...|\n",
            "|   jamaican| 6602|plainflour,sugar,...|\n",
            "|    spanish|42779|oliveoil,salt,med...|\n",
            "|    italian| 3735|sugar,pistachionu...|\n",
            "|    mexican|16903|oliveoil,purpleon...|\n",
            "|    italian|12734|choppedtomatoes,f...|\n",
            "|    italian| 5875|pimentos,sweetpep...|\n",
            "|    chinese|45887|lowsodiumsoysauce...|\n",
            "|    italian| 2698|italianparsleylea...|\n",
            "|    mexican|41995|groundcinnamon,fr...|\n",
            "|    italian|31908|freshparmesanchee...|\n",
            "|     indian|24717|tumeric,vegetable...|\n",
            "|    british|34466|greekyogurt,lemon...|\n",
            "|    italian| 1420|italianseasoning,...|\n",
            "|       thai| 2941|sugar,hotchili,as...|\n",
            "| vietnamese| 8152|soysauce,vegetabl...|\n",
            "+-----------+-----+--------------------+\n",
            "only showing top 20 rows\n",
            "\n"
          ]
        }
      ]
    },
    {
      "cell_type": "code",
      "source": [
        "#reg\n",
        "regexTokenizer = RegexTokenizer(inputCol=\"ingredients\", outputCol=\"w_ingredients\", pattern=\"\\\\W\")\n",
        "# stop words\n",
        "stopwords = [\"salt\", \"sugar\", \n",
        "             \"water\"] \n",
        "             #\"pepper\", \"natural\", \"boneless\",\"fresh\", \"red\", \"orange\", \"yellow\", \"green\", \"blue\", \"purple\"] \n",
        "stopwordsRemover = StopWordsRemover(inputCol=\"w_ingredients\", outputCol=\"filtered\").setStopWords(stopwords)\n",
        "#tf-idf\n",
        "hashingTF = HashingTF(inputCol=\"filtered\", outputCol=\"rawFeatures\", numFeatures=6714)\n",
        "idf = IDF(inputCol=\"rawFeatures\", outputCol=\"features\", minDocFreq=3) #minDocFreq: remove sparse terms\n",
        "#labels\n",
        "label_stringIdx = StringIndexer(inputCol = \"cuisine\", outputCol = \"label\")"
      ],
      "metadata": {
        "id": "EQfop2lohxrb"
      },
      "id": "EQfop2lohxrb",
      "execution_count": 60,
      "outputs": []
    },
    {
      "cell_type": "code",
      "source": [
        "pipeline = Pipeline(stages=[ \n",
        "                            regexTokenizer, \n",
        "                            stopwordsRemover, \n",
        "                            hashingTF, \n",
        "                            idf, \n",
        "                            label_stringIdx])\n",
        "\n",
        "pipelineFit = pipeline.fit(df_temp)\n",
        "next_df = pipelineFit.transform(df_temp)"
      ],
      "metadata": {
        "id": "HTTf1Ugf4gKO"
      },
      "id": "HTTf1Ugf4gKO",
      "execution_count": 61,
      "outputs": []
    },
    {
      "cell_type": "code",
      "source": [
        "next_df.show(truncate=False)"
      ],
      "metadata": {
        "colab": {
          "base_uri": "https://localhost:8080/"
        },
        "id": "xJQUg1DE9xYZ",
        "outputId": "5db2b64c-a098-4022-9216-28b5217cda9e"
      },
      "id": "xJQUg1DE9xYZ",
      "execution_count": 62,
      "outputs": [
        {
          "output_type": "stream",
          "name": "stdout",
          "text": [
            "+-----------+-----+----------------------------------------------------------------------------------------------------------------------------------------------------------------------------------------------------------------+-------------------------------------------------------------------------------------------------------------------------------------------------------------------------------------------------------------------------------------+------------------------------------------------------------------------------------------------------------------------------------------------------------------------------------------------------------------------+------------------------------------------------------------------------------------------------------------------------------------------------------------------------+----------------------------------------------------------------------------------------------------------------------------------------------------------------------------------------------------------------------------------------------------------------------------------------------------------------------------------------------------------------------------------------------------------------------------------------+-----+\n",
            "|cuisine    |id   |ingredients                                                                                                                                                                                                     |w_ingredients                                                                                                                                                                                                                        |filtered                                                                                                                                                                                                                |rawFeatures                                                                                                                                                             |features                                                                                                                                                                                                                                                                                                                                                                                                                                |label|\n",
            "+-----------+-----+----------------------------------------------------------------------------------------------------------------------------------------------------------------------------------------------------------------+-------------------------------------------------------------------------------------------------------------------------------------------------------------------------------------------------------------------------------------+------------------------------------------------------------------------------------------------------------------------------------------------------------------------------------------------------------------------+------------------------------------------------------------------------------------------------------------------------------------------------------------------------+----------------------------------------------------------------------------------------------------------------------------------------------------------------------------------------------------------------------------------------------------------------------------------------------------------------------------------------------------------------------------------------------------------------------------------------+-----+\n",
            "|greek      |10259|romainelettuce,blackolives,grapetomatoes,garlic,pepper,purpleonion,seasoning,garbanzobeans,fetacheesecrumbles                                                                                                   |[romainelettuce, blackolives, grapetomatoes, garlic, pepper, purpleonion, seasoning, garbanzobeans, fetacheesecrumbles]                                                                                                              |[romainelettuce, blackolives, grapetomatoes, garlic, pepper, purpleonion, seasoning, garbanzobeans, fetacheesecrumbles]                                                                                                 |(6714,[522,1055,2903,3409,3809,3872,5225,6206,6579],[1.0,1.0,1.0,1.0,1.0,1.0,1.0,1.0,1.0])                                                                              |(6714,[522,1055,2903,3409,3809,3872,5225,6206,6579],[4.966976347018649,2.191908750270079,4.60454184792155,5.118723179534513,5.5870475472605285,3.029352107617208,5.522089650985756,1.6841939696160437,5.08160551657801])                                                                                                                                                                                                                |9.0  |\n",
            "|southern_us|25693|plainflour,groundpepper,salt,tomatoes,groundblackpepper,thyme,eggs,greentomatoes,yellowcornmeal,milk,vegetableoil                                                                                               |[plainflour, groundpepper, salt, tomatoes, groundblackpepper, thyme, eggs, greentomatoes, yellowcornmeal, milk, vegetableoil]                                                                                                        |[plainflour, groundpepper, tomatoes, groundblackpepper, thyme, eggs, greentomatoes, yellowcornmeal, milk, vegetableoil]                                                                                                 |(6714,[565,786,1840,2035,2080,2323,2865,2967,3960,4203],[1.0,1.0,1.0,1.0,1.0,1.0,1.0,1.0,1.0,1.0])                                                                      |(6714,[565,786,1840,2035,2080,2323,2865,2967,3960,4203],[4.747449436174628,5.899645970976844,5.547568736286741,2.847290595032234,3.5339568715080962,4.699349641380216,2.5138572146675338,2.2048209242281542,2.117752549318933,2.461818856294194])                                                                                                                                                                                       |2.0  |\n",
            "|filipino   |20130|eggs,pepper,salt,mayonaise,cookingoil,greenchilies,grilledchickenbreasts,garlicpowder,yellowonion,soysauce,butter,chickenlivers                                                                                 |[eggs, pepper, salt, mayonaise, cookingoil, greenchilies, grilledchickenbreasts, garlicpowder, yellowonion, soysauce, butter, chickenlivers]                                                                                         |[eggs, pepper, mayonaise, cookingoil, greenchilies, grilledchickenbreasts, garlicpowder, yellowonion, soysauce, butter, chickenlivers]                                                                                  |(6714,[466,1055,1798,2080,2681,3178,3598,4203,5224,5650,5870],[1.0,1.0,1.0,1.0,1.0,1.0,1.0,1.0,1.0,1.0,1.0])                                                            |(6714,[466,1055,1798,2080,2681,3178,3598,4203,5224,5650,5870],[4.40067844735284,2.191908750270079,3.308920195112523,3.5339568715080962,7.700622095309823,3.513495799636756,3.925310135423579,2.461818856294194,5.786972808472731,2.4902256101342566,2.0989133626048257])                                                                                                                                                                |15.0 |\n",
            "|indian     |22213|water,vegetableoil,wheat,salt                                                                                                                                                                                   |[water, vegetableoil, wheat, salt]                                                                                                                                                                                                   |[vegetableoil, wheat]                                                                                                                                                                                                   |(6714,[2967,5689],[1.0,1.0])                                                                                                                                            |(6714,[2967,5689],[2.2048209242281542,7.094486291739507])                                                                                                                                                                                                                                                                                                                                                                               |3.0  |\n",
            "|indian     |13162|blackpepper,shallots,cornflour,cayennepepper,onions,garlicpaste,milk,butter,salt,lemonjuice,water,chilipowder,passata,oil,groundcumin,bonelesschickenskinlessthigh,garammasala,doublecream,naturalyogurt,bayleaf|[blackpepper, shallots, cornflour, cayennepepper, onions, garlicpaste, milk, butter, salt, lemonjuice, water, chilipowder, passata, oil, groundcumin, bonelesschickenskinlessthigh, garammasala, doublecream, naturalyogurt, bayleaf]|[blackpepper, shallots, cornflour, cayennepepper, onions, garlicpaste, milk, butter, lemonjuice, chilipowder, passata, oil, groundcumin, bonelesschickenskinlessthigh, garammasala, doublecream, naturalyogurt, bayleaf]|(6714,[77,432,851,1097,1181,1507,2035,2204,2205,2866,3897,4230,4270,4404,5151,5195,5870,6056],[1.0,1.0,1.0,1.0,1.0,1.0,1.0,1.0,1.0,1.0,1.0,1.0,1.0,1.0,1.0,1.0,1.0,1.0])|(6714,[77,432,851,1097,1181,1507,2035,2204,2205,2866,3897,4230,4270,4404,5151,5195,5870,6056],[3.756885114392149,2.71397595758359,2.9043725182613676,7.412940022858042,5.455195416155726,3.232800100472955,2.847290595032234,4.873966151799766,3.8575919613686285,2.672001365040742,1.6071777407034922,4.747449436174628,3.2925487516978404,6.762352456716893,7.295156987201659,2.971760436979182,2.0989133626048257,3.350344158950522])|3.0  |\n",
            "|jamaican   |6602 |plainflour,sugar,butter,eggs,freshgingerroot,salt,groundcinnamon,milk,vanillaextract,groundginger,powderedsugar,bakingpowder                                                                                    |[plainflour, sugar, butter, eggs, freshgingerroot, salt, groundcinnamon, milk, vanillaextract, groundginger, powderedsugar, bakingpowder]                                                                                            |[plainflour, butter, eggs, freshgingerroot, groundcinnamon, milk, vanillaextract, groundginger, powderedsugar, bakingpowder]                                                                                            |(6714,[139,335,1840,2035,2445,3481,4203,4488,4788,5870],[1.0,1.0,1.0,1.0,1.0,1.0,1.0,1.0,1.0,1.0])                                                                      |(6714,[139,335,1840,2035,2445,3481,4203,4488,4788,5870],[3.453715415945602,4.764993745825537,5.547568736286741,2.847290595032234,3.421643836535388,4.068901055035835,2.461818856294194,4.341018610946505,2.965886704967088,2.0989133626048257])                                                                                                                                                                                         |17.0 |\n",
            "|spanish    |42779|oliveoil,salt,mediumshrimp,pepper,garlic,choppedcilantro,jalapenochilies,flatleafparsley,skirtsteak,whitevinegar,seasalt,bayleaf,chorizosausage                                                                 |[oliveoil, salt, mediumshrimp, pepper, garlic, choppedcilantro, jalapenochilies, flatleafparsley, skirtsteak, whitevinegar, seasalt, bayleaf, chorizosausage]                                                                        |[oliveoil, mediumshrimp, pepper, garlic, choppedcilantro, jalapenochilies, flatleafparsley, skirtsteak, whitevinegar, seasalt, bayleaf, chorizosausage]                                                                 |(6714,[442,481,622,1055,1519,2205,2225,2377,2540,2834,4254,6206],[1.0,1.0,1.0,1.0,1.0,1.0,1.0,1.0,1.0,1.0,1.0,1.0])                                                     |(6714,[442,481,622,1055,1519,2205,2225,2377,2540,2834,4254,6206],[3.1345392980297784,6.148342596715671,3.441862254648581,2.191908750270079,4.272025739459553,3.8575919613686285,4.455428962124249,1.4158662369855493,3.5924842109553863,5.890513487413571,3.8683640583505396,1.6841939696160437])                                                                                                                                       |10.0 |\n",
            "|italian    |3735 |sugar,pistachionuts,whitealmondbark,flour,vanillaextract,oliveoil,almondextract,eggs,bakingpowder,driedcranberries                                                                                              |[sugar, pistachionuts, whitealmondbark, flour, vanillaextract, oliveoil, almondextract, eggs, bakingpowder, driedcranberries]                                                                                                        |[pistachionuts, whitealmondbark, flour, vanillaextract, oliveoil, almondextract, eggs, bakingpowder, driedcranberries]                                                                                                  |(6714,[1578,1644,2252,2377,2445,3862,4203,4673,4788],[1.0,1.0,1.0,1.0,1.0,1.0,1.0,1.0,1.0])                                                                             |(6714,[1578,1644,2252,2377,2445,3862,4203,4673,4788],[7.372118028337787,8.981555940771887,5.381507700364566,1.4158662369855493,3.421643836535388,6.273505739669678,2.461818856294194,3.1514345440726683,2.965886704967088])                                                                                                                                                                                                             |0.0  |\n",
            "|mexican    |16903|oliveoil,purpleonion,freshpineapple,pork,poblanopeppers,corntortillas,cheddarcheese,groundblackpepper,salt,iceberglettuce,lime,jalapenochilies,choppedcilantrofresh                                             |[oliveoil, purpleonion, freshpineapple, pork, poblanopeppers, corntortillas, cheddarcheese, groundblackpepper, salt, iceberglettuce, lime, jalapenochilies, choppedcilantrofresh]                                                    |[oliveoil, purpleonion, freshpineapple, pork, poblanopeppers, corntortillas, cheddarcheese, groundblackpepper, iceberglettuce, lime, jalapenochilies, choppedcilantrofresh]                                             |(6714,[429,442,560,792,1415,2377,3872,3960,4234,4628,5219,5575],[1.0,1.0,1.0,1.0,1.0,1.0,1.0,1.0,1.0,1.0,1.0,1.0])                                                      |(6714,[429,442,560,792,1415,2377,3872,3960,4234,4628,5219,5575],[3.7178300189934697,3.1345392980297784,5.473000040789232,2.985103852152866,4.341018610946505,1.4158662369855493,3.029352107617208,2.117752549318933,4.8838835884571115,5.803502110423942,3.313746126574504,6.530550842659569])                                                                                                                                          |1.0  |\n",
            "|italian    |12734|choppedtomatoes,freshbasil,garlic,extra-virginoliveoil,koshersalt,flatleafparsley                                                                                                                               |[choppedtomatoes, freshbasil, garlic, extra, virginoliveoil, koshersalt, flatleafparsley]                                                                                                                                            |[choppedtomatoes, freshbasil, garlic, extra, virginoliveoil, koshersalt, flatleafparsley]                                                                                                                               |(6714,[2411,2473,2540,4066,4706,6206,6207],[1.0,1.0,1.0,1.0,1.0,1.0,1.0])                                                                                               |(6714,[2411,2473,2540,4066,4706,6206,6207],[2.504275932902082,4.890550279815301,3.5924842109553863,3.3283652522317464,2.668007894494792,1.6841939696160437,2.669821131618973])                                                                                                                                                                                                                                                          |0.0  |\n",
            "|italian    |5875 |pimentos,sweetpepper,driedoregano,oliveoil,garlic,sharpcheddarcheese,pepper,swisscheese,provolonecheese,canolaoil,mushrooms,blackolives,sausages                                                                |[pimentos, sweetpepper, driedoregano, oliveoil, garlic, sharpcheddarcheese, pepper, swisscheese, provolonecheese, canolaoil, mushrooms, blackolives, sausages]                                                                       |[pimentos, sweetpepper, driedoregano, oliveoil, garlic, sharpcheddarcheese, pepper, swisscheese, provolonecheese, canolaoil, mushrooms, blackolives, sausages]                                                          |(6714,[524,1055,1777,2231,2377,2757,3100,5455,5759,5993,6206,6579,6650],[1.0,1.0,1.0,1.0,1.0,1.0,1.0,1.0,1.0,1.0,1.0,1.0,1.0])                                          |(6714,[524,1055,1777,2231,2377,2757,3100,5455,5759,5993,6206,6579,6650],[5.685719074767558,2.191908750270079,2.9702887663677253,5.338720425159358,1.4158662369855493,4.215969033377891,4.348770587750822,3.1196307650188904,3.106063569916326,6.371486148029881,1.6841939696160437,5.08160551657801,6.496649290983886])                                                                                                                 |0.0  |\n",
            "|chinese    |45887|lowsodiumsoysauce,freshginger,drymustard,greenbeans,whitepepper,sesameoil,scallions,canolaoil,sugar,shaoxingwine,garlic,groundturkey,water,crushedredpepperflakes,cornstarch                                    |[lowsodiumsoysauce, freshginger, drymustard, greenbeans, whitepepper, sesameoil, scallions, canolaoil, sugar, shaoxingwine, garlic, groundturkey, water, crushedredpepperflakes, cornstarch]                                         |[lowsodiumsoysauce, freshginger, drymustard, greenbeans, whitepepper, sesameoil, scallions, canolaoil, shaoxingwine, garlic, groundturkey, crushedredpepperflakes, cornstarch]                                          |(6714,[144,293,792,1263,1574,1777,1950,2377,4865,5033,5759,6198,6206],[1.0,1.0,1.0,1.0,1.0,1.0,1.0,1.0,1.0,1.0,1.0,1.0,1.0])                                            |(6714,[144,293,792,1263,1574,1777,1950,2377,4865,5033,5759,6198,6206],[3.2751103486962023,3.1173567447097814,2.985103852152866,4.536554506936617,4.364457183918522,2.9702887663677253,5.338720425159358,1.4158662369855493,4.756183116143382,5.479006064849444,3.106063569916326,4.50421912629368,1.6841939696160437])                                                                                                                  |4.0  |\n",
            "|italian    |2698 |italianparsleyleaves,walnuts,hotredpepperflakes,extra-virginoliveoil,freshlemonjuice,troutfillet,garliccloves,chipotlechile,fineseasalt,flatleafparsley                                                         |[italianparsleyleaves, walnuts, hotredpepperflakes, extra, virginoliveoil, freshlemonjuice, troutfillet, garliccloves, chipotlechile, fineseasalt, flatleafparsley]                                                                  |[italianparsleyleaves, walnuts, hotredpepperflakes, extra, virginoliveoil, freshlemonjuice, troutfillet, garliccloves, chipotlechile, fineseasalt, flatleafparsley]                                                     |(6714,[74,388,926,1891,2540,3579,4466,4706,4790,6012,6207],[1.0,1.0,1.0,1.0,1.0,1.0,1.0,1.0,1.0,1.0,1.0])                                                               |(6714,[74,388,926,1891,2540,3579,4466,4706,4790,6012,6207],[7.818405130966206,5.461095138282914,4.877261047696618,5.7468067667473965,3.5924842109553863,3.164444780808683,5.443499376392535,2.668007894494792,1.8493779289771601,4.988875032326287,2.669821131618973])                                                                                                                                                                  |0.0  |\n",
            "|mexican    |41995|groundcinnamon,freshcilantro,chilipowder,groundcoriander,koshersalt,groundblackpepper,garlic,plumtomatoes,avocado,limejuice,flanksteak,salt,groundcumin,blackpepper,oliveoil,crushedredpepperflakes,onions      |[groundcinnamon, freshcilantro, chilipowder, groundcoriander, koshersalt, groundblackpepper, garlic, plumtomatoes, avocado, limejuice, flanksteak, salt, groundcumin, blackpepper, oliveoil, crushedredpepperflakes, onions]         |[groundcinnamon, freshcilantro, chilipowder, groundcoriander, koshersalt, groundblackpepper, garlic, plumtomatoes, avocado, limejuice, flanksteak, groundcumin, blackpepper, oliveoil, crushedredpepperflakes, onions]  |(6714,[139,432,1574,1648,2372,2377,2411,2429,2866,3479,3897,3960,5195,5890,6018,6206],[1.0,1.0,1.0,1.0,1.0,1.0,1.0,1.0,1.0,1.0,1.0,1.0,1.0,1.0,1.0,1.0])                |(6714,[139,432,1574,1648,2372,2377,2411,2429,2866,3479,3897,3960,5195,5890,6018,6206],[3.453715415945602,2.71397595758359,4.364457183918522,3.8271089446435522,3.8552138389636608,1.4158662369855493,2.504275932902082,5.018839821028223,2.672001365040742,3.9051329061376285,1.6071777407034922,2.117752549318933,2.971760436979182,3.4762244048395243,3.6072038879478527,1.6841939696160437])                                         |1.0  |\n",
            "|italian    |31908|freshparmesancheese,butter,all-purposeflour,fatfreelesssodiumchickenbroth,choppedfreshchives,gruyerecheese,groundblackpepper,baconslices,gnocchi,fatfreemilk,cookingspray,salt                                  |[freshparmesancheese, butter, all, purposeflour, fatfreelesssodiumchickenbroth, choppedfreshchives, gruyerecheese, groundblackpepper, baconslices, gnocchi, fatfreemilk, cookingspray, salt]                                         |[freshparmesancheese, butter, all, purposeflour, fatfreelesssodiumchickenbroth, choppedfreshchives, gruyerecheese, groundblackpepper, baconslices, gnocchi, fatfreemilk, cookingspray]                                  |(6714,[360,1185,1205,2094,2359,2547,2646,2768,2831,3960,5828,5870],[1.0,1.0,1.0,1.0,1.0,1.0,1.0,1.0,1.0,1.0,1.0,1.0])                                                   |(6714,[360,1185,1205,2094,2359,2547,2646,2768,2831,3960,5828,5870],[5.229701687496562,5.966021039921716,4.342950978697559,2.1496023752060323,3.281112367381201,5.157271849651748,2.149818148213666,6.5479425853714375,4.931511637446366,2.117752549318933,5.685719074767558,2.0989133626048257])                                                                                                                                        |0.0  |\n",
            "|indian     |24717|tumeric,vegetablestock,tomatoes,garammasala,naan,redlentils,redchilipeppers,onions,spinach,sweetpotatoes                                                                                                        |[tumeric, vegetablestock, tomatoes, garammasala, naan, redlentils, redchilipeppers, onions, spinach, sweetpotatoes]                                                                                                                  |[tumeric, vegetablestock, tomatoes, garammasala, naan, redlentils, redchilipeppers, onions, spinach, sweetpotatoes]                                                                                                     |(6714,[77,823,1785,2153,2230,2271,2463,2865,3897,6204],[1.0,1.0,1.0,1.0,1.0,1.0,1.0,1.0,1.0,1.0])                                                                       |(6714,[77,823,1785,2153,2230,2271,2463,2865,3897,6204],[3.756885114392149,4.118647558705087,6.829793737512425,4.337165041630515,3.985695932257786,5.328303664301102,4.4511093009797325,2.5138572146675338,1.6071777407034922,5.881463651893654])                                                                                                                                                                                        |3.0  |\n",
            "|british    |34466|greekyogurt,lemoncurd,confectionerssugar,raspberries                                                                                                                                                            |[greekyogurt, lemoncurd, confectionerssugar, raspberries]                                                                                                                                                                            |[greekyogurt, lemoncurd, confectionerssugar, raspberries]                                                                                                                                                               |(6714,[229,2151,2165,5124],[1.0,1.0,1.0,1.0])                                                                                                                           |(6714,[229,2151,2165,5124],[4.440391084759709,5.135672737848286,5.152914544282792,6.184274605941734])                                                                                                                                                                                                                                                                                                                                   |14.0 |\n",
            "|italian    |1420 |italianseasoning,broiler-fryerchicken,mayonaise,zestyitaliandressing                                                                                                                                            |[italianseasoning, broiler, fryerchicken, mayonaise, zestyitaliandressing]                                                                                                                                                           |[italianseasoning, broiler, fryerchicken, mayonaise, zestyitaliandressing]                                                                                                                                              |(6714,[2672,3216,3598,3701,5987],[1.0,1.0,1.0,1.0,1.0])                                                                                                                 |(6714,[2672,3216,3598,3701,5987],[8.106087203417987,7.595261579651996,3.925310135423579,6.806804219287726,4.529536934277971])                                                                                                                                                                                                                                                                                                           |0.0  |\n",
            "|thai       |2941 |sugar,hotchili,asianfishsauce,limejuice                                                                                                                                                                         |[sugar, hotchili, asianfishsauce, limejuice]                                                                                                                                                                                         |[hotchili, asianfishsauce, limejuice]                                                                                                                                                                                   |(6714,[1135,3863,6018],[1.0,1.0,1.0])                                                                                                                                   |(6714,[1135,3863,6018],[4.699349641380216,5.522089650985756,3.6072038879478527])                                                                                                                                                                                                                                                                                                                                                        |7.0  |\n",
            "|vietnamese |8152 |soysauce,vegetableoil,redbellpepper,chickenbroth,yellowsquash,garlicchilisauce,slicedgreenonions,broccolini,salt,freshlimejuice,cookedrice,chickenbreasts,cornstarch                                            |[soysauce, vegetableoil, redbellpepper, chickenbroth, yellowsquash, garlicchilisauce, slicedgreenonions, broccolini, salt, freshlimejuice, cookedrice, chickenbreasts, cornstarch]                                                   |[soysauce, vegetableoil, redbellpepper, chickenbroth, yellowsquash, garlicchilisauce, slicedgreenonions, broccolini, freshlimejuice, cookedrice, chickenbreasts, cornstarch]                                            |(6714,[293,1225,1515,2619,2967,3004,3149,3816,4632,4812,5439,5650],[1.0,1.0,1.0,1.0,1.0,1.0,1.0,1.0,1.0,1.0,1.0,1.0])                                                   |(6714,[293,1225,1515,2619,2967,3004,3149,3816,4632,4812,5439,5650],[3.1173567447097814,5.803502110423942,4.431898464714054,3.913910391958852,2.2048209242281542,3.239193984148211,7.455499637276838,5.567113332359711,3.2404776813719893,4.6248471140822955,3.0133600206032596,2.4902256101342566])                                                                                                                                     |12.0 |\n",
            "+-----------+-----+----------------------------------------------------------------------------------------------------------------------------------------------------------------------------------------------------------------+-------------------------------------------------------------------------------------------------------------------------------------------------------------------------------------------------------------------------------------+------------------------------------------------------------------------------------------------------------------------------------------------------------------------------------------------------------------------+------------------------------------------------------------------------------------------------------------------------------------------------------------------------+----------------------------------------------------------------------------------------------------------------------------------------------------------------------------------------------------------------------------------------------------------------------------------------------------------------------------------------------------------------------------------------------------------------------------------------+-----+\n",
            "only showing top 20 rows\n",
            "\n"
          ]
        }
      ]
    },
    {
      "cell_type": "markdown",
      "metadata": {
        "id": "diFcNP04QPA5"
      },
      "source": [
        "#ML FLOW"
      ],
      "id": "diFcNP04QPA5"
    },
    {
      "cell_type": "markdown",
      "source": [
        "https://towardsdatascience.com/multi-class-text-classification-with-pyspark-7d78d022ed35"
      ],
      "metadata": {
        "id": "56gNRTzO838q"
      },
      "id": "56gNRTzO838q"
    },
    {
      "cell_type": "code",
      "source": [
        "(trainingData, testData) = next_df.randomSplit([0.7, 0.3], seed = 8)\n",
        "\n",
        "print(\"We have %d training examples and %d test examples.\" % (trainingData.count(), testData.count()))"
      ],
      "metadata": {
        "colab": {
          "base_uri": "https://localhost:8080/"
        },
        "id": "8DQGbSI65GBF",
        "outputId": "705fba50-bfb9-4c17-e4e8-7922e7594a1c"
      },
      "id": "8DQGbSI65GBF",
      "execution_count": 63,
      "outputs": [
        {
          "output_type": "stream",
          "name": "stdout",
          "text": [
            "We have 27961 training examples and 11813 test examples.\n"
          ]
        }
      ]
    },
    {
      "cell_type": "code",
      "source": [
        "lr = LogisticRegression(maxIter=40, regParam=0.2, elasticNetParam=0, tol=1E-6, fitIntercept=True) # tol=1E-6, fitIntercept=True\n",
        "lrModel = lr.fit(trainingData)\n",
        "predictions = lrModel.transform(testData)"
      ],
      "metadata": {
        "id": "iuES7UYP5QcG"
      },
      "id": "iuES7UYP5QcG",
      "execution_count": 64,
      "outputs": []
    },
    {
      "cell_type": "code",
      "source": [
        "evaluator = MulticlassClassificationEvaluator(predictionCol=\"prediction\", metricName=\"accuracy\") # metricName=\"accuracy\"\n",
        "evaluator.evaluate(predictions)"
      ],
      "metadata": {
        "colab": {
          "base_uri": "https://localhost:8080/"
        },
        "id": "MWzhwb5p5Qe5",
        "outputId": "5936a419-5914-4490-c313-ac5c20956951"
      },
      "id": "MWzhwb5p5Qe5",
      "execution_count": 65,
      "outputs": [
        {
          "output_type": "execute_result",
          "data": {
            "text/plain": [
              "0.7100651824261407"
            ]
          },
          "metadata": {},
          "execution_count": 65
        }
      ]
    },
    {
      "cell_type": "code",
      "source": [
        "ovr = OneVsRest(classifier=lr)"
      ],
      "metadata": {
        "id": "jElN5RB3bedv"
      },
      "id": "jElN5RB3bedv",
      "execution_count": 67,
      "outputs": []
    },
    {
      "cell_type": "code",
      "source": [
        "ovrModel = ovr.fit(trainingData)\n",
        "ovr_predictions = ovrModel.transform(testData)\n",
        "evaluator.evaluate(ovr_predictions)"
      ],
      "metadata": {
        "id": "vVku0TCubgVd",
        "outputId": "1e25af04-349f-4e75-9611-90e6758d607c",
        "colab": {
          "base_uri": "https://localhost:8080/"
        }
      },
      "id": "vVku0TCubgVd",
      "execution_count": 68,
      "outputs": [
        {
          "output_type": "execute_result",
          "data": {
            "text/plain": [
              "0.7010920172691103"
            ]
          },
          "metadata": {},
          "execution_count": 68
        }
      ]
    },
    {
      "cell_type": "code",
      "source": [
        "sub_df = spark.read.json('test.json', multiLine=True)\n",
        "sub_df_temp = sub_df.withColumn(\"ingredients\", F.concat_ws(',' ,F.col(\"ingredients\")))\n",
        "sub_df_temp = sub_df_temp.withColumn(\"ingredients\", F.lower(F.col(\"ingredients\")))\n",
        "sub_df_temp = sub_df_temp.withColumn(\"ingredients\", spaceDeleteUDF(\"ingredients\"))"
      ],
      "metadata": {
        "id": "1XvAIn8p5QiG"
      },
      "id": "1XvAIn8p5QiG",
      "execution_count": 71,
      "outputs": []
    },
    {
      "cell_type": "code",
      "source": [
        "sub_df_temp.show()"
      ],
      "metadata": {
        "colab": {
          "base_uri": "https://localhost:8080/"
        },
        "id": "jdBpNgyZRfZR",
        "outputId": "a0813402-4317-422c-dbab-b34a7f1b741b"
      },
      "id": "jdBpNgyZRfZR",
      "execution_count": 72,
      "outputs": [
        {
          "output_type": "stream",
          "name": "stdout",
          "text": [
            "+-----+--------------------+\n",
            "|   id|         ingredients|\n",
            "+-----+--------------------+\n",
            "|18009|bakingpowder,eggs...|\n",
            "|28583|sugar,eggyolks,co...|\n",
            "|41580|sausagelinks,fenn...|\n",
            "|29752|meatcuts,filepowd...|\n",
            "|35687|groundblackpepper...|\n",
            "|38527|bakingpowder,all-...|\n",
            "|19666|grapejuice,orange...|\n",
            "|41217|groundginger,whit...|\n",
            "|28753|dicedonions,tacos...|\n",
            "|22659|eggs,cherries,dat...|\n",
            "|21749|pasta,oliveoil,cr...|\n",
            "|44967|water,butter,grou...|\n",
            "|42969|currypowder,groun...|\n",
            "|44883|pasta,marinarasau...|\n",
            "|20827|salt,custardpowde...|\n",
            "|23196|vegetableoilcooki...|\n",
            "|35387|vanillaicecream,b...|\n",
            "|33780|molasses,hotsauce...|\n",
            "|19001|choppedgreenchili...|\n",
            "|16526|coldwater,chicken...|\n",
            "+-----+--------------------+\n",
            "only showing top 20 rows\n",
            "\n"
          ]
        }
      ]
    },
    {
      "cell_type": "code",
      "source": [
        "pipeline_sub = Pipeline(stages=[ \n",
        "                            regexTokenizer, \n",
        "                            stopwordsRemover, \n",
        "                            hashingTF, \n",
        "                            idf])#, \n",
        "                            #label_stringIdx])\n",
        "\n",
        "pipelineFit_sub = pipeline_sub.fit(sub_df_temp)\n",
        "next_df_sub = pipelineFit_sub.transform(sub_df_temp)"
      ],
      "metadata": {
        "id": "b3Cv52aO5Qkh"
      },
      "id": "b3Cv52aO5Qkh",
      "execution_count": 73,
      "outputs": []
    },
    {
      "cell_type": "code",
      "metadata": {
        "id": "-VsZsXz0CIIJ"
      },
      "source": [
        "lrModel2 = lr.fit(next_df)\n",
        "predictions = lrModel.transform(next_df_sub)"
      ],
      "id": "-VsZsXz0CIIJ",
      "execution_count": 74,
      "outputs": []
    },
    {
      "cell_type": "code",
      "source": [
        ""
      ],
      "metadata": {
        "id": "2jqQkc0t7sNM"
      },
      "id": "2jqQkc0t7sNM",
      "execution_count": 75,
      "outputs": []
    },
    {
      "cell_type": "code",
      "source": [
        "idx_to_string = IndexToString(\n",
        "    inputCol=\"prediction\", outputCol=\"cuisine\", labels=pipelineFit.stages[4].labels)\n",
        "\n",
        "\n",
        "idx_to_string.transform(predictions).show()"
      ],
      "metadata": {
        "colab": {
          "base_uri": "https://localhost:8080/"
        },
        "id": "GkOuCB2_7sQo",
        "outputId": "3b81fc34-5b8d-4e1f-c204-ccaf75b40e6e"
      },
      "id": "GkOuCB2_7sQo",
      "execution_count": 76,
      "outputs": [
        {
          "output_type": "stream",
          "name": "stdout",
          "text": [
            "+-----+--------------------+--------------------+--------------------+--------------------+--------------------+--------------------+--------------------+----------+------------+\n",
            "|   id|         ingredients|       w_ingredients|            filtered|         rawFeatures|            features|       rawPrediction|         probability|prediction|     cuisine|\n",
            "+-----+--------------------+--------------------+--------------------+--------------------+--------------------+--------------------+--------------------+----------+------------+\n",
            "|18009|bakingpowder,eggs...|[bakingpowder, eg...|[bakingpowder, eg...|(6714,[2035,2094,...|(6714,[2035,2094,...|[1.39607798079871...|[0.14973464235658...|       2.0| southern_us|\n",
            "|28583|sugar,eggyolks,co...|[sugar, eggyolks,...|[eggyolks, cornst...|(6714,[293,395,20...|(6714,[293,395,20...|[0.59532446955817...|[0.04053066911259...|       2.0| southern_us|\n",
            "|41580|sausagelinks,fenn...|[sausagelinks, fe...|[sausagelinks, fe...|(6714,[1654,2377,...|(6714,[1654,2377,...|[2.02266952316689...|[0.26569680220973...|       0.0|     italian|\n",
            "|29752|meatcuts,filepowd...|[meatcuts, filepo...|[meatcuts, filepo...|(6714,[149,307,16...|(6714,[149,307,16...|[-0.3237931243016...|[0.00115262026368...|       6.0|cajun_creole|\n",
            "|35687|groundblackpepper...|[groundblackpeppe...|[groundblackpeppe...|(6714,[68,3185,39...|(6714,[68,3185,39...|[3.47775643342331...|[0.61608907653714...|       0.0|     italian|\n",
            "|38527|bakingpowder,all-...|[bakingpowder, al...|[bakingpowder, al...|(6714,[293,2094,2...|(6714,[293,2094,2...|[1.57096395833429...|[0.14460262924527...|       2.0| southern_us|\n",
            "|19666|grapejuice,orange...|[grapejuice, oran...|[grapejuice, oran...|(6714,[1421,5282,...|(6714,[1421,5282,...|[1.23600225810966...|[0.09539395871254...|       5.0|      french|\n",
            "|41217|groundginger,whit...|[groundginger, wh...|[groundginger, wh...|(6714,[293,1057,1...|(6714,[293,1057,1...|[0.40926098212610...|[0.03550983923804...|       4.0|     chinese|\n",
            "|28753|dicedonions,tacos...|[dicedonions, tac...|[dicedonions, tac...|(6714,[139,319,79...|(6714,[139,319,79...|[0.58239569920510...|[0.00671181469528...|       1.0|     mexican|\n",
            "|22659|eggs,cherries,dat...|[eggs, cherries, ...|[eggs, cherries, ...|(6714,[139,343,41...|(6714,[139,343,41...|[0.26927844541902...|[0.03306494192387...|      14.0|     british|\n",
            "|21749|pasta,oliveoil,cr...|[pasta, oliveoil,...|[pasta, oliveoil,...|(6714,[1031,1225,...|(6714,[1031,1225,...|[4.21249858082331...|[0.77929080607178...|       0.0|     italian|\n",
            "|44967|water,butter,grou...|[water, butter, g...|[butter, groundsu...|(6714,[139,1507,2...|(6714,[139,1507,2...|[2.32315226174040...|[0.14937592797321...|       9.0|       greek|\n",
            "|42969|currypowder,groun...|[currypowder, gro...|[currypowder, gro...|(6714,[792,2317,2...|(6714,[792,2317,2...|[0.47441782491387...|[0.04889849582681...|       3.0|      indian|\n",
            "|44883|pasta,marinarasau...|[pasta, marinaras...|[pasta, marinaras...|(6714,[775,3285,3...|(6714,[775,3285,3...|[4.89228856572624...|[0.88478512316556...|       0.0|     italian|\n",
            "|20827|salt,custardpowde...|[salt, custardpow...|[custardpowder, w...|(6714,[316,614,42...|(6714,[316,614,42...|[1.13865164405513...|[0.11086481668956...|       4.0|     chinese|\n",
            "|23196|vegetableoilcooki...|[vegetableoilcook...|[vegetableoilcook...|(6714,[174,1000,2...|(6714,[174,1000,2...|[1.64391940807403...|[0.16494453059684...|       5.0|      french|\n",
            "|35387|vanillaicecream,b...|[vanillaicecream,...|[vanillaicecream,...|(6714,[1180,1565,...|(6714,[1180,1565,...|[1.29193590125455...|[0.12935988487160...|       2.0| southern_us|\n",
            "|33780|molasses,hotsauce...|[molasses, hotsau...|[molasses, hotsau...|(6714,[406,1675,1...|(6714,[406,1675,1...|[0.63245549319117...|[0.05792927445927...|       2.0| southern_us|\n",
            "|19001|choppedgreenchili...|[choppedgreenchil...|[choppedgreenchil...|(6714,[86,1415,32...|(6714,[86,1415,32...|[0.71659878127761...|[0.03140187521629...|       1.0|     mexican|\n",
            "|16526|coldwater,chicken...|[coldwater, chick...|[coldwater, chick...|(6714,[450,2094,2...|(6714,[450,2094,2...|[0.88371488057366...|[0.08313984417567...|       2.0| southern_us|\n",
            "+-----+--------------------+--------------------+--------------------+--------------------+--------------------+--------------------+--------------------+----------+------------+\n",
            "only showing top 20 rows\n",
            "\n"
          ]
        }
      ]
    },
    {
      "cell_type": "code",
      "source": [
        "predictions = idx_to_string.transform(predictions)"
      ],
      "metadata": {
        "id": "F2eB6Q7q7sTd"
      },
      "id": "F2eB6Q7q7sTd",
      "execution_count": 77,
      "outputs": []
    },
    {
      "cell_type": "code",
      "source": [
        "spark2sub_lr = predictions.select('id', 'cuisine')\n",
        "\n",
        "spark2sub_lr.toPandas().to_csv('spark2sub_2_lr_tfidf.csv', index=False)"
      ],
      "metadata": {
        "id": "Xkb8kwom7sY2"
      },
      "id": "Xkb8kwom7sY2",
      "execution_count": 79,
      "outputs": []
    },
    {
      "cell_type": "code",
      "metadata": {
        "colab": {
          "base_uri": "https://localhost:8080/"
        },
        "id": "xa0o2h8udvPb",
        "outputId": "c1f04232-be76-40b8-a071-b13e1f956d97"
      },
      "source": [
        "! kaggle competitions submit -c whats-cooking -f spark2sub_2_lr_tfidf.csv -m \"2nd try\""
      ],
      "id": "xa0o2h8udvPb",
      "execution_count": 80,
      "outputs": [
        {
          "output_type": "stream",
          "name": "stdout",
          "text": [
            "Warning: Looks like you're using an outdated API Version, please consider updating (server 1.5.12 / client 1.5.4)\n",
            "100% 139k/139k [00:00<00:00, 537kB/s]\n",
            "Successfully submitted to What's Cooking?"
          ]
        }
      ]
    },
    {
      "cell_type": "markdown",
      "source": [
        "1 - 0.69046 on kaggle\n",
        "\n",
        "2 - 0.70132 on kaggle"
      ],
      "metadata": {
        "id": "Ou54XRtJZPty"
      },
      "id": "Ou54XRtJZPty"
    },
    {
      "cell_type": "code",
      "source": [
        ""
      ],
      "metadata": {
        "id": "Im4q_sUG7seT"
      },
      "id": "Im4q_sUG7seT",
      "execution_count": null,
      "outputs": []
    },
    {
      "cell_type": "code",
      "source": [
        ""
      ],
      "metadata": {
        "id": "_MG3ieZZ7shS"
      },
      "id": "_MG3ieZZ7shS",
      "execution_count": null,
      "outputs": []
    },
    {
      "cell_type": "code",
      "metadata": {
        "id": "-Uw0y8pmXuXq"
      },
      "source": [
        "# split_udf = F.udf(lambda value: value[1].item(), DoubleType())"
      ],
      "id": "-Uw0y8pmXuXq",
      "execution_count": null,
      "outputs": []
    },
    {
      "cell_type": "code",
      "metadata": {
        "id": "YjDPKz4Qd4Bl"
      },
      "source": [
        "# predictions_gbt_2 = gbt_model_sub.transform(subData)\n",
        "\n",
        "# predictions_gbt_2 = predictions_gbt_2.withColumn('c1', split_udf('probability'))\n",
        "\n",
        "# spark_gbt_2 = predictions_gbt_2.select('id', 'c1').withColumnRenamed('c1', 'insomnia')\n",
        "\n",
        "# spark_gbt_2.toPandas().to_csv('spark_gbt_sub2.csv', index=False)"
      ],
      "id": "YjDPKz4Qd4Bl",
      "execution_count": null,
      "outputs": []
    }
  ]
}