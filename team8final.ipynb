{
  "nbformat": 4,
  "nbformat_minor": 5,
  "metadata": {
    "kernelspec": {
      "display_name": "Python 3",
      "language": "python",
      "name": "python3"
    },
    "language_info": {
      "codemirror_mode": {
        "name": "ipython",
        "version": 3
      },
      "file_extension": ".py",
      "mimetype": "text/x-python",
      "name": "python",
      "nbconvert_exporter": "python",
      "pygments_lexer": "ipython3",
      "version": "3.8.8"
    },
    "colab": {
      "name": "team8final",
      "provenance": [],
      "collapsed_sections": [],
      "include_colab_link": true
    }
  },
  "cells": [
    {
      "cell_type": "markdown",
      "metadata": {
        "id": "view-in-github",
        "colab_type": "text"
      },
      "source": [
        "<a href=\"https://colab.research.google.com/github/Verschworer/HSE_ML_final/blob/main/team8final.ipynb\" target=\"_parent\"><img src=\"https://colab.research.google.com/assets/colab-badge.svg\" alt=\"Open In Colab\"/></a>"
      ]
    },
    {
      "cell_type": "code",
      "metadata": {
        "id": "RdwyxZHa16Su",
        "colab": {
          "resources": {
            "http://localhost:8080/nbextensions/google.colab/files.js": {
              "data": "Ly8gQ29weXJpZ2h0IDIwMTcgR29vZ2xlIExMQwovLwovLyBMaWNlbnNlZCB1bmRlciB0aGUgQXBhY2hlIExpY2Vuc2UsIFZlcnNpb24gMi4wICh0aGUgIkxpY2Vuc2UiKTsKLy8geW91IG1heSBub3QgdXNlIHRoaXMgZmlsZSBleGNlcHQgaW4gY29tcGxpYW5jZSB3aXRoIHRoZSBMaWNlbnNlLgovLyBZb3UgbWF5IG9idGFpbiBhIGNvcHkgb2YgdGhlIExpY2Vuc2UgYXQKLy8KLy8gICAgICBodHRwOi8vd3d3LmFwYWNoZS5vcmcvbGljZW5zZXMvTElDRU5TRS0yLjAKLy8KLy8gVW5sZXNzIHJlcXVpcmVkIGJ5IGFwcGxpY2FibGUgbGF3IG9yIGFncmVlZCB0byBpbiB3cml0aW5nLCBzb2Z0d2FyZQovLyBkaXN0cmlidXRlZCB1bmRlciB0aGUgTGljZW5zZSBpcyBkaXN0cmlidXRlZCBvbiBhbiAiQVMgSVMiIEJBU0lTLAovLyBXSVRIT1VUIFdBUlJBTlRJRVMgT1IgQ09ORElUSU9OUyBPRiBBTlkgS0lORCwgZWl0aGVyIGV4cHJlc3Mgb3IgaW1wbGllZC4KLy8gU2VlIHRoZSBMaWNlbnNlIGZvciB0aGUgc3BlY2lmaWMgbGFuZ3VhZ2UgZ292ZXJuaW5nIHBlcm1pc3Npb25zIGFuZAovLyBsaW1pdGF0aW9ucyB1bmRlciB0aGUgTGljZW5zZS4KCi8qKgogKiBAZmlsZW92ZXJ2aWV3IEhlbHBlcnMgZm9yIGdvb2dsZS5jb2xhYiBQeXRob24gbW9kdWxlLgogKi8KKGZ1bmN0aW9uKHNjb3BlKSB7CmZ1bmN0aW9uIHNwYW4odGV4dCwgc3R5bGVBdHRyaWJ1dGVzID0ge30pIHsKICBjb25zdCBlbGVtZW50ID0gZG9jdW1lbnQuY3JlYXRlRWxlbWVudCgnc3BhbicpOwogIGVsZW1lbnQudGV4dENvbnRlbnQgPSB0ZXh0OwogIGZvciAoY29uc3Qga2V5IG9mIE9iamVjdC5rZXlzKHN0eWxlQXR0cmlidXRlcykpIHsKICAgIGVsZW1lbnQuc3R5bGVba2V5XSA9IHN0eWxlQXR0cmlidXRlc1trZXldOwogIH0KICByZXR1cm4gZWxlbWVudDsKfQoKLy8gTWF4IG51bWJlciBvZiBieXRlcyB3aGljaCB3aWxsIGJlIHVwbG9hZGVkIGF0IGEgdGltZS4KY29uc3QgTUFYX1BBWUxPQURfU0laRSA9IDEwMCAqIDEwMjQ7CgpmdW5jdGlvbiBfdXBsb2FkRmlsZXMoaW5wdXRJZCwgb3V0cHV0SWQpIHsKICBjb25zdCBzdGVwcyA9IHVwbG9hZEZpbGVzU3RlcChpbnB1dElkLCBvdXRwdXRJZCk7CiAgY29uc3Qgb3V0cHV0RWxlbWVudCA9IGRvY3VtZW50LmdldEVsZW1lbnRCeUlkKG91dHB1dElkKTsKICAvLyBDYWNoZSBzdGVwcyBvbiB0aGUgb3V0cHV0RWxlbWVudCB0byBtYWtlIGl0IGF2YWlsYWJsZSBmb3IgdGhlIG5leHQgY2FsbAogIC8vIHRvIHVwbG9hZEZpbGVzQ29udGludWUgZnJvbSBQeXRob24uCiAgb3V0cHV0RWxlbWVudC5zdGVwcyA9IHN0ZXBzOwoKICByZXR1cm4gX3VwbG9hZEZpbGVzQ29udGludWUob3V0cHV0SWQpOwp9CgovLyBUaGlzIGlzIHJvdWdobHkgYW4gYXN5bmMgZ2VuZXJhdG9yIChub3Qgc3VwcG9ydGVkIGluIHRoZSBicm93c2VyIHlldCksCi8vIHdoZXJlIHRoZXJlIGFyZSBtdWx0aXBsZSBhc3luY2hyb25vdXMgc3RlcHMgYW5kIHRoZSBQeXRob24gc2lkZSBpcyBnb2luZwovLyB0byBwb2xsIGZvciBjb21wbGV0aW9uIG9mIGVhY2ggc3RlcC4KLy8gVGhpcyB1c2VzIGEgUHJvbWlzZSB0byBibG9jayB0aGUgcHl0aG9uIHNpZGUgb24gY29tcGxldGlvbiBvZiBlYWNoIHN0ZXAsCi8vIHRoZW4gcGFzc2VzIHRoZSByZXN1bHQgb2YgdGhlIHByZXZpb3VzIHN0ZXAgYXMgdGhlIGlucHV0IHRvIHRoZSBuZXh0IHN0ZXAuCmZ1bmN0aW9uIF91cGxvYWRGaWxlc0NvbnRpbnVlKG91dHB1dElkKSB7CiAgY29uc3Qgb3V0cHV0RWxlbWVudCA9IGRvY3VtZW50LmdldEVsZW1lbnRCeUlkKG91dHB1dElkKTsKICBjb25zdCBzdGVwcyA9IG91dHB1dEVsZW1lbnQuc3RlcHM7CgogIGNvbnN0IG5leHQgPSBzdGVwcy5uZXh0KG91dHB1dEVsZW1lbnQubGFzdFByb21pc2VWYWx1ZSk7CiAgcmV0dXJuIFByb21pc2UucmVzb2x2ZShuZXh0LnZhbHVlLnByb21pc2UpLnRoZW4oKHZhbHVlKSA9PiB7CiAgICAvLyBDYWNoZSB0aGUgbGFzdCBwcm9taXNlIHZhbHVlIHRvIG1ha2UgaXQgYXZhaWxhYmxlIHRvIHRoZSBuZXh0CiAgICAvLyBzdGVwIG9mIHRoZSBnZW5lcmF0b3IuCiAgICBvdXRwdXRFbGVtZW50Lmxhc3RQcm9taXNlVmFsdWUgPSB2YWx1ZTsKICAgIHJldHVybiBuZXh0LnZhbHVlLnJlc3BvbnNlOwogIH0pOwp9CgovKioKICogR2VuZXJhdG9yIGZ1bmN0aW9uIHdoaWNoIGlzIGNhbGxlZCBiZXR3ZWVuIGVhY2ggYXN5bmMgc3RlcCBvZiB0aGUgdXBsb2FkCiAqIHByb2Nlc3MuCiAqIEBwYXJhbSB7c3RyaW5nfSBpbnB1dElkIEVsZW1lbnQgSUQgb2YgdGhlIGlucHV0IGZpbGUgcGlja2VyIGVsZW1lbnQuCiAqIEBwYXJhbSB7c3RyaW5nfSBvdXRwdXRJZCBFbGVtZW50IElEIG9mIHRoZSBvdXRwdXQgZGlzcGxheS4KICogQHJldHVybiB7IUl0ZXJhYmxlPCFPYmplY3Q+fSBJdGVyYWJsZSBvZiBuZXh0IHN0ZXBzLgogKi8KZnVuY3Rpb24qIHVwbG9hZEZpbGVzU3RlcChpbnB1dElkLCBvdXRwdXRJZCkgewogIGNvbnN0IGlucHV0RWxlbWVudCA9IGRvY3VtZW50LmdldEVsZW1lbnRCeUlkKGlucHV0SWQpOwogIGlucHV0RWxlbWVudC5kaXNhYmxlZCA9IGZhbHNlOwoKICBjb25zdCBvdXRwdXRFbGVtZW50ID0gZG9jdW1lbnQuZ2V0RWxlbWVudEJ5SWQob3V0cHV0SWQpOwogIG91dHB1dEVsZW1lbnQuaW5uZXJIVE1MID0gJyc7CgogIGNvbnN0IHBpY2tlZFByb21pc2UgPSBuZXcgUHJvbWlzZSgocmVzb2x2ZSkgPT4gewogICAgaW5wdXRFbGVtZW50LmFkZEV2ZW50TGlzdGVuZXIoJ2NoYW5nZScsIChlKSA9PiB7CiAgICAgIHJlc29sdmUoZS50YXJnZXQuZmlsZXMpOwogICAgfSk7CiAgfSk7CgogIGNvbnN0IGNhbmNlbCA9IGRvY3VtZW50LmNyZWF0ZUVsZW1lbnQoJ2J1dHRvbicpOwogIGlucHV0RWxlbWVudC5wYXJlbnRFbGVtZW50LmFwcGVuZENoaWxkKGNhbmNlbCk7CiAgY2FuY2VsLnRleHRDb250ZW50ID0gJ0NhbmNlbCB1cGxvYWQnOwogIGNvbnN0IGNhbmNlbFByb21pc2UgPSBuZXcgUHJvbWlzZSgocmVzb2x2ZSkgPT4gewogICAgY2FuY2VsLm9uY2xpY2sgPSAoKSA9PiB7CiAgICAgIHJlc29sdmUobnVsbCk7CiAgICB9OwogIH0pOwoKICAvLyBXYWl0IGZvciB0aGUgdXNlciB0byBwaWNrIHRoZSBmaWxlcy4KICBjb25zdCBmaWxlcyA9IHlpZWxkIHsKICAgIHByb21pc2U6IFByb21pc2UucmFjZShbcGlja2VkUHJvbWlzZSwgY2FuY2VsUHJvbWlzZV0pLAogICAgcmVzcG9uc2U6IHsKICAgICAgYWN0aW9uOiAnc3RhcnRpbmcnLAogICAgfQogIH07CgogIGNhbmNlbC5yZW1vdmUoKTsKCiAgLy8gRGlzYWJsZSB0aGUgaW5wdXQgZWxlbWVudCBzaW5jZSBmdXJ0aGVyIHBpY2tzIGFyZSBub3QgYWxsb3dlZC4KICBpbnB1dEVsZW1lbnQuZGlzYWJsZWQgPSB0cnVlOwoKICBpZiAoIWZpbGVzKSB7CiAgICByZXR1cm4gewogICAgICByZXNwb25zZTogewogICAgICAgIGFjdGlvbjogJ2NvbXBsZXRlJywKICAgICAgfQogICAgfTsKICB9CgogIGZvciAoY29uc3QgZmlsZSBvZiBmaWxlcykgewogICAgY29uc3QgbGkgPSBkb2N1bWVudC5jcmVhdGVFbGVtZW50KCdsaScpOwogICAgbGkuYXBwZW5kKHNwYW4oZmlsZS5uYW1lLCB7Zm9udFdlaWdodDogJ2JvbGQnfSkpOwogICAgbGkuYXBwZW5kKHNwYW4oCiAgICAgICAgYCgke2ZpbGUudHlwZSB8fCAnbi9hJ30pIC0gJHtmaWxlLnNpemV9IGJ5dGVzLCBgICsKICAgICAgICBgbGFzdCBtb2RpZmllZDogJHsKICAgICAgICAgICAgZmlsZS5sYXN0TW9kaWZpZWREYXRlID8gZmlsZS5sYXN0TW9kaWZpZWREYXRlLnRvTG9jYWxlRGF0ZVN0cmluZygpIDoKICAgICAgICAgICAgICAgICAgICAgICAgICAgICAgICAgICAgJ24vYSd9IC0gYCkpOwogICAgY29uc3QgcGVyY2VudCA9IHNwYW4oJzAlIGRvbmUnKTsKICAgIGxpLmFwcGVuZENoaWxkKHBlcmNlbnQpOwoKICAgIG91dHB1dEVsZW1lbnQuYXBwZW5kQ2hpbGQobGkpOwoKICAgIGNvbnN0IGZpbGVEYXRhUHJvbWlzZSA9IG5ldyBQcm9taXNlKChyZXNvbHZlKSA9PiB7CiAgICAgIGNvbnN0IHJlYWRlciA9IG5ldyBGaWxlUmVhZGVyKCk7CiAgICAgIHJlYWRlci5vbmxvYWQgPSAoZSkgPT4gewogICAgICAgIHJlc29sdmUoZS50YXJnZXQucmVzdWx0KTsKICAgICAgfTsKICAgICAgcmVhZGVyLnJlYWRBc0FycmF5QnVmZmVyKGZpbGUpOwogICAgfSk7CiAgICAvLyBXYWl0IGZvciB0aGUgZGF0YSB0byBiZSByZWFkeS4KICAgIGxldCBmaWxlRGF0YSA9IHlpZWxkIHsKICAgICAgcHJvbWlzZTogZmlsZURhdGFQcm9taXNlLAogICAgICByZXNwb25zZTogewogICAgICAgIGFjdGlvbjogJ2NvbnRpbnVlJywKICAgICAgfQogICAgfTsKCiAgICAvLyBVc2UgYSBjaHVua2VkIHNlbmRpbmcgdG8gYXZvaWQgbWVzc2FnZSBzaXplIGxpbWl0cy4gU2VlIGIvNjIxMTU2NjAuCiAgICBsZXQgcG9zaXRpb24gPSAwOwogICAgZG8gewogICAgICBjb25zdCBsZW5ndGggPSBNYXRoLm1pbihmaWxlRGF0YS5ieXRlTGVuZ3RoIC0gcG9zaXRpb24sIE1BWF9QQVlMT0FEX1NJWkUpOwogICAgICBjb25zdCBjaHVuayA9IG5ldyBVaW50OEFycmF5KGZpbGVEYXRhLCBwb3NpdGlvbiwgbGVuZ3RoKTsKICAgICAgcG9zaXRpb24gKz0gbGVuZ3RoOwoKICAgICAgY29uc3QgYmFzZTY0ID0gYnRvYShTdHJpbmcuZnJvbUNoYXJDb2RlLmFwcGx5KG51bGwsIGNodW5rKSk7CiAgICAgIHlpZWxkIHsKICAgICAgICByZXNwb25zZTogewogICAgICAgICAgYWN0aW9uOiAnYXBwZW5kJywKICAgICAgICAgIGZpbGU6IGZpbGUubmFtZSwKICAgICAgICAgIGRhdGE6IGJhc2U2NCwKICAgICAgICB9LAogICAgICB9OwoKICAgICAgbGV0IHBlcmNlbnREb25lID0gZmlsZURhdGEuYnl0ZUxlbmd0aCA9PT0gMCA/CiAgICAgICAgICAxMDAgOgogICAgICAgICAgTWF0aC5yb3VuZCgocG9zaXRpb24gLyBmaWxlRGF0YS5ieXRlTGVuZ3RoKSAqIDEwMCk7CiAgICAgIHBlcmNlbnQudGV4dENvbnRlbnQgPSBgJHtwZXJjZW50RG9uZX0lIGRvbmVgOwoKICAgIH0gd2hpbGUgKHBvc2l0aW9uIDwgZmlsZURhdGEuYnl0ZUxlbmd0aCk7CiAgfQoKICAvLyBBbGwgZG9uZS4KICB5aWVsZCB7CiAgICByZXNwb25zZTogewogICAgICBhY3Rpb246ICdjb21wbGV0ZScsCiAgICB9CiAgfTsKfQoKc2NvcGUuZ29vZ2xlID0gc2NvcGUuZ29vZ2xlIHx8IHt9OwpzY29wZS5nb29nbGUuY29sYWIgPSBzY29wZS5nb29nbGUuY29sYWIgfHwge307CnNjb3BlLmdvb2dsZS5jb2xhYi5fZmlsZXMgPSB7CiAgX3VwbG9hZEZpbGVzLAogIF91cGxvYWRGaWxlc0NvbnRpbnVlLAp9Owp9KShzZWxmKTsK",
              "ok": true,
              "headers": [
                [
                  "content-type",
                  "application/javascript"
                ]
              ],
              "status": 200,
              "status_text": "OK"
            }
          },
          "base_uri": "https://localhost:8080/",
          "height": 239
        },
        "outputId": "49a8822e-3793-4bc8-db0c-8d6397d8996f"
      },
      "source": [
        "! pip install -q kaggle\n",
        "from google.colab import files\n",
        "files.upload()\n",
        "! mkdir ~/.kaggle\n",
        "! cp kaggle.json ~/.kaggle/\n",
        "! chmod 600 ~/.kaggle/kaggle.json\n",
        "! kaggle competitions download -c whats-cooking  "
      ],
      "id": "RdwyxZHa16Su",
      "execution_count": 2,
      "outputs": [
        {
          "output_type": "display_data",
          "data": {
            "text/html": [
              "\n",
              "     <input type=\"file\" id=\"files-e035274c-8e25-4b3e-acc8-f3a390c8f818\" name=\"files[]\" multiple disabled\n",
              "        style=\"border:none\" />\n",
              "     <output id=\"result-e035274c-8e25-4b3e-acc8-f3a390c8f818\">\n",
              "      Upload widget is only available when the cell has been executed in the\n",
              "      current browser session. Please rerun this cell to enable.\n",
              "      </output>\n",
              "      <script src=\"/nbextensions/google.colab/files.js\"></script> "
            ],
            "text/plain": [
              "<IPython.core.display.HTML object>"
            ]
          },
          "metadata": {}
        },
        {
          "output_type": "stream",
          "name": "stdout",
          "text": [
            "mkdir: cannot create directory ‘/root/.kaggle’: File exists\n",
            "Warning: Looks like you're using an outdated API Version, please consider updating (server 1.5.12 / client 1.5.4)\n",
            "Downloading test.json.zip to /content\n",
            "  0% 0.00/426k [00:00<?, ?B/s]\n",
            "100% 426k/426k [00:00<00:00, 63.7MB/s]\n",
            "Downloading train.json.zip to /content\n",
            "  0% 0.00/1.76M [00:00<?, ?B/s]\n",
            "100% 1.76M/1.76M [00:00<00:00, 109MB/s]\n",
            "Downloading sample_submission.csv.zip to /content\n",
            "  0% 0.00/25.8k [00:00<?, ?B/s]\n",
            "100% 25.8k/25.8k [00:00<00:00, 22.8MB/s]\n"
          ]
        }
      ]
    },
    {
      "cell_type": "markdown",
      "metadata": {
        "id": "3a3f2ff3"
      },
      "source": [
        "### Data"
      ],
      "id": "3a3f2ff3"
    },
    {
      "cell_type": "code",
      "metadata": {
        "id": "dutio5Im1efo"
      },
      "source": [
        "! pip install -q pyspark"
      ],
      "id": "dutio5Im1efo",
      "execution_count": 1,
      "outputs": []
    },
    {
      "cell_type": "code",
      "metadata": {
        "id": "1bd0552c"
      },
      "source": [
        "# import libraries\n",
        "\n",
        "import pyspark\n",
        "import pyspark.sql.functions as F\n",
        "from pyspark.sql.types import * #JVM типы данных\n",
        "\n",
        "\n",
        "from pyspark import SparkContext, SparkConf\n",
        "from pyspark.sql import SparkSession\n",
        "\n",
        "from pyspark.ml.feature import VectorAssembler, StringIndexer, RegexTokenizer, StopWordsRemover, HashingTF, IDF\n",
        "from pyspark.ml.tuning import CrossValidator, ParamGridBuilder\n",
        "from pyspark.ml import Pipeline\n",
        "\n",
        "from pyspark.ml.evaluation import MulticlassClassificationEvaluator\n",
        "from pyspark.ml.classification import LogisticRegression, GBTClassifier, NaiveBayes, RandomForestClassifier\n",
        "\n",
        "import numpy as np\n",
        "import pandas as pd\n",
        "\n",
        "\n",
        "import matplotlib.pyplot as plt\n",
        "import seaborn as sns\n",
        "%matplotlib inline"
      ],
      "id": "1bd0552c",
      "execution_count": 1,
      "outputs": []
    },
    {
      "cell_type": "code",
      "metadata": {
        "id": "Mz7BScsw1xfa"
      },
      "source": [
        "# spark up\n",
        "\n",
        "spark = SparkSession.builder.master(\n",
        "    \"local[*]\"\n",
        "    ).appName(\n",
        "    \"team8final\"\n",
        "    ).config(\n",
        "        \"spark.sql.execution.arrow.pyspark.enabled\", \n",
        "        \"true\").getOrCreate()"
      ],
      "id": "Mz7BScsw1xfa",
      "execution_count": 2,
      "outputs": []
    },
    {
      "cell_type": "code",
      "metadata": {
        "colab": {
          "base_uri": "https://localhost:8080/",
          "height": 222
        },
        "id": "I4Zo6cEM2Cup",
        "outputId": "153e912f-4de1-4c25-81fb-b9e3685a38eb"
      },
      "source": [
        "spark # spark is alive"
      ],
      "id": "I4Zo6cEM2Cup",
      "execution_count": 3,
      "outputs": [
        {
          "output_type": "execute_result",
          "data": {
            "text/html": [
              "\n",
              "            <div>\n",
              "                <p><b>SparkSession - in-memory</b></p>\n",
              "                \n",
              "        <div>\n",
              "            <p><b>SparkContext</b></p>\n",
              "\n",
              "            <p><a href=\"http://5bdabfb5bd9d:4040\">Spark UI</a></p>\n",
              "\n",
              "            <dl>\n",
              "              <dt>Version</dt>\n",
              "                <dd><code>v3.2.0</code></dd>\n",
              "              <dt>Master</dt>\n",
              "                <dd><code>local[*]</code></dd>\n",
              "              <dt>AppName</dt>\n",
              "                <dd><code>team8final</code></dd>\n",
              "            </dl>\n",
              "        </div>\n",
              "        \n",
              "            </div>\n",
              "        "
            ],
            "text/plain": [
              "<pyspark.sql.session.SparkSession at 0x7f96ee4bcc50>"
            ]
          },
          "metadata": {},
          "execution_count": 3
        }
      ]
    },
    {
      "cell_type": "code",
      "metadata": {
        "id": "s88dr07e3crj"
      },
      "source": [
        "# ! unzip '/content/train.json.zip'\n",
        "# ! unzip '/content/test.json.zip'\n",
        "# ! unzip '/content/sample_submission.csv.zip'"
      ],
      "id": "s88dr07e3crj",
      "execution_count": null,
      "outputs": []
    },
    {
      "cell_type": "code",
      "metadata": {
        "colab": {
          "base_uri": "https://localhost:8080/"
        },
        "id": "cPKwJxeL4I6H",
        "outputId": "189815d2-51c9-4351-ea5d-2ae7e3eec02c"
      },
      "source": [
        "# from google.colab import drive\n",
        "# drive.mount('/content/drive')"
      ],
      "id": "cPKwJxeL4I6H",
      "execution_count": null,
      "outputs": [
        {
          "output_type": "stream",
          "name": "stdout",
          "text": [
            "Mounted at /content/drive\n"
          ]
        }
      ]
    },
    {
      "cell_type": "code",
      "metadata": {
        "id": "krpngm9C2d9c"
      },
      "source": [
        "df = spark.read.json('train.json', multiLine=True)"
      ],
      "id": "krpngm9C2d9c",
      "execution_count": 4,
      "outputs": []
    },
    {
      "cell_type": "code",
      "metadata": {
        "colab": {
          "base_uri": "https://localhost:8080/"
        },
        "id": "8Bv-rQcD9iNL",
        "outputId": "69311770-64bd-4362-e411-419e6f325c05"
      },
      "source": [
        "print((df.count(), len(df.columns)))"
      ],
      "id": "8Bv-rQcD9iNL",
      "execution_count": 5,
      "outputs": [
        {
          "output_type": "stream",
          "name": "stdout",
          "text": [
            "(39774, 3)\n"
          ]
        }
      ]
    },
    {
      "cell_type": "code",
      "metadata": {
        "colab": {
          "base_uri": "https://localhost:8080/"
        },
        "id": "PrI9qzSy2eFc",
        "outputId": "bfd1c068-1400-4344-9f51-b95cb22e2930"
      },
      "source": [
        "df.show()"
      ],
      "id": "PrI9qzSy2eFc",
      "execution_count": 6,
      "outputs": [
        {
          "output_type": "stream",
          "name": "stdout",
          "text": [
            "+-----------+-----+--------------------+\n",
            "|    cuisine|   id|         ingredients|\n",
            "+-----------+-----+--------------------+\n",
            "|      greek|10259|[romaine lettuce,...|\n",
            "|southern_us|25693|[plain flour, gro...|\n",
            "|   filipino|20130|[eggs, pepper, sa...|\n",
            "|     indian|22213|[water, vegetable...|\n",
            "|     indian|13162|[black pepper, sh...|\n",
            "|   jamaican| 6602|[plain flour, sug...|\n",
            "|    spanish|42779|[olive oil, salt,...|\n",
            "|    italian| 3735|[sugar, pistachio...|\n",
            "|    mexican|16903|[olive oil, purpl...|\n",
            "|    italian|12734|[chopped tomatoes...|\n",
            "|    italian| 5875|[pimentos, sweet ...|\n",
            "|    chinese|45887|[low sodium soy s...|\n",
            "|    italian| 2698|[Italian parsley ...|\n",
            "|    mexican|41995|[ground cinnamon,...|\n",
            "|    italian|31908|[fresh parmesan c...|\n",
            "|     indian|24717|[tumeric, vegetab...|\n",
            "|    british|34466|[greek yogurt, le...|\n",
            "|    italian| 1420|[italian seasonin...|\n",
            "|       thai| 2941|[sugar, hot chili...|\n",
            "| vietnamese| 8152|[soy sauce, veget...|\n",
            "+-----------+-----+--------------------+\n",
            "only showing top 20 rows\n",
            "\n"
          ]
        }
      ]
    },
    {
      "cell_type": "code",
      "source": [
        "df.select([F.count(F.when(F.isnull(c), c)).alias(c) for c in df.columns]).show() # check the NULL"
      ],
      "metadata": {
        "colab": {
          "base_uri": "https://localhost:8080/"
        },
        "id": "ZKjkD90WoNO3",
        "outputId": "2ab8d847-3a86-48ef-bb58-b775b8305676"
      },
      "id": "ZKjkD90WoNO3",
      "execution_count": 7,
      "outputs": [
        {
          "output_type": "stream",
          "name": "stdout",
          "text": [
            "+-------+---+-----------+\n",
            "|cuisine| id|ingredients|\n",
            "+-------+---+-----------+\n",
            "|      0|  0|          0|\n",
            "+-------+---+-----------+\n",
            "\n"
          ]
        }
      ]
    },
    {
      "cell_type": "code",
      "source": [
        "# check the NaNs\n",
        "df_temp = df.withColumn(\"ingredients\", F.concat_ws(',' ,F.col(\"ingredients\")))\n",
        "df_temp.select([F.count(F.when(F.isnan(c), c)).alias(c) for c in df_temp.columns]).show()"
      ],
      "metadata": {
        "colab": {
          "base_uri": "https://localhost:8080/"
        },
        "id": "ue8q8RYej9BM",
        "outputId": "bcc4ed65-6111-4d1e-9bad-8881f69cc49d"
      },
      "id": "ue8q8RYej9BM",
      "execution_count": 8,
      "outputs": [
        {
          "output_type": "stream",
          "name": "stdout",
          "text": [
            "+-------+---+-----------+\n",
            "|cuisine| id|ingredients|\n",
            "+-------+---+-----------+\n",
            "|      0|  0|          0|\n",
            "+-------+---+-----------+\n",
            "\n"
          ]
        }
      ]
    },
    {
      "cell_type": "code",
      "source": [
        "len(df.select('cuisine').distinct().rdd.map(lambda r: r[0]).collect())"
      ],
      "metadata": {
        "colab": {
          "base_uri": "https://localhost:8080/"
        },
        "id": "t3ZObSQZ6X7H",
        "outputId": "a724516b-2843-4b35-ba38-b398d90812a2"
      },
      "id": "t3ZObSQZ6X7H",
      "execution_count": 9,
      "outputs": [
        {
          "output_type": "execute_result",
          "data": {
            "text/plain": [
              "20"
            ]
          },
          "metadata": {},
          "execution_count": 9
        }
      ]
    },
    {
      "cell_type": "code",
      "source": [
        "df.select('cuisine').distinct().rdd.map(lambda r: r[0]).collect()"
      ],
      "metadata": {
        "colab": {
          "base_uri": "https://localhost:8080/"
        },
        "id": "ldcJaIp4fFW8",
        "outputId": "19f59291-307a-4edd-d490-18d4d45c99bc"
      },
      "id": "ldcJaIp4fFW8",
      "execution_count": 10,
      "outputs": [
        {
          "output_type": "execute_result",
          "data": {
            "text/plain": [
              "['cajun_creole',\n",
              " 'greek',\n",
              " 'russian',\n",
              " 'korean',\n",
              " 'indian',\n",
              " 'spanish',\n",
              " 'french',\n",
              " 'vietnamese',\n",
              " 'italian',\n",
              " 'mexican',\n",
              " 'thai',\n",
              " 'chinese',\n",
              " 'jamaican',\n",
              " 'british',\n",
              " 'filipino',\n",
              " 'southern_us',\n",
              " 'moroccan',\n",
              " 'irish',\n",
              " 'japanese',\n",
              " 'brazilian']"
            ]
          },
          "metadata": {},
          "execution_count": 10
        }
      ]
    },
    {
      "cell_type": "markdown",
      "metadata": {
        "id": "pePAiKwuAdgp"
      },
      "source": [
        "#PREPROCESSING"
      ],
      "id": "pePAiKwuAdgp"
    },
    {
      "cell_type": "code",
      "source": [
        "spaceDeleteUDF = F.udf(lambda s: s.replace(\" \", \"\"), StringType())\n",
        "df_temp = df_temp.withColumn(\"ingredients\", spaceDeleteUDF(\"ingredients\"))"
      ],
      "metadata": {
        "id": "4I5dY9qbLffK"
      },
      "id": "4I5dY9qbLffK",
      "execution_count": 11,
      "outputs": []
    },
    {
      "cell_type": "code",
      "source": [
        "df_temp.show()"
      ],
      "metadata": {
        "colab": {
          "base_uri": "https://localhost:8080/"
        },
        "id": "leTE1tNVMEhd",
        "outputId": "aca394de-19cd-4030-c71b-5cc8bfc617ac"
      },
      "id": "leTE1tNVMEhd",
      "execution_count": 12,
      "outputs": [
        {
          "output_type": "stream",
          "name": "stdout",
          "text": [
            "+-----------+-----+--------------------+\n",
            "|    cuisine|   id|         ingredients|\n",
            "+-----------+-----+--------------------+\n",
            "|      greek|10259|romainelettuce,bl...|\n",
            "|southern_us|25693|plainflour,ground...|\n",
            "|   filipino|20130|eggs,pepper,salt,...|\n",
            "|     indian|22213|water,vegetableoi...|\n",
            "|     indian|13162|blackpepper,shall...|\n",
            "|   jamaican| 6602|plainflour,sugar,...|\n",
            "|    spanish|42779|oliveoil,salt,med...|\n",
            "|    italian| 3735|sugar,pistachionu...|\n",
            "|    mexican|16903|oliveoil,purpleon...|\n",
            "|    italian|12734|choppedtomatoes,f...|\n",
            "|    italian| 5875|pimentos,sweetpep...|\n",
            "|    chinese|45887|lowsodiumsoysauce...|\n",
            "|    italian| 2698|Italianparsleylea...|\n",
            "|    mexican|41995|groundcinnamon,fr...|\n",
            "|    italian|31908|freshparmesanchee...|\n",
            "|     indian|24717|tumeric,vegetable...|\n",
            "|    british|34466|greekyogurt,lemon...|\n",
            "|    italian| 1420|italianseasoning,...|\n",
            "|       thai| 2941|sugar,hotchili,as...|\n",
            "| vietnamese| 8152|soysauce,vegetabl...|\n",
            "+-----------+-----+--------------------+\n",
            "only showing top 20 rows\n",
            "\n"
          ]
        }
      ]
    },
    {
      "cell_type": "code",
      "source": [
        "#reg\n",
        "regexTokenizer = RegexTokenizer(inputCol=\"ingredients\", outputCol=\"w_ingredients\", pattern=\"\\\\W\")\n",
        "# stop words\n",
        "stopwords = [\"salt\", \"sugar\", \n",
        "             \"water\", \"eggs\"] \n",
        "             #\"pepper\", \"natural\", \"boneless\",\"fresh\", \"red\", \"orange\", \"yellow\", \"green\", \"blue\", \"purple\"] \n",
        "stopwordsRemover = StopWordsRemover(inputCol=\"w_ingredients\", outputCol=\"filtered\").setStopWords(stopwords)\n",
        "#tf-idf\n",
        "hashingTF = HashingTF(inputCol=\"filtered\", outputCol=\"rawFeatures\", numFeatures=100000)\n",
        "idf = IDF(inputCol=\"rawFeatures\", outputCol=\"features\", minDocFreq=3) #minDocFreq: remove sparse terms\n",
        "#labels\n",
        "label_stringIdx = StringIndexer(inputCol = \"cuisine\", outputCol = \"label\")"
      ],
      "metadata": {
        "id": "EQfop2lohxrb"
      },
      "id": "EQfop2lohxrb",
      "execution_count": 13,
      "outputs": []
    },
    {
      "cell_type": "code",
      "source": [
        "pipeline = Pipeline(stages=[ \n",
        "                            regexTokenizer, \n",
        "                            stopwordsRemover, \n",
        "                            hashingTF, \n",
        "                            idf, \n",
        "                            label_stringIdx])\n",
        "\n",
        "pipelineFit = pipeline.fit(df_temp)\n",
        "next_df = pipelineFit.transform(df_temp)"
      ],
      "metadata": {
        "id": "HTTf1Ugf4gKO"
      },
      "id": "HTTf1Ugf4gKO",
      "execution_count": 33,
      "outputs": []
    },
    {
      "cell_type": "code",
      "source": [
        "next_df.show(truncate=False)"
      ],
      "metadata": {
        "colab": {
          "base_uri": "https://localhost:8080/"
        },
        "id": "xJQUg1DE9xYZ",
        "outputId": "c0c824d8-7a47-46da-8ae6-bf819817f6b1"
      },
      "id": "xJQUg1DE9xYZ",
      "execution_count": 15,
      "outputs": [
        {
          "output_type": "stream",
          "name": "stdout",
          "text": [
            "+-----------+-----+----------------------------------------------------------------------------------------------------------------------------------------------------------------------------------------------------------------+-------------------------------------------------------------------------------------------------------------------------------------------------------------------------------------------------------------------------------------+------------------------------------------------------------------------------------------------------------------------------------------------------------------------------------------------------------------------+--------------------------------------------------------------------------------------------------------------------------------------------------------------------------------------------+--------------------------------------------------------------------------------------------------------------------------------------------------------------------------------------------------------------------------------------------------------------------------------------------------------------------------------------------------------------------------------------------------------------------------------------------------------------+-----+\n",
            "|cuisine    |id   |ingredients                                                                                                                                                                                                     |w_ingredients                                                                                                                                                                                                                        |filtered                                                                                                                                                                                                                |rawFeatures                                                                                                                                                                                 |features                                                                                                                                                                                                                                                                                                                                                                                                                                                      |label|\n",
            "+-----------+-----+----------------------------------------------------------------------------------------------------------------------------------------------------------------------------------------------------------------+-------------------------------------------------------------------------------------------------------------------------------------------------------------------------------------------------------------------------------------+------------------------------------------------------------------------------------------------------------------------------------------------------------------------------------------------------------------------+--------------------------------------------------------------------------------------------------------------------------------------------------------------------------------------------+--------------------------------------------------------------------------------------------------------------------------------------------------------------------------------------------------------------------------------------------------------------------------------------------------------------------------------------------------------------------------------------------------------------------------------------------------------------+-----+\n",
            "|greek      |10259|romainelettuce,blackolives,grapetomatoes,garlic,pepper,purpleonion,seasoning,garbanzobeans,fetacheesecrumbles                                                                                                   |[romainelettuce, blackolives, grapetomatoes, garlic, pepper, purpleonion, seasoning, garbanzobeans, fetacheesecrumbles]                                                                                                              |[romainelettuce, blackolives, grapetomatoes, garlic, pepper, purpleonion, seasoning, garbanzobeans, fetacheesecrumbles]                                                                                                 |(100000,[22190,25782,68109,78973,93419,93579,96384,98867,99375],[1.0,1.0,1.0,1.0,1.0,1.0,1.0,1.0,1.0])                                                                                      |(100000,[22190,25782,68109,78973,93419,93579,96384,98867,99375],[3.0429648832709733,1.6843294434359353,5.157271849651748,5.663740168048783,2.191908750270079,5.5870475472605285,4.988875032326287,4.707671464717709,5.152914544282792])                                                                                                                                                                                                                       |9.0  |\n",
            "|southern_us|25693|plainflour,groundpepper,salt,tomatoes,groundblackpepper,thyme,eggs,greentomatoes,yellowcornmeal,milk,vegetableoil                                                                                               |[plainflour, groundpepper, salt, tomatoes, groundblackpepper, thyme, eggs, greentomatoes, yellowcornmeal, milk, vegetableoil]                                                                                                        |[plainflour, groundpepper, tomatoes, groundblackpepper, thyme, greentomatoes, yellowcornmeal, milk, vegetableoil]                                                                                                       |(100000,[1824,9601,28709,36045,36524,48897,51174,64140,65949],[1.0,1.0,1.0,1.0,1.0,1.0,1.0,1.0,1.0])                                                                                        |(100000,[1824,9601,28709,36045,36524,48897,51174,64140,65949],[4.582180667763392,4.7416690732591285,4.699349641380216,2.5651505090550843,5.547568736286741,2.2048209242281542,2.117752549318933,5.899645970976844,2.8647812026984587])                                                                                                                                                                                                                        |2.0  |\n",
            "|filipino   |20130|eggs,pepper,salt,mayonaise,cookingoil,greenchilies,grilledchickenbreasts,garlicpowder,yellowonion,soysauce,butter,chickenlivers                                                                                 |[eggs, pepper, salt, mayonaise, cookingoil, greenchilies, grilledchickenbreasts, garlicpowder, yellowonion, soysauce, butter, chickenlivers]                                                                                         |[pepper, mayonaise, cookingoil, greenchilies, grilledchickenbreasts, garlicpowder, yellowonion, soysauce, butter, chickenlivers]                                                                                        |(100000,[1450,11514,16059,17276,38398,41596,69988,87650,93419,98070],[1.0,1.0,1.0,1.0,1.0,1.0,1.0,1.0,1.0,1.0])                                                                             |(100000,[1450,11514,16059,17276,38398,41596,69988,87650,93419,98070],[4.408908946489356,2.4865925452843753,8.799234383977932,3.513495799636756,2.099323619020836,3.3165142944321166,6.401339111179562,3.9355535028383404,2.191908750270079,3.9291391126606765])                                                                                                                                                                                               |15.0 |\n",
            "|indian     |22213|water,vegetableoil,wheat,salt                                                                                                                                                                                   |[water, vegetableoil, wheat, salt]                                                                                                                                                                                                   |[vegetableoil, wheat]                                                                                                                                                                                                   |(100000,[48897,77071],[1.0,1.0])                                                                                                                                                            |(100000,[48897,77071],[2.2048209242281542,7.295156987201659])                                                                                                                                                                                                                                                                                                                                                                                                 |3.0  |\n",
            "|indian     |13162|blackpepper,shallots,cornflour,cayennepepper,onions,garlicpaste,milk,butter,salt,lemonjuice,water,chilipowder,passata,oil,groundcumin,bonelesschickenskinlessthigh,garammasala,doublecream,naturalyogurt,bayleaf|[blackpepper, shallots, cornflour, cayennepepper, onions, garlicpaste, milk, butter, salt, lemonjuice, water, chilipowder, passata, oil, groundcumin, bonelesschickenskinlessthigh, garammasala, doublecream, naturalyogurt, bayleaf]|[blackpepper, shallots, cornflour, cayennepepper, onions, garlicpaste, milk, butter, lemonjuice, chilipowder, passata, oil, groundcumin, bonelesschickenskinlessthigh, garammasala, doublecream, naturalyogurt, bayleaf]|(100000,[998,2439,6035,31175,36657,38398,48751,49731,63275,65949,68000,69888,74184,75651,76119,83578,88732,97340],[1.0,1.0,1.0,1.0,1.0,1.0,1.0,1.0,1.0,1.0,1.0,1.0,1.0,1.0,1.0,1.0,1.0,1.0])|(100000,[998,2439,6035,31175,36657,38398,48751,49731,63275,65949,68000,69888,74184,75651,76119,83578,88732,97340],[3.2925487516978404,2.971760436979182,2.9946015491417914,1.6071777407034922,3.8575919613686285,2.099323619020836,7.6465548740395475,3.261900116959396,5.455195416155726,2.8647812026984587,2.6723651998637474,6.87742178650168,4.94554695556275,7.372118028337787,3.7601196185598083,2.7166350284761065,3.350344158950522,4.75035219583259])|3.0  |\n",
            "|jamaican   |6602 |plainflour,sugar,butter,eggs,freshgingerroot,salt,groundcinnamon,milk,vanillaextract,groundginger,powderedsugar,bakingpowder                                                                                    |[plainflour, sugar, butter, eggs, freshgingerroot, salt, groundcinnamon, milk, vanillaextract, groundginger, powderedsugar, bakingpowder]                                                                                            |[plainflour, butter, freshgingerroot, groundcinnamon, milk, vanillaextract, groundginger, powderedsugar, bakingpowder]                                                                                                  |(100000,[17621,27628,36524,38398,40953,65949,79903,89648,99607],[1.0,1.0,1.0,1.0,1.0,1.0,1.0,1.0,1.0])                                                                                      |(100000,[17621,27628,36524,38398,40953,65949,79903,89648,99607],[3.4745997091125225,3.1299283388517045,5.547568736286741,2.099323619020836,3.421643836535388,2.8647812026984587,4.764993745825537,4.372393733514259,4.0703727256472915])                                                                                                                                                                                                                      |17.0 |\n",
            "|spanish    |42779|oliveoil,salt,mediumshrimp,pepper,garlic,choppedcilantro,jalapenochilies,flatleafparsley,skirtsteak,whitevinegar,seasalt,bayleaf,chorizosausage                                                                 |[oliveoil, salt, mediumshrimp, pepper, garlic, choppedcilantro, jalapenochilies, flatleafparsley, skirtsteak, whitevinegar, seasalt, bayleaf, chorizosausage]                                                                        |[oliveoil, mediumshrimp, pepper, garlic, choppedcilantro, jalapenochilies, flatleafparsley, skirtsteak, whitevinegar, seasalt, bayleaf, chorizosausage]                                                                 |(100000,[23067,25782,34744,36657,39968,60254,65441,71854,78727,83548,93419,95079],[1.0,1.0,1.0,1.0,1.0,1.0,1.0,1.0,1.0,1.0,1.0,1.0])                                                        |(100000,[23067,25782,34744,36657,39968,60254,65441,71854,78727,83548,93419,95079],[6.2869287600018176,1.6843294434359353,3.1345392980297784,3.8575919613686285,3.9101391744157725,3.7303301817577013,1.6073031718733022,3.5924842109553863,4.272025739459553,5.946602954064615,2.191908750270079,4.455428962124249])                                                                                                                                          |10.0 |\n",
            "|italian    |3735 |sugar,pistachionuts,whitealmondbark,flour,vanillaextract,oliveoil,almondextract,eggs,bakingpowder,driedcranberries                                                                                              |[sugar, pistachionuts, whitealmondbark, flour, vanillaextract, oliveoil, almondextract, eggs, bakingpowder, driedcranberries]                                                                                                        |[pistachionuts, whitealmondbark, flour, vanillaextract, oliveoil, almondextract, bakingpowder, driedcranberries]                                                                                                        |(100000,[6906,27628,40953,65441,75744,77854,86351,99360],[1.0,1.0,1.0,1.0,1.0,1.0,1.0,1.0])                                                                                                 |(100000,[6906,27628,40953,65441,75744,77854,86351,99360],[0.0,3.1299283388517045,3.421643836535388,1.6073031718733022,6.639750134624561,5.431938553991459,3.381653596603078,7.455499637276838])                                                                                                                                                                                                                                                               |0.0  |\n",
            "|mexican    |16903|oliveoil,purpleonion,freshpineapple,pork,poblanopeppers,corntortillas,cheddarcheese,groundblackpepper,salt,iceberglettuce,lime,jalapenochilies,choppedcilantrofresh                                             |[oliveoil, purpleonion, freshpineapple, pork, poblanopeppers, corntortillas, cheddarcheese, groundblackpepper, salt, iceberglettuce, lime, jalapenochilies, choppedcilantrofresh]                                                    |[oliveoil, purpleonion, freshpineapple, pork, poblanopeppers, corntortillas, cheddarcheese, groundblackpepper, iceberglettuce, lime, jalapenochilies, choppedcilantrofresh]                                             |(100000,[9707,10694,22190,34744,41422,44865,47414,51174,65441,79418,80199,88689],[1.0,1.0,1.0,1.0,1.0,1.0,1.0,1.0,1.0,1.0,1.0,1.0])                                                         |(100000,[9707,10694,22190,34744,41422,44865,47414,51174,65441,79418,80199,88689],[6.5479425853714375,4.8838835884571115,3.0429648832709733,3.1345392980297784,5.4850483793054075,4.538904684281571,3.1531987315340557,2.117752549318933,1.6073031718733022,5.803502110423942,3.7178300189934697,3.318595460635941])                                                                                                                                           |1.0  |\n",
            "|italian    |12734|choppedtomatoes,freshbasil,garlic,extra-virginoliveoil,koshersalt,flatleafparsley                                                                                                                               |[choppedtomatoes, freshbasil, garlic, extra, virginoliveoil, koshersalt, flatleafparsley]                                                                                                                                            |[choppedtomatoes, freshbasil, garlic, extra, virginoliveoil, koshersalt, flatleafparsley]                                                                                                                               |(100000,[6011,25782,35592,36494,40731,69871,71854],[1.0,1.0,1.0,1.0,1.0,1.0,1.0])                                                                                                           |(100000,[6011,25782,35592,36494,40731,69871,71854],[2.6705473480633803,1.6843294434359353,3.5539662385197115,2.668007894494792,2.547009421984434,4.890550279815301,3.5924842109553863])                                                                                                                                                                                                                                                                       |0.0  |\n",
            "|italian    |5875 |pimentos,sweetpepper,driedoregano,oliveoil,garlic,sharpcheddarcheese,pepper,swisscheese,provolonecheese,canolaoil,mushrooms,blackolives,sausages                                                                |[pimentos, sweetpepper, driedoregano, oliveoil, garlic, sharpcheddarcheese, pepper, swisscheese, provolonecheese, canolaoil, mushrooms, blackolives, sausages]                                                                       |[pimentos, sweetpepper, driedoregano, oliveoil, garlic, sharpcheddarcheese, pepper, swisscheese, provolonecheese, canolaoil, mushrooms, blackolives, sausages]                                                          |(100000,[15382,18623,25782,30461,38047,48349,58079,65441,75783,79552,89526,93419,99375],[1.0,1.0,1.0,1.0,1.0,1.0,1.0,1.0,1.0,1.0,1.0,1.0,1.0])                                              |(100000,[15382,18623,25782,30461,38047,48349,58079,65441,75783,79552,89526,93419,99375],[6.565642162470838,4.229691375632992,1.6843294434359353,5.365247179492786,3.4811143901337163,3.148501130411547,5.547568736286741,1.6073031718733022,6.447859126814455,5.4850483793054075,5.685719074767558,2.191908750270079,5.152914544282792])                                                                                                                      |0.0  |\n",
            "|chinese    |45887|lowsodiumsoysauce,freshginger,drymustard,greenbeans,whitepepper,sesameoil,scallions,canolaoil,sugar,Shaoxingwine,garlic,groundturkey,water,crushedredpepperflakes,cornstarch                                    |[lowsodiumsoysauce, freshginger, drymustard, greenbeans, whitepepper, sesameoil, scallions, canolaoil, sugar, shaoxingwine, garlic, groundturkey, water, crushedredpepperflakes, cornstarch]                                         |[lowsodiumsoysauce, freshginger, drymustard, greenbeans, whitepepper, sesameoil, scallions, canolaoil, shaoxingwine, garlic, groundturkey, crushedredpepperflakes, cornstarch]                                          |(100000,[2522,25782,25957,27151,35837,38047,68026,74617,74686,84185,94355,97694,97726],[1.0,1.0,1.0,1.0,1.0,1.0,1.0,1.0,1.0,1.0,1.0,1.0,1.0])                                               |(100000,[2522,25782,25957,27151,35837,38047,68026,74617,74686,84185,94355,97694,97726],[3.2751103486962023,1.6843294434359353,3.1190617749608656,5.5605559318135525,3.1100016903364627,3.4811143901337163,4.364457183918522,4.756183116143382,4.50421912629368,3.045604103594164,4.536554506936617,5.011264027219766,5.461095138282914])                                                                                                                      |4.0  |\n",
            "|italian    |2698 |Italianparsleyleaves,walnuts,hotredpepperflakes,extra-virginoliveoil,freshlemonjuice,troutfillet,garliccloves,chipotlechile,fineseasalt,flatleafparsley                                                         |[italianparsleyleaves, walnuts, hotredpepperflakes, extra, virginoliveoil, freshlemonjuice, troutfillet, garliccloves, chipotlechile, fineseasalt, flatleafparsley]                                                                  |[italianparsleyleaves, walnuts, hotredpepperflakes, extra, virginoliveoil, freshlemonjuice, troutfillet, garliccloves, chipotlechile, fineseasalt, flatleafparsley]                                                     |(100000,[6011,24821,26094,30504,36494,43108,46004,71389,71854,76178,84598],[1.0,1.0,1.0,1.0,1.0,1.0,1.0,1.0,1.0,1.0,1.0])                                                                   |(100000,[6011,24821,26094,30504,36494,43108,46004,71389,71854,76178,84598],[2.6705473480633803,5.75471194625451,5.443499376392535,1.852739276679865,2.668007894494792,4.935002042386135,5.5737140163910635,3.164444780808683,3.5924842109553863,5.846061724842738,7.951936523590729])                                                                                                                                                                         |0.0  |\n",
            "|mexican    |41995|groundcinnamon,freshcilantro,chilipowder,groundcoriander,koshersalt,groundblackpepper,garlic,plumtomatoes,avocado,limejuice,flanksteak,salt,groundcumin,blackpepper,oliveoil,crushedredpepperflakes,onions      |[groundcinnamon, freshcilantro, chilipowder, groundcoriander, koshersalt, groundblackpepper, garlic, plumtomatoes, avocado, limejuice, flanksteak, salt, groundcumin, blackpepper, oliveoil, crushedredpepperflakes, onions]         |[groundcinnamon, freshcilantro, chilipowder, groundcoriander, koshersalt, groundblackpepper, garlic, plumtomatoes, avocado, limejuice, flanksteak, groundcumin, blackpepper, oliveoil, crushedredpepperflakes, onions]  |(100000,[2439,3133,6516,17621,25782,31175,34164,40731,46589,51174,62408,65441,68000,68026,69006,83578],[1.0,1.0,1.0,1.0,1.0,1.0,1.0,1.0,1.0,1.0,1.0,1.0,1.0,1.0,1.0,1.0])                   |(100000,[2439,3133,6516,17621,25782,31175,34164,40731,46589,51174,62408,65441,68000,68026,69006,83578],[2.971760436979182,5.03416579150645,3.6127801105752892,3.4745997091125225,1.6843294434359353,1.6071777407034922,3.8352249312217324,2.547009421984434,3.945902883700344,2.117752549318933,3.477037743639953,1.6073031718733022,2.6723651998637474,4.364457183918522,3.8552138389636608,2.7166350284761065])                                             |1.0  |\n",
            "|italian    |31908|freshparmesancheese,butter,all-purposeflour,fatfreelesssodiumchickenbroth,choppedfreshchives,gruyerecheese,groundblackpepper,baconslices,gnocchi,fatfreemilk,cookingspray,salt                                  |[freshparmesancheese, butter, all, purposeflour, fatfreelesssodiumchickenbroth, choppedfreshchives, gruyerecheese, groundblackpepper, baconslices, gnocchi, fatfreemilk, cookingspray, salt]                                         |[freshparmesancheese, butter, all, purposeflour, fatfreelesssodiumchickenbroth, choppedfreshchives, gruyerecheese, groundblackpepper, baconslices, gnocchi, fatfreemilk, cookingspray]                                  |(100000,[6372,13550,38398,40394,40476,51174,53805,56536,62915,75389,82869,85623],[1.0,1.0,1.0,1.0,1.0,1.0,1.0,1.0,1.0,1.0,1.0,1.0])                                                         |(100000,[6372,13550,38398,40394,40476,51174,53805,56536,62915,75389,82869,85623],[2.150033967789339,6.853324234922619,2.099323619020836,2.149818148213666,5.685719074767558,2.117752549318933,4.931511637446366,5.229701687496562,5.985823667217896,4.429786531510911,5.161648224251547,3.2837915384412493])                                                                                                                                                  |0.0  |\n",
            "|indian     |24717|tumeric,vegetablestock,tomatoes,garammasala,naan,redlentils,redchilipeppers,onions,spinach,sweetpotatoes                                                                                                        |[tumeric, vegetablestock, tomatoes, garammasala, naan, redlentils, redchilipeppers, onions, spinach, sweetpotatoes]                                                                                                                  |[tumeric, vegetablestock, tomatoes, garammasala, naan, redlentils, redchilipeppers, onions, spinach, sweetpotatoes]                                                                                                     |(100000,[4479,31175,36045,51899,54472,57679,66858,76119,84981,96261],[1.0,1.0,1.0,1.0,1.0,1.0,1.0,1.0,1.0,1.0])                                                                             |(100000,[4479,31175,36045,51899,54472,57679,66858,76119,84981,96261],[4.121743536410215,1.6071777407034922,2.5651505090550843,6.953407693479602,3.985695932257786,5.328303664301102,5.881463651893654,3.7601196185598083,4.4511093009797325,4.685632005151417])                                                                                                                                                                                               |3.0  |\n",
            "|british    |34466|greekyogurt,lemoncurd,confectionerssugar,raspberries                                                                                                                                                            |[greekyogurt, lemoncurd, confectionerssugar, raspberries]                                                                                                                                                                            |[greekyogurt, lemoncurd, confectionerssugar, raspberries]                                                                                                                                                               |(100000,[7401,39124,47737,98439],[1.0,1.0,1.0,1.0])                                                                                                                                         |(100000,[7401,39124,47737,98439],[5.135672737848286,6.184274605941734,4.609579641951507,8.799234383977932])                                                                                                                                                                                                                                                                                                                                                   |14.0 |\n",
            "|italian    |1420 |italianseasoning,broiler-fryerchicken,mayonaise,zestyitaliandressing                                                                                                                                            |[italianseasoning, broiler, fryerchicken, mayonaise, zestyitaliandressing]                                                                                                                                                           |[italianseasoning, broiler, fryerchicken, mayonaise, zestyitaliandressing]                                                                                                                                              |(100000,[7454,17200,34487,68203,98070],[1.0,1.0,1.0,1.0,1.0])                                                                                                                               |(100000,[7454,17200,34487,68203,98070],[4.828942470425811,7.700622095309823,7.757780509149772,4.609579641951507,3.9291391126606765])                                                                                                                                                                                                                                                                                                                          |0.0  |\n",
            "|thai       |2941 |sugar,hotchili,asianfishsauce,limejuice                                                                                                                                                                         |[sugar, hotchili, asianfishsauce, limejuice]                                                                                                                                                                                         |[hotchili, asianfishsauce, limejuice]                                                                                                                                                                                   |(100000,[6109,6516,97607],[1.0,1.0,1.0])                                                                                                                                                    |(100000,[6109,6516,97607],[7.595261579651996,3.6127801105752892,5.503397517973603])                                                                                                                                                                                                                                                                                                                                                                           |7.0  |\n",
            "|vietnamese |8152 |soysauce,vegetableoil,redbellpepper,chickenbroth,yellowsquash,garlicchilisauce,slicedgreenonions,broccolini,salt,freshlimejuice,cookedrice,chickenbreasts,cornstarch                                            |[soysauce, vegetableoil, redbellpepper, chickenbroth, yellowsquash, garlicchilisauce, slicedgreenonions, broccolini, salt, freshlimejuice, cookedrice, chickenbreasts, cornstarch]                                                   |[soysauce, vegetableoil, redbellpepper, chickenbroth, yellowsquash, garlicchilisauce, slicedgreenonions, broccolini, freshlimejuice, cookedrice, chickenbreasts, cornstarch]                                            |(100000,[5595,8716,11271,11514,25957,43318,48897,57935,61189,79712,91787,91930],[1.0,1.0,1.0,1.0,1.0,1.0,1.0,1.0,1.0,1.0,1.0,1.0])                                                          |(100000,[5595,8716,11271,11514,25957,43318,48897,57935,61189,79712,91787,91930],[5.828819918408231,3.2404776813719893,4.431898464714054,2.4865925452843753,3.1190617749608656,4.629988513582714,2.2048209242281542,3.016948847833788,7.455499637276838,5.715796530004836,3.913910391958852,3.3691580279175386])                                                                                                                                               |12.0 |\n",
            "+-----------+-----+----------------------------------------------------------------------------------------------------------------------------------------------------------------------------------------------------------------+-------------------------------------------------------------------------------------------------------------------------------------------------------------------------------------------------------------------------------------+------------------------------------------------------------------------------------------------------------------------------------------------------------------------------------------------------------------------+--------------------------------------------------------------------------------------------------------------------------------------------------------------------------------------------+--------------------------------------------------------------------------------------------------------------------------------------------------------------------------------------------------------------------------------------------------------------------------------------------------------------------------------------------------------------------------------------------------------------------------------------------------------------+-----+\n",
            "only showing top 20 rows\n",
            "\n"
          ]
        }
      ]
    },
    {
      "cell_type": "markdown",
      "metadata": {
        "id": "diFcNP04QPA5"
      },
      "source": [
        "#ML FLOW"
      ],
      "id": "diFcNP04QPA5"
    },
    {
      "cell_type": "markdown",
      "source": [
        "https://towardsdatascience.com/multi-class-text-classification-with-pyspark-7d78d022ed35"
      ],
      "metadata": {
        "id": "56gNRTzO838q"
      },
      "id": "56gNRTzO838q"
    },
    {
      "cell_type": "code",
      "source": [
        "(trainingData, testData) = next_df.randomSplit([0.7, 0.3], seed = 8)\n",
        "\n",
        "print(\"We have %d training examples and %d test examples.\" % (trainingData.count(), testData.count()))"
      ],
      "metadata": {
        "colab": {
          "base_uri": "https://localhost:8080/"
        },
        "id": "8DQGbSI65GBF",
        "outputId": "90f89f2f-3919-4bee-cdad-33e9e789ce00"
      },
      "id": "8DQGbSI65GBF",
      "execution_count": 16,
      "outputs": [
        {
          "output_type": "stream",
          "name": "stdout",
          "text": [
            "We have 27961 training examples and 11813 test examples.\n"
          ]
        }
      ]
    },
    {
      "cell_type": "code",
      "source": [
        "lr = LogisticRegression(maxIter=20, regParam=0.3, elasticNetParam=0)\n",
        "lrModel = lr.fit(trainingData)\n",
        "predictions = lrModel.transform(testData)"
      ],
      "metadata": {
        "id": "iuES7UYP5QcG"
      },
      "id": "iuES7UYP5QcG",
      "execution_count": 17,
      "outputs": []
    },
    {
      "cell_type": "code",
      "source": [
        "evaluator = MulticlassClassificationEvaluator(predictionCol=\"prediction\")\n",
        "evaluator.evaluate(predictions)"
      ],
      "metadata": {
        "colab": {
          "base_uri": "https://localhost:8080/"
        },
        "id": "MWzhwb5p5Qe5",
        "outputId": "209dbeb1-ec12-4f5a-b0de-70a012394bfa"
      },
      "id": "MWzhwb5p5Qe5",
      "execution_count": 18,
      "outputs": [
        {
          "output_type": "execute_result",
          "data": {
            "text/plain": [
              "0.6781952559808299"
            ]
          },
          "metadata": {},
          "execution_count": 18
        }
      ]
    },
    {
      "cell_type": "code",
      "source": [
        "sub_df = spark.read.json('test.json', multiLine=True)\n",
        "sub_df_temp = sub_df.withColumn(\"ingredients\", F.concat_ws(',' ,F.col(\"ingredients\")))\n",
        "sub_df_temp = sub_df_temp.withColumn(\"ingredients\", spaceDeleteUDF(\"ingredients\"))"
      ],
      "metadata": {
        "id": "1XvAIn8p5QiG"
      },
      "id": "1XvAIn8p5QiG",
      "execution_count": 23,
      "outputs": []
    },
    {
      "cell_type": "code",
      "source": [
        "sub_df_temp.show()"
      ],
      "metadata": {
        "colab": {
          "base_uri": "https://localhost:8080/"
        },
        "id": "jdBpNgyZRfZR",
        "outputId": "1e87f19d-8d07-48ce-9e27-8d2340c199e8"
      },
      "id": "jdBpNgyZRfZR",
      "execution_count": 24,
      "outputs": [
        {
          "output_type": "stream",
          "name": "stdout",
          "text": [
            "+-----+--------------------+\n",
            "|   id|         ingredients|\n",
            "+-----+--------------------+\n",
            "|18009|bakingpowder,eggs...|\n",
            "|28583|sugar,eggyolks,co...|\n",
            "|41580|sausagelinks,fenn...|\n",
            "|29752|meatcuts,filepowd...|\n",
            "|35687|groundblackpepper...|\n",
            "|38527|bakingpowder,all-...|\n",
            "|19666|grapejuice,orange...|\n",
            "|41217|groundginger,whit...|\n",
            "|28753|dicedonions,tacos...|\n",
            "|22659|eggs,cherries,dat...|\n",
            "|21749|pasta,oliveoil,cr...|\n",
            "|44967|water,butter,grou...|\n",
            "|42969|currypowder,groun...|\n",
            "|44883|pasta,marinarasau...|\n",
            "|20827|salt,custardpowde...|\n",
            "|23196|vegetableoilcooki...|\n",
            "|35387|vanillaicecream,b...|\n",
            "|33780|molasses,hotsauce...|\n",
            "|19001|choppedgreenchili...|\n",
            "|16526|coldwater,chicken...|\n",
            "+-----+--------------------+\n",
            "only showing top 20 rows\n",
            "\n"
          ]
        }
      ]
    },
    {
      "cell_type": "code",
      "source": [
        "pipeline_sub = Pipeline(stages=[ \n",
        "                            regexTokenizer, \n",
        "                            stopwordsRemover, \n",
        "                            hashingTF, \n",
        "                            idf])#, \n",
        "                            #label_stringIdx])\n",
        "\n",
        "pipelineFit_sub = pipeline_sub.fit(sub_df_temp)\n",
        "next_df_sub = pipelineFit_sub.transform(sub_df_temp)"
      ],
      "metadata": {
        "id": "b3Cv52aO5Qkh"
      },
      "id": "b3Cv52aO5Qkh",
      "execution_count": 26,
      "outputs": []
    },
    {
      "cell_type": "code",
      "metadata": {
        "id": "-VsZsXz0CIIJ"
      },
      "source": [
        "lrModel2 = lr.fit(next_df)\n",
        "predictions = lrModel.transform(next_df_sub)"
      ],
      "id": "-VsZsXz0CIIJ",
      "execution_count": 27,
      "outputs": []
    },
    {
      "cell_type": "code",
      "source": [
        "from pyspark.ml.feature import IndexToString"
      ],
      "metadata": {
        "id": "2jqQkc0t7sNM"
      },
      "id": "2jqQkc0t7sNM",
      "execution_count": 28,
      "outputs": []
    },
    {
      "cell_type": "code",
      "source": [
        "idx_to_string = IndexToString(\n",
        "    inputCol=\"prediction\", outputCol=\"cuisine\", labels=pipelineFit.stages[4].labels)\n",
        "\n",
        "\n",
        "idx_to_string.transform(predictions).show()"
      ],
      "metadata": {
        "colab": {
          "base_uri": "https://localhost:8080/"
        },
        "id": "GkOuCB2_7sQo",
        "outputId": "99f19893-959f-4e46-fef3-cf63840c1045"
      },
      "id": "GkOuCB2_7sQo",
      "execution_count": 34,
      "outputs": [
        {
          "output_type": "stream",
          "name": "stdout",
          "text": [
            "+-----+--------------------+--------------------+--------------------+--------------------+--------------------+--------------------+--------------------+----------+------------+\n",
            "|   id|         ingredients|       w_ingredients|            filtered|         rawFeatures|            features|       rawPrediction|         probability|prediction|     cuisine|\n",
            "+-----+--------------------+--------------------+--------------------+--------------------+--------------------+--------------------+--------------------+----------+------------+\n",
            "|18009|bakingpowder,eggs...|[bakingpowder, eg...|[bakingpowder, al...|(100000,[6372,276...|(100000,[6372,276...|[1.43560682080981...|[0.15425482491723...|       2.0| southern_us|\n",
            "|28583|sugar,eggyolks,co...|[sugar, eggyolks,...|[eggyolks, cornst...|(100000,[4989,649...|(100000,[4989,649...|[0.76118380093307...|[0.05243422879243...|       2.0| southern_us|\n",
            "|41580|sausagelinks,fenn...|[sausagelinks, fe...|[sausagelinks, fe...|(100000,[15862,31...|(100000,[15862,31...|[2.54105043017854...|[0.38291325083638...|       0.0|     italian|\n",
            "|29752|meatcuts,filepowd...|[meatcuts, filepo...|[meatcuts, filepo...|(100000,[6372,947...|(100000,[6372,947...|[0.00778249773416...|[0.00493591293720...|       6.0|cajun_creole|\n",
            "|35687|groundblackpepper...|[groundblackpeppe...|[groundblackpeppe...|(100000,[3182,601...|(100000,[3182,601...|[3.19949693141451...|[0.54510144353582...|       0.0|     italian|\n",
            "|38527|bakingpowder,all-...|[bakingpowder, al...|[bakingpowder, al...|(100000,[6372,259...|(100000,[6372,259...|[1.51115974467989...|[0.12171286788984...|       2.0| southern_us|\n",
            "|19666|grapejuice,orange...|[grapejuice, oran...|[grapejuice, oran...|(100000,[1575,455...|(100000,[1575,455...|[1.09334225795916...|[0.09622899405597...|       5.0|      french|\n",
            "|41217|groundginger,whit...|[groundginger, wh...|[groundginger, wh...|(100000,[8716,115...|(100000,[8716,115...|[0.17032746490791...|[0.03430847208721...|       4.0|     chinese|\n",
            "|28753|dicedonions,tacos...|[dicedonions, tac...|[dicedonions, tac...|(100000,[4789,637...|(100000,[4789,637...|[0.92617713600465...|[0.01578965563979...|       1.0|     mexican|\n",
            "|22659|eggs,cherries,dat...|[eggs, cherries, ...|[cherries, dates,...|(100000,[7667,124...|(100000,[7667,124...|[0.28782587385471...|[0.03363931230686...|      14.0|     british|\n",
            "|21749|pasta,oliveoil,cr...|[pasta, oliveoil,...|[pasta, oliveoil,...|(100000,[5595,685...|(100000,[5595,685...|[3.85728155016598...|[0.71019393279058...|       0.0|     italian|\n",
            "|44967|water,butter,grou...|[water, butter, g...|[butter, groundsu...|(100000,[6372,176...|(100000,[6372,176...|[2.29999142950184...|[0.20753909972115...|       9.0|       greek|\n",
            "|42969|currypowder,groun...|[currypowder, gro...|[currypowder, gro...|(100000,[6207,167...|(100000,[6207,167...|[0.64473611308186...|[0.05895183828287...|       3.0|      indian|\n",
            "|44883|pasta,marinarasau...|[pasta, marinaras...|[pasta, marinaras...|(100000,[33503,35...|(100000,[33503,35...|[4.56544065966853...|[0.84324431565550...|       0.0|     italian|\n",
            "|20827|salt,custardpowde...|[salt, custardpow...|[custardpowder, w...|(100000,[31676,37...|(100000,[31676,37...|[1.11693454935687...|[0.11085528686979...|       2.0| southern_us|\n",
            "|23196|vegetableoilcooki...|[vegetableoilcook...|[vegetableoilcook...|(100000,[706,1408...|(100000,[706,1408...|[1.31933044912214...|[0.13001201223387...|       5.0|      french|\n",
            "|35387|vanillaicecream,b...|[vanillaicecream,...|[vanillaicecream,...|(100000,[10925,58...|(100000,[10925,58...|[1.22406726568930...|[0.11841172979082...|       5.0|      french|\n",
            "|33780|molasses,hotsauce...|[molasses, hotsau...|[molasses, hotsau...|(100000,[26733,30...|(100000,[26733,30...|[1.02669587440801...|[0.09719505827563...|       2.0| southern_us|\n",
            "|19001|choppedgreenchili...|[choppedgreenchil...|[choppedgreenchil...|(100000,[20128,35...|(100000,[20128,35...|[0.91848084943868...|[0.04713816354471...|       1.0|     mexican|\n",
            "|16526|coldwater,chicken...|[coldwater, chick...|[coldwater, chick...|(100000,[6372,207...|(100000,[6372,207...|[1.01147165007326...|[0.09729743677495...|       2.0| southern_us|\n",
            "+-----+--------------------+--------------------+--------------------+--------------------+--------------------+--------------------+--------------------+----------+------------+\n",
            "only showing top 20 rows\n",
            "\n"
          ]
        }
      ]
    },
    {
      "cell_type": "code",
      "source": [
        "predictions = idx_to_string.transform(predictions)"
      ],
      "metadata": {
        "id": "F2eB6Q7q7sTd"
      },
      "id": "F2eB6Q7q7sTd",
      "execution_count": 35,
      "outputs": []
    },
    {
      "cell_type": "code",
      "source": [
        "spark2sub_1 = predictions.select('id', 'cuisine')\n",
        "\n",
        "spark2sub_1.toPandas().to_csv('spark2sub_1_lr_tfidf.csv', index=False)"
      ],
      "metadata": {
        "id": "Xkb8kwom7sY2"
      },
      "id": "Xkb8kwom7sY2",
      "execution_count": 36,
      "outputs": []
    },
    {
      "cell_type": "code",
      "metadata": {
        "colab": {
          "base_uri": "https://localhost:8080/"
        },
        "id": "xa0o2h8udvPb",
        "outputId": "b4986342-fa60-46fd-984e-06bba2e43371"
      },
      "source": [
        "! kaggle competitions submit -c whats-cooking -f spark2sub_1_lr_tfidf.csv -m \"1st try\""
      ],
      "id": "xa0o2h8udvPb",
      "execution_count": 37,
      "outputs": [
        {
          "output_type": "stream",
          "name": "stdout",
          "text": [
            "Warning: Looks like you're using an outdated API Version, please consider updating (server 1.5.12 / client 1.5.4)\n",
            "100% 139k/139k [00:00<00:00, 302kB/s]\n",
            "Successfully submitted to What's Cooking?"
          ]
        }
      ]
    },
    {
      "cell_type": "markdown",
      "source": [
        "0.69046 on kaggle"
      ],
      "metadata": {
        "id": "Ou54XRtJZPty"
      },
      "id": "Ou54XRtJZPty"
    },
    {
      "cell_type": "code",
      "source": [
        ""
      ],
      "metadata": {
        "id": "Im4q_sUG7seT"
      },
      "id": "Im4q_sUG7seT",
      "execution_count": null,
      "outputs": []
    },
    {
      "cell_type": "code",
      "source": [
        ""
      ],
      "metadata": {
        "id": "_MG3ieZZ7shS"
      },
      "id": "_MG3ieZZ7shS",
      "execution_count": null,
      "outputs": []
    },
    {
      "cell_type": "code",
      "metadata": {
        "id": "-Uw0y8pmXuXq"
      },
      "source": [
        "# split_udf = F.udf(lambda value: value[1].item(), DoubleType())"
      ],
      "id": "-Uw0y8pmXuXq",
      "execution_count": null,
      "outputs": []
    },
    {
      "cell_type": "code",
      "metadata": {
        "id": "YjDPKz4Qd4Bl"
      },
      "source": [
        "# predictions_gbt_2 = gbt_model_sub.transform(subData)\n",
        "\n",
        "# predictions_gbt_2 = predictions_gbt_2.withColumn('c1', split_udf('probability'))\n",
        "\n",
        "# spark_gbt_2 = predictions_gbt_2.select('id', 'c1').withColumnRenamed('c1', 'insomnia')\n",
        "\n",
        "# spark_gbt_2.toPandas().to_csv('spark_gbt_sub2.csv', index=False)"
      ],
      "id": "YjDPKz4Qd4Bl",
      "execution_count": null,
      "outputs": []
    }
  ]
}